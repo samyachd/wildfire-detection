{
 "cells": [
  {
   "cell_type": "markdown",
   "id": "51c5eb28",
   "metadata": {},
   "source": [
    "# Wildfire Detection\n",
    "\n"
   ]
  },
  {
   "cell_type": "markdown",
   "id": "a8b6528e",
   "metadata": {},
   "source": [
    "## 1) Data loading"
   ]
  },
  {
   "cell_type": "code",
   "execution_count": 4,
   "id": "f3540c94",
   "metadata": {},
   "outputs": [],
   "source": [
    "import json\n",
    "import pandas as pd\n",
    "\n",
    "\n",
    "def load_data(filename, name=None):\n",
    "        with open('data/' + filename, 'r') as f:\n",
    "            data = json.load(f)\n",
    "        \n",
    "        dfs = {\n",
    "            \"info\": pd.DataFrame(data[\"info\"], index=[0]),\n",
    "            \"licenses\": pd.DataFrame(data[\"licenses\"], index=[0]),\n",
    "            \"categories\": pd.DataFrame(data[\"categories\"]),\n",
    "            \"images\": pd.DataFrame(data[\"images\"]),\n",
    "            \"annotations\": pd.DataFrame(data[\"annotations\"])\n",
    "        }\n",
    "\n",
    "       \n",
    "        if name:\n",
    "            if name not in dfs:\n",
    "                raise ValueError(f\"Nom invalide : {name}. Choisis parmi {list(dfs.keys())}\")\n",
    "            return dfs[name]\n",
    "\n",
    "        return dfs\n",
    "\n",
    "df_info = load_data(\"_annotations.coco.json\",\"info\")\n",
    "df_licenses= load_data(\"_annotations.coco.json\",\"licenses\")\n",
    "df_categories= load_data(\"_annotations.coco.json\",\"categories\")\n",
    "df_images = load_data(\"_annotations.coco.json\",\"images\")\n",
    "df_annotations= load_data(\"_annotations.coco.json\",\"annotations\")"
   ]
  },
  {
   "cell_type": "markdown",
   "id": "88594699",
   "metadata": {},
   "source": [
    "## 2) Data Exploration"
   ]
  },
  {
   "cell_type": "markdown",
   "id": "8d939beb",
   "metadata": {},
   "source": [
    "La fonction ext_file permet de retourner le nombre de fichiers présents dans un dossier ainsi que leur extension de fichier distinctes."
   ]
  },
  {
   "cell_type": "code",
   "execution_count": 5,
   "id": "305d22d0",
   "metadata": {},
   "outputs": [
    {
     "name": "stdout",
     "output_type": "stream",
     "text": [
      "500\n",
      "1\n"
     ]
    }
   ],
   "source": [
    "import os\n",
    "\n",
    "def ext_file(dir):\n",
    "    path = str(os.getcwd()) + dir\n",
    "\n",
    "    files = os.listdir(path)\n",
    "    files = [f for f in files if os.path.isfile(os.path.join(path, f))]\n",
    "    list_ext=[]\n",
    "    for f in files:\n",
    "        root, ext = os.path.splitext(f)\n",
    "        list_ext.append(ext)\n",
    "    print(list_ext.count('.jpg'))\n",
    "    print(list_ext.count('.json'))\n",
    "\n",
    "ext_file(\"/data\")"
   ]
  },
  {
   "cell_type": "code",
   "execution_count": 48,
   "id": "40ed7abb",
   "metadata": {},
   "outputs": [
    {
     "data": {
      "text/plain": [
       "(500, 500, True)"
      ]
     },
     "execution_count": 48,
     "metadata": {},
     "output_type": "execute_result"
    }
   ],
   "source": [
    "def compare_files(file1, file2):\n",
    "    path = str(os.getcwd()) + file1\n",
    "\n",
    "    files = os.listdir(path)\n",
    "    files = [f for f in files if os.path.isfile(os.path.join(path, f))]\n",
    "    list_files=[]\n",
    "    for f in files:\n",
    "        list_files.append(f)\n",
    "    list_files.remove(\"_annotations.coco.json\") # Il faut remove le json de la liste\n",
    "    df_files = pd.DataFrame(list_files, columns=[\"file_name\"])\n",
    "    set1 = set(df_files['file_name'])\n",
    "    set2 = set(file2)\n",
    "\n",
    "    return len(set1), len(set2),set1 == set2\n",
    "\n",
    "compare_files(\"/data/\", df_images[\"file_name\"])"
   ]
  },
  {
   "cell_type": "code",
   "execution_count": 6,
   "id": "bd01a876",
   "metadata": {},
   "outputs": [
    {
     "name": "stdout",
     "output_type": "stream",
     "text": [
      "<class 'pandas.core.frame.DataFrame'>\n",
      "RangeIndex: 500 entries, 0 to 499\n",
      "Data columns (total 7 columns):\n",
      " #   Column         Non-Null Count  Dtype \n",
      "---  ------         --------------  ----- \n",
      " 0   id             500 non-null    int64 \n",
      " 1   license        500 non-null    int64 \n",
      " 2   file_name      500 non-null    object\n",
      " 3   height         500 non-null    int64 \n",
      " 4   width          500 non-null    int64 \n",
      " 5   date_captured  500 non-null    object\n",
      " 6   extra          500 non-null    object\n",
      "dtypes: int64(4), object(3)\n",
      "memory usage: 27.5+ KB\n"
     ]
    },
    {
     "data": {
      "application/vnd.microsoft.datawrangler.viewer.v0+json": {
       "columns": [
        {
         "name": "index",
         "rawType": "object",
         "type": "string"
        },
        {
         "name": "id",
         "rawType": "float64",
         "type": "float"
        },
        {
         "name": "license",
         "rawType": "float64",
         "type": "float"
        },
        {
         "name": "height",
         "rawType": "float64",
         "type": "float"
        },
        {
         "name": "width",
         "rawType": "float64",
         "type": "float"
        }
       ],
       "ref": "8ac37d33-4005-4c9f-9cc9-055d4210f88f",
       "rows": [
        [
         "count",
         "500.0",
         "500.0",
         "500.0",
         "500.0"
        ],
        [
         "mean",
         "249.5",
         "1.0",
         "860.0",
         "1200.0"
        ],
        [
         "std",
         "144.4818327679989",
         "0.0",
         "0.0",
         "0.0"
        ],
        [
         "min",
         "0.0",
         "1.0",
         "860.0",
         "1200.0"
        ],
        [
         "25%",
         "124.75",
         "1.0",
         "860.0",
         "1200.0"
        ],
        [
         "50%",
         "249.5",
         "1.0",
         "860.0",
         "1200.0"
        ],
        [
         "75%",
         "374.25",
         "1.0",
         "860.0",
         "1200.0"
        ],
        [
         "max",
         "499.0",
         "1.0",
         "860.0",
         "1200.0"
        ]
       ],
       "shape": {
        "columns": 4,
        "rows": 8
       }
      },
      "text/html": [
       "<div>\n",
       "<style scoped>\n",
       "    .dataframe tbody tr th:only-of-type {\n",
       "        vertical-align: middle;\n",
       "    }\n",
       "\n",
       "    .dataframe tbody tr th {\n",
       "        vertical-align: top;\n",
       "    }\n",
       "\n",
       "    .dataframe thead th {\n",
       "        text-align: right;\n",
       "    }\n",
       "</style>\n",
       "<table border=\"1\" class=\"dataframe\">\n",
       "  <thead>\n",
       "    <tr style=\"text-align: right;\">\n",
       "      <th></th>\n",
       "      <th>id</th>\n",
       "      <th>license</th>\n",
       "      <th>height</th>\n",
       "      <th>width</th>\n",
       "    </tr>\n",
       "  </thead>\n",
       "  <tbody>\n",
       "    <tr>\n",
       "      <th>count</th>\n",
       "      <td>500.000000</td>\n",
       "      <td>500.0</td>\n",
       "      <td>500.0</td>\n",
       "      <td>500.0</td>\n",
       "    </tr>\n",
       "    <tr>\n",
       "      <th>mean</th>\n",
       "      <td>249.500000</td>\n",
       "      <td>1.0</td>\n",
       "      <td>860.0</td>\n",
       "      <td>1200.0</td>\n",
       "    </tr>\n",
       "    <tr>\n",
       "      <th>std</th>\n",
       "      <td>144.481833</td>\n",
       "      <td>0.0</td>\n",
       "      <td>0.0</td>\n",
       "      <td>0.0</td>\n",
       "    </tr>\n",
       "    <tr>\n",
       "      <th>min</th>\n",
       "      <td>0.000000</td>\n",
       "      <td>1.0</td>\n",
       "      <td>860.0</td>\n",
       "      <td>1200.0</td>\n",
       "    </tr>\n",
       "    <tr>\n",
       "      <th>25%</th>\n",
       "      <td>124.750000</td>\n",
       "      <td>1.0</td>\n",
       "      <td>860.0</td>\n",
       "      <td>1200.0</td>\n",
       "    </tr>\n",
       "    <tr>\n",
       "      <th>50%</th>\n",
       "      <td>249.500000</td>\n",
       "      <td>1.0</td>\n",
       "      <td>860.0</td>\n",
       "      <td>1200.0</td>\n",
       "    </tr>\n",
       "    <tr>\n",
       "      <th>75%</th>\n",
       "      <td>374.250000</td>\n",
       "      <td>1.0</td>\n",
       "      <td>860.0</td>\n",
       "      <td>1200.0</td>\n",
       "    </tr>\n",
       "    <tr>\n",
       "      <th>max</th>\n",
       "      <td>499.000000</td>\n",
       "      <td>1.0</td>\n",
       "      <td>860.0</td>\n",
       "      <td>1200.0</td>\n",
       "    </tr>\n",
       "  </tbody>\n",
       "</table>\n",
       "</div>"
      ],
      "text/plain": [
       "               id  license  height   width\n",
       "count  500.000000    500.0   500.0   500.0\n",
       "mean   249.500000      1.0   860.0  1200.0\n",
       "std    144.481833      0.0     0.0     0.0\n",
       "min      0.000000      1.0   860.0  1200.0\n",
       "25%    124.750000      1.0   860.0  1200.0\n",
       "50%    249.500000      1.0   860.0  1200.0\n",
       "75%    374.250000      1.0   860.0  1200.0\n",
       "max    499.000000      1.0   860.0  1200.0"
      ]
     },
     "execution_count": 6,
     "metadata": {},
     "output_type": "execute_result"
    }
   ],
   "source": [
    "df_images.info()\n",
    "df_images.describe()"
   ]
  },
  {
   "cell_type": "code",
   "execution_count": 7,
   "id": "54336b35",
   "metadata": {},
   "outputs": [
    {
     "name": "stdout",
     "output_type": "stream",
     "text": [
      "0 Doublons d'images\n",
      "499 Doublons de date\n"
     ]
    }
   ],
   "source": [
    "print(df_images[\"id\"].duplicated().sum(), \"Doublons d'images\")\n",
    "print(df_images[\"date_captured\"].duplicated().sum(), \"Doublons de date\")"
   ]
  },
  {
   "cell_type": "code",
   "execution_count": 8,
   "id": "9b07eefb",
   "metadata": {},
   "outputs": [
    {
     "name": "stdout",
     "output_type": "stream",
     "text": [
      "<class 'pandas.core.frame.DataFrame'>\n",
      "RangeIndex: 959 entries, 0 to 958\n",
      "Data columns (total 7 columns):\n",
      " #   Column        Non-Null Count  Dtype  \n",
      "---  ------        --------------  -----  \n",
      " 0   id            959 non-null    int64  \n",
      " 1   image_id      959 non-null    int64  \n",
      " 2   category_id   959 non-null    int64  \n",
      " 3   bbox          959 non-null    object \n",
      " 4   area          959 non-null    float64\n",
      " 5   segmentation  959 non-null    object \n",
      " 6   iscrowd       959 non-null    int64  \n",
      "dtypes: float64(1), int64(4), object(2)\n",
      "memory usage: 52.6+ KB\n"
     ]
    },
    {
     "data": {
      "application/vnd.microsoft.datawrangler.viewer.v0+json": {
       "columns": [
        {
         "name": "index",
         "rawType": "object",
         "type": "string"
        },
        {
         "name": "id",
         "rawType": "float64",
         "type": "float"
        },
        {
         "name": "image_id",
         "rawType": "float64",
         "type": "float"
        },
        {
         "name": "category_id",
         "rawType": "float64",
         "type": "float"
        },
        {
         "name": "area",
         "rawType": "float64",
         "type": "float"
        },
        {
         "name": "iscrowd",
         "rawType": "float64",
         "type": "float"
        }
       ],
       "ref": "aadd8794-e7b0-49eb-b7df-500090a8d6ff",
       "rows": [
        [
         "count",
         "959.0",
         "959.0",
         "959.0",
         "959.0",
         "959.0"
        ],
        [
         "mean",
         "479.0",
         "248.69447340980187",
         "1.0",
         "101645.48109071949",
         "0.0"
        ],
        [
         "std",
         "276.98375403622504",
         "144.20872384895125",
         "0.0",
         "165623.77390859052",
         "0.0"
        ],
        [
         "min",
         "0.0",
         "1.0",
         "1.0",
         "0.207",
         "0.0"
        ],
        [
         "25%",
         "239.5",
         "123.0",
         "1.0",
         "10441.019",
         "0.0"
        ],
        [
         "50%",
         "479.0",
         "247.0",
         "1.0",
         "34621.44",
         "0.0"
        ],
        [
         "75%",
         "718.5",
         "377.5",
         "1.0",
         "113570.33",
         "0.0"
        ],
        [
         "max",
         "958.0",
         "499.0",
         "1.0",
         "1032000.0",
         "0.0"
        ]
       ],
       "shape": {
        "columns": 5,
        "rows": 8
       }
      },
      "text/html": [
       "<div>\n",
       "<style scoped>\n",
       "    .dataframe tbody tr th:only-of-type {\n",
       "        vertical-align: middle;\n",
       "    }\n",
       "\n",
       "    .dataframe tbody tr th {\n",
       "        vertical-align: top;\n",
       "    }\n",
       "\n",
       "    .dataframe thead th {\n",
       "        text-align: right;\n",
       "    }\n",
       "</style>\n",
       "<table border=\"1\" class=\"dataframe\">\n",
       "  <thead>\n",
       "    <tr style=\"text-align: right;\">\n",
       "      <th></th>\n",
       "      <th>id</th>\n",
       "      <th>image_id</th>\n",
       "      <th>category_id</th>\n",
       "      <th>area</th>\n",
       "      <th>iscrowd</th>\n",
       "    </tr>\n",
       "  </thead>\n",
       "  <tbody>\n",
       "    <tr>\n",
       "      <th>count</th>\n",
       "      <td>959.000000</td>\n",
       "      <td>959.000000</td>\n",
       "      <td>959.0</td>\n",
       "      <td>9.590000e+02</td>\n",
       "      <td>959.0</td>\n",
       "    </tr>\n",
       "    <tr>\n",
       "      <th>mean</th>\n",
       "      <td>479.000000</td>\n",
       "      <td>248.694473</td>\n",
       "      <td>1.0</td>\n",
       "      <td>1.016455e+05</td>\n",
       "      <td>0.0</td>\n",
       "    </tr>\n",
       "    <tr>\n",
       "      <th>std</th>\n",
       "      <td>276.983754</td>\n",
       "      <td>144.208724</td>\n",
       "      <td>0.0</td>\n",
       "      <td>1.656238e+05</td>\n",
       "      <td>0.0</td>\n",
       "    </tr>\n",
       "    <tr>\n",
       "      <th>min</th>\n",
       "      <td>0.000000</td>\n",
       "      <td>1.000000</td>\n",
       "      <td>1.0</td>\n",
       "      <td>2.070000e-01</td>\n",
       "      <td>0.0</td>\n",
       "    </tr>\n",
       "    <tr>\n",
       "      <th>25%</th>\n",
       "      <td>239.500000</td>\n",
       "      <td>123.000000</td>\n",
       "      <td>1.0</td>\n",
       "      <td>1.044102e+04</td>\n",
       "      <td>0.0</td>\n",
       "    </tr>\n",
       "    <tr>\n",
       "      <th>50%</th>\n",
       "      <td>479.000000</td>\n",
       "      <td>247.000000</td>\n",
       "      <td>1.0</td>\n",
       "      <td>3.462144e+04</td>\n",
       "      <td>0.0</td>\n",
       "    </tr>\n",
       "    <tr>\n",
       "      <th>75%</th>\n",
       "      <td>718.500000</td>\n",
       "      <td>377.500000</td>\n",
       "      <td>1.0</td>\n",
       "      <td>1.135703e+05</td>\n",
       "      <td>0.0</td>\n",
       "    </tr>\n",
       "    <tr>\n",
       "      <th>max</th>\n",
       "      <td>958.000000</td>\n",
       "      <td>499.000000</td>\n",
       "      <td>1.0</td>\n",
       "      <td>1.032000e+06</td>\n",
       "      <td>0.0</td>\n",
       "    </tr>\n",
       "  </tbody>\n",
       "</table>\n",
       "</div>"
      ],
      "text/plain": [
       "               id    image_id  category_id          area  iscrowd\n",
       "count  959.000000  959.000000        959.0  9.590000e+02    959.0\n",
       "mean   479.000000  248.694473          1.0  1.016455e+05      0.0\n",
       "std    276.983754  144.208724          0.0  1.656238e+05      0.0\n",
       "min      0.000000    1.000000          1.0  2.070000e-01      0.0\n",
       "25%    239.500000  123.000000          1.0  1.044102e+04      0.0\n",
       "50%    479.000000  247.000000          1.0  3.462144e+04      0.0\n",
       "75%    718.500000  377.500000          1.0  1.135703e+05      0.0\n",
       "max    958.000000  499.000000          1.0  1.032000e+06      0.0"
      ]
     },
     "execution_count": 8,
     "metadata": {},
     "output_type": "execute_result"
    }
   ],
   "source": [
    "df_annotations.info()\n",
    "df_annotations.describe()"
   ]
  },
  {
   "cell_type": "code",
   "execution_count": 9,
   "id": "2f714f0c",
   "metadata": {},
   "outputs": [
    {
     "name": "stdout",
     "output_type": "stream",
     "text": [
      "466 Doublons dans images_id de annotations\n",
      "0 Doublons dans id de annotations\n",
      "3 Doublons de area de annotations\n"
     ]
    }
   ],
   "source": [
    "print(df_annotations[\"image_id\"].duplicated().sum(), \"Doublons dans images_id de annotations\")\n",
    "print(df_annotations[\"id\"].duplicated().sum(), \"Doublons dans id de annotations\")\n",
    "print(df_annotations[\"area\"].duplicated().sum(), \"Doublons de area de annotations\")"
   ]
  },
  {
   "cell_type": "markdown",
   "id": "8fc61c8b",
   "metadata": {},
   "source": [
    "On voit qu'il y a dans le JSON:\\\n",
    "500 images au total, pour 959 annotations\n",
    "\n",
    "Il y a 2 catégories : 1 fire avec une supercategory wildfire, et une wildfire avec none supercategory.\\\n",
    "Toutes les images dans annotations sont en catégorie 1, \"fire\" avec supercategory \"wildfire\"\n",
    "\n",
    "Il y a aussi une variable \"iscrowd\". Toutes les images sont à 0 en iscrowd.\\\n",
    "Toutes les images sont au même format : 860x1200\n",
    "\n",
    "Toutes les images ont la même date, et elles sont toutes en JPEG\\\n",
    "Il y a aussi 3 doublons d'area"
   ]
  },
  {
   "cell_type": "markdown",
   "id": "16523383",
   "metadata": {},
   "source": [
    "Il faut récupérer le nom des images dans le JSON et le nom des images dans le dossier data et comparer"
   ]
  },
  {
   "cell_type": "code",
   "execution_count": 10,
   "id": "1a096b9d",
   "metadata": {},
   "outputs": [
    {
     "data": {
      "text/plain": [
       "{'.jpg', '.json'}"
      ]
     },
     "execution_count": 10,
     "metadata": {},
     "output_type": "execute_result"
    }
   ],
   "source": [
    "def files_extension(folder):\n",
    "\n",
    "    files = os.listdir(str(os.getcwd()) + folder)\n",
    "    files = [f for f in files if os.path.isfile(os.path.join(str(os.getcwd()) + folder, f))]\n",
    "    list_ext = [os.path.splitext(f)[1] for f in files]\n",
    "\n",
    "    return set(list_ext)\n",
    "\n",
    "files_extension(\"/data/\")"
   ]
  },
  {
   "cell_type": "code",
   "execution_count": 11,
   "id": "d001c5eb",
   "metadata": {},
   "outputs": [],
   "source": [
    "import os\n",
    "\n",
    "def compare_files(file1, file2):\n",
    "    path = str(os.getcwd()) + file1\n",
    "\n",
    "    files = os.listdir(path)\n",
    "    files = [f for f in files if os.path.isfile(os.path.join(path, f))]\n",
    "    list_root=[]\n",
    "    for f in files:\n",
    "        root, ext = os.path.splitext(f)\n",
    "        list_root.append(root)\n",
    "    list_root.remove(\"_annotations.coco\") # Il faut remove le json de la liste\n",
    "    df_root = pd.DataFrame(list_root, columns=[\"file_name\"])\n",
    "    set1 = set(df_root['file_name'])\n",
    "    set2 = set(file2)\n",
    "\n",
    "    return len(set1), len(set2),set1 == set2"
   ]
  },
  {
   "cell_type": "code",
   "execution_count": 12,
   "id": "603d1ed0",
   "metadata": {},
   "outputs": [
    {
     "data": {
      "text/plain": [
       "(500, 500, False)"
      ]
     },
     "execution_count": 12,
     "metadata": {},
     "output_type": "execute_result"
    }
   ],
   "source": [
    "compare_files(\"/data\", df_images[\"file_name\"])"
   ]
  },
  {
   "cell_type": "code",
   "execution_count": 13,
   "id": "605e1cc9",
   "metadata": {},
   "outputs": [
    {
     "name": "stdout",
     "output_type": "stream",
     "text": [
      "0 Doublons de noms de fichier\n"
     ]
    }
   ],
   "source": [
    "print(df_images[\"file_name\"].duplicated().sum(), \"Doublons de noms de fichier\")"
   ]
  },
  {
   "cell_type": "code",
   "execution_count": 14,
   "id": "3cd2db8d",
   "metadata": {},
   "outputs": [
    {
     "data": {
      "application/vnd.microsoft.datawrangler.viewer.v0+json": {
       "columns": [
        {
         "name": "image_id",
         "rawType": "int64",
         "type": "integer"
        },
        {
         "name": "count",
         "rawType": "int64",
         "type": "integer"
        }
       ],
       "ref": "4cf1c2b7-b671-47a7-a259-66e26373a34f",
       "rows": [
        [
         "466",
         "10"
        ],
        [
         "439",
         "9"
        ],
        [
         "425",
         "7"
        ],
        [
         "452",
         "7"
        ],
        [
         "48",
         "7"
        ],
        [
         "120",
         "7"
        ],
        [
         "70",
         "7"
        ],
        [
         "22",
         "7"
        ],
        [
         "113",
         "6"
        ],
        [
         "284",
         "6"
        ],
        [
         "306",
         "6"
        ],
        [
         "227",
         "6"
        ],
        [
         "229",
         "6"
        ],
        [
         "198",
         "6"
        ],
        [
         "183",
         "6"
        ],
        [
         "250",
         "6"
        ],
        [
         "246",
         "6"
        ],
        [
         "407",
         "5"
        ],
        [
         "62",
         "5"
        ],
        [
         "43",
         "5"
        ],
        [
         "380",
         "5"
        ],
        [
         "278",
         "5"
        ],
        [
         "194",
         "5"
        ],
        [
         "149",
         "5"
        ],
        [
         "303",
         "5"
        ],
        [
         "210",
         "5"
        ],
        [
         "231",
         "5"
        ],
        [
         "63",
         "5"
        ],
        [
         "7",
         "5"
        ],
        [
         "6",
         "5"
        ],
        [
         "486",
         "5"
        ],
        [
         "394",
         "4"
        ],
        [
         "450",
         "4"
        ],
        [
         "423",
         "4"
        ],
        [
         "85",
         "4"
        ],
        [
         "389",
         "4"
        ],
        [
         "2",
         "4"
        ],
        [
         "468",
         "4"
        ],
        [
         "13",
         "4"
        ],
        [
         "473",
         "4"
        ],
        [
         "308",
         "4"
        ],
        [
         "331",
         "4"
        ],
        [
         "341",
         "4"
        ],
        [
         "187",
         "4"
        ],
        [
         "146",
         "4"
        ],
        [
         "247",
         "4"
        ],
        [
         "271",
         "4"
        ],
        [
         "262",
         "4"
        ],
        [
         "475",
         "4"
        ],
        [
         "240",
         "4"
        ]
       ],
       "shape": {
        "columns": 1,
        "rows": 493
       }
      },
      "text/plain": [
       "image_id\n",
       "466    10\n",
       "439     9\n",
       "425     7\n",
       "452     7\n",
       "48      7\n",
       "       ..\n",
       "24      1\n",
       "27      1\n",
       "28      1\n",
       "30      1\n",
       "31      1\n",
       "Name: count, Length: 493, dtype: int64"
      ]
     },
     "metadata": {},
     "output_type": "display_data"
    }
   ],
   "source": [
    "df_annot_image_id = df_annotations[\"image_id\"].astype(int)\n",
    "display(df_annot_image_id.value_counts())"
   ]
  },
  {
   "cell_type": "markdown",
   "id": "258efa26",
   "metadata": {},
   "source": [
    "On remarque qu'une image peut avoir plusieurs annotations. On veut maintenant obtenir le nombre d'image différentes dans annotations ainsi que celles manquantes dans annotations."
   ]
  },
  {
   "cell_type": "code",
   "execution_count": 15,
   "id": "c0dc0c11",
   "metadata": {},
   "outputs": [
    {
     "data": {
      "text/plain": [
       "493"
      ]
     },
     "execution_count": 15,
     "metadata": {},
     "output_type": "execute_result"
    }
   ],
   "source": [
    "df_annot_image_id.nunique()"
   ]
  },
  {
   "cell_type": "markdown",
   "id": "cd5333f8",
   "metadata": {},
   "source": [
    "Il y a 493 images différentes dans annotations. Il y a donc 7 images manquantes qui n'ont pas d'annotations. "
   ]
  },
  {
   "cell_type": "code",
   "execution_count": 16,
   "id": "29a3b183",
   "metadata": {},
   "outputs": [
    {
     "name": "stdout",
     "output_type": "stream",
     "text": [
      "[0, 96, 118, 122, 209, 290, 451]\n"
     ]
    }
   ],
   "source": [
    "list_annot_id = df_annot_image_id.tolist()\n",
    "list_image_id = df_images[\"id\"].tolist()\n",
    "\n",
    "\n",
    "list_diff = []\n",
    "for z in list_image_id:\n",
    "    if z not in list_annot_id:\n",
    "        list_diff.append(z)\n",
    "print(list_diff)"
   ]
  },
  {
   "cell_type": "markdown",
   "id": "14099d7f",
   "metadata": {},
   "source": [
    "0, 96, 118, 122, 209, 290 et 451 sont les images non annotées. On n'a donc pas de category ID pour ces images."
   ]
  },
  {
   "cell_type": "code",
   "execution_count": 17,
   "id": "243bba42",
   "metadata": {},
   "outputs": [
    {
     "data": {
      "application/vnd.microsoft.datawrangler.viewer.v0+json": {
       "columns": [
        {
         "name": "index",
         "rawType": "int64",
         "type": "integer"
        },
        {
         "name": "id",
         "rawType": "int64",
         "type": "integer"
        },
        {
         "name": "license",
         "rawType": "int64",
         "type": "integer"
        },
        {
         "name": "file_name",
         "rawType": "object",
         "type": "string"
        },
        {
         "name": "height",
         "rawType": "int64",
         "type": "integer"
        },
        {
         "name": "width",
         "rawType": "int64",
         "type": "integer"
        },
        {
         "name": "date_captured",
         "rawType": "object",
         "type": "string"
        },
        {
         "name": "extra",
         "rawType": "object",
         "type": "unknown"
        }
       ],
       "ref": "9b6eeb26-c63e-48da-9723-e53fb9cf633f",
       "rows": [
        [
         "0",
         "0",
         "1",
         "cl6e1qges001kgk555z158f33_2_FALSE_COLOR_jpg.rf.479904c9e54c6ba121689341598bf3ed.jpg",
         "860",
         "1200",
         "2025-09-14T12:06:19+00:00",
         "{'name': 'cl6e1qges001kgk555z158f33_2_FALSE_COLOR.jpg'}"
        ],
        [
         "96",
         "96",
         "1",
         "cl6kf5xzo000gc4552qc8hhcc_2_FALSE_COLOR_jpg.rf.8fbfb16c6d86076d860904397218acd5.jpg",
         "860",
         "1200",
         "2025-09-14T12:06:19+00:00",
         "{'name': 'cl6kf5xzo000gc4552qc8hhcc_2_FALSE_COLOR.jpg'}"
        ],
        [
         "118",
         "118",
         "1",
         "cl6e2kygp002egk55asrs2brz_1_TRUE_COLOR_jpg.rf.2a198a37785242fb6db3ef21c0ffdcad.jpg",
         "860",
         "1200",
         "2025-09-14T12:06:19+00:00",
         "{'name': 'cl6e2kygp002egk55asrs2brz_1_TRUE_COLOR.jpg'}"
        ],
        [
         "122",
         "122",
         "1",
         "cl6e3enfn003sgk554uim9wo6_1_TRUE_COLOR_jpg.rf.beaf169c01f4596cb24c1c4628ef21f1.jpg",
         "860",
         "1200",
         "2025-09-14T12:06:19+00:00",
         "{'name': 'cl6e3enfn003sgk554uim9wo6_1_TRUE_COLOR.jpg'}"
        ],
        [
         "209",
         "209",
         "1",
         "cl6kfx47x001tc45578ts0yz6_2_FALSE_COLOR_jpg.rf.5a9501946306fabdad807a6acb61ccbe.jpg",
         "860",
         "1200",
         "2025-09-14T12:06:19+00:00",
         "{'name': 'cl6kfx47x001tc45578ts0yz6_2_FALSE_COLOR.jpg'}"
        ],
        [
         "290",
         "290",
         "1",
         "cl6b5x63r005il4551chxdt93_2_FALSE_COLOR_jpg.rf.8c4fb06b6812031edb1ad781ec14d2b9.jpg",
         "860",
         "1200",
         "2025-09-14T12:06:19+00:00",
         "{'name': 'cl6b5x63r005il4551chxdt93_2_FALSE_COLOR.jpg'}"
        ],
        [
         "451",
         "451",
         "1",
         "cl6b5myi60048l45530d5anq4_1_TRUE_COLOR_jpg.rf.1b9e229b9d66a61c1d9a410fd8ad6f23.jpg",
         "860",
         "1200",
         "2025-09-14T12:06:19+00:00",
         "{'name': 'cl6b5myi60048l45530d5anq4_1_TRUE_COLOR.jpg'}"
        ]
       ],
       "shape": {
        "columns": 7,
        "rows": 7
       }
      },
      "text/html": [
       "<div>\n",
       "<style scoped>\n",
       "    .dataframe tbody tr th:only-of-type {\n",
       "        vertical-align: middle;\n",
       "    }\n",
       "\n",
       "    .dataframe tbody tr th {\n",
       "        vertical-align: top;\n",
       "    }\n",
       "\n",
       "    .dataframe thead th {\n",
       "        text-align: right;\n",
       "    }\n",
       "</style>\n",
       "<table border=\"1\" class=\"dataframe\">\n",
       "  <thead>\n",
       "    <tr style=\"text-align: right;\">\n",
       "      <th></th>\n",
       "      <th>id</th>\n",
       "      <th>license</th>\n",
       "      <th>file_name</th>\n",
       "      <th>height</th>\n",
       "      <th>width</th>\n",
       "      <th>date_captured</th>\n",
       "      <th>extra</th>\n",
       "    </tr>\n",
       "  </thead>\n",
       "  <tbody>\n",
       "    <tr>\n",
       "      <th>0</th>\n",
       "      <td>0</td>\n",
       "      <td>1</td>\n",
       "      <td>cl6e1qges001kgk555z158f33_2_FALSE_COLOR_jpg.rf...</td>\n",
       "      <td>860</td>\n",
       "      <td>1200</td>\n",
       "      <td>2025-09-14T12:06:19+00:00</td>\n",
       "      <td>{'name': 'cl6e1qges001kgk555z158f33_2_FALSE_CO...</td>\n",
       "    </tr>\n",
       "    <tr>\n",
       "      <th>96</th>\n",
       "      <td>96</td>\n",
       "      <td>1</td>\n",
       "      <td>cl6kf5xzo000gc4552qc8hhcc_2_FALSE_COLOR_jpg.rf...</td>\n",
       "      <td>860</td>\n",
       "      <td>1200</td>\n",
       "      <td>2025-09-14T12:06:19+00:00</td>\n",
       "      <td>{'name': 'cl6kf5xzo000gc4552qc8hhcc_2_FALSE_CO...</td>\n",
       "    </tr>\n",
       "    <tr>\n",
       "      <th>118</th>\n",
       "      <td>118</td>\n",
       "      <td>1</td>\n",
       "      <td>cl6e2kygp002egk55asrs2brz_1_TRUE_COLOR_jpg.rf....</td>\n",
       "      <td>860</td>\n",
       "      <td>1200</td>\n",
       "      <td>2025-09-14T12:06:19+00:00</td>\n",
       "      <td>{'name': 'cl6e2kygp002egk55asrs2brz_1_TRUE_COL...</td>\n",
       "    </tr>\n",
       "    <tr>\n",
       "      <th>122</th>\n",
       "      <td>122</td>\n",
       "      <td>1</td>\n",
       "      <td>cl6e3enfn003sgk554uim9wo6_1_TRUE_COLOR_jpg.rf....</td>\n",
       "      <td>860</td>\n",
       "      <td>1200</td>\n",
       "      <td>2025-09-14T12:06:19+00:00</td>\n",
       "      <td>{'name': 'cl6e3enfn003sgk554uim9wo6_1_TRUE_COL...</td>\n",
       "    </tr>\n",
       "    <tr>\n",
       "      <th>209</th>\n",
       "      <td>209</td>\n",
       "      <td>1</td>\n",
       "      <td>cl6kfx47x001tc45578ts0yz6_2_FALSE_COLOR_jpg.rf...</td>\n",
       "      <td>860</td>\n",
       "      <td>1200</td>\n",
       "      <td>2025-09-14T12:06:19+00:00</td>\n",
       "      <td>{'name': 'cl6kfx47x001tc45578ts0yz6_2_FALSE_CO...</td>\n",
       "    </tr>\n",
       "    <tr>\n",
       "      <th>290</th>\n",
       "      <td>290</td>\n",
       "      <td>1</td>\n",
       "      <td>cl6b5x63r005il4551chxdt93_2_FALSE_COLOR_jpg.rf...</td>\n",
       "      <td>860</td>\n",
       "      <td>1200</td>\n",
       "      <td>2025-09-14T12:06:19+00:00</td>\n",
       "      <td>{'name': 'cl6b5x63r005il4551chxdt93_2_FALSE_CO...</td>\n",
       "    </tr>\n",
       "    <tr>\n",
       "      <th>451</th>\n",
       "      <td>451</td>\n",
       "      <td>1</td>\n",
       "      <td>cl6b5myi60048l45530d5anq4_1_TRUE_COLOR_jpg.rf....</td>\n",
       "      <td>860</td>\n",
       "      <td>1200</td>\n",
       "      <td>2025-09-14T12:06:19+00:00</td>\n",
       "      <td>{'name': 'cl6b5myi60048l45530d5anq4_1_TRUE_COL...</td>\n",
       "    </tr>\n",
       "  </tbody>\n",
       "</table>\n",
       "</div>"
      ],
      "text/plain": [
       "      id  license                                          file_name  height  \\\n",
       "0      0        1  cl6e1qges001kgk555z158f33_2_FALSE_COLOR_jpg.rf...     860   \n",
       "96    96        1  cl6kf5xzo000gc4552qc8hhcc_2_FALSE_COLOR_jpg.rf...     860   \n",
       "118  118        1  cl6e2kygp002egk55asrs2brz_1_TRUE_COLOR_jpg.rf....     860   \n",
       "122  122        1  cl6e3enfn003sgk554uim9wo6_1_TRUE_COLOR_jpg.rf....     860   \n",
       "209  209        1  cl6kfx47x001tc45578ts0yz6_2_FALSE_COLOR_jpg.rf...     860   \n",
       "290  290        1  cl6b5x63r005il4551chxdt93_2_FALSE_COLOR_jpg.rf...     860   \n",
       "451  451        1  cl6b5myi60048l45530d5anq4_1_TRUE_COLOR_jpg.rf....     860   \n",
       "\n",
       "     width              date_captured  \\\n",
       "0     1200  2025-09-14T12:06:19+00:00   \n",
       "96    1200  2025-09-14T12:06:19+00:00   \n",
       "118   1200  2025-09-14T12:06:19+00:00   \n",
       "122   1200  2025-09-14T12:06:19+00:00   \n",
       "209   1200  2025-09-14T12:06:19+00:00   \n",
       "290   1200  2025-09-14T12:06:19+00:00   \n",
       "451   1200  2025-09-14T12:06:19+00:00   \n",
       "\n",
       "                                                 extra  \n",
       "0    {'name': 'cl6e1qges001kgk555z158f33_2_FALSE_CO...  \n",
       "96   {'name': 'cl6kf5xzo000gc4552qc8hhcc_2_FALSE_CO...  \n",
       "118  {'name': 'cl6e2kygp002egk55asrs2brz_1_TRUE_COL...  \n",
       "122  {'name': 'cl6e3enfn003sgk554uim9wo6_1_TRUE_COL...  \n",
       "209  {'name': 'cl6kfx47x001tc45578ts0yz6_2_FALSE_CO...  \n",
       "290  {'name': 'cl6b5x63r005il4551chxdt93_2_FALSE_CO...  \n",
       "451  {'name': 'cl6b5myi60048l45530d5anq4_1_TRUE_COL...  "
      ]
     },
     "metadata": {},
     "output_type": "display_data"
    }
   ],
   "source": [
    "df_images_n_annot_u = df_images.loc[df_images[\"id\"].isin(list_diff)]\n",
    "display(df_images_n_annot_u)"
   ]
  },
  {
   "cell_type": "markdown",
   "id": "e6c2d4aa",
   "metadata": {},
   "source": [
    "## Résumé : \n",
    "\n",
    "data folder : \n",
    "Il y a 500 image files dans /data\n",
    "\n",
    "json/annotations : \n",
    "Il y a 959 ids différents, liés à seulement 493 unique nom de fichiers (images_id)\\\n",
    "Les anomalies sont : 0, 96, 118, 122, 209, 290, 451\n",
    "\n",
    "Seulement 1 fichier n'a ni doublons, ni annotations : 0\n",
    "\n",
    "bbox = [x, y, w, h]\\\n",
    "area = w*h\n"
   ]
  },
  {
   "cell_type": "code",
   "execution_count": 18,
   "id": "5264b091",
   "metadata": {},
   "outputs": [
    {
     "name": "stdout",
     "output_type": "stream",
     "text": [
      "2\n",
      "      id  image_id  category_id                    bbox       area  \\\n",
      "200  200       104            1       [0, 0, 1200, 860]  1032000.0   \n",
      "581  581       300            1  [0, 111, 1200, 749.16]   898992.0   \n",
      "\n",
      "    segmentation  iscrowd  \n",
      "200           []        0  \n",
      "581           []        0  \n",
      "3\n",
      "      id  image_id  category_id                    bbox       area  \\\n",
      "200  200       104            1       [0, 0, 1200, 860]  1032000.0   \n",
      "570  570       291            1   [367, 0, 564.24, 860]   485246.4   \n",
      "581  581       300            1  [0, 111, 1200, 749.16]   898992.0   \n",
      "\n",
      "    segmentation  iscrowd  \n",
      "200           []        0  \n",
      "570           []        0  \n",
      "581           []        0  \n"
     ]
    }
   ],
   "source": [
    "print(df_annotations[\"bbox\"].duplicated().sum())\n",
    "print(df_annotations[df_annotations[\"bbox\"].duplicated()])\n",
    "print(df_annotations[\"area\"].duplicated().sum())\n",
    "print(df_annotations[df_annotations[\"area\"].duplicated()])"
   ]
  },
  {
   "cell_type": "markdown",
   "id": "7466025f",
   "metadata": {},
   "source": [
    "Il y a 2 doublons de bbox : images 104 et 300.\\\n",
    "Il y a 3 doublons de area : images 104, 291 et 300"
   ]
  },
  {
   "cell_type": "markdown",
   "id": "59e98e69",
   "metadata": {},
   "source": [
    "La fonction bbox_test test si les origines (x,y) sont supérieurs ou égales à 0, et si les largeur et hauteur (w, h) sont supérieures à 0."
   ]
  },
  {
   "cell_type": "code",
   "execution_count": 19,
   "id": "4eb11d36",
   "metadata": {},
   "outputs": [
    {
     "data": {
      "text/plain": [
       "(True, True, True, True)"
      ]
     },
     "execution_count": 19,
     "metadata": {},
     "output_type": "execute_result"
    }
   ],
   "source": [
    "def minsize_test():\n",
    "    test_x, test_y, test_w, test_h = zip(*[(i[0] >= 0, i[1] >= 0, i[2] > 0, i[3] > 0) for i in df_annotations[\"bbox\"].apply(lambda x: x[0:4])])\n",
    "    return all(test_x), all(test_y), all(test_w), all(test_h)\n",
    "\n",
    "minsize_test()"
   ]
  },
  {
   "cell_type": "code",
   "execution_count": null,
   "id": "5a3b8912",
   "metadata": {},
   "outputs": [
    {
     "data": {
      "text/plain": [
       "(True, True, True, True)"
      ]
     },
     "execution_count": 20,
     "metadata": {},
     "output_type": "execute_result"
    }
   ],
   "source": [
    "def maxsize_test():\n",
    "    test_x, test_y, test_w, test_h = zip(*[(i[0] <= 1200, i[1] <= 860, i[2] <= 1200, i[3] <= 860) for i in df_annotations[\"bbox\"].apply(lambda x: x[0:4])])\n",
    "    return all(test_x), all(test_y), all(test_w), all(test_h)\n",
    "\n",
    "maxsize_test()"
   ]
  },
  {
   "cell_type": "markdown",
   "id": "6ce7bb53",
   "metadata": {},
   "source": [
    "Les images sont bien toutes dans la range.\\\n",
    "On va donc tester les images qui n'ont pas de bbox/area et celles qui ont tout"
   ]
  },
  {
   "cell_type": "code",
   "execution_count": 53,
   "id": "e6126512",
   "metadata": {},
   "outputs": [
    {
     "name": "stdout",
     "output_type": "stream",
     "text": [
      "True max X, True max Y, True max W, True max H, True min X, True min Y, True min W, True min H, True max area, True min area\n"
     ]
    }
   ],
   "source": [
    "def invalid_values():\n",
    "\n",
    "    \"\"\"Vérifies les champs des valeurs du df_annotations pour les colonnes bbox et area.\n",
    "\n",
    "    Returns:\n",
    "        _type_: Booleans et prints\n",
    "    \"\"\"\n",
    "    testmax_x, testmax_y, testmax_w, testmax_h = zip(*[(i[0] <= 1200, i[1] <= 860, i[2] <= 1200, i[3] <= 860) for i in df_annotations[\"bbox\"].apply(lambda x: x[0:4])])\n",
    "    \n",
    "    testmin_x, testmin_y, testmin_w, testmin_h = zip(*[(i[0] >= 0, i[1] >= 0, i[2] > 0, i[3] > 0) for i in df_annotations[\"bbox\"].apply(lambda x: x[0:4])])\n",
    "\n",
    "    testmax_area = df_annotations.loc[(df_annotations[\"area\"] >= 1032000)]\n",
    "\n",
    "    testmin_area = df_annotations.loc[(df_annotations[\"area\"] <= 0)]\n",
    "\n",
    "    return print(f\"{all(testmax_x)} max X, {all(testmax_y)} max Y, {all(testmax_w)} max W, {all(testmax_h)} max H, {all(testmin_x)} min X, {all(testmin_y)} min Y, {all(testmin_w)} min W, {all(testmin_h)} min H, {all(testmax_area)} max area, {all(testmin_area)} min area\")\n",
    "\n",
    "invalid_values()"
   ]
  },
  {
   "cell_type": "code",
   "execution_count": 21,
   "id": "9c2b68d2",
   "metadata": {},
   "outputs": [
    {
     "data": {
      "application/vnd.microsoft.datawrangler.viewer.v0+json": {
       "columns": [
        {
         "name": "index",
         "rawType": "int64",
         "type": "integer"
        },
        {
         "name": "id",
         "rawType": "int64",
         "type": "integer"
        },
        {
         "name": "image_id",
         "rawType": "int64",
         "type": "integer"
        },
        {
         "name": "category_id",
         "rawType": "int64",
         "type": "integer"
        },
        {
         "name": "bbox",
         "rawType": "object",
         "type": "unknown"
        },
        {
         "name": "area",
         "rawType": "float64",
         "type": "float"
        },
        {
         "name": "segmentation",
         "rawType": "object",
         "type": "unknown"
        },
        {
         "name": "iscrowd",
         "rawType": "int64",
         "type": "integer"
        }
       ],
       "ref": "5f6fb1d5-b787-4404-b5a2-a8a6add0d60c",
       "rows": [
        [
         "60",
         "60",
         "30",
         "1",
         "[0, 0, 1200, 860]",
         "1032000.0",
         "[]",
         "0"
        ],
        [
         "200",
         "200",
         "104",
         "1",
         "[0, 0, 1200, 860]",
         "1032000.0",
         "[]",
         "0"
        ]
       ],
       "shape": {
        "columns": 7,
        "rows": 2
       }
      },
      "text/html": [
       "<div>\n",
       "<style scoped>\n",
       "    .dataframe tbody tr th:only-of-type {\n",
       "        vertical-align: middle;\n",
       "    }\n",
       "\n",
       "    .dataframe tbody tr th {\n",
       "        vertical-align: top;\n",
       "    }\n",
       "\n",
       "    .dataframe thead th {\n",
       "        text-align: right;\n",
       "    }\n",
       "</style>\n",
       "<table border=\"1\" class=\"dataframe\">\n",
       "  <thead>\n",
       "    <tr style=\"text-align: right;\">\n",
       "      <th></th>\n",
       "      <th>id</th>\n",
       "      <th>image_id</th>\n",
       "      <th>category_id</th>\n",
       "      <th>bbox</th>\n",
       "      <th>area</th>\n",
       "      <th>segmentation</th>\n",
       "      <th>iscrowd</th>\n",
       "    </tr>\n",
       "  </thead>\n",
       "  <tbody>\n",
       "    <tr>\n",
       "      <th>60</th>\n",
       "      <td>60</td>\n",
       "      <td>30</td>\n",
       "      <td>1</td>\n",
       "      <td>[0, 0, 1200, 860]</td>\n",
       "      <td>1032000.0</td>\n",
       "      <td>[]</td>\n",
       "      <td>0</td>\n",
       "    </tr>\n",
       "    <tr>\n",
       "      <th>200</th>\n",
       "      <td>200</td>\n",
       "      <td>104</td>\n",
       "      <td>1</td>\n",
       "      <td>[0, 0, 1200, 860]</td>\n",
       "      <td>1032000.0</td>\n",
       "      <td>[]</td>\n",
       "      <td>0</td>\n",
       "    </tr>\n",
       "  </tbody>\n",
       "</table>\n",
       "</div>"
      ],
      "text/plain": [
       "      id  image_id  category_id               bbox       area segmentation  \\\n",
       "60    60        30            1  [0, 0, 1200, 860]  1032000.0           []   \n",
       "200  200       104            1  [0, 0, 1200, 860]  1032000.0           []   \n",
       "\n",
       "     iscrowd  \n",
       "60         0  \n",
       "200        0  "
      ]
     },
     "execution_count": 21,
     "metadata": {},
     "output_type": "execute_result"
    }
   ],
   "source": [
    "df_annotations.loc[(df_annotations[\"bbox\"].apply(lambda x: x[3:4][0] ==  860)) & (df_annotations[\"bbox\"].apply(lambda x: x[2:3][0] ==  1200))]"
   ]
  },
  {
   "cell_type": "code",
   "execution_count": 22,
   "id": "9813f418",
   "metadata": {},
   "outputs": [
    {
     "data": {
      "application/vnd.microsoft.datawrangler.viewer.v0+json": {
       "columns": [
        {
         "name": "index",
         "rawType": "int64",
         "type": "integer"
        },
        {
         "name": "id",
         "rawType": "int64",
         "type": "integer"
        },
        {
         "name": "image_id",
         "rawType": "int64",
         "type": "integer"
        },
        {
         "name": "category_id",
         "rawType": "int64",
         "type": "integer"
        },
        {
         "name": "bbox",
         "rawType": "object",
         "type": "string"
        },
        {
         "name": "area",
         "rawType": "float64",
         "type": "float"
        },
        {
         "name": "segmentation",
         "rawType": "object",
         "type": "string"
        },
        {
         "name": "iscrowd",
         "rawType": "int64",
         "type": "integer"
        }
       ],
       "ref": "55692844-7a4c-4cf9-ac31-ce12ed280fbb",
       "rows": [],
       "shape": {
        "columns": 7,
        "rows": 0
       }
      },
      "text/html": [
       "<div>\n",
       "<style scoped>\n",
       "    .dataframe tbody tr th:only-of-type {\n",
       "        vertical-align: middle;\n",
       "    }\n",
       "\n",
       "    .dataframe tbody tr th {\n",
       "        vertical-align: top;\n",
       "    }\n",
       "\n",
       "    .dataframe thead th {\n",
       "        text-align: right;\n",
       "    }\n",
       "</style>\n",
       "<table border=\"1\" class=\"dataframe\">\n",
       "  <thead>\n",
       "    <tr style=\"text-align: right;\">\n",
       "      <th></th>\n",
       "      <th>id</th>\n",
       "      <th>image_id</th>\n",
       "      <th>category_id</th>\n",
       "      <th>bbox</th>\n",
       "      <th>area</th>\n",
       "      <th>segmentation</th>\n",
       "      <th>iscrowd</th>\n",
       "    </tr>\n",
       "  </thead>\n",
       "  <tbody>\n",
       "  </tbody>\n",
       "</table>\n",
       "</div>"
      ],
      "text/plain": [
       "Empty DataFrame\n",
       "Columns: [id, image_id, category_id, bbox, area, segmentation, iscrowd]\n",
       "Index: []"
      ]
     },
     "execution_count": 22,
     "metadata": {},
     "output_type": "execute_result"
    }
   ],
   "source": [
    "df_annotations.loc[(df_annotations[\"bbox\"].apply(lambda x: x[3:4][0] ==  0)) & (df_annotations[\"bbox\"].apply(lambda x: x[2:3][0] ==  0))]"
   ]
  },
  {
   "cell_type": "code",
   "execution_count": 23,
   "id": "d813483e",
   "metadata": {},
   "outputs": [
    {
     "data": {
      "application/vnd.microsoft.datawrangler.viewer.v0+json": {
       "columns": [
        {
         "name": "index",
         "rawType": "int64",
         "type": "integer"
        },
        {
         "name": "id",
         "rawType": "int64",
         "type": "integer"
        },
        {
         "name": "image_id",
         "rawType": "int64",
         "type": "integer"
        },
        {
         "name": "category_id",
         "rawType": "int64",
         "type": "integer"
        },
        {
         "name": "bbox",
         "rawType": "object",
         "type": "unknown"
        },
        {
         "name": "area",
         "rawType": "float64",
         "type": "float"
        },
        {
         "name": "segmentation",
         "rawType": "object",
         "type": "unknown"
        },
        {
         "name": "iscrowd",
         "rawType": "int64",
         "type": "integer"
        }
       ],
       "ref": "bb271dd0-eb73-40e6-814a-3895628a60df",
       "rows": [
        [
         "60",
         "60",
         "30",
         "1",
         "[0, 0, 1200, 860]",
         "1032000.0",
         "[]",
         "0"
        ],
        [
         "200",
         "200",
         "104",
         "1",
         "[0, 0, 1200, 860]",
         "1032000.0",
         "[]",
         "0"
        ]
       ],
       "shape": {
        "columns": 7,
        "rows": 2
       }
      },
      "text/html": [
       "<div>\n",
       "<style scoped>\n",
       "    .dataframe tbody tr th:only-of-type {\n",
       "        vertical-align: middle;\n",
       "    }\n",
       "\n",
       "    .dataframe tbody tr th {\n",
       "        vertical-align: top;\n",
       "    }\n",
       "\n",
       "    .dataframe thead th {\n",
       "        text-align: right;\n",
       "    }\n",
       "</style>\n",
       "<table border=\"1\" class=\"dataframe\">\n",
       "  <thead>\n",
       "    <tr style=\"text-align: right;\">\n",
       "      <th></th>\n",
       "      <th>id</th>\n",
       "      <th>image_id</th>\n",
       "      <th>category_id</th>\n",
       "      <th>bbox</th>\n",
       "      <th>area</th>\n",
       "      <th>segmentation</th>\n",
       "      <th>iscrowd</th>\n",
       "    </tr>\n",
       "  </thead>\n",
       "  <tbody>\n",
       "    <tr>\n",
       "      <th>60</th>\n",
       "      <td>60</td>\n",
       "      <td>30</td>\n",
       "      <td>1</td>\n",
       "      <td>[0, 0, 1200, 860]</td>\n",
       "      <td>1032000.0</td>\n",
       "      <td>[]</td>\n",
       "      <td>0</td>\n",
       "    </tr>\n",
       "    <tr>\n",
       "      <th>200</th>\n",
       "      <td>200</td>\n",
       "      <td>104</td>\n",
       "      <td>1</td>\n",
       "      <td>[0, 0, 1200, 860]</td>\n",
       "      <td>1032000.0</td>\n",
       "      <td>[]</td>\n",
       "      <td>0</td>\n",
       "    </tr>\n",
       "  </tbody>\n",
       "</table>\n",
       "</div>"
      ],
      "text/plain": [
       "      id  image_id  category_id               bbox       area segmentation  \\\n",
       "60    60        30            1  [0, 0, 1200, 860]  1032000.0           []   \n",
       "200  200       104            1  [0, 0, 1200, 860]  1032000.0           []   \n",
       "\n",
       "     iscrowd  \n",
       "60         0  \n",
       "200        0  "
      ]
     },
     "execution_count": 23,
     "metadata": {},
     "output_type": "execute_result"
    }
   ],
   "source": [
    "df_annotations.loc[(df_annotations[\"area\"] >= 1032000)]"
   ]
  },
  {
   "cell_type": "code",
   "execution_count": 24,
   "id": "65623ef3",
   "metadata": {},
   "outputs": [
    {
     "data": {
      "application/vnd.microsoft.datawrangler.viewer.v0+json": {
       "columns": [
        {
         "name": "index",
         "rawType": "int64",
         "type": "integer"
        },
        {
         "name": "id",
         "rawType": "int64",
         "type": "integer"
        },
        {
         "name": "image_id",
         "rawType": "int64",
         "type": "integer"
        },
        {
         "name": "category_id",
         "rawType": "int64",
         "type": "integer"
        },
        {
         "name": "bbox",
         "rawType": "object",
         "type": "string"
        },
        {
         "name": "area",
         "rawType": "float64",
         "type": "float"
        },
        {
         "name": "segmentation",
         "rawType": "object",
         "type": "string"
        },
        {
         "name": "iscrowd",
         "rawType": "int64",
         "type": "integer"
        }
       ],
       "ref": "6de09391-2c9f-4479-9b7a-53c2ea5eb00d",
       "rows": [],
       "shape": {
        "columns": 7,
        "rows": 0
       }
      },
      "text/html": [
       "<div>\n",
       "<style scoped>\n",
       "    .dataframe tbody tr th:only-of-type {\n",
       "        vertical-align: middle;\n",
       "    }\n",
       "\n",
       "    .dataframe tbody tr th {\n",
       "        vertical-align: top;\n",
       "    }\n",
       "\n",
       "    .dataframe thead th {\n",
       "        text-align: right;\n",
       "    }\n",
       "</style>\n",
       "<table border=\"1\" class=\"dataframe\">\n",
       "  <thead>\n",
       "    <tr style=\"text-align: right;\">\n",
       "      <th></th>\n",
       "      <th>id</th>\n",
       "      <th>image_id</th>\n",
       "      <th>category_id</th>\n",
       "      <th>bbox</th>\n",
       "      <th>area</th>\n",
       "      <th>segmentation</th>\n",
       "      <th>iscrowd</th>\n",
       "    </tr>\n",
       "  </thead>\n",
       "  <tbody>\n",
       "  </tbody>\n",
       "</table>\n",
       "</div>"
      ],
      "text/plain": [
       "Empty DataFrame\n",
       "Columns: [id, image_id, category_id, bbox, area, segmentation, iscrowd]\n",
       "Index: []"
      ]
     },
     "execution_count": 24,
     "metadata": {},
     "output_type": "execute_result"
    }
   ],
   "source": [
    "df_annotations.loc[(df_annotations[\"area\"] <= 0)]"
   ]
  },
  {
   "cell_type": "markdown",
   "id": "3f1d5655",
   "metadata": {},
   "source": [
    "Il n'y a pas d'aberrations dans les valeurs des bbox ou de l'area. On va maintenant ouvrir les images pour voir s'il y a des aberrations et s'intéresser aux valeurs de bbox et area, ainsi que regarder nos doublons."
   ]
  },
  {
   "cell_type": "markdown",
   "id": "210da3c2",
   "metadata": {},
   "source": [
    "0, 96, 118, 122, 209, 290, 451 : sans annotations\\\n",
    "60, 200 : full size area"
   ]
  },
  {
   "cell_type": "code",
   "execution_count": 25,
   "id": "9bd8bab6",
   "metadata": {},
   "outputs": [
    {
     "data": {
      "text/plain": [
       "['cl6e1qges001kgk555z158f33_2_FALSE_COLOR_jpg.rf.479904c9e54c6ba121689341598bf3ed.jpg',\n",
       " 'cl6b78q1y009sl455ekwc1jfp_1_TRUE_COLOR_jpg.rf.92ebe9452b2cdcf4ae4701102a55bd98.jpg',\n",
       " 'cl6kf5xzo000gc4552qc8hhcc_2_FALSE_COLOR_jpg.rf.8fbfb16c6d86076d860904397218acd5.jpg',\n",
       " 'cl6e2kygp002egk55asrs2brz_1_TRUE_COLOR_jpg.rf.2a198a37785242fb6db3ef21c0ffdcad.jpg',\n",
       " 'cl6e3enfn003sgk554uim9wo6_1_TRUE_COLOR_jpg.rf.beaf169c01f4596cb24c1c4628ef21f1.jpg',\n",
       " 'cl6kgeqar002lc455akv50au4_2_FALSE_COLOR_jpg.rf.cc30b23aec838a549eeb61aeb281a5f9.jpg',\n",
       " 'cl6kfx47x001tc45578ts0yz6_2_FALSE_COLOR_jpg.rf.5a9501946306fabdad807a6acb61ccbe.jpg',\n",
       " 'cl6b5x63r005il4551chxdt93_2_FALSE_COLOR_jpg.rf.8c4fb06b6812031edb1ad781ec14d2b9.jpg',\n",
       " 'cl6b5myi60048l45530d5anq4_1_TRUE_COLOR_jpg.rf.1b9e229b9d66a61c1d9a410fd8ad6f23.jpg']"
      ]
     },
     "execution_count": 25,
     "metadata": {},
     "output_type": "execute_result"
    }
   ],
   "source": [
    "files_name = df_images[\"file_name\"].loc[df_images[\"id\"].isin([0, 60, 96, 118, 122, 200, 209, 290, 451])].tolist()\n",
    "files_name"
   ]
  },
  {
   "cell_type": "markdown",
   "id": "fcf5e3eb",
   "metadata": {},
   "source": [
    "## En conclusion : \n",
    "\n",
    "D'après l'analyse de données, on décide de drop les 7 images sans annotations."
   ]
  },
  {
   "cell_type": "markdown",
   "id": "91121dde",
   "metadata": {},
   "source": [
    "- Quel(s) type(s) de modèle(s) permet(tent) de répondre à la problématique du projet ?\\\n",
    "Modèle de détection d'objets\n",
    "- Quelles sont les spécificités d’un modèle pré-entraîné ?\\\n",
    "Il est plus rapide à entraîner, moins gourmand en ressources\n",
    "- Quelles sont les principales différences architecturales entre un CPU et un GPU ? Comment est équipé votre ordinateur ?\\\n",
    "Un CPU est beaucoup plus petit et possède beaucoup moins de coeurs. Un GPU est en général plus gros, plus rapide.\\\n",
    "Nos ordinateurs sont équipés d'un CPU 4 coeurs i7 10ème gen à 1.3 GHz, et de GE Force GTX 1650\n",
    "- Comment la vitesse d'entraînement de YOLO varie-t-elle entre CPU et GPU ?\\\n",
    "Beaucoup. Les GPU sont plus beaucoup plus rapides.\n",
    "- Quels modèles privilégier pour notre problématique en prenant en compte la taille du dataset ? Les contraintes de ressources d'entraînement ? \\\n",
    "Il faut privilégier les modèles de détection d'objets vis à vis de notre problématique.\n",
    "- Quelles solutions existent pour adapter la taille de notre dataset si c’est nécessaire au modèle ?\\\n",
    "On peut créer des fausses données à partir de nos données existentes ou faire de la cross evaluation pour varier l'entraînement.\n"
   ]
  },
  {
   "cell_type": "markdown",
   "id": "5c765d79",
   "metadata": {},
   "source": [
    "- Recall/rappel : Score qui identifie tout les True Positives.\n",
    "- Precision : Score qui identifie tout les Positives.\n",
    "- IoU : C'est la précision pour notre détection d'objet. Elle mesure à quelle point la détection est précise.\n",
    "- mAP : C'est la moyenne de notre précision sur tout nos objets."
   ]
  },
  {
   "cell_type": "markdown",
   "id": "46c1e535",
   "metadata": {},
   "source": [
    "## 3) Modèle"
   ]
  },
  {
   "cell_type": "markdown",
   "id": "3961c7df",
   "metadata": {},
   "source": [
    "Data preparation pour le modèle YOLO de ultralytics"
   ]
  },
  {
   "cell_type": "code",
   "execution_count": null,
   "id": "d09f9d8b",
   "metadata": {},
   "outputs": [],
   "source": [
    "from pathlib import Path\n",
    "\n",
    "path = Path('.').absolute()\n",
    "subdir = [\"test\", \"train\", \"val\"]\n",
    "\n",
    "def test_train_val_dirs():\n",
    "    for x in subdir:\n",
    "        Path(x+\"/images\").mkdir(parents=True)\n",
    "        Path(x+\"/labels\").mkdir(parents=True)\n",
    "\n",
    "test_train_val_dirs(path)\n"
   ]
  },
  {
   "cell_type": "code",
   "execution_count": null,
   "id": "760ce03e",
   "metadata": {},
   "outputs": [
    {
     "name": "stdout",
     "output_type": "stream",
     "text": [
      "[PosixPath('data/cl6kf110z0004c455dymnacxa_1_TRUE_COLOR_jpg.rf.84a69e729c116c44303cdbf3fc321a71.jpg'), PosixPath('data/cl6opbnv8006xao55hbpe2j2u_1_TRUE_COLOR_jpg.rf.a322c310c87b9b2b0dd656c0db4e6c91.jpg'), PosixPath('data/cl6ojbg9t004oao552glqe340_1_TRUE_COLOR_jpg.rf.537df0a4cd6f7c528f9293ccb4d08783.jpg'), PosixPath('data/cl6e0kgem0014gk55cl4692g7_1_TRUE_COLOR_jpg.rf.d47055293ccf936f71eb03a282b643b4.jpg'), PosixPath('data/cl6ooxizh0068ao55h1l3hrim_1_TRUE_COLOR_jpg.rf.73178115b18484ae56027970999c67a5.jpg'), PosixPath('data/cl6cgs3qs00bil4551v5n3v2h_2_FALSE_COLOR_jpg.rf.dfd038db2b2cc23577079525dec70528.jpg'), PosixPath('data/cl6lsxiqd001v8w55fgtjavib_2_FALSE_COLOR_jpg.rf.ed583532db782f8ccd0047e2abe0bee1.jpg'), PosixPath('data/cl6ojv5dx0056ao557rpa0ljr_2_FALSE_COLOR_jpg.rf.e62e4cd6da325f259c3e6b98c8f16dd1.jpg'), PosixPath('data/cl6kfyj4a001wc4558emoaaeq_4_FALSE_COLOR__URBAN_jpg.rf.f4bb8a00db7566082ef5532e62ffc462.jpg'), PosixPath('data/cl6oe0y5h002rao55ghk1g0ha_4_FALSE_COLOR__URBAN_jpg.rf.91bd2f4b1f1e0980eb280e3e13fc8abd.jpg'), PosixPath('data/cl6ojycgj005bao557mc6afad_1_TRUE_COLOR_jpg.rf.2fff76c1eed44062f407660384acdddb.jpg'), PosixPath('data/cl6b6dmty0071l455668oabtj_4_FALSE_COLOR__URBAN_jpg.rf.3d82e7710651d610b3ed5c22ae907981.jpg'), PosixPath('data/cl6dyeg510004hg554xxs8aux_6_SWIR_jpg.rf.375714af6c9f8fa9fb5423c7dbcea6cc.jpg'), PosixPath('data/cl6odxshy002kao554h0tez0a_6_SWIR_jpg.rf.59fcbf7ef586daeb6c08d5f5b27d5ae6.jpg'), PosixPath('data/cl6b542k6002bl455fmydcwlb_6_SWIR_jpg.rf.8759656fe7d9452fa7f7871f61545f0c.jpg'), PosixPath('data/cl6b63ehe0062l455c9mib5xv_4_FALSE_COLOR__URBAN_jpg.rf.b8bc2c6fe6978ca6b05f3a82e157bdbb.jpg'), PosixPath('data/cl6m10x9x00348w55h67q3hes_2_FALSE_COLOR_jpg.rf.746f55b2cb2a94835ebbb485b3715504.jpg'), PosixPath('data/cl6b5nqx3004dl4556qu6azh4_2_FALSE_COLOR_jpg.rf.735f17d91aa3a0102d1b8ef9dcfb2f00.jpg'), PosixPath('data/cl6opeibd0071ao55f9t2g6nw_1_TRUE_COLOR_jpg.rf.6070362401c95d15c7c1bceb98e721bb.jpg'), PosixPath('data/cl6e3gmqp0040gk55gklf0ka1_2_FALSE_COLOR_jpg.rf.e1d823b926ba664e4d2658c7c58b2915.jpg'), PosixPath('data/cl6b5i94f003ul455dplv6fmu_6_SWIR_jpg.rf.f9f02363db3c3db2c396aa67378922e7.jpg'), PosixPath('data/cl6okcs620060ao552j5fd463_1_TRUE_COLOR_jpg.rf.b00939415cb2ad0885a00096b525a2ff.jpg'), PosixPath('data/cl6b0q209001jl4553gmg5wxk_2_FALSE_COLOR_jpg.rf.eef8be7fee7165de64be4973c2c58f3e.jpg'), PosixPath('data/cl6chonxj00cjl455bqcs1fnt_2_FALSE_COLOR_jpg.rf.277d09c72f7ed781018abde75c573111.jpg'), PosixPath('data/cl6e2kygp002egk55asrs2brz_6_SWIR_jpg.rf.babaec9df98b79e585c6b0ed3e401b8f.jpg'), PosixPath('data/cl6cgah3400anl4554lg2hxzy_1_TRUE_COLOR_jpg.rf.14f3e09cac34f3f98d3191416add10d7.jpg'), PosixPath('data/cl6b5osai004hl455cp1mh6ki_4_FALSE_COLOR__URBAN_jpg.rf.951443c6d4d4ac4c73f0375f00a491a1.jpg'), PosixPath('data/cl6ojevvt004uao55432mcnea_6_SWIR_jpg.rf.ac9d8ec6cc1476f98470e302c9f8945f.jpg'), PosixPath('data/cl6ou8fz600abao5561sobj5z_1_TRUE_COLOR_jpg.rf.1ff7bea9ba4b1da2adb2975211554bc8.jpg'), PosixPath('data/cl6b5uskz0058l455gbd534lm_4_FALSE_COLOR__URBAN_jpg.rf.704db007a472c6e7396d277383c0dfe2.jpg'), PosixPath('data/cl6b652mi0068l4552keu9loj_4_FALSE_COLOR__URBAN_jpg.rf.ac9e5490bef66d3ea06a9270bfbc269e.jpg'), PosixPath('data/cl6b75qhp0098l455giwk7bva_4_FALSE_COLOR__URBAN_jpg.rf.3d6853f78cfcd17e1029d19083bcbdb0.jpg'), PosixPath('data/cl6chmuyr00cfl455hd0u03x9_1_TRUE_COLOR_jpg.rf.a4aad918213a396e717e044bfac537b9.jpg'), PosixPath('data/cl6kgdzqp002kc455030p44eo_2_FALSE_COLOR_jpg.rf.157fbd858a1b7089c6f75fa68eb8638a.jpg'), PosixPath('data/cl6b6zaju008ll455bbu9506q_6_SWIR_jpg.rf.a067497ccc38cfcb2e510cab67d33595.jpg'), PosixPath('data/cl6cswevu00gbl45556scbr9n_1_TRUE_COLOR_jpg.rf.1d5a5a2e50cf241e7b24ebde117d8cc3.jpg'), PosixPath('data/cl6csdbcu00f9l455hnwh8a4z_2_FALSE_COLOR_jpg.rf.09b3cb4addbc8c8306ad6e8f2806666d.jpg'), PosixPath('data/cl6b78q1y009sl455ekwc1jfp_1_TRUE_COLOR_jpg.rf.92ebe9452b2cdcf4ae4701102a55bd98.jpg'), PosixPath('data/cl6opv5oo007xao553de9g7wd_2_FALSE_COLOR_jpg.rf.ab5b0ecca400b24137812a9cfd97fb73.jpg'), PosixPath('data/cl6opx5vv0082ao55dx8j73xn_1_TRUE_COLOR_jpg.rf.ff74a7f91077661ec3a5e3e463cda851.jpg'), PosixPath('data/cl6ctbgwv00hel455fxql5pdm_4_FALSE_COLOR__URBAN_jpg.rf.fe9130528f5da6efbe387865fd6649e9.jpg'), PosixPath('data/cl6cglp1000b9l4555bzvbgqj_2_FALSE_COLOR_jpg.rf.c9d85326b2931904b8f61462a95e219c.jpg'), PosixPath('data/cl6e33qm00035gk553mplcyji_4_FALSE_COLOR__URBAN_jpg.rf.1e019662a48f468ec823b369a539a56c.jpg'), PosixPath('data/cl6csuejr00g9l45566f93g4a_2_FALSE_COLOR_jpg.rf.054d398289a53f9e9e8a801aeb0d7863.jpg'), PosixPath('data/cl6kfsx2l001kc455ezxdhkvx_2_FALSE_COLOR_jpg.rf.88480b2346e5a8de319a5234e9eb5d03.jpg'), PosixPath('data/cl6cttw6o00ial4555urs554w_2_FALSE_COLOR_jpg.rf.d92cb74564bf4e1556a74fc7b377e3f2.jpg'), PosixPath('data/cl6e2g24k0020gk55d7nlgq0h_1_TRUE_COLOR_jpg.rf.b9e53ba98178cbb61cf1f28a92d5480d.jpg'), PosixPath('data/cl6cho7a000cil455fiddgkjj_6_SWIR_jpg.rf.c1282e35ab10c5974e2cf5a9378bdb65.jpg'), PosixPath('data/cl6b6iksa007dl4551508f1n4_2_FALSE_COLOR_jpg.rf.9e56d7d2d3a4a3b737f393920e5660b5.jpg'), PosixPath('data/cl6dzjmr4000qhg55bnr2akq0_6_SWIR_jpg.rf.87a3115b9f6bca94d9878bdfcd8d15bc.jpg'), PosixPath('data/cl6kghsrn002tc4551wu83z4e_2_FALSE_COLOR_jpg.rf.8bf183c2a3b66f7030e76c302e99d2b9.jpg'), PosixPath('data/cl6b0ckyi000pl455hm7bhix2_2_FALSE_COLOR_jpg.rf.b9c47a459428b9c421dbf0fc37f72cf9.jpg'), PosixPath('data/cl6csstjw00g5l455c618frnq_2_FALSE_COLOR_jpg.rf.ee2c6568a13b760341349677a58ea9dd.jpg'), PosixPath('data/cl6oq0cpr008bao553vg485hd_1_TRUE_COLOR_jpg.rf.172a1e9f92965be21ec3ed833c68530e.jpg'), PosixPath('data/cl6dypwru000chg559pvqei5w_1_TRUE_COLOR_jpg.rf.4b5d1b454cee4e4f04b8f6b281127935.jpg'), PosixPath('data/cl6b04t8r0007l455fk4y4zr0_4_FALSE_COLOR__URBAN_jpg.rf.b6843b74612a6fab1432b3c7d8f0780f.jpg'), PosixPath('data/cl6lt50lf00278w555isdaowx_6_SWIR_jpg.rf.38c24d681604400240108adc91a08717.jpg'), PosixPath('data/cl6azt6by0000go55h4io4tab_6_SWIR_jpg.rf.f8a793559d8103b9c237ca96944514b5.jpg'), PosixPath('data/cl6chmuyr00cfl455hd0u03x9_2_FALSE_COLOR_jpg.rf.94e376a122ea5e60615032bf8564067f.jpg'), PosixPath('data/cl6ou72e300a7ao55ham55bxa_1_TRUE_COLOR_jpg.rf.5fb071ea6eacd8d0b49cdf574f4cdaa6.jpg'), PosixPath('data/cl6kfbq11000yc45577e7e4bg_1_TRUE_COLOR_jpg.rf.c8c9d7c11989ad75fba7ee813467b034.jpg'), PosixPath('data/cl6b6h5fo007bl455669md4vp_1_TRUE_COLOR_jpg.rf.2a3317b1042bda5ae825c7683a9d65bb.jpg'), PosixPath('data/cl6b6pieh007rl455fwvb73gr_1_TRUE_COLOR_jpg.rf.8f3f9c84272e40682f7f430cdc4ac4c0.jpg'), PosixPath('data/cl6lsukwg001t8w556kieb72f_4_FALSE_COLOR__URBAN_jpg.rf.0500c165c71af53fe68b9b2c4daa441b.jpg'), PosixPath('data/cl6orpl93009tao552w0p7urd_6_SWIR_jpg.rf.63d6f8c2cc3f097cf78f195f59a80f68.jpg'), PosixPath('data/cl6b76fnk009dl4556z3y9qgs_4_FALSE_COLOR__URBAN_jpg.rf.4d7112c2a197e6ce3d8764ad0af5d287.jpg'), PosixPath('data/cl6m1fco6003v8w558h0s1dhz_4_FALSE_COLOR__URBAN_jpg.rf.39e3021237a9a84b196a3ce0eeede01d.jpg'), PosixPath('data/cl6oujpxm00atao554qpycnsr_2_FALSE_COLOR_jpg.rf.80ca6bf8c90969f299e1fa5127fc8523.jpg'), PosixPath('data/cl6b79rs5009wl4550jbyddo9_1_TRUE_COLOR_jpg.rf.891016298b1ec3cfd5e9ecd20bddb54c.jpg'), PosixPath('data/cl6cho7a000cil455fiddgkjj_1_TRUE_COLOR_jpg.rf.0dfc3b0e34820438b66e6ff0ba1dbe2f.jpg'), PosixPath('data/cl6odoepa0028ao554gdxhnyo_1_TRUE_COLOR_jpg.rf.97b0cd83ab8fc9eff094564e62ac032e.jpg'), PosixPath('data/cl6b0czhh000rl4555uf846qc_4_FALSE_COLOR__URBAN_jpg.rf.4d22f494704ece92b8a36f855f77bffe.jpg'), PosixPath('data/cl6cg820i00ahl45522fwa74p_4_FALSE_COLOR__URBAN_jpg.rf.a65054490c722cb439824fa2a1e395b7.jpg'), PosixPath('data/cl6kg9h8h0028c455at8u1fb4_2_FALSE_COLOR_jpg.rf.c826b52465db077585167b3e4680ee6c.jpg'), PosixPath('data/cl6kiers800088w554w61grpw_6_SWIR_jpg.rf.eef3f85711d2f635550538c54c874845.jpg'), PosixPath('data/cl6chkc4400cal4551mau76ln_2_FALSE_COLOR_jpg.rf.b399825fe01934611b6d013886c789f8.jpg'), PosixPath('data/cl6b77933009jl4554y5l30h3_6_SWIR_jpg.rf.17d4112c4bc6739b034ced139cd8e5a5.jpg'), PosixPath('data/cl6e3e9qm003rgk55efdu14ah_2_FALSE_COLOR_jpg.rf.8abfdde94619a88574680bdb5bafa4dc.jpg'), PosixPath('data/cl6b73duk008vl45583qs4mo9_6_SWIR_jpg.rf.7b942815479894d2a3fda70742b9f826.jpg'), PosixPath('data/cl6kfzb24001zc4555e770ib2_4_FALSE_COLOR__URBAN_jpg.rf.13a4747cbfc22ec8cbfc4da014d74e19.jpg'), PosixPath('data/cl6cgwlv800bol4557nsq5jwk_4_FALSE_COLOR__URBAN_jpg.rf.b96336e560cb8e2b952def4e617218e4.jpg'), PosixPath('data/cl6e0c4x3000ngk55c47nhbiz_6_SWIR_jpg.rf.805c839bbcaddceea16f45bf37533000.jpg'), PosixPath('data/cl6b5yjxa005nl45516k465kb_1_TRUE_COLOR_jpg.rf.ce6cbfd628838b1c87ffdbb637919aa9.jpg'), PosixPath('data/cl6kgh8cf002sc4558jry9v2p_4_FALSE_COLOR__URBAN_jpg.rf.d460a1d78fabf96f7488c62264eec7c6.jpg'), PosixPath('data/cl6ocys2m000sao5550mof7nx_1_TRUE_COLOR_jpg.rf.8e3581559100c209cd75fd81f38e072b.jpg'), PosixPath('data/cl6oj0ggm0043ao55acihdj7s_2_FALSE_COLOR_jpg.rf.5ceafad2a989e00d5f32f3d465f72f35.jpg'), PosixPath('data/cl6kfr3gw001gc4556plk3d6y_2_FALSE_COLOR_jpg.rf.83ca344c4481eff80a00b5b50123dde7.jpg'), PosixPath('data/cl6css50j00g3l4552tvg839m_2_FALSE_COLOR_jpg.rf.99a6a3dd268a81409a7dfb549dda33bf.jpg'), PosixPath('data/cl6ocohki0003ao55bnyg99kc_4_FALSE_COLOR__URBAN_jpg.rf.1268ae68f91a4c4a73941c9b9640fa9a.jpg'), PosixPath('data/cl6opn2ws007hao55es3fg6b2_2_FALSE_COLOR_jpg.rf.46b32a7905e04149be12d5c5098763fd.jpg'), PosixPath('data/cl6ok1xz8005jao55et1x9ny0_1_TRUE_COLOR_jpg.rf.9558d9b5d898144aa267adad56074770.jpg'), PosixPath('data/cl6kfwvz3001sc45549gxd3e2_4_FALSE_COLOR__URBAN_jpg.rf.c87a56de729075b5a63758c8411a78f0.jpg'), PosixPath('data/cl6op6nll006lao553d190xdf_2_FALSE_COLOR_jpg.rf.676cdbce511f842ca009b87eecc61241.jpg'), PosixPath('data/cl6orq40w009vao552t868lax_2_FALSE_COLOR_jpg.rf.7f192c7591e8a3f6715b81a22cd4b701.jpg'), PosixPath('data/cl6e0kgem0014gk55cl4692g7_6_SWIR_jpg.rf.75d367e9586bed46241148c1105975ec.jpg'), PosixPath('data/cl6dywrm9000mhg55c48n2wtt_6_SWIR_jpg.rf.b1a38587851b623506ac63c99efc6942.jpg'), PosixPath('data/cl6ophgti0078ao557twhfw8d_4_FALSE_COLOR__URBAN_jpg.rf.7def477324832ea282c6fc4c29ca7ca8.jpg'), PosixPath('data/cl6b6aeiv006rl455ho4ugrkp_4_FALSE_COLOR__URBAN_jpg.rf.7207ace6eadcc7d714db4072c3be13d7.jpg'), PosixPath('data/cl6dyiwx60009hg55freo14hg_4_FALSE_COLOR__URBAN_jpg.rf.bb532a7dd155f6626c1a25d57f925813.jpg'), PosixPath('data/cl6oqrvzj009aao552o4w9gcv_1_TRUE_COLOR_jpg.rf.d85543f381e826e0dffa6a79d22ec38f.jpg'), PosixPath('data/cl6cta0z600h9l455cygudh3w_4_FALSE_COLOR__URBAN_jpg.rf.5a899bce198e041112d96b0302d74292.jpg'), PosixPath('data/cl6kjc5r500168w55bry741c1_4_FALSE_COLOR__URBAN_jpg.rf.87277927432c3b5a8ad0114a48c02d80.jpg'), PosixPath('data/cl6b5j7l8003yl455e8lo7mre_1_TRUE_COLOR_jpg.rf.8f930a8cb776e1fc115101a746a03689.jpg'), PosixPath('data/cl6odwuqk002iao555zzv0c59_1_TRUE_COLOR_jpg.rf.7515a109b70f8d66aad0623c9eeddef7.jpg'), PosixPath('data/cl6b51y140022l4551rmyafv5_6_SWIR_jpg.rf.ee4fd9c2f750fde1eaab859f8dd0829d.jpg'), PosixPath('data/cl6e30dz3002tgk559uhm11za_1_TRUE_COLOR_jpg.rf.fe685dda58ed1dd4b55f5a9f898e2629.jpg'), PosixPath('data/cl6dzuimb000xhg552nh5hdd9_4_FALSE_COLOR__URBAN_jpg.rf.39dc7784f317cb207365a5807d822bbd.jpg'), PosixPath('data/cl6b4ykst001sl4550amagaw5_4_FALSE_COLOR__URBAN_jpg.rf.5afbd5165c965cc2f70bd0d10d3c004f.jpg'), PosixPath('data/cl6b5zvva005tl455617x069k_1_TRUE_COLOR_jpg.rf.8fddaebfe3bf528542a6bb93a8a4ba56.jpg'), PosixPath('data/cl6kg5b5c0027c455abg328ld_6_SWIR_jpg.rf.ef8c91393a06715257feb3b41d06ffa4.jpg'), PosixPath('data/cl6orry9200a0ao559gb82ms0_1_TRUE_COLOR_jpg.rf.cc9619d3a597ceaf2853dd8c2ee86be7.jpg'), PosixPath('data/cl6kga3590029c455dfqjh4v7_2_FALSE_COLOR_jpg.rf.ef13360dbca3f541099b00a7f79d6a87.jpg'), PosixPath('data/cl6e0c4x3000ngk55c47nhbiz_2_FALSE_COLOR_jpg.rf.f5b8f6b5940529cca841638d51939237.jpg'), PosixPath('data/cl6cgw2be00bnl455cetv4inw_2_FALSE_COLOR_jpg.rf.e7eb23a8f2e3a9e050740e78e8457c2b.jpg'), PosixPath('data/cl6e34bti0037gk55gzdv0akr_6_SWIR_jpg.rf.832dd04dfc59c9fe95a36dd61b1fc76c.jpg'), PosixPath('data/cl6e2ww4w002lgk555k8x0pjx_2_FALSE_COLOR_jpg.rf.f9f14ac12d5da302ce5a757420a6eeeb.jpg'), PosixPath('data/cl6oqbr98008uao55hhpyg2l0_6_SWIR_jpg.rf.b1f0111172cad2728c3d6d53fe595b48.jpg'), PosixPath('data/cl6m145w400368w55e1mscmpe_2_FALSE_COLOR_jpg.rf.c5096bdb36261ea91a23135f4d6af8d0.jpg'), PosixPath('data/cl6e0mv1s0017gk5595j92i2d_4_FALSE_COLOR__URBAN_jpg.rf.d1e221b1a9a28c9ba9318854955beb67.jpg'), PosixPath('data/cl6b64hpf0066l4555lt3czhh_4_FALSE_COLOR__URBAN_jpg.rf.9708ab4cc3223e0de7d63bbe1f526b8b.jpg'), PosixPath('data/cl6oct90r000fao553xkha255_2_FALSE_COLOR_jpg.rf.d6d86d9870d1a9f114f0b02ad0f9aedd.jpg'), PosixPath('data/cl6b035dn0002l455hbmqcima_4_FALSE_COLOR__URBAN_jpg.rf.d884d31834bb767707a1616dfb807d00.jpg'), PosixPath('data/cl6odm3oj0023ao55641s046f_4_FALSE_COLOR__URBAN_jpg.rf.e06b1ddebe1889e272bf11bcd8220072.jpg'), PosixPath('data/cl6kfowty0017c455b591d008_1_TRUE_COLOR_jpg.rf.ee3c5e5c682214ad0e0d91e6930b570b.jpg'), PosixPath('data/cl6oe2d76002tao55ckxpdijl_4_FALSE_COLOR__URBAN_jpg.rf.c3827f2fb99b077435dca2881a756481.jpg'), PosixPath('data/cl6m0whp000308w555xk5cwij_1_TRUE_COLOR_jpg.rf.c39d217c7dfdf6208338433504804ff1.jpg'), PosixPath('data/cl6b53k570029l45574z79k7e_2_FALSE_COLOR_jpg.rf.fe513cd92aab85819db299ec9fb7939d.jpg'), PosixPath('data/cl6op2fce006fao55753l8ulj_6_SWIR_jpg.rf.7e8764944bad6000aa34611ac74ca3ba.jpg'), PosixPath('data/cl6dzzjvo0010hg552jj7ae4b_2_FALSE_COLOR_jpg.rf.53e03154702ae8f918f349befcf7e312.jpg'), PosixPath('data/cl6ch417300btl4554l143qop_4_FALSE_COLOR__URBAN_jpg.rf.43e72d2d74427093db9424b5a3eae89a.jpg'), PosixPath('data/cl6dxzwc50001hg550uejeken_1_TRUE_COLOR_jpg.rf.80c547bf9c492882b239384b7d990f5d.jpg'), PosixPath('data/cl6oimia5003dao558osp4mxe_6_SWIR_jpg.rf.e44dbdb6627b06f130e9108440f82ddc.jpg'), PosixPath('data/cl6m1dd0r003o8w5569ma5agl_1_TRUE_COLOR_jpg.rf.8351a94d2d7bc6ea84ad8121c560c869.jpg'), PosixPath('data/cl6b7fkmx00a7l455d75h2co1_4_FALSE_COLOR__URBAN_jpg.rf.7a2606b45ea45ee07e66256ce803809e.jpg'), PosixPath('data/cl6b0ckyi000pl455hm7bhix2_1_TRUE_COLOR_jpg.rf.4284e0076b9a0bb27b35d7c6a22d4742.jpg'), PosixPath('data/cl6b5rb8x004rl455g3sp3iqz_2_FALSE_COLOR_jpg.rf.005c5bbb33416d06f899c0fb2192df4b.jpg'), PosixPath('data/cl6b0cqup000ql4558m8y8a8t_6_SWIR_jpg.rf.31bee1d2a88d85f292323400c332f798.jpg'), PosixPath('data/cl6opag1s006tao55h8pkceie_1_TRUE_COLOR_jpg.rf.0aa351f726f716cdff50ddae440c921f.jpg'), PosixPath('data/cl6lt6ipg00288w55ee7scu7b_6_SWIR_jpg.rf.217d62e8998857f4cc5ca3a6ad7e5412.jpg'), PosixPath('data/cl6b5xjjd005kl455hfjcd5ra_6_SWIR_jpg.rf.7488907fe46984de6c03556760843d6f.jpg'), PosixPath('data/cl6chqhwl00cll4558hnj0glz_6_SWIR_jpg.rf.1056e04894280f6c5f84af1ce3f49ad9.jpg'), PosixPath('data/cl6e0l3x90015gk55eki43b8w_2_FALSE_COLOR_jpg.rf.71e58f947635dad1592ddd10fa52ba62.jpg'), PosixPath('data/cl6b6yfhr008il4555h86hokv_2_FALSE_COLOR_jpg.rf.fd50b29fbde8a1c76c3e2d01beb69fa5.jpg'), PosixPath('data/cl6kgidey002uc455a3qe2ark_1_TRUE_COLOR_jpg.rf.1db5657ebb196420d977a593d4cbbc11.jpg'), PosixPath('data/cl6kfy9v8001vc4559ubi2rde_4_FALSE_COLOR__URBAN_jpg.rf.60420da5ccf8e1e4e24ff6193348be17.jpg'), PosixPath('data/cl6cgbyeo00aql455eui3fiu4_1_TRUE_COLOR_jpg.rf.0b8e1982479c781a18740d7fd0160c36.jpg'), PosixPath('data/cl6op4t8q006jao559muv9l5l_2_FALSE_COLOR_jpg.rf.d0eac7b7bc3a29b59a5da91316b541c0.jpg'), PosixPath('data/cl6kg4sfr0026c4552hfe6gtj_4_FALSE_COLOR__URBAN_jpg.rf.2342a2438b262c0e389b20eaddf8c3c2.jpg'), PosixPath('data/cl6kgj08y002wc455bqfpd8bd_6_SWIR_jpg.rf.c68ac9e33aa309a3e14ba984d09ef846.jpg'), PosixPath('data/cl6chw5x300csl455fwv6g4li_2_FALSE_COLOR_jpg.rf.cdbbfd775d062a541882636c2437206b.jpg'), PosixPath('data/cl6cg6cf600agl455gtin273p_2_FALSE_COLOR_jpg.rf.3c95193dd276836b31dc3df24f29e351.jpg'), PosixPath('data/cl6kfpnu6001ac4551zdx0uev_6_SWIR_jpg.rf.34908aba60aeee70d991318c99dc9351.jpg'), PosixPath('data/cl6kgnh9k0030c455dtnabosj_1_TRUE_COLOR_jpg.rf.719d4160fed64e1c0f7d077b93c408ad.jpg'), PosixPath('data/cl6b7ep9100a4l455h3w9fstk_2_FALSE_COLOR_jpg.rf.4f2747c68fd470403fcec0900ad7559d.jpg'), PosixPath('data/cl6od01zy000wao5564tqf2dq_6_SWIR_jpg.rf.6c0b81677e3f0db5276e1d8f05fa6db9.jpg'), PosixPath('data/cl6csiins00fgl45562qya3h6_1_TRUE_COLOR_jpg.rf.4f0023de84a5dd3d39fe129b7ee997dd.jpg'), PosixPath('data/cl6b75qhp0098l455giwk7bva_1_TRUE_COLOR_jpg.rf.a94ba5968034dec9b73c7dbe480dc089.jpg'), PosixPath('data/cl6ct5pk300gxl4559vdtfjz2_1_TRUE_COLOR_jpg.rf.7ead147bfba31fe4459e043d401a2344.jpg'), PosixPath('data/cl6e1nvfl001egk556fa6giz7_2_FALSE_COLOR_jpg.rf.4e679887820ef44a029e11ae93afd1ba.jpg'), PosixPath('data/cl6kfvrfp001qc45548kr4qf2_1_TRUE_COLOR_jpg.rf.1e323d4ad9dedbfeedc5e00b3aa691b5.jpg'), PosixPath('data/cl6opc9oz006zao552eyx63jq_1_TRUE_COLOR_jpg.rf.f994921b8a56d2c9d4e28248efa38b8e.jpg'), PosixPath('data/cl6e2m95l002ggk55a3eefylp_6_SWIR_jpg.rf.a0cdb03cbca75c9224048e879c6fe734.jpg'), PosixPath('data/cl6opc9oz006zao552eyx63jq_6_SWIR_jpg.rf.76de8b1ec7f1aeb69a59748d8a8c9207.jpg'), PosixPath('data/cl6oilbwz003bao55ayyaeiti_6_SWIR_jpg.rf.55836ac19fe4201247dafafa8d8862ca.jpg'), PosixPath('data/cl6cp9ucc00d8l455fzq49p99_2_FALSE_COLOR_jpg.rf.431478070ff89a379d3ab9f1a5bc110e.jpg'), PosixPath('data/cl6kg12gd0022c4555fac0sms_2_FALSE_COLOR_jpg.rf.e506d912edb520ae8e29faac6125e931.jpg'), PosixPath('data/cl6b5o2zq004el455548z49am_1_TRUE_COLOR_jpg.rf.fa529dc8ceddf212f871c9a806bb0bcd.jpg'), PosixPath('data/cl6kgm9qr002yc455g5qs87kz_2_FALSE_COLOR_jpg.rf.95debd80b7509cc0a6afe0a7c7ff6cfe.jpg'), PosixPath('data/cl6e2edx3001ygk554c0h3ubb_4_FALSE_COLOR__URBAN_jpg.rf.3d61f7c8ad5106ce9c2aa3860b2f20db.jpg'), PosixPath('data/cl6b5q3z4004ll45585wq8rtu_2_FALSE_COLOR_jpg.rf.b93360b47e1a3b5619b858e01dbaf716.jpg'), PosixPath('data/cl6ct5pk300gxl4559vdtfjz2_6_SWIR_jpg.rf.673db7e2eae6ca92100e850d8d4a595a.jpg'), PosixPath('data/cl6e09hxf000hgk559x18fvg8_1_TRUE_COLOR_jpg.rf.4bad2d8b298e825dd87c4ebb94d5fab5.jpg'), PosixPath('data/cl6b7gtl200aal4552nve0ap1_2_FALSE_COLOR_jpg.rf.c871b0359698a70abce45a40f6bb117e.jpg'), PosixPath('data/cl6cgg5np00b0l455enz77l37_4_FALSE_COLOR__URBAN_jpg.rf.40cd702cc8b043289ca3fc393fabe3ef.jpg'), PosixPath('data/cl6odcx12001oao55f8bma9y4_6_SWIR_jpg.rf.abc6a29a97d9e3758deb79ec1becd8f9.jpg'), PosixPath('data/cl6ct4zi700gvl455hd187an6_1_TRUE_COLOR_jpg.rf.c32aa601f010ec224bcb120239a61104.jpg'), PosixPath('data/cl6m0whp000308w555xk5cwij_2_FALSE_COLOR_jpg.rf.4c7f2876d41823704290c7ba17c9b1ae.jpg'), PosixPath('data/cl6chnfxe00cgl455cg8v02rb_1_TRUE_COLOR_jpg.rf.67479f96195da145753e36c2236f7c3e.jpg'), PosixPath('data/cl6b5l3lm0041l45509eycth4_1_TRUE_COLOR_jpg.rf.4e549ebd46d2e65023b62a56b398ba04.jpg'), PosixPath('data/cl6kig3wf00098w556e894kgn_4_FALSE_COLOR__URBAN_jpg.rf.ea516150c57a6b8431b3bf32bafab73a.jpg'), PosixPath('data/cl6kgh8cf002sc4558jry9v2p_1_TRUE_COLOR_jpg.rf.03abcb671e6d0110cb96176d0f89b7dd.jpg'), PosixPath('data/cl6kgag2y002ac455g3l427ic_4_FALSE_COLOR__URBAN_jpg.rf.dcfb648b0d4277fcb2e240705a5b422f.jpg'), PosixPath('data/cl6ctjyc600hul455hxis4621_2_FALSE_COLOR_jpg.rf.e65f0d03101942da33a9ff69d4ba938e.jpg'), PosixPath('data/cl6okf9bk0067ao55bstpe75r_4_FALSE_COLOR__URBAN_jpg.rf.58875e9af78353f15417f1a2e993c734.jpg'), PosixPath('data/cl6oplsq0007fao556ul723tq_2_FALSE_COLOR_jpg.rf.94a095f4ae3f57df0997e3450c2bea9d.jpg'), PosixPath('data/cl6kjc5r500168w55bry741c1_1_TRUE_COLOR_jpg.rf.0e78281e5d58015651a5a52f16ea2f38.jpg'), PosixPath('data/cl6b5f9f1003ml455abwkc72t_1_TRUE_COLOR_jpg.rf.a09c2099ea1a8b50394fb12bfbdb9ea8.jpg'), PosixPath('data/cl6kgnh9k0030c455dtnabosj_4_FALSE_COLOR__URBAN_jpg.rf.9bf22dbcfc66e6fb99e981e0bf995458.jpg'), PosixPath('data/cl6keyw310001c4551ugx15q5_4_FALSE_COLOR__URBAN_jpg.rf.d3371c057d7fef8486fe692a5e9141f8.jpg'), PosixPath('data/cl6ojaxxv004mao552t7ah2ky_2_FALSE_COLOR_jpg.rf.f75de75121cb3540bbfc52636d8fe45c.jpg'), PosixPath('data/cl6dyeg510004hg554xxs8aux_1_TRUE_COLOR_jpg.rf.5f7f56d5c624ab8c85fdd5b5785d421c.jpg'), PosixPath('data/cl6csapmj00f7l4558gne2y5r_4_FALSE_COLOR__URBAN_jpg.rf.15aab82f47702fe22931ed6ac41975c5.jpg'), PosixPath('data/cl6cgkn5000b6l455cg451vw6_2_FALSE_COLOR_jpg.rf.349b983f5f80cd6cd24ea6105b958483.jpg'), PosixPath('data/cl6ojrtzp004zao55hqhsfffg_2_FALSE_COLOR_jpg.rf.195a1e150a842d8e52a340b764d086c0.jpg'), PosixPath('data/cl6cskhdp00fml4550oip27vq_1_TRUE_COLOR_jpg.rf.5e3f16b79f9861ba20a017af486af661.jpg'), PosixPath('data/cl6e0dbw9000pgk55cv1sgp5x_1_TRUE_COLOR_jpg.rf.049fb46a294a4647ce0018cafe44851a.jpg'), PosixPath('data/cl6cguk2800bml4556lfx35kx_2_FALSE_COLOR_jpg.rf.c00397ac5bd0e1323da8f3791e8400fe.jpg'), PosixPath('data/cl6b7bt0y009zl455397c4vju_6_SWIR_jpg.rf.bf9ea04cbc437c4c8c4b1a2874e4b65c.jpg'), PosixPath('data/cl6e1n8j9001cgk55bhebb6fp_2_FALSE_COLOR_jpg.rf.b853e3a4429e42c59527bd073d2e3667.jpg'), PosixPath('data/cl6b0aue4000ml455e4wo3e1j_4_FALSE_COLOR__URBAN_jpg.rf.afb389608cf3cd6af6de70e5b1072842.jpg'), PosixPath('data/cl6b09m65000kl455dbrteofg_1_TRUE_COLOR_jpg.rf.ee57729ea078971520bf21366b934b08.jpg'), PosixPath('data/cl6odzs5e002oao55heuig0a6_1_TRUE_COLOR_jpg.rf.fc96fcc9ef8466ce18f286d422df48ea.jpg'), PosixPath('data/cl6b0okeb001fl455fgue1wrj_1_TRUE_COLOR_jpg.rf.3036ca102003e03d9b3f564e36d24d18.jpg'), PosixPath('data/cl6od3yri001cao55gifvaizk_1_TRUE_COLOR_jpg.rf.881044d7a4287260c26fd64ba6426160.jpg'), PosixPath('data/cl6oct90r000fao553xkha255_1_TRUE_COLOR_jpg.rf.3458190dccf4775d0b2e824a8e3d2e75.jpg'), PosixPath('data/cl6az56oy0003f05554mh92wy_2_FALSE_COLOR_jpg.rf.80849284d2ee075dcfd0d457f4c20b7a.jpg'), PosixPath('data/cl6cs4oof00eul455fdkybwbf_6_SWIR_jpg.rf.964c04ade7796d8262a34460abc501f1.jpg'), PosixPath('data/cl6cs4y6q00evl455d2lfbj1u_2_FALSE_COLOR_jpg.rf.54e7aa920ce92da629cdebe0c749850e.jpg'), PosixPath('data/cl6e1zkvy001ogk5561l0f1q7_1_TRUE_COLOR_jpg.rf.c934a3c4eef92e6a2fb63ba0f5b569e8.jpg'), PosixPath('data/cl6opqgtf007nao55d5fr4p16_1_TRUE_COLOR_jpg.rf.a43b59a7f6e036647f1399f76c98eb0f.jpg'), PosixPath('data/cl6lt2g2y00228w55cf1a1yxr_2_FALSE_COLOR_jpg.rf.36efe84e8bb672989f589aad86e98108.jpg'), PosixPath('data/cl6kfnwqd0015c455cssv4ha4_1_TRUE_COLOR_jpg.rf.dd4a1a9cc9e885b3011de03732c8f204.jpg'), PosixPath('data/cl6cstc5x00g7l455ec9d32eh_4_FALSE_COLOR__URBAN_jpg.rf.71316a722d62f20ac2358061da63172b.jpg'), PosixPath('data/cl6cs5j5d00exl455afqp4ysw_4_FALSE_COLOR__URBAN_jpg.rf.f5968b5baec72c54ed2817be2aa1fb7e.jpg'), PosixPath('data/cl6oif58n002yao5578ob9fzh_4_FALSE_COLOR__URBAN_jpg.rf.67691ceccbbb460202535f17029f706e.jpg'), PosixPath('data/cl6kfci270010c45580qyfo1k_1_TRUE_COLOR_jpg.rf.c5ae9d9a4ce6ce6eb40688beb6ba338b.jpg'), PosixPath('data/cl6b66xpr006cl4556kzm7hl2_1_TRUE_COLOR_jpg.rf.a1964259e1dadaa86ebd64bd2acbbfa8.jpg'), PosixPath('data/cl6oqlhh6008zao55gago04ul_2_FALSE_COLOR_jpg.rf.b5fb95dcd6fdd2086ada9d253bd1dc04.jpg'), PosixPath('data/cl6b5k38g003zl455bgtd1317_2_FALSE_COLOR_jpg.rf.1ec92bba97779ebd5ac1419db904e242.jpg'), PosixPath('data/cl6b56nh5002jl4551m23gtf9_1_TRUE_COLOR_jpg.rf.7d001a91d6df1d09828ca7c97e89c58b.jpg'), PosixPath('data/cl6b6vihd0086l4553gmk0011_2_FALSE_COLOR_jpg.rf.155496cce064167283541a8c4a3ddec7.jpg'), PosixPath('data/cl6odkye9001yao55bl6y87ra_2_FALSE_COLOR_jpg.rf.481fe0f62e06cf8fbe8d81c50e907b20.jpg'), PosixPath('data/cl6m1cry8003m8w559r91hmtl_6_SWIR_jpg.rf.55bdb1e75817e18fb2d33d73abbacc10.jpg'), PosixPath('data/cl6e3bzkq003kgk550ppl67ww_4_FALSE_COLOR__URBAN_jpg.rf.f8307953fb5b60d10c4919d45923571c.jpg'), PosixPath('data/cl6opi0lv0079ao554ptl5yd7_1_TRUE_COLOR_jpg.rf.3fc2124d6e898de65d162d26ff22fda1.jpg'), PosixPath('data/cl6kf821l000nc4555y4p2rm4_1_TRUE_COLOR_jpg.rf.dee11d790a8452475277a2bd007a6cbe.jpg'), PosixPath('data/cl6ctopvo00i4l455cgtw30dd_2_FALSE_COLOR_jpg.rf.3befac1dba28baf207b23aacd3b4e9ac.jpg'), PosixPath('data/cl6oizoxx0041ao55csrr4whh_4_FALSE_COLOR__URBAN_jpg.rf.de817a7270724a3d4e58887147bd175c.jpg'), PosixPath('data/cl6b03sa00004l4555k7m3d9h_2_FALSE_COLOR_jpg.rf.ff06f8d5665b3485544ff4b57022f5a4.jpg'), PosixPath('data/cl6oq26pe008eao55afu47fi0_4_FALSE_COLOR__URBAN_jpg.rf.6097588c8396a37b074e3444cf333119.jpg'), PosixPath('data/cl6oj3q5x004aao55ala51kbg_4_FALSE_COLOR__URBAN_jpg.rf.7234b0197e9bd566e5a618690ef769ab.jpg'), PosixPath('data/cl6oqvksq009bao556412da6l_1_TRUE_COLOR_jpg.rf.265a9c01b3c08b3b6f3bca283a6109c3.jpg'), PosixPath('data/cl6oips2c003kao559sp4fuwd_1_TRUE_COLOR_jpg.rf.bc07d79827f17f756dd7bfad1411bda5.jpg'), PosixPath('data/cl6cgsj2300bjl4556rjk0yap_1_TRUE_COLOR_jpg.rf.5a5429214847a7ced132367d07c16c0c.jpg'), PosixPath('data/cl6kgmrej002zc455a27d973q_4_FALSE_COLOR__URBAN_jpg.rf.5885b70c7b3b3dafd9806852b4e76ec5.jpg'), PosixPath('data/cl6kfoffk0016c455cvxsalj2_4_FALSE_COLOR__URBAN_jpg.rf.0bef427a51301563a39437db508e1b72.jpg'), PosixPath('data/cl6kftq9a001nc455a3108dvr_6_SWIR_jpg.rf.401cc247b60165302ae17c497c648c58.jpg'), PosixPath('data/cl6kgo2ff0031c455dv515gju_2_FALSE_COLOR_jpg.rf.1f42b289e2c8d87a320a2b3b49ba65a5.jpg'), PosixPath('data/cl6e32fcc0031gk55dtxeatwl_2_FALSE_COLOR_jpg.rf.cb3413b2d95b29ce1d414af0900789c6.jpg'), PosixPath('data/cl6m1bogh003h8w553evr8lfd_4_FALSE_COLOR__URBAN_jpg.rf.5a61d0979104f21b6bb376259cd24240.jpg'), PosixPath('data/cl6ojbg9t004oao552glqe340_4_FALSE_COLOR__URBAN_jpg.rf.3ee58fb35f1174a1a8e091ccb6b20a36.jpg'), PosixPath('data/cl6ojcant004qao555opq5lio_4_FALSE_COLOR__URBAN_jpg.rf.4b4cf2d52533e13225b68a0dee627cc4.jpg'), PosixPath('data/cl6b5m4w10045l4550bi9ea2d_2_FALSE_COLOR_jpg.rf.5a23fb88520b394760f70a877d4faa0e.jpg'), PosixPath('data/cl6b6h5fo007bl455669md4vp_4_FALSE_COLOR__URBAN_jpg.rf.422f3c9e4caef71972de10acb5065019.jpg'), PosixPath('data/cl6cgr33o00bfl45526e3ajl1_6_SWIR_jpg.rf.3b37ac1a356371984aa7a4c9e26febfa.jpg'), PosixPath('data/cl6cs8jie00f5l4555hn76aj1_6_SWIR_jpg.rf.7cdd3f4c7d935ad234885da22160d3b7.jpg'), PosixPath('data/cl6ch6y2d00byl4557ijbc6o4_4_FALSE_COLOR__URBAN_jpg.rf.00f8770027448a54180d8716b6b64f26.jpg'), PosixPath('data/cl6kj4ybe000p8w554ytea5li_6_SWIR_jpg.rf.db9bdb5770985cc1c7452e50339d4ad4.jpg'), PosixPath('data/cl6op20j8006eao55cw0ucbhh_2_FALSE_COLOR_jpg.rf.a05562a9bcb1ea1a88b6072f2dfcd022.jpg'), PosixPath('data/cl6e1icq8001agk55c0pe3e5b_2_FALSE_COLOR_jpg.rf.bde105352e572fababd4882d57cd8ee3.jpg'), PosixPath('data/cl6b58mbx002sl4550bzf0gow_1_TRUE_COLOR_jpg.rf.ad7f4987c00f2b3f54269ded2871b104.jpg'), PosixPath('data/cl6b5l3lm0041l45509eycth4_4_FALSE_COLOR__URBAN_jpg.rf.f358f8b131af9302990a094b0da54e87.jpg'), PosixPath('data/cl6csvg6n00gal45513b052pr_1_TRUE_COLOR_jpg.rf.73c176610e2978c450e96527ac568c46.jpg'), PosixPath('data/cl6cs5j5d00exl455afqp4ysw_6_SWIR_jpg.rf.27c23cbdffecb44114f96e8b7514f120.jpg'), PosixPath('data/cl6oputjf007wao55fnke0ppv_2_FALSE_COLOR_jpg.rf.1895fbee9d0e59032e22514133629026.jpg'), PosixPath('data/cl6e36kv1003fgk55gnb9050o_4_FALSE_COLOR__URBAN_jpg.rf.3f32f8e4284fdf7827f922caae82e9bf.jpg'), PosixPath('data/cl6cskwng00fol4555eloc4nh_6_SWIR_jpg.rf.9e3d112de243afb1f67db776073d4d26.jpg'), PosixPath('data/cl6opthke007tao557hsthpgq_6_SWIR_jpg.rf.604fa331ba70d0a1306d2e9281204764.jpg'), PosixPath('data/cl6okcigf005zao55dc0wbjsx_2_FALSE_COLOR_jpg.rf.bfbe48732bb7dd2f5aa63f54d5fd65cc.jpg'), PosixPath('data/cl6m0w1nh002z8w558do5f7ar_4_FALSE_COLOR__URBAN_jpg.rf.de9d2286469563a38f2e99900c5a052d.jpg'), PosixPath('data/cl6oinvqs003fao55chcqcxbr_2_FALSE_COLOR_jpg.rf.f3dcb8e13a1f4123914d5987a9ba4ee2.jpg'), PosixPath('data/cl6op6nll006lao553d190xdf_1_TRUE_COLOR_jpg.rf.3692c2f973b3d841abdbd8cb8f5e64dc.jpg'), PosixPath('data/cl6csapmj00f7l4558gne2y5r_2_FALSE_COLOR_jpg.rf.7d74755e63ae57fc0bae665bbed9f786.jpg'), PosixPath('data/cl6opn2ws007hao55es3fg6b2_1_TRUE_COLOR_jpg.rf.9c0199b14bb01d75e444033c204a1893.jpg'), PosixPath('data/cl6e2edx3001ygk554c0h3ubb_2_FALSE_COLOR_jpg.rf.277a9902d759d421fcfae391c5b9c1a3.jpg'), PosixPath('data/cl6e2iu9v0027gk55e8cfax9f_1_TRUE_COLOR_jpg.rf.50314616f0da1821e8666d792d294016.jpg'), PosixPath('data/cl6chl1rg00cbl455e1p5cw7x_6_SWIR_jpg.rf.d825544520c1f57485e1ae1678fdd8c2.jpg'), PosixPath('data/cl6cgg5np00b0l455enz77l37_2_FALSE_COLOR_jpg.rf.687887aaed332f84b7c0fd77e3a1d3ef.jpg'), PosixPath('data/cl6b5lfqn0043l455544gg2zx_6_SWIR_jpg.rf.b0ed6f4323584dc306018be2c6d3435f.jpg'), PosixPath('data/cl6oczf4b000uao559egx35g7_6_SWIR_jpg.rf.83d3cb3aab9feae8598a99742f1c0dd1.jpg'), PosixPath('data/cl6cse9tv00fbl4552j5aepjj_2_FALSE_COLOR_jpg.rf.858fc862940a80171ba1698d549acec2.jpg'), PosixPath('data/cl6b5z6d1005ol45596rf4y2m_2_FALSE_COLOR_jpg.rf.aef45dea5da99c4d13f38dd920910b0b.jpg'), PosixPath('data/cl6oq2n1i008fao551fa07saw_1_TRUE_COLOR_jpg.rf.c24eb4b17e82d3b56366b170b0b1f25d.jpg'), PosixPath('data/cl6b5pr1b004kl455bt93cfs2_1_TRUE_COLOR_jpg.rf.70c4211a1b73f64b186de9f165e1c2f6.jpg'), PosixPath('data/cl6b652mi0068l4552keu9loj_6_SWIR_jpg.rf.1139087fcfdd2c71aca1e08ba169c124.jpg'), PosixPath('data/cl6opu1eb007uao5563tf72vm_2_FALSE_COLOR_jpg.rf.9a87b9a588f285f9fd649d8b4be71abf.jpg'), PosixPath('data/cl6e1y3zz001ngk559rm6ec1q_4_FALSE_COLOR__URBAN_jpg.rf.6fc48295a4d6745f1fe3bdcfb67b2973.jpg'), PosixPath('data/cl6ojcant004qao555opq5lio_6_SWIR_jpg.rf.786a706ff76fbd94a7250a97bdde08b3.jpg'), PosixPath('data/cl6kiers800088w554w61grpw_4_FALSE_COLOR__URBAN_jpg.rf.1f98202ca79ada1496853a9d130d845e.jpg'), PosixPath('data/cl6opeibd0071ao55f9t2g6nw_2_FALSE_COLOR_jpg.rf.ab3ee8ccb77b84173db4848b0e45985e.jpg'), PosixPath('data/cl6ltphn6002o8w55a78j55fa_2_FALSE_COLOR_jpg.rf.19dd931922851ac71a43e37d7e71cac5.jpg'), PosixPath('data/cl6okdwy00063ao5588jlcglr_4_FALSE_COLOR__URBAN_jpg.rf.352f082c75435cb06dd2e46d12479419.jpg'), PosixPath('data/cl6kgo2ff0031c455dv515gju_4_FALSE_COLOR__URBAN_jpg.rf.b2f2f53a17388b5f08885effd9a4e706.jpg'), PosixPath('data/cl6ltphn6002o8w55a78j55fa_4_FALSE_COLOR__URBAN_jpg.rf.15f2419aa86f5f636fe86bca7708f212.jpg'), PosixPath('data/cl6odfk31001qao557bfi78e5_2_FALSE_COLOR_jpg.rf.7810f4f897047e39b0c9af3149cb43df.jpg'), PosixPath('data/cl6od7f7j001hao55016b86jo_4_FALSE_COLOR__URBAN_jpg.rf.a05c84543565abd0f8984addd65c3e3e.jpg'), PosixPath('data/cl6ojcant004qao555opq5lio_2_FALSE_COLOR_jpg.rf.a61680af4f28a2f86dfe3619e8c6cad2.jpg'), PosixPath('data/cl6e1pf9j001ggk55feroguvj_2_FALSE_COLOR_jpg.rf.e5ddab20106f684b690b93f0baa84175.jpg'), PosixPath('data/cl6oqat3j008rao556mbqfoan_2_FALSE_COLOR_jpg.rf.0ddc196fcc073c504d510ac71ba3f92b.jpg'), PosixPath('data/cl6e30lnj002ugk558z8yabbd_1_TRUE_COLOR_jpg.rf.2e25a7ef06380c2e897608e1ff2caa38.jpg'), PosixPath('data/cl6b6p96a007ql455cvrh6peg_6_SWIR_jpg.rf.c9f11f0281ee9e5699b728418acd524d.jpg'), PosixPath('data/cl6odx8ff002jao5531b01e4o_4_FALSE_COLOR__URBAN_jpg.rf.8c7ddf00bbfce8db3112595957495165.jpg'), PosixPath('data/cl6chvqmw00crl455dq182jri_4_FALSE_COLOR__URBAN_jpg.rf.deb3d54d5111a454387e6bfd2c15228b.jpg'), PosixPath('data/cl6ojevvt004uao55432mcnea_1_TRUE_COLOR_jpg.rf.032b02132beec27d5037247b45908220.jpg'), PosixPath('data/cl6okbxd2005yao551huyeqkl_4_FALSE_COLOR__URBAN_jpg.rf.50a8d3eb02e27c5dce9673c8762102f6.jpg'), PosixPath('data/cl6kf256r0006c455hwcv6khh_6_SWIR_jpg.rf.6d50139fb07e7775fe4682d0fd297daf.jpg'), PosixPath('data/cl6ocozkd0004ao55e5fq7tfw_4_FALSE_COLOR__URBAN_jpg.rf.555ed6d49211ce13162167f59dab1746.jpg'), PosixPath('data/cl6b6sfee007xl455b8bt5zum_1_TRUE_COLOR_jpg.rf.a921f3be3f70ab5d36b15ac7b3721085.jpg'), PosixPath('data/cl6ct6g9a00gzl4555brigazi_4_FALSE_COLOR__URBAN_jpg.rf.5c007df412a0da258d50d03ae471057e.jpg'), PosixPath('data/cl6od5fxe001dao55dwsx001s_6_SWIR_jpg.rf.c97b5dc8b3d322980c4e76e626e548c2.jpg'), PosixPath('data/cl6cru4e800dyl455gekch8cy_1_TRUE_COLOR_jpg.rf.e99288a6d88e5afdbbcb05357aec507c.jpg'), PosixPath('data/cl6azgmfw0004f0557iqa1usw_6_SWIR_jpg.rf.0f5204c03b972113e76c964eada21109.jpg'), PosixPath('data/cl6ocpxm10006ao554w1tf9fa_2_FALSE_COLOR_jpg.rf.4a0eb26253daa0657560787be4b35949.jpg'), PosixPath('data/cl6e0dypj000qgk55gndm8q3o_6_SWIR_jpg.rf.68ab662c1d9a2de15cc87c7e50dd33ea.jpg'), PosixPath('data/cl6oiqz18003lao55eb3ebson_2_FALSE_COLOR_jpg.rf.13242aaf067985cb04e4bc1268f53381.jpg'), PosixPath('data/cl6chu8h100cnl4552hz21fjt_1_TRUE_COLOR_jpg.rf.84f9dde4ff62bdcb2bd99b714e6dd363.jpg'), PosixPath('data/cl6oe0eoe002qao552t6i1m6g_4_FALSE_COLOR__URBAN_jpg.rf.c26b96a42fbf6ed14d96683ad1701b73.jpg'), PosixPath('data/cl6opv5oo007xao553de9g7wd_1_TRUE_COLOR_jpg.rf.2ca9986e18ecf042953ce24774c8c5d1.jpg'), PosixPath('data/cl6oui3xy00aoao55d29e9vlz_4_FALSE_COLOR__URBAN_jpg.rf.75cb4ab2e4d84a20ae05d606f0cd9f7e.jpg'), PosixPath('data/cl6e07sbz000dgk556f1cemmc_6_SWIR_jpg.rf.b19bab12800875f90f051f5574fcb69c.jpg'), PosixPath('data/cl6b05bia0009l4551ymod0pi_2_FALSE_COLOR_jpg.rf.92c20d730f7ec80ca1b4a3956f62f251.jpg'), PosixPath('data/cl6ct9osf00h7l45538051wz5_1_TRUE_COLOR_jpg.rf.5cef36c17145f146256e2143c144efff.jpg'), PosixPath('data/cl6op0cny006bao55hefn0jyf_2_FALSE_COLOR_jpg.rf.de2937d7380d94b2a24472a7744afe9b.jpg'), PosixPath('data/cl6cti5zm00hrl4555pdk0ef9_2_FALSE_COLOR_jpg.rf.8a4207fdf127660cdc175b12a7fccef2.jpg'), PosixPath('data/cl6opzsq7008aao556djk9g0u_2_FALSE_COLOR_jpg.rf.b7e31808bd7352891dd041230b8ad0b9.jpg'), PosixPath('data/cl6oq4w4y008jao553s62btk7_6_SWIR_jpg.rf.56eb2cf4a5f3af9b2c2b5b08c0a21105.jpg'), PosixPath('data/cl6cstc5x00g7l455ec9d32eh_2_FALSE_COLOR_jpg.rf.5470b6259acf151a88a7f5c374fb865b.jpg'), PosixPath('data/cl6chj77t00c7l455c5c08ec6_1_TRUE_COLOR_jpg.rf.54765f5cf2a2e7c9fb3c27aed7fcfd85.jpg'), PosixPath('data/cl6ouiflj00apao55ef14ha2q_6_SWIR_jpg.rf.847b99640495bcb4aa215b63c1c3cde6.jpg'), PosixPath('data/cl6chu8h100cnl4552hz21fjt_6_SWIR_jpg.rf.238718d67a192951afa2f6c0a883ed2d.jpg'), PosixPath('data/cl6cgtahv00bkl455hcmk9cn1_1_TRUE_COLOR_jpg.rf.f149413852d4d47762f2eb31aec4d9b5.jpg'), PosixPath('data/cl6b65ksg0069l455f4od44cb_1_TRUE_COLOR_jpg.rf.3e54d168c45f2d0c7a3f5a70b8e92e20.jpg'), PosixPath('data/cl6b67dvg006dl455cgxl9kq8_6_SWIR_jpg.rf.128b5aecb2220f2fa5c185b9e54bd0fb.jpg'), PosixPath('data/cl6kjm7cv001r8w55czzsenxh_2_FALSE_COLOR_jpg.rf.96f98bd41b3564674cee2f2aaa162515.jpg'), PosixPath('data/cl6e1icq8001agk55c0pe3e5b_4_FALSE_COLOR__URBAN_jpg.rf.a7200e9f167ade98b5f50ee1bbebe711.jpg'), PosixPath('data/cl6m1ebtk003r8w557razf73c_1_TRUE_COLOR_jpg.rf.1d28f6f2c9fe353d562a971198c2b123.jpg'), PosixPath('data/cl6odge0x001sao551k414izu_4_FALSE_COLOR__URBAN_jpg.rf.68da4cd1ea095ce761dc5ab6fe097edf.jpg'), PosixPath('data/cl6dzs6a4000vhg55f52u2xze_2_FALSE_COLOR_jpg.rf.3d85b3175023ede04678d8a708055a7b.jpg'), PosixPath('data/cl6ocohki0003ao55bnyg99kc_6_SWIR_jpg.rf.0f996164f7e10b4482fd531c9c211f94.jpg'), PosixPath('data/cl6kgcddp002gc455ekvaehyc_2_FALSE_COLOR_jpg.rf.cc2eb5a05bb1c0c8555576917ac877fe.jpg'), PosixPath('data/cl6cteplg00hkl4551scr5fko_1_TRUE_COLOR_jpg.rf.8236949c672c9a0614f29946c7a3215c.jpg'), PosixPath('data/cl6cgw2be00bnl455cetv4inw_6_SWIR_jpg.rf.9ff585b96d534d0824a3896096a0c74b.jpg'), PosixPath('data/cl6b5wl3u005gl455fljch2g9_6_SWIR_jpg.rf.3e1c521895ae0351b839d38c16c2e44d.jpg'), PosixPath('data/cl6ltopha002n8w5531cg4sky_6_SWIR_jpg.rf.11acd1712844c811f1b078454f199f84.jpg'), PosixPath('data/cl6odfk31001qao557bfi78e5_6_SWIR_jpg.rf.b860636f6f2b2e71d18a88fadeb8653c.jpg'), PosixPath('data/cl6e20np5001sgk555chada9l_1_TRUE_COLOR_jpg.rf.c8e0c5725013c16308e93f9622c8c7d3.jpg'), PosixPath('data/cl6m15k1g00378w559sqfahyu_6_SWIR_jpg.rf.547e7435c94eb5cde08d1246196a8fc4.jpg'), PosixPath('data/cl6oul0ve00axao5549vy6mom_4_FALSE_COLOR__URBAN_jpg.rf.456734966fb731d2ec99eb9959327034.jpg'), PosixPath('data/cl6csnj9g00ftl4554f0z30lc_4_FALSE_COLOR__URBAN_jpg.rf.49569ed8c28ec3869a9e55dfd7f90397.jpg'), PosixPath('data/cl6b03yzy0005l455dq6x4eyc_6_SWIR_jpg.rf.74830a185e1fe1400cba89794ee1ef0d.jpg'), PosixPath('data/cl6cg8u0w00ajl455a3ho7vov_4_FALSE_COLOR__URBAN_jpg.rf.727d492c1d7851360cea6ef50154ae46.jpg'), PosixPath('data/cl6ch6a2n00bxl4554kqu9to4_2_FALSE_COLOR_jpg.rf.7e23a796e2457d80892cfb34288d6040.jpg'), PosixPath('data/cl6b752w00095l45532llequj_1_TRUE_COLOR_jpg.rf.327a752c2e51b28cc6c0156d0484ccde.jpg'), PosixPath('data/cl6ct23ww00gql45503oubjmo_4_FALSE_COLOR__URBAN_jpg.rf.819ff7531475c12fcbfad09b043c8378.jpg'), PosixPath('data/cl6b6l171007kl4552zfu0hh5_1_TRUE_COLOR_jpg.rf.742cc3d06e92c2bf297ec516c01f0937.jpg'), PosixPath('data/cl6odgxwb001tao559phvfhb7_2_FALSE_COLOR_jpg.rf.a3541b77ef69ffcbbb68c2679bf140b5.jpg'), PosixPath('data/cl6kgidey002uc455a3qe2ark_2_FALSE_COLOR_jpg.rf.7cc096454a709be2752b04fa230befae.jpg'), PosixPath('data/cl6b5n12o0049l455063q86e4_6_SWIR_jpg.rf.55371dc2e297883b469ea40717f67b43.jpg'), PosixPath('data/cl6m10ni200338w553m5pf9l5_1_TRUE_COLOR_jpg.rf.aba7991f3bcf60f90b24b03a9c2e429d.jpg'), PosixPath('data/cl6oiv12w003uao55arup9ca6_6_SWIR_jpg.rf.5eb7a8cdcd70e5753e2a286ed3e1b925.jpg'), PosixPath('data/cl6kj8pto00128w55cj0y58qg_4_FALSE_COLOR__URBAN_jpg.rf.45e99c5d9ca71f7c5fcbef21aee2720b.jpg'), PosixPath('data/cl6b6rmls007ul455clqha4p0_1_TRUE_COLOR_jpg.rf.c706e724b982cc61451904c2da58f1a9.jpg'), PosixPath('data/cl6b79f3e009vl455hmyk8e9e_1_TRUE_COLOR_jpg.rf.3011a8be79452c723e8e816eae6c3377.jpg'), PosixPath('data/cl6cs6mgj00f0l455egwshib7_1_TRUE_COLOR_jpg.rf.d1ab74c84059de9049a6e2af79eddc96.jpg'), PosixPath('data/cl6lsygs2001w8w551eungans_1_TRUE_COLOR_jpg.rf.54a6883266fd70f4a483a1d6ed11e2b9.jpg'), PosixPath('data/cl6e0j0t90010gk557b525asz_6_SWIR_jpg.rf.7fa83e66906146392ab7de8d22289b2e.jpg'), PosixPath('data/cl6b5phba004il45531lb6655_1_TRUE_COLOR_jpg.rf.86182cb796ffdd1d52c0540e0e05b4cc.jpg'), PosixPath('data/cl6cswt5400gdl4554rn2gjz9_1_TRUE_COLOR_jpg.rf.e410a3d52182432dc9d14d9b24b69cb0.jpg'), PosixPath('data/cl6crtivm00dwl45544k043su_6_SWIR_jpg.rf.dccd495d75c8765ac88d2cf78f453260.jpg'), PosixPath('data/cl6lsyw82001x8w55h42v4y3p_4_FALSE_COLOR__URBAN_jpg.rf.0914e7ca9cc3121cdfcc5826401d6673.jpg'), PosixPath('data/cl6cs0euj00egl455918xdqll_1_TRUE_COLOR_jpg.rf.fec2fff5707fc21c8aa9d29c3e14f5db.jpg'), PosixPath('data/cl6ocun81000iao55010uhpce_4_FALSE_COLOR__URBAN_jpg.rf.5210f764454f840bc10bf80e5016cea9.jpg'), PosixPath('data/cl6opowct007kao55518p0qp4_4_FALSE_COLOR__URBAN_jpg.rf.5e0fb337cbca043bafc5bce7c24fa796.jpg'), PosixPath('data/cl6m0w1nh002z8w558do5f7ar_6_SWIR_jpg.rf.cfa8e993433f6beae82c5dda88678f80.jpg'), PosixPath('data/cl6kfci270010c45580qyfo1k_6_SWIR_jpg.rf.5b61fbc3ac01de53cf5eebc76403c5af.jpg'), PosixPath('data/cl6csr5tv00g0l45530ayb807_6_SWIR_jpg.rf.7ccfe8079e77c3018c4ac98c973f770e.jpg'), PosixPath('data/cl6ct2hu900grl455hdde142n_4_FALSE_COLOR__URBAN_jpg.rf.f5086b4ced8fcaa27ce46922d0004363.jpg'), PosixPath('data/cl6e31up4002zgk55aj7w7a0x_1_TRUE_COLOR_jpg.rf.78641c45856cf58ead1496b18d270d3a.jpg'), PosixPath('data/cl6azt6by0000go55h4io4tab_2_FALSE_COLOR_jpg.rf.7bd6bf61c42f8477a59d290789795964.jpg'), PosixPath('data/cl6b5dtwl003gl455a4x29a1d_1_TRUE_COLOR_jpg.rf.1c86bc5f19ec6e59b465b2bbac9161b1.jpg'), PosixPath('data/cl6dyvvvc000lhg5533xc480w_4_FALSE_COLOR__URBAN_jpg.rf.7b4e887efe30535ef057f0a9ca071bfd.jpg'), PosixPath('data/cl6b5sn8f004xl455a0z7eski_1_TRUE_COLOR_jpg.rf.353a0bbf38298986fe6b54d786db5530.jpg'), PosixPath('data/cl6ctje2500hsl4550fuvht4f_6_SWIR_jpg.rf.e8d42e04ac021aa15617aa3ab4c4f626.jpg'), PosixPath('data/cl6cswevu00gbl45556scbr9n_4_FALSE_COLOR__URBAN_jpg.rf.93c5131e8f99facea67303b038ab2f17.jpg'), PosixPath('data/cl6ltqjke002q8w55ct7j5tel_6_SWIR_jpg.rf.f8910e03196999a430ba14366da7475c.jpg'), PosixPath('data/cl6e30dz3002tgk559uhm11za_4_FALSE_COLOR__URBAN_jpg.rf.0fec58b1d08785f75835c88c38eb6fd2.jpg'), PosixPath('data/cl6orlxem009lao5513o7hr6s_1_TRUE_COLOR_jpg.rf.e31d2ea1528b15c13434afbf3f41b125.jpg'), PosixPath('data/cl6odyfwh002lao55bnflcuaj_4_FALSE_COLOR__URBAN_jpg.rf.fa7524a106525288cadb53c1646a3301.jpg'), PosixPath('data/cl6ou6f7u00a5ao55h96m1hvj_2_FALSE_COLOR_jpg.rf.604d5ba40c6721f36646151d9b8216d0.jpg'), PosixPath('data/cl6ocu86l000hao5586i77xky_1_TRUE_COLOR_jpg.rf.850526f8bca7668a3023af7155d03747.jpg'), PosixPath('data/cl6cgk7k600b5l455ceot4yy5_2_FALSE_COLOR_jpg.rf.ca2cce9e38f2a3902ebc19da1dfa4021.jpg'), PosixPath('data/cl6b5s1n0004ul455es9i793w_1_TRUE_COLOR_jpg.rf.b4047203715e6e814acf94b0932d8906.jpg'), PosixPath('data/cl6oddf8p001pao558ykw6wkp_6_SWIR_jpg.rf.6c89676ddc0de9ebb1b57dd4f7eddbec.jpg'), PosixPath('data/cl6m12kpt00358w55c0oah42i_4_FALSE_COLOR__URBAN_jpg.rf.cfe3d51f6e5cf8bf05a95d0300e15d31.jpg'), PosixPath('data/cl6odbryt001nao55htogdny9_6_SWIR_jpg.rf.b942f1a9027fe10d1f702fa0daae70f7.jpg'), PosixPath('data/cl6cg6cf600agl455gtin273p_6_SWIR_jpg.rf.72f07b56c577386346fbe7021acc443c.jpg'), PosixPath('data/cl6b5dekg003el4552wy46fsz_4_FALSE_COLOR__URBAN_jpg.rf.025e0455dad67b91979fecdc00bf453c.jpg'), PosixPath('data/cl6b7ep9100a4l455h3w9fstk_4_FALSE_COLOR__URBAN_jpg.rf.42f76795d8cc4c0a786da759dd334cb6.jpg'), PosixPath('data/cl6oix6p8003xao558gep7jfa_6_SWIR_jpg.rf.9736bdd1879c0e0861072b086ca94dde.jpg'), PosixPath('data/cl6od3kun001bao55bcq677k3_2_FALSE_COLOR_jpg.rf.3fad73bdcffb62a261e27d5f101cc7e1.jpg'), PosixPath('data/cl6b6xs0d008el455cvd92nt5_6_SWIR_jpg.rf.035c96be1fff7d392e5e43e386c271f1.jpg'), PosixPath('data/cl6kez8j70002c455axv68ulf_1_TRUE_COLOR_jpg.rf.5ab626fcd9f1f8d03141fbce7c4d2fda.jpg'), PosixPath('data/cl6b5f0o3003ll4553yz85s0u_2_FALSE_COLOR_jpg.rf.445d01ea4ecb4daf88fc55dbab1364a1.jpg'), PosixPath('data/cl6azvz950000t0552g8v22is_1_TRUE_COLOR_jpg.rf.9324abe7caa6850140e03d5454f3abb4.jpg'), PosixPath('data/cl6kjhhl5001h8w55fo1v1vqs_1_TRUE_COLOR_jpg.rf.188c382d5e6f2f64671fb1473f391d17.jpg'), PosixPath('data/cl6op9m80006sao552sp0bgyl_2_FALSE_COLOR_jpg.rf.bee0f2e3b76eaaae3f5309ba40f22e89.jpg'), PosixPath('data/cl6oj8w06004hao558ky44xei_6_SWIR_jpg.rf.a5899ccda47be15f003449d3d880a9da.jpg'), PosixPath('data/cl6kgj08y002wc455bqfpd8bd_4_FALSE_COLOR__URBAN_jpg.rf.ba5e373a643f637c02f0a7f548617b90.jpg'), PosixPath('data/cl6ok74u9005oao557sb5dqub_4_FALSE_COLOR__URBAN_jpg.rf.3b9414b029ab4b9cfa4f5aa927740e03.jpg'), PosixPath('data/cl6lt37ph00248w55dnhvff9s_2_FALSE_COLOR_jpg.rf.c96af4afa10719f140a7be3e62c6eaf6.jpg'), PosixPath('data/cl6e20f48001rgk5574xt82w3_2_FALSE_COLOR_jpg.rf.24395424307134ba19fc86b6ee59b2e7.jpg'), PosixPath('data/cl6b6xnlo008dl455ft678vcm_1_TRUE_COLOR_jpg.rf.7de7f22e4d7f43603fc77d24156c207c.jpg'), PosixPath('data/cl6chumom00col4556jyfb7a5_4_FALSE_COLOR__URBAN_jpg.rf.445eef4a54a2beab2c3398d8f64fbcfb.jpg'), PosixPath('data/cl6kgm9qr002yc455g5qs87kz_4_FALSE_COLOR__URBAN_jpg.rf.0554aa78bc92fb2e6fbd671e4952c21f.jpg'), PosixPath('data/cl6e06umy000bgk55gkbw1ajq_2_FALSE_COLOR_jpg.rf.96eb006861178f50b3a2a2453346d017.jpg'), PosixPath('data/cl6oqz7u8009eao55hd74fzt1_4_FALSE_COLOR__URBAN_jpg.rf.22df982e0e2a34ad1b2c566f6f1e80a5.jpg'), PosixPath('data/cl6oq9ozh008nao5591t079g1_1_TRUE_COLOR_jpg.rf.1309c56d7ff1cdf3a3cdde1ed4ed5cf0.jpg'), PosixPath('data/cl6b08qce000hl455fod5abjo_1_TRUE_COLOR_jpg.rf.3ac00fb7f706d7cf6cb843ea384fbd26.jpg'), PosixPath('data/cl6b5qhgi004ml4554fwj59ku_2_FALSE_COLOR_jpg.rf.f2becfdadd89f46560f6e995b220149f.jpg'), PosixPath('data/cl6odwuqk002iao555zzv0c59_2_FALSE_COLOR_jpg.rf.378e24cf0ecebacbb21c214b7f42190a.jpg'), PosixPath('data/cl6chv5i400cpl455b8o71jcm_6_SWIR_jpg.rf.dac7d24e59b96ef59d3d17fca9caa99e.jpg'), PosixPath('data/cl6kfzb24001zc4555e770ib2_1_TRUE_COLOR_jpg.rf.3f2075aeb29d375dfccd06842e01369a.jpg'), PosixPath('data/cl6kfrfmx001hc455cbojhgeb_1_TRUE_COLOR_jpg.rf.06641a0ddbcb7d3b264dfcba6ca41372.jpg'), PosixPath('data/cl6lt70fh00298w5541ighy5t_4_FALSE_COLOR__URBAN_jpg.rf.7ccc6d833327bb0baa7aa11bd6b9d7a1.jpg'), PosixPath('data/cl6kgaw2p002bc455hair6q7o_1_TRUE_COLOR_jpg.rf.c1a9a244f7f91d010279e2e7c971c54e.jpg'), PosixPath('data/cl6e2xkh0002mgk55aif2aqvo_2_FALSE_COLOR_jpg.rf.0b7ee80fe8e0318db34d8f46d4d9e818.jpg'), PosixPath('data/cl6ki7l6900048w55hs8c6nwt_4_FALSE_COLOR__URBAN_jpg.rf.56f10fce2a6ae3e42e2828903872ccf2.jpg'), PosixPath('data/cl6odk9yf001wao558oys61c5_4_FALSE_COLOR__URBAN_jpg.rf.04d7346dab2b1b12261db04fbe84ec6e.jpg'), PosixPath('data/cl6b7118q008ol4551ye8g44d_4_FALSE_COLOR__URBAN_jpg.rf.cfa2c6cd2a96d37094600721a31f7d63.jpg'), PosixPath('data/cl6kgfdjy002nc4551yk01nj6_1_TRUE_COLOR_jpg.rf.aece6769ff85659506ec8fb96b385955.jpg'), PosixPath('data/cl6ct487q00gul455bxvzaopi_2_FALSE_COLOR_jpg.rf.cf80bee753c23a01637a2082944d1bf1.jpg'), PosixPath('data/cl6oqq4r40096ao557h69gx2o_2_FALSE_COLOR_jpg.rf.fcdbaf87b09e10e425d48710af7d5c39.jpg'), PosixPath('data/cl6oqcc63008vao551jrk90jb_1_TRUE_COLOR_jpg.rf.c494c328e46443df2ef5374b08815af3.jpg'), PosixPath('data/cl6b5nqx3004dl4556qu6azh4_4_FALSE_COLOR__URBAN_jpg.rf.7a585ae57fe272905ce1baa8c7c69898.jpg'), PosixPath('data/cl6kf9nvv000tc455gs7pbv7h_1_TRUE_COLOR_jpg.rf.b4649084b8bac4a6b4df2988ce5ce1c7.jpg'), PosixPath('data/cl6b0cqup000ql4558m8y8a8t_4_FALSE_COLOR__URBAN_jpg.rf.1c5781c5e69bc219c997c5925946f18d.jpg'), PosixPath('data/cl6b7263q008rl455cbp6ejbc_2_FALSE_COLOR_jpg.rf.1568b2fbf7b7b0778bd5ef6a743c18f8.jpg'), PosixPath('data/cl6kgeqar002lc455akv50au4_2_FALSE_COLOR_jpg.rf.cc30b23aec838a549eeb61aeb281a5f9.jpg'), PosixPath('data/cl6oe04jy002pao551fir09my_6_SWIR_jpg.rf.96178538d47e273395c1d22ff9d52c1f.jpg'), PosixPath('data/cl6e2n2tv002hgk553va60g50_1_TRUE_COLOR_jpg.rf.75734485005ac950cbb10aae5402cb76.jpg'), PosixPath('data/cl6cs3rd100esl455en8mcp5g_1_TRUE_COLOR_jpg.rf.3b866376fde360e27def0dd04d60d978.jpg'), PosixPath('data/cl6e35mru003cgk559os14r7y_6_SWIR_jpg.rf.336962415de265ba0bd7c7a9fa5a7948.jpg'), PosixPath('data/cl6odfk31001qao557bfi78e5_4_FALSE_COLOR__URBAN_jpg.rf.ee2a96a284dcadbe409e5bad1816a25a.jpg'), PosixPath('data/cl6cs7poo00f2l4557i4i86z6_2_FALSE_COLOR_jpg.rf.ef0dfd73530748d094bdd6043bc03479.jpg'), PosixPath('data/cl6b6gdyh0079l4555ka0g84o_1_TRUE_COLOR_jpg.rf.1b70be6a6e92d72b441c4e5bff1f6b4d.jpg'), PosixPath('data/cl6cgs3qs00bil4551v5n3v2h_6_SWIR_jpg.rf.31d70fcbaab32757a389c37c32a264f9.jpg'), PosixPath('data/cl6oe1f0u002sao550ab86ndb_1_TRUE_COLOR_jpg.rf.1804fe724ab7abed6f3adaff1a5995ae.jpg'), PosixPath('data/cl6cs8jie00f5l4555hn76aj1_2_FALSE_COLOR_jpg.rf.d83bff9a3317d11e6db58f9a45a26816.jpg'), PosixPath('data/cl6ocs2h6000cao559bx42yho_6_SWIR_jpg.rf.33c06060130da4dc8e43414cda713795.jpg'), PosixPath('data/cl6b58d1y002rl4558379g2db_6_SWIR_jpg.rf.d2c130e5f22d952b133056e4c484fdd9.jpg'), PosixPath('data/cl6odgxwb001tao559phvfhb7_4_FALSE_COLOR__URBAN_jpg.rf.256adbc8831a5c00de27de62aaed7ff8.jpg'), PosixPath('data/cl6cgm3hm00bal455ei1ken8s_1_TRUE_COLOR_jpg.rf.1a3ff69dd97b6f1dc1743cd4c0db584d.jpg'), PosixPath('data/cl6orry9200a0ao559gb82ms0_2_FALSE_COLOR_jpg.rf.121ab501943ce8bb65a5ac587ed62ff0.jpg'), PosixPath('data/cl6e34bti0037gk55gzdv0akr_1_TRUE_COLOR_jpg.rf.d5bef0822d1f990994eab5089cde272c.jpg'), PosixPath('data/cl6ojvzs90058ao55ddizcpuh_2_FALSE_COLOR_jpg.rf.e85b48782ef781d6a141843203abbaed.jpg'), PosixPath('data/cl6b029x70000l4556t6r3w8m_4_FALSE_COLOR__URBAN_jpg.rf.5d53d7a53c7694fe5f90bc8ad1aec23c.jpg'), PosixPath('data/cl6kjfsd8001d8w55e6ne0oyo_1_TRUE_COLOR_jpg.rf.841ddd167686a09b6dcee75bf59ce195.jpg'), PosixPath('data/cl6oduu28002dao550pgs32ff_2_FALSE_COLOR_jpg.rf.4f51398bc79c4202cd4b4d437dc1dd8a.jpg'), PosixPath('data/cl6b5u0en0054l4551vpacdoj_1_TRUE_COLOR_jpg.rf.fe51b30e3bbe4494c93fa97591e6cd0a.jpg'), PosixPath('data/cl6b57brh002ll4555o3te631_6_SWIR_jpg.rf.c7fd68b8839fa2e7afcb6b41fa31d332.jpg'), PosixPath('data/cl6b5k38g003zl455bgtd1317_4_FALSE_COLOR__URBAN_jpg.rf.fcaa4827b85c1b38fdedffcd6a3b098f.jpg'), PosixPath('data/cl6b6y36r008gl4559z723z25_1_TRUE_COLOR_jpg.rf.5d6b1bf18a4e8ff534dc3c4ca3bb073a.jpg'), PosixPath('data/cl6e2iu9v0027gk55e8cfax9f_2_FALSE_COLOR_jpg.rf.771e429f20da6dabceb7f68a5aa3152b.jpg'), PosixPath('data/cl6kf256r0006c455hwcv6khh_2_FALSE_COLOR_jpg.rf.1497e932e1406e3360ac61f268d7a02a.jpg'), PosixPath('data/cl6dysxe3000ihg5573nzfbsy_6_SWIR_jpg.rf.79e2da02bc62f4f66f2346c01ab4aed8.jpg'), PosixPath('data/cl6kj4n7o000o8w55eq83czxi_1_TRUE_COLOR_jpg.rf.ed5093deefd129171df94fb32cf9488d.jpg'), PosixPath('data/cl6e3j5rh0046gk5519l319wr_2_FALSE_COLOR_jpg.rf.aec61d0bb5423cbf29d0a057a728d946.jpg'), PosixPath('data/cl6od7f7j001hao55016b86jo_2_FALSE_COLOR_jpg.rf.8a798a7467bd6bd68d18724381092089.jpg'), PosixPath('data/cl6b6y193008fl455chyoaarb_4_FALSE_COLOR__URBAN_jpg.rf.18928a3e681add214cf26beb7dc5790c.jpg'), PosixPath('data/cl6b6op7a007ol455fvvv6g4a_6_SWIR_jpg.rf.4926076997caf8669df1f851efeae7e6.jpg'), PosixPath('data/cl6kgdfbl002ic45506ui0jbm_2_FALSE_COLOR_jpg.rf.2a2977277d6ac5d86155b8562dcd9aa5.jpg'), PosixPath('data/cl6b0gln2000wl4559wpzdukf_1_TRUE_COLOR_jpg.rf.7f67b50ed7d78ce81f6aac2ca352d755.jpg'), PosixPath('data/cl6odyfwh002lao55bnflcuaj_1_TRUE_COLOR_jpg.rf.98f786922f2c57d43d5d72e992fe955c.jpg'), PosixPath('data/cl6ki3fbe00018w55146m86ja_4_FALSE_COLOR__URBAN_jpg.rf.a905168377908ca76ba5a1560a355536.jpg'), PosixPath('data/cl6kjek5g001a8w5561zp7ddp_1_TRUE_COLOR_jpg.rf.dfa6bbe4b6f1116be7d0a32ac6a9f067.jpg'), PosixPath('data/cl6e2cbgk001tgk5560zhhqm7_4_FALSE_COLOR__URBAN_jpg.rf.25b62006fb08f8d995f34a3c229a08a6.jpg'), PosixPath('data/cl6oimia5003dao558osp4mxe_1_TRUE_COLOR_jpg.rf.f20e51ab0ee966bbec0be1bceb83e2f4.jpg'), PosixPath('data/cl6oplars007eao55fno41dzm_2_FALSE_COLOR_jpg.rf.f92d62150fff9fe3b15615c3a667466b.jpg'), PosixPath('data/cl6b542k6002bl455fmydcwlb_2_FALSE_COLOR_jpg.rf.21a4cff766bca0e29ad540511acea32d.jpg'), PosixPath('data/cl6oijbft0037ao558i012jhh_2_FALSE_COLOR_jpg.rf.1a767327bd584e7865838b362acdbf85.jpg'), PosixPath('data/cl6oq9ozh008nao5591t079g1_4_FALSE_COLOR__URBAN_jpg.rf.6c26670ade9335a2ad7af64dbf3806ed.jpg'), PosixPath('data/cl6ch5dh200bvl4559ujea96q_1_TRUE_COLOR_jpg.rf.84e18e58f1f34701ca68456bdaf3630b.jpg'), PosixPath('data/cl6cpff5c00dll455ew1ddl1f_1_TRUE_COLOR_jpg.rf.cbcb617570e3672bd266ec946e1ea139.jpg'), PosixPath('data/cl6e2uo3r002kgk556io96bkr_6_SWIR_jpg.rf.e3b5866638f1f9fd28ddfdf0b7191a27.jpg'), PosixPath('data/cl6e1zx08001pgk554gv1bhpt_1_TRUE_COLOR_jpg.rf.f16c3ec722ec9dc85bfd576853d2975b.jpg'), PosixPath('data/cl6b5zpnm005rl4554xa7cvp7_2_FALSE_COLOR_jpg.rf.0826a21d562f6355cb7685d1b908b35c.jpg'), PosixPath('data/cl6ltrgqp002s8w55bwy9c5b4_4_FALSE_COLOR__URBAN_jpg.rf.76fca94ad3eb13cfdb34ef2efdb184ae.jpg'), PosixPath('data/cl6kgpdp90034c4556foheik0_6_SWIR_jpg.rf.c22f311b1888c6f7c59a73444e2e52c1.jpg'), PosixPath('data/cl6b4zqf6001xl455gp6h5ca8_1_TRUE_COLOR_jpg.rf.b98add8863e6743972e03c69a46b54fd.jpg'), PosixPath('data/cl6m0pnw5002y8w552btfchke_1_TRUE_COLOR_jpg.rf.de631dd84dbeac65b6d07b19dbea5cc1.jpg'), PosixPath('data/cl6m17r53003b8w55c0zsgjie_4_FALSE_COLOR__URBAN_jpg.rf.0e0e305fb9dd82c08f456f3a69fa1f51.jpg'), PosixPath('data/cl6odzdk0002nao55dz13d0s9_2_FALSE_COLOR_jpg.rf.3930a15cf860331433faff701569ec52.jpg'), PosixPath('data/cl6kjizzk001l8w550s1uej5w_2_FALSE_COLOR_jpg.rf.ef3cf69daa6ee8e6e02e683e0aae8809.jpg'), PosixPath('data/cl6cgl1e600b7l455b4k067pe_1_TRUE_COLOR_jpg.rf.368b310764443e76767793eb11b0cc82.jpg'), PosixPath('data/cl6ct1fab00gnl455b6a585vi_6_SWIR_jpg.rf.14491e2fe3633bf885fcb9c9e4bf3c4d.jpg'), PosixPath('data/cl6cgh0lk00b3l455a01o4mrg_2_FALSE_COLOR_jpg.rf.8b38adc9c8df2b75e1b3632cd6bc6912.jpg'), PosixPath('data/cl6ctgypm00hol455a8epfwn4_6_SWIR_jpg.rf.a7e2f6744b582e10fae84620bcaef311.jpg'), PosixPath('data/cl6ctquqv00i6l4554a2rdn94_2_FALSE_COLOR_jpg.rf.59bff3a387823906adf6f92b1d653058.jpg'), PosixPath('data/cl6b6o1av007nl455829ah78j_6_SWIR_jpg.rf.a3be7e5b92fba0b57b6ad10afa4a7b03.jpg'), PosixPath('data/cl6b5dfkd003fl455d1yufkce_2_FALSE_COLOR_jpg.rf.d4fff2ca1272f4fb2f0c9cb2ef9a4e41.jpg'), PosixPath('data/cl6odm3oj0023ao55641s046f_2_FALSE_COLOR_jpg.rf.42e989097fe2f68f01f38c1175b8c8cc.jpg'), PosixPath('data/cl6ojbg9t004oao552glqe340_2_FALSE_COLOR_jpg.rf.5430eb0caaae90ba41e84b623c3726db.jpg'), PosixPath('data/cl6b5ojmc004gl4551hf906us_1_TRUE_COLOR_jpg.rf.4b67d4ab26364dde4077a63bace21dee.jpg'), PosixPath('.venv/lib/python3.12/site-packages/skimage/data/rocket.jpg'), PosixPath('.venv/lib/python3.12/site-packages/skimage/data/retina.jpg'), PosixPath('.venv/lib/python3.12/site-packages/skimage/data/hubble_deep_field.jpg'), PosixPath('.venv/lib/python3.12/site-packages/matplotlib/mpl-data/sample_data/grace_hopper.jpg'), PosixPath('.venv/lib/python3.12/site-packages/sklearn/datasets/images/flower.jpg'), PosixPath('.venv/lib/python3.12/site-packages/sklearn/datasets/images/china.jpg'), PosixPath('.venv/lib/python3.12/site-packages/ultralytics/assets/zidane.jpg'), PosixPath('.venv/lib/python3.12/site-packages/ultralytics/assets/bus.jpg')]\n"
     ]
    }
   ],
   "source": [
    "def list_img():\n",
    "    \n",
    "    list_img = list(p.glob('**/*.jpg'))\n",
    "    print(list_img)\n",
    "\n",
    "list_img()"
   ]
  },
  {
   "cell_type": "code",
   "execution_count": null,
   "id": "c4c70a14",
   "metadata": {},
   "outputs": [
    {
     "name": "stdout",
     "output_type": "stream",
     "text": [
      "\u001b[KAnnotations /home/achar/test_bash/wildfire-detection/data_filtered/_annotations_filtered.coco.json: 100% ━━━━━━━━━━━━ 493/493 6.3Kit/s 0.1s\n",
      "COCO data converted successfully.\n",
      "Results saved to /home/achar/test_bash/wildfire-detection/dataset\n",
      "493 [PosixPath('data_filtered/cl6kf110z0004c455dymnacxa_1_TRUE_COLOR_jpg.rf.84a69e729c116c44303cdbf3fc321a71.jpg'), PosixPath('data_filtered/cl6opbnv8006xao55hbpe2j2u_1_TRUE_COLOR_jpg.rf.a322c310c87b9b2b0dd656c0db4e6c91.jpg'), PosixPath('data_filtered/cl6ojbg9t004oao552glqe340_1_TRUE_COLOR_jpg.rf.537df0a4cd6f7c528f9293ccb4d08783.jpg'), PosixPath('data_filtered/cl6e0kgem0014gk55cl4692g7_1_TRUE_COLOR_jpg.rf.d47055293ccf936f71eb03a282b643b4.jpg'), PosixPath('data_filtered/cl6ooxizh0068ao55h1l3hrim_1_TRUE_COLOR_jpg.rf.73178115b18484ae56027970999c67a5.jpg'), PosixPath('data_filtered/cl6cgs3qs00bil4551v5n3v2h_2_FALSE_COLOR_jpg.rf.dfd038db2b2cc23577079525dec70528.jpg'), PosixPath('data_filtered/cl6lsxiqd001v8w55fgtjavib_2_FALSE_COLOR_jpg.rf.ed583532db782f8ccd0047e2abe0bee1.jpg'), PosixPath('data_filtered/cl6ojv5dx0056ao557rpa0ljr_2_FALSE_COLOR_jpg.rf.e62e4cd6da325f259c3e6b98c8f16dd1.jpg'), PosixPath('data_filtered/cl6kfyj4a001wc4558emoaaeq_4_FALSE_COLOR__URBAN_jpg.rf.f4bb8a00db7566082ef5532e62ffc462.jpg'), PosixPath('data_filtered/cl6oe0y5h002rao55ghk1g0ha_4_FALSE_COLOR__URBAN_jpg.rf.91bd2f4b1f1e0980eb280e3e13fc8abd.jpg'), PosixPath('data_filtered/cl6ojycgj005bao557mc6afad_1_TRUE_COLOR_jpg.rf.2fff76c1eed44062f407660384acdddb.jpg'), PosixPath('data_filtered/cl6b6dmty0071l455668oabtj_4_FALSE_COLOR__URBAN_jpg.rf.3d82e7710651d610b3ed5c22ae907981.jpg'), PosixPath('data_filtered/cl6dyeg510004hg554xxs8aux_6_SWIR_jpg.rf.375714af6c9f8fa9fb5423c7dbcea6cc.jpg'), PosixPath('data_filtered/cl6odxshy002kao554h0tez0a_6_SWIR_jpg.rf.59fcbf7ef586daeb6c08d5f5b27d5ae6.jpg'), PosixPath('data_filtered/cl6b542k6002bl455fmydcwlb_6_SWIR_jpg.rf.8759656fe7d9452fa7f7871f61545f0c.jpg'), PosixPath('data_filtered/cl6b63ehe0062l455c9mib5xv_4_FALSE_COLOR__URBAN_jpg.rf.b8bc2c6fe6978ca6b05f3a82e157bdbb.jpg'), PosixPath('data_filtered/cl6m10x9x00348w55h67q3hes_2_FALSE_COLOR_jpg.rf.746f55b2cb2a94835ebbb485b3715504.jpg'), PosixPath('data_filtered/cl6b5nqx3004dl4556qu6azh4_2_FALSE_COLOR_jpg.rf.735f17d91aa3a0102d1b8ef9dcfb2f00.jpg'), PosixPath('data_filtered/cl6opeibd0071ao55f9t2g6nw_1_TRUE_COLOR_jpg.rf.6070362401c95d15c7c1bceb98e721bb.jpg'), PosixPath('data_filtered/cl6e3gmqp0040gk55gklf0ka1_2_FALSE_COLOR_jpg.rf.e1d823b926ba664e4d2658c7c58b2915.jpg'), PosixPath('data_filtered/cl6b5i94f003ul455dplv6fmu_6_SWIR_jpg.rf.f9f02363db3c3db2c396aa67378922e7.jpg'), PosixPath('data_filtered/cl6okcs620060ao552j5fd463_1_TRUE_COLOR_jpg.rf.b00939415cb2ad0885a00096b525a2ff.jpg'), PosixPath('data_filtered/cl6b0q209001jl4553gmg5wxk_2_FALSE_COLOR_jpg.rf.eef8be7fee7165de64be4973c2c58f3e.jpg'), PosixPath('data_filtered/cl6chonxj00cjl455bqcs1fnt_2_FALSE_COLOR_jpg.rf.277d09c72f7ed781018abde75c573111.jpg'), PosixPath('data_filtered/cl6e2kygp002egk55asrs2brz_6_SWIR_jpg.rf.babaec9df98b79e585c6b0ed3e401b8f.jpg'), PosixPath('data_filtered/cl6cgah3400anl4554lg2hxzy_1_TRUE_COLOR_jpg.rf.14f3e09cac34f3f98d3191416add10d7.jpg'), PosixPath('data_filtered/cl6b5osai004hl455cp1mh6ki_4_FALSE_COLOR__URBAN_jpg.rf.951443c6d4d4ac4c73f0375f00a491a1.jpg'), PosixPath('data_filtered/cl6ojevvt004uao55432mcnea_6_SWIR_jpg.rf.ac9d8ec6cc1476f98470e302c9f8945f.jpg'), PosixPath('data_filtered/cl6ou8fz600abao5561sobj5z_1_TRUE_COLOR_jpg.rf.1ff7bea9ba4b1da2adb2975211554bc8.jpg'), PosixPath('data_filtered/cl6b5uskz0058l455gbd534lm_4_FALSE_COLOR__URBAN_jpg.rf.704db007a472c6e7396d277383c0dfe2.jpg'), PosixPath('data_filtered/cl6b652mi0068l4552keu9loj_4_FALSE_COLOR__URBAN_jpg.rf.ac9e5490bef66d3ea06a9270bfbc269e.jpg'), PosixPath('data_filtered/cl6b75qhp0098l455giwk7bva_4_FALSE_COLOR__URBAN_jpg.rf.3d6853f78cfcd17e1029d19083bcbdb0.jpg'), PosixPath('data_filtered/cl6chmuyr00cfl455hd0u03x9_1_TRUE_COLOR_jpg.rf.a4aad918213a396e717e044bfac537b9.jpg'), PosixPath('data_filtered/cl6kgdzqp002kc455030p44eo_2_FALSE_COLOR_jpg.rf.157fbd858a1b7089c6f75fa68eb8638a.jpg'), PosixPath('data_filtered/cl6b6zaju008ll455bbu9506q_6_SWIR_jpg.rf.a067497ccc38cfcb2e510cab67d33595.jpg'), PosixPath('data_filtered/cl6cswevu00gbl45556scbr9n_1_TRUE_COLOR_jpg.rf.1d5a5a2e50cf241e7b24ebde117d8cc3.jpg'), PosixPath('data_filtered/cl6csdbcu00f9l455hnwh8a4z_2_FALSE_COLOR_jpg.rf.09b3cb4addbc8c8306ad6e8f2806666d.jpg'), PosixPath('data_filtered/cl6b78q1y009sl455ekwc1jfp_1_TRUE_COLOR_jpg.rf.92ebe9452b2cdcf4ae4701102a55bd98.jpg'), PosixPath('data_filtered/cl6opv5oo007xao553de9g7wd_2_FALSE_COLOR_jpg.rf.ab5b0ecca400b24137812a9cfd97fb73.jpg'), PosixPath('data_filtered/cl6opx5vv0082ao55dx8j73xn_1_TRUE_COLOR_jpg.rf.ff74a7f91077661ec3a5e3e463cda851.jpg'), PosixPath('data_filtered/cl6ctbgwv00hel455fxql5pdm_4_FALSE_COLOR__URBAN_jpg.rf.fe9130528f5da6efbe387865fd6649e9.jpg'), PosixPath('data_filtered/cl6cglp1000b9l4555bzvbgqj_2_FALSE_COLOR_jpg.rf.c9d85326b2931904b8f61462a95e219c.jpg'), PosixPath('data_filtered/cl6e33qm00035gk553mplcyji_4_FALSE_COLOR__URBAN_jpg.rf.1e019662a48f468ec823b369a539a56c.jpg'), PosixPath('data_filtered/cl6csuejr00g9l45566f93g4a_2_FALSE_COLOR_jpg.rf.054d398289a53f9e9e8a801aeb0d7863.jpg'), PosixPath('data_filtered/cl6kfsx2l001kc455ezxdhkvx_2_FALSE_COLOR_jpg.rf.88480b2346e5a8de319a5234e9eb5d03.jpg'), PosixPath('data_filtered/cl6cttw6o00ial4555urs554w_2_FALSE_COLOR_jpg.rf.d92cb74564bf4e1556a74fc7b377e3f2.jpg'), PosixPath('data_filtered/cl6e2g24k0020gk55d7nlgq0h_1_TRUE_COLOR_jpg.rf.b9e53ba98178cbb61cf1f28a92d5480d.jpg'), PosixPath('data_filtered/cl6cho7a000cil455fiddgkjj_6_SWIR_jpg.rf.c1282e35ab10c5974e2cf5a9378bdb65.jpg'), PosixPath('data_filtered/cl6b6iksa007dl4551508f1n4_2_FALSE_COLOR_jpg.rf.9e56d7d2d3a4a3b737f393920e5660b5.jpg'), PosixPath('data_filtered/cl6dzjmr4000qhg55bnr2akq0_6_SWIR_jpg.rf.87a3115b9f6bca94d9878bdfcd8d15bc.jpg'), PosixPath('data_filtered/cl6kghsrn002tc4551wu83z4e_2_FALSE_COLOR_jpg.rf.8bf183c2a3b66f7030e76c302e99d2b9.jpg'), PosixPath('data_filtered/cl6b0ckyi000pl455hm7bhix2_2_FALSE_COLOR_jpg.rf.b9c47a459428b9c421dbf0fc37f72cf9.jpg'), PosixPath('data_filtered/cl6csstjw00g5l455c618frnq_2_FALSE_COLOR_jpg.rf.ee2c6568a13b760341349677a58ea9dd.jpg'), PosixPath('data_filtered/cl6oq0cpr008bao553vg485hd_1_TRUE_COLOR_jpg.rf.172a1e9f92965be21ec3ed833c68530e.jpg'), PosixPath('data_filtered/cl6dypwru000chg559pvqei5w_1_TRUE_COLOR_jpg.rf.4b5d1b454cee4e4f04b8f6b281127935.jpg'), PosixPath('data_filtered/cl6b04t8r0007l455fk4y4zr0_4_FALSE_COLOR__URBAN_jpg.rf.b6843b74612a6fab1432b3c7d8f0780f.jpg'), PosixPath('data_filtered/cl6lt50lf00278w555isdaowx_6_SWIR_jpg.rf.38c24d681604400240108adc91a08717.jpg'), PosixPath('data_filtered/cl6azt6by0000go55h4io4tab_6_SWIR_jpg.rf.f8a793559d8103b9c237ca96944514b5.jpg'), PosixPath('data_filtered/cl6chmuyr00cfl455hd0u03x9_2_FALSE_COLOR_jpg.rf.94e376a122ea5e60615032bf8564067f.jpg'), PosixPath('data_filtered/cl6ou72e300a7ao55ham55bxa_1_TRUE_COLOR_jpg.rf.5fb071ea6eacd8d0b49cdf574f4cdaa6.jpg'), PosixPath('data_filtered/cl6kfbq11000yc45577e7e4bg_1_TRUE_COLOR_jpg.rf.c8c9d7c11989ad75fba7ee813467b034.jpg'), PosixPath('data_filtered/cl6b6h5fo007bl455669md4vp_1_TRUE_COLOR_jpg.rf.2a3317b1042bda5ae825c7683a9d65bb.jpg'), PosixPath('data_filtered/cl6b6pieh007rl455fwvb73gr_1_TRUE_COLOR_jpg.rf.8f3f9c84272e40682f7f430cdc4ac4c0.jpg'), PosixPath('data_filtered/cl6lsukwg001t8w556kieb72f_4_FALSE_COLOR__URBAN_jpg.rf.0500c165c71af53fe68b9b2c4daa441b.jpg'), PosixPath('data_filtered/cl6orpl93009tao552w0p7urd_6_SWIR_jpg.rf.63d6f8c2cc3f097cf78f195f59a80f68.jpg'), PosixPath('data_filtered/cl6b76fnk009dl4556z3y9qgs_4_FALSE_COLOR__URBAN_jpg.rf.4d7112c2a197e6ce3d8764ad0af5d287.jpg'), PosixPath('data_filtered/cl6m1fco6003v8w558h0s1dhz_4_FALSE_COLOR__URBAN_jpg.rf.39e3021237a9a84b196a3ce0eeede01d.jpg'), PosixPath('data_filtered/cl6oujpxm00atao554qpycnsr_2_FALSE_COLOR_jpg.rf.80ca6bf8c90969f299e1fa5127fc8523.jpg'), PosixPath('data_filtered/cl6b79rs5009wl4550jbyddo9_1_TRUE_COLOR_jpg.rf.891016298b1ec3cfd5e9ecd20bddb54c.jpg'), PosixPath('data_filtered/cl6cho7a000cil455fiddgkjj_1_TRUE_COLOR_jpg.rf.0dfc3b0e34820438b66e6ff0ba1dbe2f.jpg'), PosixPath('data_filtered/cl6odoepa0028ao554gdxhnyo_1_TRUE_COLOR_jpg.rf.97b0cd83ab8fc9eff094564e62ac032e.jpg'), PosixPath('data_filtered/cl6b0czhh000rl4555uf846qc_4_FALSE_COLOR__URBAN_jpg.rf.4d22f494704ece92b8a36f855f77bffe.jpg'), PosixPath('data_filtered/cl6cg820i00ahl45522fwa74p_4_FALSE_COLOR__URBAN_jpg.rf.a65054490c722cb439824fa2a1e395b7.jpg'), PosixPath('data_filtered/cl6kg9h8h0028c455at8u1fb4_2_FALSE_COLOR_jpg.rf.c826b52465db077585167b3e4680ee6c.jpg'), PosixPath('data_filtered/cl6kiers800088w554w61grpw_6_SWIR_jpg.rf.eef3f85711d2f635550538c54c874845.jpg'), PosixPath('data_filtered/cl6chkc4400cal4551mau76ln_2_FALSE_COLOR_jpg.rf.b399825fe01934611b6d013886c789f8.jpg'), PosixPath('data_filtered/cl6b77933009jl4554y5l30h3_6_SWIR_jpg.rf.17d4112c4bc6739b034ced139cd8e5a5.jpg'), PosixPath('data_filtered/cl6e3e9qm003rgk55efdu14ah_2_FALSE_COLOR_jpg.rf.8abfdde94619a88574680bdb5bafa4dc.jpg'), PosixPath('data_filtered/cl6b73duk008vl45583qs4mo9_6_SWIR_jpg.rf.7b942815479894d2a3fda70742b9f826.jpg'), PosixPath('data_filtered/cl6kfzb24001zc4555e770ib2_4_FALSE_COLOR__URBAN_jpg.rf.13a4747cbfc22ec8cbfc4da014d74e19.jpg'), PosixPath('data_filtered/cl6cgwlv800bol4557nsq5jwk_4_FALSE_COLOR__URBAN_jpg.rf.b96336e560cb8e2b952def4e617218e4.jpg'), PosixPath('data_filtered/cl6e0c4x3000ngk55c47nhbiz_6_SWIR_jpg.rf.805c839bbcaddceea16f45bf37533000.jpg'), PosixPath('data_filtered/cl6b5yjxa005nl45516k465kb_1_TRUE_COLOR_jpg.rf.ce6cbfd628838b1c87ffdbb637919aa9.jpg'), PosixPath('data_filtered/cl6kgh8cf002sc4558jry9v2p_4_FALSE_COLOR__URBAN_jpg.rf.d460a1d78fabf96f7488c62264eec7c6.jpg'), PosixPath('data_filtered/cl6ocys2m000sao5550mof7nx_1_TRUE_COLOR_jpg.rf.8e3581559100c209cd75fd81f38e072b.jpg'), PosixPath('data_filtered/cl6oj0ggm0043ao55acihdj7s_2_FALSE_COLOR_jpg.rf.5ceafad2a989e00d5f32f3d465f72f35.jpg'), PosixPath('data_filtered/cl6kfr3gw001gc4556plk3d6y_2_FALSE_COLOR_jpg.rf.83ca344c4481eff80a00b5b50123dde7.jpg'), PosixPath('data_filtered/cl6css50j00g3l4552tvg839m_2_FALSE_COLOR_jpg.rf.99a6a3dd268a81409a7dfb549dda33bf.jpg'), PosixPath('data_filtered/cl6ocohki0003ao55bnyg99kc_4_FALSE_COLOR__URBAN_jpg.rf.1268ae68f91a4c4a73941c9b9640fa9a.jpg'), PosixPath('data_filtered/cl6opn2ws007hao55es3fg6b2_2_FALSE_COLOR_jpg.rf.46b32a7905e04149be12d5c5098763fd.jpg'), PosixPath('data_filtered/cl6ok1xz8005jao55et1x9ny0_1_TRUE_COLOR_jpg.rf.9558d9b5d898144aa267adad56074770.jpg'), PosixPath('data_filtered/cl6kfwvz3001sc45549gxd3e2_4_FALSE_COLOR__URBAN_jpg.rf.c87a56de729075b5a63758c8411a78f0.jpg'), PosixPath('data_filtered/cl6op6nll006lao553d190xdf_2_FALSE_COLOR_jpg.rf.676cdbce511f842ca009b87eecc61241.jpg'), PosixPath('data_filtered/cl6orq40w009vao552t868lax_2_FALSE_COLOR_jpg.rf.7f192c7591e8a3f6715b81a22cd4b701.jpg'), PosixPath('data_filtered/cl6e0kgem0014gk55cl4692g7_6_SWIR_jpg.rf.75d367e9586bed46241148c1105975ec.jpg'), PosixPath('data_filtered/cl6dywrm9000mhg55c48n2wtt_6_SWIR_jpg.rf.b1a38587851b623506ac63c99efc6942.jpg'), PosixPath('data_filtered/cl6ophgti0078ao557twhfw8d_4_FALSE_COLOR__URBAN_jpg.rf.7def477324832ea282c6fc4c29ca7ca8.jpg'), PosixPath('data_filtered/cl6b6aeiv006rl455ho4ugrkp_4_FALSE_COLOR__URBAN_jpg.rf.7207ace6eadcc7d714db4072c3be13d7.jpg'), PosixPath('data_filtered/cl6dyiwx60009hg55freo14hg_4_FALSE_COLOR__URBAN_jpg.rf.bb532a7dd155f6626c1a25d57f925813.jpg'), PosixPath('data_filtered/cl6oqrvzj009aao552o4w9gcv_1_TRUE_COLOR_jpg.rf.d85543f381e826e0dffa6a79d22ec38f.jpg'), PosixPath('data_filtered/cl6cta0z600h9l455cygudh3w_4_FALSE_COLOR__URBAN_jpg.rf.5a899bce198e041112d96b0302d74292.jpg'), PosixPath('data_filtered/cl6kjc5r500168w55bry741c1_4_FALSE_COLOR__URBAN_jpg.rf.87277927432c3b5a8ad0114a48c02d80.jpg'), PosixPath('data_filtered/cl6b5j7l8003yl455e8lo7mre_1_TRUE_COLOR_jpg.rf.8f930a8cb776e1fc115101a746a03689.jpg'), PosixPath('data_filtered/cl6odwuqk002iao555zzv0c59_1_TRUE_COLOR_jpg.rf.7515a109b70f8d66aad0623c9eeddef7.jpg'), PosixPath('data_filtered/cl6b51y140022l4551rmyafv5_6_SWIR_jpg.rf.ee4fd9c2f750fde1eaab859f8dd0829d.jpg'), PosixPath('data_filtered/cl6e30dz3002tgk559uhm11za_1_TRUE_COLOR_jpg.rf.fe685dda58ed1dd4b55f5a9f898e2629.jpg'), PosixPath('data_filtered/cl6dzuimb000xhg552nh5hdd9_4_FALSE_COLOR__URBAN_jpg.rf.39dc7784f317cb207365a5807d822bbd.jpg'), PosixPath('data_filtered/cl6b4ykst001sl4550amagaw5_4_FALSE_COLOR__URBAN_jpg.rf.5afbd5165c965cc2f70bd0d10d3c004f.jpg'), PosixPath('data_filtered/cl6b5zvva005tl455617x069k_1_TRUE_COLOR_jpg.rf.8fddaebfe3bf528542a6bb93a8a4ba56.jpg'), PosixPath('data_filtered/cl6kg5b5c0027c455abg328ld_6_SWIR_jpg.rf.ef8c91393a06715257feb3b41d06ffa4.jpg'), PosixPath('data_filtered/cl6orry9200a0ao559gb82ms0_1_TRUE_COLOR_jpg.rf.cc9619d3a597ceaf2853dd8c2ee86be7.jpg'), PosixPath('data_filtered/cl6kga3590029c455dfqjh4v7_2_FALSE_COLOR_jpg.rf.ef13360dbca3f541099b00a7f79d6a87.jpg'), PosixPath('data_filtered/cl6e0c4x3000ngk55c47nhbiz_2_FALSE_COLOR_jpg.rf.f5b8f6b5940529cca841638d51939237.jpg'), PosixPath('data_filtered/cl6cgw2be00bnl455cetv4inw_2_FALSE_COLOR_jpg.rf.e7eb23a8f2e3a9e050740e78e8457c2b.jpg'), PosixPath('data_filtered/cl6e34bti0037gk55gzdv0akr_6_SWIR_jpg.rf.832dd04dfc59c9fe95a36dd61b1fc76c.jpg'), PosixPath('data_filtered/cl6e2ww4w002lgk555k8x0pjx_2_FALSE_COLOR_jpg.rf.f9f14ac12d5da302ce5a757420a6eeeb.jpg'), PosixPath('data_filtered/cl6oqbr98008uao55hhpyg2l0_6_SWIR_jpg.rf.b1f0111172cad2728c3d6d53fe595b48.jpg'), PosixPath('data_filtered/cl6m145w400368w55e1mscmpe_2_FALSE_COLOR_jpg.rf.c5096bdb36261ea91a23135f4d6af8d0.jpg'), PosixPath('data_filtered/cl6e0mv1s0017gk5595j92i2d_4_FALSE_COLOR__URBAN_jpg.rf.d1e221b1a9a28c9ba9318854955beb67.jpg'), PosixPath('data_filtered/cl6b64hpf0066l4555lt3czhh_4_FALSE_COLOR__URBAN_jpg.rf.9708ab4cc3223e0de7d63bbe1f526b8b.jpg'), PosixPath('data_filtered/cl6oct90r000fao553xkha255_2_FALSE_COLOR_jpg.rf.d6d86d9870d1a9f114f0b02ad0f9aedd.jpg'), PosixPath('data_filtered/cl6b035dn0002l455hbmqcima_4_FALSE_COLOR__URBAN_jpg.rf.d884d31834bb767707a1616dfb807d00.jpg'), PosixPath('data_filtered/cl6odm3oj0023ao55641s046f_4_FALSE_COLOR__URBAN_jpg.rf.e06b1ddebe1889e272bf11bcd8220072.jpg'), PosixPath('data_filtered/cl6kfowty0017c455b591d008_1_TRUE_COLOR_jpg.rf.ee3c5e5c682214ad0e0d91e6930b570b.jpg'), PosixPath('data_filtered/cl6oe2d76002tao55ckxpdijl_4_FALSE_COLOR__URBAN_jpg.rf.c3827f2fb99b077435dca2881a756481.jpg'), PosixPath('data_filtered/cl6m0whp000308w555xk5cwij_1_TRUE_COLOR_jpg.rf.c39d217c7dfdf6208338433504804ff1.jpg'), PosixPath('data_filtered/cl6b53k570029l45574z79k7e_2_FALSE_COLOR_jpg.rf.fe513cd92aab85819db299ec9fb7939d.jpg'), PosixPath('data_filtered/cl6op2fce006fao55753l8ulj_6_SWIR_jpg.rf.7e8764944bad6000aa34611ac74ca3ba.jpg'), PosixPath('data_filtered/cl6dzzjvo0010hg552jj7ae4b_2_FALSE_COLOR_jpg.rf.53e03154702ae8f918f349befcf7e312.jpg'), PosixPath('data_filtered/cl6ch417300btl4554l143qop_4_FALSE_COLOR__URBAN_jpg.rf.43e72d2d74427093db9424b5a3eae89a.jpg'), PosixPath('data_filtered/cl6dxzwc50001hg550uejeken_1_TRUE_COLOR_jpg.rf.80c547bf9c492882b239384b7d990f5d.jpg'), PosixPath('data_filtered/cl6oimia5003dao558osp4mxe_6_SWIR_jpg.rf.e44dbdb6627b06f130e9108440f82ddc.jpg'), PosixPath('data_filtered/cl6m1dd0r003o8w5569ma5agl_1_TRUE_COLOR_jpg.rf.8351a94d2d7bc6ea84ad8121c560c869.jpg'), PosixPath('data_filtered/cl6b7fkmx00a7l455d75h2co1_4_FALSE_COLOR__URBAN_jpg.rf.7a2606b45ea45ee07e66256ce803809e.jpg'), PosixPath('data_filtered/cl6b0ckyi000pl455hm7bhix2_1_TRUE_COLOR_jpg.rf.4284e0076b9a0bb27b35d7c6a22d4742.jpg'), PosixPath('data_filtered/cl6b5rb8x004rl455g3sp3iqz_2_FALSE_COLOR_jpg.rf.005c5bbb33416d06f899c0fb2192df4b.jpg'), PosixPath('data_filtered/cl6b0cqup000ql4558m8y8a8t_6_SWIR_jpg.rf.31bee1d2a88d85f292323400c332f798.jpg'), PosixPath('data_filtered/cl6opag1s006tao55h8pkceie_1_TRUE_COLOR_jpg.rf.0aa351f726f716cdff50ddae440c921f.jpg'), PosixPath('data_filtered/cl6lt6ipg00288w55ee7scu7b_6_SWIR_jpg.rf.217d62e8998857f4cc5ca3a6ad7e5412.jpg'), PosixPath('data_filtered/cl6b5xjjd005kl455hfjcd5ra_6_SWIR_jpg.rf.7488907fe46984de6c03556760843d6f.jpg'), PosixPath('data_filtered/cl6chqhwl00cll4558hnj0glz_6_SWIR_jpg.rf.1056e04894280f6c5f84af1ce3f49ad9.jpg'), PosixPath('data_filtered/cl6e0l3x90015gk55eki43b8w_2_FALSE_COLOR_jpg.rf.71e58f947635dad1592ddd10fa52ba62.jpg'), PosixPath('data_filtered/cl6b6yfhr008il4555h86hokv_2_FALSE_COLOR_jpg.rf.fd50b29fbde8a1c76c3e2d01beb69fa5.jpg'), PosixPath('data_filtered/cl6kgidey002uc455a3qe2ark_1_TRUE_COLOR_jpg.rf.1db5657ebb196420d977a593d4cbbc11.jpg'), PosixPath('data_filtered/cl6kfy9v8001vc4559ubi2rde_4_FALSE_COLOR__URBAN_jpg.rf.60420da5ccf8e1e4e24ff6193348be17.jpg'), PosixPath('data_filtered/cl6cgbyeo00aql455eui3fiu4_1_TRUE_COLOR_jpg.rf.0b8e1982479c781a18740d7fd0160c36.jpg'), PosixPath('data_filtered/cl6op4t8q006jao559muv9l5l_2_FALSE_COLOR_jpg.rf.d0eac7b7bc3a29b59a5da91316b541c0.jpg'), PosixPath('data_filtered/cl6kg4sfr0026c4552hfe6gtj_4_FALSE_COLOR__URBAN_jpg.rf.2342a2438b262c0e389b20eaddf8c3c2.jpg'), PosixPath('data_filtered/cl6kgj08y002wc455bqfpd8bd_6_SWIR_jpg.rf.c68ac9e33aa309a3e14ba984d09ef846.jpg'), PosixPath('data_filtered/cl6chw5x300csl455fwv6g4li_2_FALSE_COLOR_jpg.rf.cdbbfd775d062a541882636c2437206b.jpg'), PosixPath('data_filtered/cl6cg6cf600agl455gtin273p_2_FALSE_COLOR_jpg.rf.3c95193dd276836b31dc3df24f29e351.jpg'), PosixPath('data_filtered/cl6kfpnu6001ac4551zdx0uev_6_SWIR_jpg.rf.34908aba60aeee70d991318c99dc9351.jpg'), PosixPath('data_filtered/cl6kgnh9k0030c455dtnabosj_1_TRUE_COLOR_jpg.rf.719d4160fed64e1c0f7d077b93c408ad.jpg'), PosixPath('data_filtered/cl6b7ep9100a4l455h3w9fstk_2_FALSE_COLOR_jpg.rf.4f2747c68fd470403fcec0900ad7559d.jpg'), PosixPath('data_filtered/cl6od01zy000wao5564tqf2dq_6_SWIR_jpg.rf.6c0b81677e3f0db5276e1d8f05fa6db9.jpg'), PosixPath('data_filtered/cl6csiins00fgl45562qya3h6_1_TRUE_COLOR_jpg.rf.4f0023de84a5dd3d39fe129b7ee997dd.jpg'), PosixPath('data_filtered/cl6b75qhp0098l455giwk7bva_1_TRUE_COLOR_jpg.rf.a94ba5968034dec9b73c7dbe480dc089.jpg'), PosixPath('data_filtered/cl6ct5pk300gxl4559vdtfjz2_1_TRUE_COLOR_jpg.rf.7ead147bfba31fe4459e043d401a2344.jpg'), PosixPath('data_filtered/cl6e1nvfl001egk556fa6giz7_2_FALSE_COLOR_jpg.rf.4e679887820ef44a029e11ae93afd1ba.jpg'), PosixPath('data_filtered/cl6kfvrfp001qc45548kr4qf2_1_TRUE_COLOR_jpg.rf.1e323d4ad9dedbfeedc5e00b3aa691b5.jpg'), PosixPath('data_filtered/cl6opc9oz006zao552eyx63jq_1_TRUE_COLOR_jpg.rf.f994921b8a56d2c9d4e28248efa38b8e.jpg'), PosixPath('data_filtered/cl6e2m95l002ggk55a3eefylp_6_SWIR_jpg.rf.a0cdb03cbca75c9224048e879c6fe734.jpg'), PosixPath('data_filtered/cl6opc9oz006zao552eyx63jq_6_SWIR_jpg.rf.76de8b1ec7f1aeb69a59748d8a8c9207.jpg'), PosixPath('data_filtered/cl6oilbwz003bao55ayyaeiti_6_SWIR_jpg.rf.55836ac19fe4201247dafafa8d8862ca.jpg'), PosixPath('data_filtered/cl6cp9ucc00d8l455fzq49p99_2_FALSE_COLOR_jpg.rf.431478070ff89a379d3ab9f1a5bc110e.jpg'), PosixPath('data_filtered/cl6kg12gd0022c4555fac0sms_2_FALSE_COLOR_jpg.rf.e506d912edb520ae8e29faac6125e931.jpg'), PosixPath('data_filtered/cl6b5o2zq004el455548z49am_1_TRUE_COLOR_jpg.rf.fa529dc8ceddf212f871c9a806bb0bcd.jpg'), PosixPath('data_filtered/cl6kgm9qr002yc455g5qs87kz_2_FALSE_COLOR_jpg.rf.95debd80b7509cc0a6afe0a7c7ff6cfe.jpg'), PosixPath('data_filtered/cl6e2edx3001ygk554c0h3ubb_4_FALSE_COLOR__URBAN_jpg.rf.3d61f7c8ad5106ce9c2aa3860b2f20db.jpg'), PosixPath('data_filtered/cl6b5q3z4004ll45585wq8rtu_2_FALSE_COLOR_jpg.rf.b93360b47e1a3b5619b858e01dbaf716.jpg'), PosixPath('data_filtered/cl6ct5pk300gxl4559vdtfjz2_6_SWIR_jpg.rf.673db7e2eae6ca92100e850d8d4a595a.jpg'), PosixPath('data_filtered/cl6e09hxf000hgk559x18fvg8_1_TRUE_COLOR_jpg.rf.4bad2d8b298e825dd87c4ebb94d5fab5.jpg'), PosixPath('data_filtered/cl6b7gtl200aal4552nve0ap1_2_FALSE_COLOR_jpg.rf.c871b0359698a70abce45a40f6bb117e.jpg'), PosixPath('data_filtered/cl6cgg5np00b0l455enz77l37_4_FALSE_COLOR__URBAN_jpg.rf.40cd702cc8b043289ca3fc393fabe3ef.jpg'), PosixPath('data_filtered/cl6odcx12001oao55f8bma9y4_6_SWIR_jpg.rf.abc6a29a97d9e3758deb79ec1becd8f9.jpg'), PosixPath('data_filtered/cl6ct4zi700gvl455hd187an6_1_TRUE_COLOR_jpg.rf.c32aa601f010ec224bcb120239a61104.jpg'), PosixPath('data_filtered/cl6m0whp000308w555xk5cwij_2_FALSE_COLOR_jpg.rf.4c7f2876d41823704290c7ba17c9b1ae.jpg'), PosixPath('data_filtered/cl6chnfxe00cgl455cg8v02rb_1_TRUE_COLOR_jpg.rf.67479f96195da145753e36c2236f7c3e.jpg'), PosixPath('data_filtered/cl6b5l3lm0041l45509eycth4_1_TRUE_COLOR_jpg.rf.4e549ebd46d2e65023b62a56b398ba04.jpg'), PosixPath('data_filtered/cl6kig3wf00098w556e894kgn_4_FALSE_COLOR__URBAN_jpg.rf.ea516150c57a6b8431b3bf32bafab73a.jpg'), PosixPath('data_filtered/cl6kgh8cf002sc4558jry9v2p_1_TRUE_COLOR_jpg.rf.03abcb671e6d0110cb96176d0f89b7dd.jpg'), PosixPath('data_filtered/cl6kgag2y002ac455g3l427ic_4_FALSE_COLOR__URBAN_jpg.rf.dcfb648b0d4277fcb2e240705a5b422f.jpg'), PosixPath('data_filtered/cl6ctjyc600hul455hxis4621_2_FALSE_COLOR_jpg.rf.e65f0d03101942da33a9ff69d4ba938e.jpg'), PosixPath('data_filtered/cl6okf9bk0067ao55bstpe75r_4_FALSE_COLOR__URBAN_jpg.rf.58875e9af78353f15417f1a2e993c734.jpg'), PosixPath('data_filtered/cl6oplsq0007fao556ul723tq_2_FALSE_COLOR_jpg.rf.94a095f4ae3f57df0997e3450c2bea9d.jpg'), PosixPath('data_filtered/cl6kjc5r500168w55bry741c1_1_TRUE_COLOR_jpg.rf.0e78281e5d58015651a5a52f16ea2f38.jpg'), PosixPath('data_filtered/cl6b5f9f1003ml455abwkc72t_1_TRUE_COLOR_jpg.rf.a09c2099ea1a8b50394fb12bfbdb9ea8.jpg'), PosixPath('data_filtered/cl6kgnh9k0030c455dtnabosj_4_FALSE_COLOR__URBAN_jpg.rf.9bf22dbcfc66e6fb99e981e0bf995458.jpg'), PosixPath('data_filtered/cl6keyw310001c4551ugx15q5_4_FALSE_COLOR__URBAN_jpg.rf.d3371c057d7fef8486fe692a5e9141f8.jpg'), PosixPath('data_filtered/cl6ojaxxv004mao552t7ah2ky_2_FALSE_COLOR_jpg.rf.f75de75121cb3540bbfc52636d8fe45c.jpg'), PosixPath('data_filtered/cl6dyeg510004hg554xxs8aux_1_TRUE_COLOR_jpg.rf.5f7f56d5c624ab8c85fdd5b5785d421c.jpg'), PosixPath('data_filtered/cl6csapmj00f7l4558gne2y5r_4_FALSE_COLOR__URBAN_jpg.rf.15aab82f47702fe22931ed6ac41975c5.jpg'), PosixPath('data_filtered/cl6cgkn5000b6l455cg451vw6_2_FALSE_COLOR_jpg.rf.349b983f5f80cd6cd24ea6105b958483.jpg'), PosixPath('data_filtered/cl6ojrtzp004zao55hqhsfffg_2_FALSE_COLOR_jpg.rf.195a1e150a842d8e52a340b764d086c0.jpg'), PosixPath('data_filtered/cl6cskhdp00fml4550oip27vq_1_TRUE_COLOR_jpg.rf.5e3f16b79f9861ba20a017af486af661.jpg'), PosixPath('data_filtered/cl6e0dbw9000pgk55cv1sgp5x_1_TRUE_COLOR_jpg.rf.049fb46a294a4647ce0018cafe44851a.jpg'), PosixPath('data_filtered/cl6cguk2800bml4556lfx35kx_2_FALSE_COLOR_jpg.rf.c00397ac5bd0e1323da8f3791e8400fe.jpg'), PosixPath('data_filtered/cl6b7bt0y009zl455397c4vju_6_SWIR_jpg.rf.bf9ea04cbc437c4c8c4b1a2874e4b65c.jpg'), PosixPath('data_filtered/cl6e1n8j9001cgk55bhebb6fp_2_FALSE_COLOR_jpg.rf.b853e3a4429e42c59527bd073d2e3667.jpg'), PosixPath('data_filtered/cl6b0aue4000ml455e4wo3e1j_4_FALSE_COLOR__URBAN_jpg.rf.afb389608cf3cd6af6de70e5b1072842.jpg'), PosixPath('data_filtered/cl6b09m65000kl455dbrteofg_1_TRUE_COLOR_jpg.rf.ee57729ea078971520bf21366b934b08.jpg'), PosixPath('data_filtered/cl6odzs5e002oao55heuig0a6_1_TRUE_COLOR_jpg.rf.fc96fcc9ef8466ce18f286d422df48ea.jpg'), PosixPath('data_filtered/cl6b0okeb001fl455fgue1wrj_1_TRUE_COLOR_jpg.rf.3036ca102003e03d9b3f564e36d24d18.jpg'), PosixPath('data_filtered/cl6od3yri001cao55gifvaizk_1_TRUE_COLOR_jpg.rf.881044d7a4287260c26fd64ba6426160.jpg'), PosixPath('data_filtered/cl6oct90r000fao553xkha255_1_TRUE_COLOR_jpg.rf.3458190dccf4775d0b2e824a8e3d2e75.jpg'), PosixPath('data_filtered/cl6az56oy0003f05554mh92wy_2_FALSE_COLOR_jpg.rf.80849284d2ee075dcfd0d457f4c20b7a.jpg'), PosixPath('data_filtered/cl6cs4oof00eul455fdkybwbf_6_SWIR_jpg.rf.964c04ade7796d8262a34460abc501f1.jpg'), PosixPath('data_filtered/cl6cs4y6q00evl455d2lfbj1u_2_FALSE_COLOR_jpg.rf.54e7aa920ce92da629cdebe0c749850e.jpg'), PosixPath('data_filtered/cl6e1zkvy001ogk5561l0f1q7_1_TRUE_COLOR_jpg.rf.c934a3c4eef92e6a2fb63ba0f5b569e8.jpg'), PosixPath('data_filtered/cl6opqgtf007nao55d5fr4p16_1_TRUE_COLOR_jpg.rf.a43b59a7f6e036647f1399f76c98eb0f.jpg'), PosixPath('data_filtered/cl6lt2g2y00228w55cf1a1yxr_2_FALSE_COLOR_jpg.rf.36efe84e8bb672989f589aad86e98108.jpg'), PosixPath('data_filtered/cl6kfnwqd0015c455cssv4ha4_1_TRUE_COLOR_jpg.rf.dd4a1a9cc9e885b3011de03732c8f204.jpg'), PosixPath('data_filtered/cl6cstc5x00g7l455ec9d32eh_4_FALSE_COLOR__URBAN_jpg.rf.71316a722d62f20ac2358061da63172b.jpg'), PosixPath('data_filtered/cl6cs5j5d00exl455afqp4ysw_4_FALSE_COLOR__URBAN_jpg.rf.f5968b5baec72c54ed2817be2aa1fb7e.jpg'), PosixPath('data_filtered/cl6oif58n002yao5578ob9fzh_4_FALSE_COLOR__URBAN_jpg.rf.67691ceccbbb460202535f17029f706e.jpg'), PosixPath('data_filtered/cl6kfci270010c45580qyfo1k_1_TRUE_COLOR_jpg.rf.c5ae9d9a4ce6ce6eb40688beb6ba338b.jpg'), PosixPath('data_filtered/cl6b66xpr006cl4556kzm7hl2_1_TRUE_COLOR_jpg.rf.a1964259e1dadaa86ebd64bd2acbbfa8.jpg'), PosixPath('data_filtered/cl6oqlhh6008zao55gago04ul_2_FALSE_COLOR_jpg.rf.b5fb95dcd6fdd2086ada9d253bd1dc04.jpg'), PosixPath('data_filtered/cl6b5k38g003zl455bgtd1317_2_FALSE_COLOR_jpg.rf.1ec92bba97779ebd5ac1419db904e242.jpg'), PosixPath('data_filtered/cl6b56nh5002jl4551m23gtf9_1_TRUE_COLOR_jpg.rf.7d001a91d6df1d09828ca7c97e89c58b.jpg'), PosixPath('data_filtered/cl6b6vihd0086l4553gmk0011_2_FALSE_COLOR_jpg.rf.155496cce064167283541a8c4a3ddec7.jpg'), PosixPath('data_filtered/cl6odkye9001yao55bl6y87ra_2_FALSE_COLOR_jpg.rf.481fe0f62e06cf8fbe8d81c50e907b20.jpg'), PosixPath('data_filtered/cl6m1cry8003m8w559r91hmtl_6_SWIR_jpg.rf.55bdb1e75817e18fb2d33d73abbacc10.jpg'), PosixPath('data_filtered/cl6e3bzkq003kgk550ppl67ww_4_FALSE_COLOR__URBAN_jpg.rf.f8307953fb5b60d10c4919d45923571c.jpg'), PosixPath('data_filtered/cl6opi0lv0079ao554ptl5yd7_1_TRUE_COLOR_jpg.rf.3fc2124d6e898de65d162d26ff22fda1.jpg'), PosixPath('data_filtered/cl6kf821l000nc4555y4p2rm4_1_TRUE_COLOR_jpg.rf.dee11d790a8452475277a2bd007a6cbe.jpg'), PosixPath('data_filtered/cl6ctopvo00i4l455cgtw30dd_2_FALSE_COLOR_jpg.rf.3befac1dba28baf207b23aacd3b4e9ac.jpg'), PosixPath('data_filtered/cl6oizoxx0041ao55csrr4whh_4_FALSE_COLOR__URBAN_jpg.rf.de817a7270724a3d4e58887147bd175c.jpg'), PosixPath('data_filtered/cl6b03sa00004l4555k7m3d9h_2_FALSE_COLOR_jpg.rf.ff06f8d5665b3485544ff4b57022f5a4.jpg'), PosixPath('data_filtered/cl6oq26pe008eao55afu47fi0_4_FALSE_COLOR__URBAN_jpg.rf.6097588c8396a37b074e3444cf333119.jpg'), PosixPath('data_filtered/cl6oj3q5x004aao55ala51kbg_4_FALSE_COLOR__URBAN_jpg.rf.7234b0197e9bd566e5a618690ef769ab.jpg'), PosixPath('data_filtered/cl6oqvksq009bao556412da6l_1_TRUE_COLOR_jpg.rf.265a9c01b3c08b3b6f3bca283a6109c3.jpg'), PosixPath('data_filtered/cl6oips2c003kao559sp4fuwd_1_TRUE_COLOR_jpg.rf.bc07d79827f17f756dd7bfad1411bda5.jpg'), PosixPath('data_filtered/cl6cgsj2300bjl4556rjk0yap_1_TRUE_COLOR_jpg.rf.5a5429214847a7ced132367d07c16c0c.jpg'), PosixPath('data_filtered/cl6kgmrej002zc455a27d973q_4_FALSE_COLOR__URBAN_jpg.rf.5885b70c7b3b3dafd9806852b4e76ec5.jpg'), PosixPath('data_filtered/cl6kfoffk0016c455cvxsalj2_4_FALSE_COLOR__URBAN_jpg.rf.0bef427a51301563a39437db508e1b72.jpg'), PosixPath('data_filtered/cl6kftq9a001nc455a3108dvr_6_SWIR_jpg.rf.401cc247b60165302ae17c497c648c58.jpg'), PosixPath('data_filtered/cl6kgo2ff0031c455dv515gju_2_FALSE_COLOR_jpg.rf.1f42b289e2c8d87a320a2b3b49ba65a5.jpg'), PosixPath('data_filtered/cl6e32fcc0031gk55dtxeatwl_2_FALSE_COLOR_jpg.rf.cb3413b2d95b29ce1d414af0900789c6.jpg'), PosixPath('data_filtered/cl6m1bogh003h8w553evr8lfd_4_FALSE_COLOR__URBAN_jpg.rf.5a61d0979104f21b6bb376259cd24240.jpg'), PosixPath('data_filtered/cl6ojbg9t004oao552glqe340_4_FALSE_COLOR__URBAN_jpg.rf.3ee58fb35f1174a1a8e091ccb6b20a36.jpg'), PosixPath('data_filtered/cl6ojcant004qao555opq5lio_4_FALSE_COLOR__URBAN_jpg.rf.4b4cf2d52533e13225b68a0dee627cc4.jpg'), PosixPath('data_filtered/cl6b5m4w10045l4550bi9ea2d_2_FALSE_COLOR_jpg.rf.5a23fb88520b394760f70a877d4faa0e.jpg'), PosixPath('data_filtered/cl6b6h5fo007bl455669md4vp_4_FALSE_COLOR__URBAN_jpg.rf.422f3c9e4caef71972de10acb5065019.jpg'), PosixPath('data_filtered/cl6cgr33o00bfl45526e3ajl1_6_SWIR_jpg.rf.3b37ac1a356371984aa7a4c9e26febfa.jpg'), PosixPath('data_filtered/cl6cs8jie00f5l4555hn76aj1_6_SWIR_jpg.rf.7cdd3f4c7d935ad234885da22160d3b7.jpg'), PosixPath('data_filtered/cl6ch6y2d00byl4557ijbc6o4_4_FALSE_COLOR__URBAN_jpg.rf.00f8770027448a54180d8716b6b64f26.jpg'), PosixPath('data_filtered/cl6kj4ybe000p8w554ytea5li_6_SWIR_jpg.rf.db9bdb5770985cc1c7452e50339d4ad4.jpg'), PosixPath('data_filtered/cl6op20j8006eao55cw0ucbhh_2_FALSE_COLOR_jpg.rf.a05562a9bcb1ea1a88b6072f2dfcd022.jpg'), PosixPath('data_filtered/cl6e1icq8001agk55c0pe3e5b_2_FALSE_COLOR_jpg.rf.bde105352e572fababd4882d57cd8ee3.jpg'), PosixPath('data_filtered/cl6b58mbx002sl4550bzf0gow_1_TRUE_COLOR_jpg.rf.ad7f4987c00f2b3f54269ded2871b104.jpg'), PosixPath('data_filtered/cl6b5l3lm0041l45509eycth4_4_FALSE_COLOR__URBAN_jpg.rf.f358f8b131af9302990a094b0da54e87.jpg'), PosixPath('data_filtered/cl6csvg6n00gal45513b052pr_1_TRUE_COLOR_jpg.rf.73c176610e2978c450e96527ac568c46.jpg'), PosixPath('data_filtered/cl6cs5j5d00exl455afqp4ysw_6_SWIR_jpg.rf.27c23cbdffecb44114f96e8b7514f120.jpg'), PosixPath('data_filtered/cl6oputjf007wao55fnke0ppv_2_FALSE_COLOR_jpg.rf.1895fbee9d0e59032e22514133629026.jpg'), PosixPath('data_filtered/cl6e36kv1003fgk55gnb9050o_4_FALSE_COLOR__URBAN_jpg.rf.3f32f8e4284fdf7827f922caae82e9bf.jpg'), PosixPath('data_filtered/cl6cskwng00fol4555eloc4nh_6_SWIR_jpg.rf.9e3d112de243afb1f67db776073d4d26.jpg'), PosixPath('data_filtered/cl6opthke007tao557hsthpgq_6_SWIR_jpg.rf.604fa331ba70d0a1306d2e9281204764.jpg'), PosixPath('data_filtered/cl6okcigf005zao55dc0wbjsx_2_FALSE_COLOR_jpg.rf.bfbe48732bb7dd2f5aa63f54d5fd65cc.jpg'), PosixPath('data_filtered/cl6m0w1nh002z8w558do5f7ar_4_FALSE_COLOR__URBAN_jpg.rf.de9d2286469563a38f2e99900c5a052d.jpg'), PosixPath('data_filtered/cl6oinvqs003fao55chcqcxbr_2_FALSE_COLOR_jpg.rf.f3dcb8e13a1f4123914d5987a9ba4ee2.jpg'), PosixPath('data_filtered/cl6op6nll006lao553d190xdf_1_TRUE_COLOR_jpg.rf.3692c2f973b3d841abdbd8cb8f5e64dc.jpg'), PosixPath('data_filtered/cl6csapmj00f7l4558gne2y5r_2_FALSE_COLOR_jpg.rf.7d74755e63ae57fc0bae665bbed9f786.jpg'), PosixPath('data_filtered/cl6opn2ws007hao55es3fg6b2_1_TRUE_COLOR_jpg.rf.9c0199b14bb01d75e444033c204a1893.jpg'), PosixPath('data_filtered/cl6e2edx3001ygk554c0h3ubb_2_FALSE_COLOR_jpg.rf.277a9902d759d421fcfae391c5b9c1a3.jpg'), PosixPath('data_filtered/cl6e2iu9v0027gk55e8cfax9f_1_TRUE_COLOR_jpg.rf.50314616f0da1821e8666d792d294016.jpg'), PosixPath('data_filtered/cl6chl1rg00cbl455e1p5cw7x_6_SWIR_jpg.rf.d825544520c1f57485e1ae1678fdd8c2.jpg'), PosixPath('data_filtered/cl6cgg5np00b0l455enz77l37_2_FALSE_COLOR_jpg.rf.687887aaed332f84b7c0fd77e3a1d3ef.jpg'), PosixPath('data_filtered/cl6b5lfqn0043l455544gg2zx_6_SWIR_jpg.rf.b0ed6f4323584dc306018be2c6d3435f.jpg'), PosixPath('data_filtered/cl6oczf4b000uao559egx35g7_6_SWIR_jpg.rf.83d3cb3aab9feae8598a99742f1c0dd1.jpg'), PosixPath('data_filtered/cl6cse9tv00fbl4552j5aepjj_2_FALSE_COLOR_jpg.rf.858fc862940a80171ba1698d549acec2.jpg'), PosixPath('data_filtered/cl6b5z6d1005ol45596rf4y2m_2_FALSE_COLOR_jpg.rf.aef45dea5da99c4d13f38dd920910b0b.jpg'), PosixPath('data_filtered/cl6oq2n1i008fao551fa07saw_1_TRUE_COLOR_jpg.rf.c24eb4b17e82d3b56366b170b0b1f25d.jpg'), PosixPath('data_filtered/cl6b5pr1b004kl455bt93cfs2_1_TRUE_COLOR_jpg.rf.70c4211a1b73f64b186de9f165e1c2f6.jpg'), PosixPath('data_filtered/cl6b652mi0068l4552keu9loj_6_SWIR_jpg.rf.1139087fcfdd2c71aca1e08ba169c124.jpg'), PosixPath('data_filtered/cl6opu1eb007uao5563tf72vm_2_FALSE_COLOR_jpg.rf.9a87b9a588f285f9fd649d8b4be71abf.jpg'), PosixPath('data_filtered/cl6e1y3zz001ngk559rm6ec1q_4_FALSE_COLOR__URBAN_jpg.rf.6fc48295a4d6745f1fe3bdcfb67b2973.jpg'), PosixPath('data_filtered/cl6ojcant004qao555opq5lio_6_SWIR_jpg.rf.786a706ff76fbd94a7250a97bdde08b3.jpg'), PosixPath('data_filtered/cl6kiers800088w554w61grpw_4_FALSE_COLOR__URBAN_jpg.rf.1f98202ca79ada1496853a9d130d845e.jpg'), PosixPath('data_filtered/cl6opeibd0071ao55f9t2g6nw_2_FALSE_COLOR_jpg.rf.ab3ee8ccb77b84173db4848b0e45985e.jpg'), PosixPath('data_filtered/cl6ltphn6002o8w55a78j55fa_2_FALSE_COLOR_jpg.rf.19dd931922851ac71a43e37d7e71cac5.jpg'), PosixPath('data_filtered/cl6okdwy00063ao5588jlcglr_4_FALSE_COLOR__URBAN_jpg.rf.352f082c75435cb06dd2e46d12479419.jpg'), PosixPath('data_filtered/cl6kgo2ff0031c455dv515gju_4_FALSE_COLOR__URBAN_jpg.rf.b2f2f53a17388b5f08885effd9a4e706.jpg'), PosixPath('data_filtered/cl6ltphn6002o8w55a78j55fa_4_FALSE_COLOR__URBAN_jpg.rf.15f2419aa86f5f636fe86bca7708f212.jpg'), PosixPath('data_filtered/cl6odfk31001qao557bfi78e5_2_FALSE_COLOR_jpg.rf.7810f4f897047e39b0c9af3149cb43df.jpg'), PosixPath('data_filtered/cl6od7f7j001hao55016b86jo_4_FALSE_COLOR__URBAN_jpg.rf.a05c84543565abd0f8984addd65c3e3e.jpg'), PosixPath('data_filtered/cl6ojcant004qao555opq5lio_2_FALSE_COLOR_jpg.rf.a61680af4f28a2f86dfe3619e8c6cad2.jpg'), PosixPath('data_filtered/cl6e1pf9j001ggk55feroguvj_2_FALSE_COLOR_jpg.rf.e5ddab20106f684b690b93f0baa84175.jpg'), PosixPath('data_filtered/cl6oqat3j008rao556mbqfoan_2_FALSE_COLOR_jpg.rf.0ddc196fcc073c504d510ac71ba3f92b.jpg'), PosixPath('data_filtered/cl6e30lnj002ugk558z8yabbd_1_TRUE_COLOR_jpg.rf.2e25a7ef06380c2e897608e1ff2caa38.jpg'), PosixPath('data_filtered/cl6b6p96a007ql455cvrh6peg_6_SWIR_jpg.rf.c9f11f0281ee9e5699b728418acd524d.jpg'), PosixPath('data_filtered/cl6odx8ff002jao5531b01e4o_4_FALSE_COLOR__URBAN_jpg.rf.8c7ddf00bbfce8db3112595957495165.jpg'), PosixPath('data_filtered/cl6chvqmw00crl455dq182jri_4_FALSE_COLOR__URBAN_jpg.rf.deb3d54d5111a454387e6bfd2c15228b.jpg'), PosixPath('data_filtered/cl6ojevvt004uao55432mcnea_1_TRUE_COLOR_jpg.rf.032b02132beec27d5037247b45908220.jpg'), PosixPath('data_filtered/cl6okbxd2005yao551huyeqkl_4_FALSE_COLOR__URBAN_jpg.rf.50a8d3eb02e27c5dce9673c8762102f6.jpg'), PosixPath('data_filtered/cl6kf256r0006c455hwcv6khh_6_SWIR_jpg.rf.6d50139fb07e7775fe4682d0fd297daf.jpg'), PosixPath('data_filtered/cl6ocozkd0004ao55e5fq7tfw_4_FALSE_COLOR__URBAN_jpg.rf.555ed6d49211ce13162167f59dab1746.jpg'), PosixPath('data_filtered/cl6b6sfee007xl455b8bt5zum_1_TRUE_COLOR_jpg.rf.a921f3be3f70ab5d36b15ac7b3721085.jpg'), PosixPath('data_filtered/cl6ct6g9a00gzl4555brigazi_4_FALSE_COLOR__URBAN_jpg.rf.5c007df412a0da258d50d03ae471057e.jpg'), PosixPath('data_filtered/cl6od5fxe001dao55dwsx001s_6_SWIR_jpg.rf.c97b5dc8b3d322980c4e76e626e548c2.jpg'), PosixPath('data_filtered/cl6cru4e800dyl455gekch8cy_1_TRUE_COLOR_jpg.rf.e99288a6d88e5afdbbcb05357aec507c.jpg'), PosixPath('data_filtered/cl6azgmfw0004f0557iqa1usw_6_SWIR_jpg.rf.0f5204c03b972113e76c964eada21109.jpg'), PosixPath('data_filtered/cl6ocpxm10006ao554w1tf9fa_2_FALSE_COLOR_jpg.rf.4a0eb26253daa0657560787be4b35949.jpg'), PosixPath('data_filtered/cl6e0dypj000qgk55gndm8q3o_6_SWIR_jpg.rf.68ab662c1d9a2de15cc87c7e50dd33ea.jpg'), PosixPath('data_filtered/cl6oiqz18003lao55eb3ebson_2_FALSE_COLOR_jpg.rf.13242aaf067985cb04e4bc1268f53381.jpg'), PosixPath('data_filtered/cl6chu8h100cnl4552hz21fjt_1_TRUE_COLOR_jpg.rf.84f9dde4ff62bdcb2bd99b714e6dd363.jpg'), PosixPath('data_filtered/cl6oe0eoe002qao552t6i1m6g_4_FALSE_COLOR__URBAN_jpg.rf.c26b96a42fbf6ed14d96683ad1701b73.jpg'), PosixPath('data_filtered/cl6opv5oo007xao553de9g7wd_1_TRUE_COLOR_jpg.rf.2ca9986e18ecf042953ce24774c8c5d1.jpg'), PosixPath('data_filtered/cl6oui3xy00aoao55d29e9vlz_4_FALSE_COLOR__URBAN_jpg.rf.75cb4ab2e4d84a20ae05d606f0cd9f7e.jpg'), PosixPath('data_filtered/cl6e07sbz000dgk556f1cemmc_6_SWIR_jpg.rf.b19bab12800875f90f051f5574fcb69c.jpg'), PosixPath('data_filtered/cl6b05bia0009l4551ymod0pi_2_FALSE_COLOR_jpg.rf.92c20d730f7ec80ca1b4a3956f62f251.jpg'), PosixPath('data_filtered/cl6ct9osf00h7l45538051wz5_1_TRUE_COLOR_jpg.rf.5cef36c17145f146256e2143c144efff.jpg'), PosixPath('data_filtered/cl6op0cny006bao55hefn0jyf_2_FALSE_COLOR_jpg.rf.de2937d7380d94b2a24472a7744afe9b.jpg'), PosixPath('data_filtered/cl6cti5zm00hrl4555pdk0ef9_2_FALSE_COLOR_jpg.rf.8a4207fdf127660cdc175b12a7fccef2.jpg'), PosixPath('data_filtered/cl6opzsq7008aao556djk9g0u_2_FALSE_COLOR_jpg.rf.b7e31808bd7352891dd041230b8ad0b9.jpg'), PosixPath('data_filtered/cl6oq4w4y008jao553s62btk7_6_SWIR_jpg.rf.56eb2cf4a5f3af9b2c2b5b08c0a21105.jpg'), PosixPath('data_filtered/cl6cstc5x00g7l455ec9d32eh_2_FALSE_COLOR_jpg.rf.5470b6259acf151a88a7f5c374fb865b.jpg'), PosixPath('data_filtered/cl6chj77t00c7l455c5c08ec6_1_TRUE_COLOR_jpg.rf.54765f5cf2a2e7c9fb3c27aed7fcfd85.jpg'), PosixPath('data_filtered/cl6ouiflj00apao55ef14ha2q_6_SWIR_jpg.rf.847b99640495bcb4aa215b63c1c3cde6.jpg'), PosixPath('data_filtered/cl6chu8h100cnl4552hz21fjt_6_SWIR_jpg.rf.238718d67a192951afa2f6c0a883ed2d.jpg'), PosixPath('data_filtered/cl6cgtahv00bkl455hcmk9cn1_1_TRUE_COLOR_jpg.rf.f149413852d4d47762f2eb31aec4d9b5.jpg'), PosixPath('data_filtered/cl6b65ksg0069l455f4od44cb_1_TRUE_COLOR_jpg.rf.3e54d168c45f2d0c7a3f5a70b8e92e20.jpg'), PosixPath('data_filtered/cl6b67dvg006dl455cgxl9kq8_6_SWIR_jpg.rf.128b5aecb2220f2fa5c185b9e54bd0fb.jpg'), PosixPath('data_filtered/cl6kjm7cv001r8w55czzsenxh_2_FALSE_COLOR_jpg.rf.96f98bd41b3564674cee2f2aaa162515.jpg'), PosixPath('data_filtered/cl6e1icq8001agk55c0pe3e5b_4_FALSE_COLOR__URBAN_jpg.rf.a7200e9f167ade98b5f50ee1bbebe711.jpg'), PosixPath('data_filtered/cl6m1ebtk003r8w557razf73c_1_TRUE_COLOR_jpg.rf.1d28f6f2c9fe353d562a971198c2b123.jpg'), PosixPath('data_filtered/cl6odge0x001sao551k414izu_4_FALSE_COLOR__URBAN_jpg.rf.68da4cd1ea095ce761dc5ab6fe097edf.jpg'), PosixPath('data_filtered/cl6dzs6a4000vhg55f52u2xze_2_FALSE_COLOR_jpg.rf.3d85b3175023ede04678d8a708055a7b.jpg'), PosixPath('data_filtered/cl6ocohki0003ao55bnyg99kc_6_SWIR_jpg.rf.0f996164f7e10b4482fd531c9c211f94.jpg'), PosixPath('data_filtered/cl6kgcddp002gc455ekvaehyc_2_FALSE_COLOR_jpg.rf.cc2eb5a05bb1c0c8555576917ac877fe.jpg'), PosixPath('data_filtered/cl6cteplg00hkl4551scr5fko_1_TRUE_COLOR_jpg.rf.8236949c672c9a0614f29946c7a3215c.jpg'), PosixPath('data_filtered/cl6cgw2be00bnl455cetv4inw_6_SWIR_jpg.rf.9ff585b96d534d0824a3896096a0c74b.jpg'), PosixPath('data_filtered/cl6b5wl3u005gl455fljch2g9_6_SWIR_jpg.rf.3e1c521895ae0351b839d38c16c2e44d.jpg'), PosixPath('data_filtered/cl6ltopha002n8w5531cg4sky_6_SWIR_jpg.rf.11acd1712844c811f1b078454f199f84.jpg'), PosixPath('data_filtered/cl6odfk31001qao557bfi78e5_6_SWIR_jpg.rf.b860636f6f2b2e71d18a88fadeb8653c.jpg'), PosixPath('data_filtered/cl6e20np5001sgk555chada9l_1_TRUE_COLOR_jpg.rf.c8e0c5725013c16308e93f9622c8c7d3.jpg'), PosixPath('data_filtered/cl6m15k1g00378w559sqfahyu_6_SWIR_jpg.rf.547e7435c94eb5cde08d1246196a8fc4.jpg'), PosixPath('data_filtered/cl6oul0ve00axao5549vy6mom_4_FALSE_COLOR__URBAN_jpg.rf.456734966fb731d2ec99eb9959327034.jpg'), PosixPath('data_filtered/cl6csnj9g00ftl4554f0z30lc_4_FALSE_COLOR__URBAN_jpg.rf.49569ed8c28ec3869a9e55dfd7f90397.jpg'), PosixPath('data_filtered/cl6b03yzy0005l455dq6x4eyc_6_SWIR_jpg.rf.74830a185e1fe1400cba89794ee1ef0d.jpg'), PosixPath('data_filtered/cl6cg8u0w00ajl455a3ho7vov_4_FALSE_COLOR__URBAN_jpg.rf.727d492c1d7851360cea6ef50154ae46.jpg'), PosixPath('data_filtered/cl6ch6a2n00bxl4554kqu9to4_2_FALSE_COLOR_jpg.rf.7e23a796e2457d80892cfb34288d6040.jpg'), PosixPath('data_filtered/cl6b752w00095l45532llequj_1_TRUE_COLOR_jpg.rf.327a752c2e51b28cc6c0156d0484ccde.jpg'), PosixPath('data_filtered/cl6ct23ww00gql45503oubjmo_4_FALSE_COLOR__URBAN_jpg.rf.819ff7531475c12fcbfad09b043c8378.jpg'), PosixPath('data_filtered/cl6b6l171007kl4552zfu0hh5_1_TRUE_COLOR_jpg.rf.742cc3d06e92c2bf297ec516c01f0937.jpg'), PosixPath('data_filtered/cl6odgxwb001tao559phvfhb7_2_FALSE_COLOR_jpg.rf.a3541b77ef69ffcbbb68c2679bf140b5.jpg'), PosixPath('data_filtered/cl6kgidey002uc455a3qe2ark_2_FALSE_COLOR_jpg.rf.7cc096454a709be2752b04fa230befae.jpg'), PosixPath('data_filtered/cl6b5n12o0049l455063q86e4_6_SWIR_jpg.rf.55371dc2e297883b469ea40717f67b43.jpg'), PosixPath('data_filtered/cl6m10ni200338w553m5pf9l5_1_TRUE_COLOR_jpg.rf.aba7991f3bcf60f90b24b03a9c2e429d.jpg'), PosixPath('data_filtered/cl6oiv12w003uao55arup9ca6_6_SWIR_jpg.rf.5eb7a8cdcd70e5753e2a286ed3e1b925.jpg'), PosixPath('data_filtered/cl6kj8pto00128w55cj0y58qg_4_FALSE_COLOR__URBAN_jpg.rf.45e99c5d9ca71f7c5fcbef21aee2720b.jpg'), PosixPath('data_filtered/cl6b6rmls007ul455clqha4p0_1_TRUE_COLOR_jpg.rf.c706e724b982cc61451904c2da58f1a9.jpg'), PosixPath('data_filtered/cl6b79f3e009vl455hmyk8e9e_1_TRUE_COLOR_jpg.rf.3011a8be79452c723e8e816eae6c3377.jpg'), PosixPath('data_filtered/cl6cs6mgj00f0l455egwshib7_1_TRUE_COLOR_jpg.rf.d1ab74c84059de9049a6e2af79eddc96.jpg'), PosixPath('data_filtered/cl6lsygs2001w8w551eungans_1_TRUE_COLOR_jpg.rf.54a6883266fd70f4a483a1d6ed11e2b9.jpg'), PosixPath('data_filtered/cl6e0j0t90010gk557b525asz_6_SWIR_jpg.rf.7fa83e66906146392ab7de8d22289b2e.jpg'), PosixPath('data_filtered/cl6b5phba004il45531lb6655_1_TRUE_COLOR_jpg.rf.86182cb796ffdd1d52c0540e0e05b4cc.jpg'), PosixPath('data_filtered/cl6cswt5400gdl4554rn2gjz9_1_TRUE_COLOR_jpg.rf.e410a3d52182432dc9d14d9b24b69cb0.jpg'), PosixPath('data_filtered/cl6crtivm00dwl45544k043su_6_SWIR_jpg.rf.dccd495d75c8765ac88d2cf78f453260.jpg'), PosixPath('data_filtered/cl6lsyw82001x8w55h42v4y3p_4_FALSE_COLOR__URBAN_jpg.rf.0914e7ca9cc3121cdfcc5826401d6673.jpg'), PosixPath('data_filtered/cl6cs0euj00egl455918xdqll_1_TRUE_COLOR_jpg.rf.fec2fff5707fc21c8aa9d29c3e14f5db.jpg'), PosixPath('data_filtered/cl6ocun81000iao55010uhpce_4_FALSE_COLOR__URBAN_jpg.rf.5210f764454f840bc10bf80e5016cea9.jpg'), PosixPath('data_filtered/cl6opowct007kao55518p0qp4_4_FALSE_COLOR__URBAN_jpg.rf.5e0fb337cbca043bafc5bce7c24fa796.jpg'), PosixPath('data_filtered/cl6m0w1nh002z8w558do5f7ar_6_SWIR_jpg.rf.cfa8e993433f6beae82c5dda88678f80.jpg'), PosixPath('data_filtered/cl6kfci270010c45580qyfo1k_6_SWIR_jpg.rf.5b61fbc3ac01de53cf5eebc76403c5af.jpg'), PosixPath('data_filtered/cl6csr5tv00g0l45530ayb807_6_SWIR_jpg.rf.7ccfe8079e77c3018c4ac98c973f770e.jpg'), PosixPath('data_filtered/cl6ct2hu900grl455hdde142n_4_FALSE_COLOR__URBAN_jpg.rf.f5086b4ced8fcaa27ce46922d0004363.jpg'), PosixPath('data_filtered/cl6e31up4002zgk55aj7w7a0x_1_TRUE_COLOR_jpg.rf.78641c45856cf58ead1496b18d270d3a.jpg'), PosixPath('data_filtered/cl6azt6by0000go55h4io4tab_2_FALSE_COLOR_jpg.rf.7bd6bf61c42f8477a59d290789795964.jpg'), PosixPath('data_filtered/cl6b5dtwl003gl455a4x29a1d_1_TRUE_COLOR_jpg.rf.1c86bc5f19ec6e59b465b2bbac9161b1.jpg'), PosixPath('data_filtered/cl6dyvvvc000lhg5533xc480w_4_FALSE_COLOR__URBAN_jpg.rf.7b4e887efe30535ef057f0a9ca071bfd.jpg'), PosixPath('data_filtered/cl6b5sn8f004xl455a0z7eski_1_TRUE_COLOR_jpg.rf.353a0bbf38298986fe6b54d786db5530.jpg'), PosixPath('data_filtered/cl6ctje2500hsl4550fuvht4f_6_SWIR_jpg.rf.e8d42e04ac021aa15617aa3ab4c4f626.jpg'), PosixPath('data_filtered/cl6cswevu00gbl45556scbr9n_4_FALSE_COLOR__URBAN_jpg.rf.93c5131e8f99facea67303b038ab2f17.jpg'), PosixPath('data_filtered/cl6ltqjke002q8w55ct7j5tel_6_SWIR_jpg.rf.f8910e03196999a430ba14366da7475c.jpg'), PosixPath('data_filtered/cl6e30dz3002tgk559uhm11za_4_FALSE_COLOR__URBAN_jpg.rf.0fec58b1d08785f75835c88c38eb6fd2.jpg'), PosixPath('data_filtered/cl6orlxem009lao5513o7hr6s_1_TRUE_COLOR_jpg.rf.e31d2ea1528b15c13434afbf3f41b125.jpg'), PosixPath('data_filtered/cl6odyfwh002lao55bnflcuaj_4_FALSE_COLOR__URBAN_jpg.rf.fa7524a106525288cadb53c1646a3301.jpg'), PosixPath('data_filtered/cl6ou6f7u00a5ao55h96m1hvj_2_FALSE_COLOR_jpg.rf.604d5ba40c6721f36646151d9b8216d0.jpg'), PosixPath('data_filtered/cl6ocu86l000hao5586i77xky_1_TRUE_COLOR_jpg.rf.850526f8bca7668a3023af7155d03747.jpg'), PosixPath('data_filtered/cl6cgk7k600b5l455ceot4yy5_2_FALSE_COLOR_jpg.rf.ca2cce9e38f2a3902ebc19da1dfa4021.jpg'), PosixPath('data_filtered/cl6b5s1n0004ul455es9i793w_1_TRUE_COLOR_jpg.rf.b4047203715e6e814acf94b0932d8906.jpg'), PosixPath('data_filtered/cl6oddf8p001pao558ykw6wkp_6_SWIR_jpg.rf.6c89676ddc0de9ebb1b57dd4f7eddbec.jpg'), PosixPath('data_filtered/cl6m12kpt00358w55c0oah42i_4_FALSE_COLOR__URBAN_jpg.rf.cfe3d51f6e5cf8bf05a95d0300e15d31.jpg'), PosixPath('data_filtered/cl6odbryt001nao55htogdny9_6_SWIR_jpg.rf.b942f1a9027fe10d1f702fa0daae70f7.jpg'), PosixPath('data_filtered/cl6cg6cf600agl455gtin273p_6_SWIR_jpg.rf.72f07b56c577386346fbe7021acc443c.jpg'), PosixPath('data_filtered/cl6b5dekg003el4552wy46fsz_4_FALSE_COLOR__URBAN_jpg.rf.025e0455dad67b91979fecdc00bf453c.jpg'), PosixPath('data_filtered/cl6b7ep9100a4l455h3w9fstk_4_FALSE_COLOR__URBAN_jpg.rf.42f76795d8cc4c0a786da759dd334cb6.jpg'), PosixPath('data_filtered/cl6oix6p8003xao558gep7jfa_6_SWIR_jpg.rf.9736bdd1879c0e0861072b086ca94dde.jpg'), PosixPath('data_filtered/cl6od3kun001bao55bcq677k3_2_FALSE_COLOR_jpg.rf.3fad73bdcffb62a261e27d5f101cc7e1.jpg'), PosixPath('data_filtered/cl6b6xs0d008el455cvd92nt5_6_SWIR_jpg.rf.035c96be1fff7d392e5e43e386c271f1.jpg'), PosixPath('data_filtered/cl6kez8j70002c455axv68ulf_1_TRUE_COLOR_jpg.rf.5ab626fcd9f1f8d03141fbce7c4d2fda.jpg'), PosixPath('data_filtered/cl6b5f0o3003ll4553yz85s0u_2_FALSE_COLOR_jpg.rf.445d01ea4ecb4daf88fc55dbab1364a1.jpg'), PosixPath('data_filtered/cl6azvz950000t0552g8v22is_1_TRUE_COLOR_jpg.rf.9324abe7caa6850140e03d5454f3abb4.jpg'), PosixPath('data_filtered/cl6kjhhl5001h8w55fo1v1vqs_1_TRUE_COLOR_jpg.rf.188c382d5e6f2f64671fb1473f391d17.jpg'), PosixPath('data_filtered/cl6op9m80006sao552sp0bgyl_2_FALSE_COLOR_jpg.rf.bee0f2e3b76eaaae3f5309ba40f22e89.jpg'), PosixPath('data_filtered/cl6oj8w06004hao558ky44xei_6_SWIR_jpg.rf.a5899ccda47be15f003449d3d880a9da.jpg'), PosixPath('data_filtered/cl6kgj08y002wc455bqfpd8bd_4_FALSE_COLOR__URBAN_jpg.rf.ba5e373a643f637c02f0a7f548617b90.jpg'), PosixPath('data_filtered/cl6ok74u9005oao557sb5dqub_4_FALSE_COLOR__URBAN_jpg.rf.3b9414b029ab4b9cfa4f5aa927740e03.jpg'), PosixPath('data_filtered/cl6lt37ph00248w55dnhvff9s_2_FALSE_COLOR_jpg.rf.c96af4afa10719f140a7be3e62c6eaf6.jpg'), PosixPath('data_filtered/cl6e20f48001rgk5574xt82w3_2_FALSE_COLOR_jpg.rf.24395424307134ba19fc86b6ee59b2e7.jpg'), PosixPath('data_filtered/cl6b6xnlo008dl455ft678vcm_1_TRUE_COLOR_jpg.rf.7de7f22e4d7f43603fc77d24156c207c.jpg'), PosixPath('data_filtered/cl6chumom00col4556jyfb7a5_4_FALSE_COLOR__URBAN_jpg.rf.445eef4a54a2beab2c3398d8f64fbcfb.jpg'), PosixPath('data_filtered/cl6kgm9qr002yc455g5qs87kz_4_FALSE_COLOR__URBAN_jpg.rf.0554aa78bc92fb2e6fbd671e4952c21f.jpg'), PosixPath('data_filtered/cl6e06umy000bgk55gkbw1ajq_2_FALSE_COLOR_jpg.rf.96eb006861178f50b3a2a2453346d017.jpg'), PosixPath('data_filtered/cl6oqz7u8009eao55hd74fzt1_4_FALSE_COLOR__URBAN_jpg.rf.22df982e0e2a34ad1b2c566f6f1e80a5.jpg'), PosixPath('data_filtered/cl6oq9ozh008nao5591t079g1_1_TRUE_COLOR_jpg.rf.1309c56d7ff1cdf3a3cdde1ed4ed5cf0.jpg'), PosixPath('data_filtered/cl6b08qce000hl455fod5abjo_1_TRUE_COLOR_jpg.rf.3ac00fb7f706d7cf6cb843ea384fbd26.jpg'), PosixPath('data_filtered/cl6b5qhgi004ml4554fwj59ku_2_FALSE_COLOR_jpg.rf.f2becfdadd89f46560f6e995b220149f.jpg'), PosixPath('data_filtered/cl6odwuqk002iao555zzv0c59_2_FALSE_COLOR_jpg.rf.378e24cf0ecebacbb21c214b7f42190a.jpg'), PosixPath('data_filtered/cl6chv5i400cpl455b8o71jcm_6_SWIR_jpg.rf.dac7d24e59b96ef59d3d17fca9caa99e.jpg'), PosixPath('data_filtered/cl6kfzb24001zc4555e770ib2_1_TRUE_COLOR_jpg.rf.3f2075aeb29d375dfccd06842e01369a.jpg'), PosixPath('data_filtered/cl6kfrfmx001hc455cbojhgeb_1_TRUE_COLOR_jpg.rf.06641a0ddbcb7d3b264dfcba6ca41372.jpg'), PosixPath('data_filtered/cl6lt70fh00298w5541ighy5t_4_FALSE_COLOR__URBAN_jpg.rf.7ccc6d833327bb0baa7aa11bd6b9d7a1.jpg'), PosixPath('data_filtered/cl6kgaw2p002bc455hair6q7o_1_TRUE_COLOR_jpg.rf.c1a9a244f7f91d010279e2e7c971c54e.jpg'), PosixPath('data_filtered/cl6e2xkh0002mgk55aif2aqvo_2_FALSE_COLOR_jpg.rf.0b7ee80fe8e0318db34d8f46d4d9e818.jpg'), PosixPath('data_filtered/cl6ki7l6900048w55hs8c6nwt_4_FALSE_COLOR__URBAN_jpg.rf.56f10fce2a6ae3e42e2828903872ccf2.jpg'), PosixPath('data_filtered/cl6odk9yf001wao558oys61c5_4_FALSE_COLOR__URBAN_jpg.rf.04d7346dab2b1b12261db04fbe84ec6e.jpg'), PosixPath('data_filtered/cl6b7118q008ol4551ye8g44d_4_FALSE_COLOR__URBAN_jpg.rf.cfa2c6cd2a96d37094600721a31f7d63.jpg'), PosixPath('data_filtered/cl6kgfdjy002nc4551yk01nj6_1_TRUE_COLOR_jpg.rf.aece6769ff85659506ec8fb96b385955.jpg'), PosixPath('data_filtered/cl6ct487q00gul455bxvzaopi_2_FALSE_COLOR_jpg.rf.cf80bee753c23a01637a2082944d1bf1.jpg'), PosixPath('data_filtered/cl6oqq4r40096ao557h69gx2o_2_FALSE_COLOR_jpg.rf.fcdbaf87b09e10e425d48710af7d5c39.jpg'), PosixPath('data_filtered/cl6oqcc63008vao551jrk90jb_1_TRUE_COLOR_jpg.rf.c494c328e46443df2ef5374b08815af3.jpg'), PosixPath('data_filtered/cl6b5nqx3004dl4556qu6azh4_4_FALSE_COLOR__URBAN_jpg.rf.7a585ae57fe272905ce1baa8c7c69898.jpg'), PosixPath('data_filtered/cl6kf9nvv000tc455gs7pbv7h_1_TRUE_COLOR_jpg.rf.b4649084b8bac4a6b4df2988ce5ce1c7.jpg'), PosixPath('data_filtered/cl6b0cqup000ql4558m8y8a8t_4_FALSE_COLOR__URBAN_jpg.rf.1c5781c5e69bc219c997c5925946f18d.jpg'), PosixPath('data_filtered/cl6b7263q008rl455cbp6ejbc_2_FALSE_COLOR_jpg.rf.1568b2fbf7b7b0778bd5ef6a743c18f8.jpg'), PosixPath('data_filtered/cl6kgeqar002lc455akv50au4_2_FALSE_COLOR_jpg.rf.cc30b23aec838a549eeb61aeb281a5f9.jpg'), PosixPath('data_filtered/cl6oe04jy002pao551fir09my_6_SWIR_jpg.rf.96178538d47e273395c1d22ff9d52c1f.jpg'), PosixPath('data_filtered/cl6e2n2tv002hgk553va60g50_1_TRUE_COLOR_jpg.rf.75734485005ac950cbb10aae5402cb76.jpg'), PosixPath('data_filtered/cl6cs3rd100esl455en8mcp5g_1_TRUE_COLOR_jpg.rf.3b866376fde360e27def0dd04d60d978.jpg'), PosixPath('data_filtered/cl6e35mru003cgk559os14r7y_6_SWIR_jpg.rf.336962415de265ba0bd7c7a9fa5a7948.jpg'), PosixPath('data_filtered/cl6odfk31001qao557bfi78e5_4_FALSE_COLOR__URBAN_jpg.rf.ee2a96a284dcadbe409e5bad1816a25a.jpg'), PosixPath('data_filtered/cl6cs7poo00f2l4557i4i86z6_2_FALSE_COLOR_jpg.rf.ef0dfd73530748d094bdd6043bc03479.jpg'), PosixPath('data_filtered/cl6b6gdyh0079l4555ka0g84o_1_TRUE_COLOR_jpg.rf.1b70be6a6e92d72b441c4e5bff1f6b4d.jpg'), PosixPath('data_filtered/cl6cgs3qs00bil4551v5n3v2h_6_SWIR_jpg.rf.31d70fcbaab32757a389c37c32a264f9.jpg'), PosixPath('data_filtered/cl6oe1f0u002sao550ab86ndb_1_TRUE_COLOR_jpg.rf.1804fe724ab7abed6f3adaff1a5995ae.jpg'), PosixPath('data_filtered/cl6cs8jie00f5l4555hn76aj1_2_FALSE_COLOR_jpg.rf.d83bff9a3317d11e6db58f9a45a26816.jpg'), PosixPath('data_filtered/cl6ocs2h6000cao559bx42yho_6_SWIR_jpg.rf.33c06060130da4dc8e43414cda713795.jpg'), PosixPath('data_filtered/cl6b58d1y002rl4558379g2db_6_SWIR_jpg.rf.d2c130e5f22d952b133056e4c484fdd9.jpg'), PosixPath('data_filtered/cl6odgxwb001tao559phvfhb7_4_FALSE_COLOR__URBAN_jpg.rf.256adbc8831a5c00de27de62aaed7ff8.jpg'), PosixPath('data_filtered/cl6cgm3hm00bal455ei1ken8s_1_TRUE_COLOR_jpg.rf.1a3ff69dd97b6f1dc1743cd4c0db584d.jpg'), PosixPath('data_filtered/cl6orry9200a0ao559gb82ms0_2_FALSE_COLOR_jpg.rf.121ab501943ce8bb65a5ac587ed62ff0.jpg'), PosixPath('data_filtered/cl6e34bti0037gk55gzdv0akr_1_TRUE_COLOR_jpg.rf.d5bef0822d1f990994eab5089cde272c.jpg'), PosixPath('data_filtered/cl6ojvzs90058ao55ddizcpuh_2_FALSE_COLOR_jpg.rf.e85b48782ef781d6a141843203abbaed.jpg'), PosixPath('data_filtered/cl6b029x70000l4556t6r3w8m_4_FALSE_COLOR__URBAN_jpg.rf.5d53d7a53c7694fe5f90bc8ad1aec23c.jpg'), PosixPath('data_filtered/cl6kjfsd8001d8w55e6ne0oyo_1_TRUE_COLOR_jpg.rf.841ddd167686a09b6dcee75bf59ce195.jpg'), PosixPath('data_filtered/cl6oduu28002dao550pgs32ff_2_FALSE_COLOR_jpg.rf.4f51398bc79c4202cd4b4d437dc1dd8a.jpg'), PosixPath('data_filtered/cl6b5u0en0054l4551vpacdoj_1_TRUE_COLOR_jpg.rf.fe51b30e3bbe4494c93fa97591e6cd0a.jpg'), PosixPath('data_filtered/cl6b57brh002ll4555o3te631_6_SWIR_jpg.rf.c7fd68b8839fa2e7afcb6b41fa31d332.jpg'), PosixPath('data_filtered/cl6b5k38g003zl455bgtd1317_4_FALSE_COLOR__URBAN_jpg.rf.fcaa4827b85c1b38fdedffcd6a3b098f.jpg'), PosixPath('data_filtered/cl6b6y36r008gl4559z723z25_1_TRUE_COLOR_jpg.rf.5d6b1bf18a4e8ff534dc3c4ca3bb073a.jpg'), PosixPath('data_filtered/cl6e2iu9v0027gk55e8cfax9f_2_FALSE_COLOR_jpg.rf.771e429f20da6dabceb7f68a5aa3152b.jpg'), PosixPath('data_filtered/cl6kf256r0006c455hwcv6khh_2_FALSE_COLOR_jpg.rf.1497e932e1406e3360ac61f268d7a02a.jpg'), PosixPath('data_filtered/cl6dysxe3000ihg5573nzfbsy_6_SWIR_jpg.rf.79e2da02bc62f4f66f2346c01ab4aed8.jpg'), PosixPath('data_filtered/cl6kj4n7o000o8w55eq83czxi_1_TRUE_COLOR_jpg.rf.ed5093deefd129171df94fb32cf9488d.jpg'), PosixPath('data_filtered/cl6e3j5rh0046gk5519l319wr_2_FALSE_COLOR_jpg.rf.aec61d0bb5423cbf29d0a057a728d946.jpg'), PosixPath('data_filtered/cl6od7f7j001hao55016b86jo_2_FALSE_COLOR_jpg.rf.8a798a7467bd6bd68d18724381092089.jpg'), PosixPath('data_filtered/cl6b6y193008fl455chyoaarb_4_FALSE_COLOR__URBAN_jpg.rf.18928a3e681add214cf26beb7dc5790c.jpg'), PosixPath('data_filtered/cl6b6op7a007ol455fvvv6g4a_6_SWIR_jpg.rf.4926076997caf8669df1f851efeae7e6.jpg'), PosixPath('data_filtered/cl6kgdfbl002ic45506ui0jbm_2_FALSE_COLOR_jpg.rf.2a2977277d6ac5d86155b8562dcd9aa5.jpg'), PosixPath('data_filtered/cl6b0gln2000wl4559wpzdukf_1_TRUE_COLOR_jpg.rf.7f67b50ed7d78ce81f6aac2ca352d755.jpg'), PosixPath('data_filtered/cl6odyfwh002lao55bnflcuaj_1_TRUE_COLOR_jpg.rf.98f786922f2c57d43d5d72e992fe955c.jpg'), PosixPath('data_filtered/cl6ki3fbe00018w55146m86ja_4_FALSE_COLOR__URBAN_jpg.rf.a905168377908ca76ba5a1560a355536.jpg'), PosixPath('data_filtered/cl6kjek5g001a8w5561zp7ddp_1_TRUE_COLOR_jpg.rf.dfa6bbe4b6f1116be7d0a32ac6a9f067.jpg'), PosixPath('data_filtered/cl6e2cbgk001tgk5560zhhqm7_4_FALSE_COLOR__URBAN_jpg.rf.25b62006fb08f8d995f34a3c229a08a6.jpg'), PosixPath('data_filtered/cl6oimia5003dao558osp4mxe_1_TRUE_COLOR_jpg.rf.f20e51ab0ee966bbec0be1bceb83e2f4.jpg'), PosixPath('data_filtered/cl6oplars007eao55fno41dzm_2_FALSE_COLOR_jpg.rf.f92d62150fff9fe3b15615c3a667466b.jpg'), PosixPath('data_filtered/cl6b542k6002bl455fmydcwlb_2_FALSE_COLOR_jpg.rf.21a4cff766bca0e29ad540511acea32d.jpg'), PosixPath('data_filtered/cl6oijbft0037ao558i012jhh_2_FALSE_COLOR_jpg.rf.1a767327bd584e7865838b362acdbf85.jpg'), PosixPath('data_filtered/cl6oq9ozh008nao5591t079g1_4_FALSE_COLOR__URBAN_jpg.rf.6c26670ade9335a2ad7af64dbf3806ed.jpg'), PosixPath('data_filtered/cl6ch5dh200bvl4559ujea96q_1_TRUE_COLOR_jpg.rf.84e18e58f1f34701ca68456bdaf3630b.jpg'), PosixPath('data_filtered/cl6cpff5c00dll455ew1ddl1f_1_TRUE_COLOR_jpg.rf.cbcb617570e3672bd266ec946e1ea139.jpg'), PosixPath('data_filtered/cl6e2uo3r002kgk556io96bkr_6_SWIR_jpg.rf.e3b5866638f1f9fd28ddfdf0b7191a27.jpg'), PosixPath('data_filtered/cl6e1zx08001pgk554gv1bhpt_1_TRUE_COLOR_jpg.rf.f16c3ec722ec9dc85bfd576853d2975b.jpg'), PosixPath('data_filtered/cl6b5zpnm005rl4554xa7cvp7_2_FALSE_COLOR_jpg.rf.0826a21d562f6355cb7685d1b908b35c.jpg'), PosixPath('data_filtered/cl6ltrgqp002s8w55bwy9c5b4_4_FALSE_COLOR__URBAN_jpg.rf.76fca94ad3eb13cfdb34ef2efdb184ae.jpg'), PosixPath('data_filtered/cl6kgpdp90034c4556foheik0_6_SWIR_jpg.rf.c22f311b1888c6f7c59a73444e2e52c1.jpg'), PosixPath('data_filtered/cl6b4zqf6001xl455gp6h5ca8_1_TRUE_COLOR_jpg.rf.b98add8863e6743972e03c69a46b54fd.jpg'), PosixPath('data_filtered/cl6m0pnw5002y8w552btfchke_1_TRUE_COLOR_jpg.rf.de631dd84dbeac65b6d07b19dbea5cc1.jpg'), PosixPath('data_filtered/cl6m17r53003b8w55c0zsgjie_4_FALSE_COLOR__URBAN_jpg.rf.0e0e305fb9dd82c08f456f3a69fa1f51.jpg'), PosixPath('data_filtered/cl6odzdk0002nao55dz13d0s9_2_FALSE_COLOR_jpg.rf.3930a15cf860331433faff701569ec52.jpg'), PosixPath('data_filtered/cl6kjizzk001l8w550s1uej5w_2_FALSE_COLOR_jpg.rf.ef3cf69daa6ee8e6e02e683e0aae8809.jpg'), PosixPath('data_filtered/cl6cgl1e600b7l455b4k067pe_1_TRUE_COLOR_jpg.rf.368b310764443e76767793eb11b0cc82.jpg'), PosixPath('data_filtered/cl6ct1fab00gnl455b6a585vi_6_SWIR_jpg.rf.14491e2fe3633bf885fcb9c9e4bf3c4d.jpg'), PosixPath('data_filtered/cl6cgh0lk00b3l455a01o4mrg_2_FALSE_COLOR_jpg.rf.8b38adc9c8df2b75e1b3632cd6bc6912.jpg'), PosixPath('data_filtered/cl6ctgypm00hol455a8epfwn4_6_SWIR_jpg.rf.a7e2f6744b582e10fae84620bcaef311.jpg'), PosixPath('data_filtered/cl6ctquqv00i6l4554a2rdn94_2_FALSE_COLOR_jpg.rf.59bff3a387823906adf6f92b1d653058.jpg'), PosixPath('data_filtered/cl6b6o1av007nl455829ah78j_6_SWIR_jpg.rf.a3be7e5b92fba0b57b6ad10afa4a7b03.jpg'), PosixPath('data_filtered/cl6b5dfkd003fl455d1yufkce_2_FALSE_COLOR_jpg.rf.d4fff2ca1272f4fb2f0c9cb2ef9a4e41.jpg'), PosixPath('data_filtered/cl6odm3oj0023ao55641s046f_2_FALSE_COLOR_jpg.rf.42e989097fe2f68f01f38c1175b8c8cc.jpg'), PosixPath('data_filtered/cl6ojbg9t004oao552glqe340_2_FALSE_COLOR_jpg.rf.5430eb0caaae90ba41e84b623c3726db.jpg'), PosixPath('data_filtered/cl6b5ojmc004gl4551hf906us_1_TRUE_COLOR_jpg.rf.4b67d4ab26364dde4077a63bace21dee.jpg')]\n",
      "493 [PosixPath('dataset/labels/_annotations_filtered.coco/cl6cgsj2300bjl4556rjk0yap_1_TRUE_COLOR_jpg.rf.5a5429214847a7ced132367d07c16c0c.txt'), PosixPath('dataset/labels/_annotations_filtered.coco/cl6cswevu00gbl45556scbr9n_1_TRUE_COLOR_jpg.rf.1d5a5a2e50cf241e7b24ebde117d8cc3.txt'), PosixPath('dataset/labels/_annotations_filtered.coco/cl6ctopvo00i4l455cgtw30dd_2_FALSE_COLOR_jpg.rf.3befac1dba28baf207b23aacd3b4e9ac.txt'), PosixPath('dataset/labels/_annotations_filtered.coco/cl6e2xkh0002mgk55aif2aqvo_2_FALSE_COLOR_jpg.rf.0b7ee80fe8e0318db34d8f46d4d9e818.txt'), PosixPath('dataset/labels/_annotations_filtered.coco/cl6e2m95l002ggk55a3eefylp_6_SWIR_jpg.rf.a0cdb03cbca75c9224048e879c6fe734.txt'), PosixPath('dataset/labels/_annotations_filtered.coco/cl6oddf8p001pao558ykw6wkp_6_SWIR_jpg.rf.6c89676ddc0de9ebb1b57dd4f7eddbec.txt'), PosixPath('dataset/labels/_annotations_filtered.coco/cl6orry9200a0ao559gb82ms0_1_TRUE_COLOR_jpg.rf.cc9619d3a597ceaf2853dd8c2ee86be7.txt'), PosixPath('dataset/labels/_annotations_filtered.coco/cl6dypwru000chg559pvqei5w_1_TRUE_COLOR_jpg.rf.4b5d1b454cee4e4f04b8f6b281127935.txt'), PosixPath('dataset/labels/_annotations_filtered.coco/cl6b6o1av007nl455829ah78j_6_SWIR_jpg.rf.a3be7e5b92fba0b57b6ad10afa4a7b03.txt'), PosixPath('dataset/labels/_annotations_filtered.coco/cl6opx5vv0082ao55dx8j73xn_1_TRUE_COLOR_jpg.rf.ff74a7f91077661ec3a5e3e463cda851.txt'), PosixPath('dataset/labels/_annotations_filtered.coco/cl6chmuyr00cfl455hd0u03x9_1_TRUE_COLOR_jpg.rf.a4aad918213a396e717e044bfac537b9.txt'), PosixPath('dataset/labels/_annotations_filtered.coco/cl6opthke007tao557hsthpgq_6_SWIR_jpg.rf.604fa331ba70d0a1306d2e9281204764.txt'), PosixPath('dataset/labels/_annotations_filtered.coco/cl6e1zkvy001ogk5561l0f1q7_1_TRUE_COLOR_jpg.rf.c934a3c4eef92e6a2fb63ba0f5b569e8.txt'), PosixPath('dataset/labels/_annotations_filtered.coco/cl6ctgypm00hol455a8epfwn4_6_SWIR_jpg.rf.a7e2f6744b582e10fae84620bcaef311.txt'), PosixPath('dataset/labels/_annotations_filtered.coco/cl6cta0z600h9l455cygudh3w_4_FALSE_COLOR__URBAN_jpg.rf.5a899bce198e041112d96b0302d74292.txt'), PosixPath('dataset/labels/_annotations_filtered.coco/cl6oq2n1i008fao551fa07saw_1_TRUE_COLOR_jpg.rf.c24eb4b17e82d3b56366b170b0b1f25d.txt'), PosixPath('dataset/labels/_annotations_filtered.coco/cl6dzzjvo0010hg552jj7ae4b_2_FALSE_COLOR_jpg.rf.53e03154702ae8f918f349befcf7e312.txt'), PosixPath('dataset/labels/_annotations_filtered.coco/cl6keyw310001c4551ugx15q5_4_FALSE_COLOR__URBAN_jpg.rf.d3371c057d7fef8486fe692a5e9141f8.txt'), PosixPath('dataset/labels/_annotations_filtered.coco/cl6csapmj00f7l4558gne2y5r_2_FALSE_COLOR_jpg.rf.7d74755e63ae57fc0bae665bbed9f786.txt'), PosixPath('dataset/labels/_annotations_filtered.coco/cl6m1fco6003v8w558h0s1dhz_4_FALSE_COLOR__URBAN_jpg.rf.39e3021237a9a84b196a3ce0eeede01d.txt'), PosixPath('dataset/labels/_annotations_filtered.coco/cl6b5i94f003ul455dplv6fmu_6_SWIR_jpg.rf.f9f02363db3c3db2c396aa67378922e7.txt'), PosixPath('dataset/labels/_annotations_filtered.coco/cl6kf110z0004c455dymnacxa_1_TRUE_COLOR_jpg.rf.84a69e729c116c44303cdbf3fc321a71.txt'), PosixPath('dataset/labels/_annotations_filtered.coco/cl6kf256r0006c455hwcv6khh_6_SWIR_jpg.rf.6d50139fb07e7775fe4682d0fd297daf.txt'), PosixPath('dataset/labels/_annotations_filtered.coco/cl6cp9ucc00d8l455fzq49p99_2_FALSE_COLOR_jpg.rf.431478070ff89a379d3ab9f1a5bc110e.txt'), PosixPath('dataset/labels/_annotations_filtered.coco/cl6m0whp000308w555xk5cwij_1_TRUE_COLOR_jpg.rf.c39d217c7dfdf6208338433504804ff1.txt'), PosixPath('dataset/labels/_annotations_filtered.coco/cl6b5wl3u005gl455fljch2g9_6_SWIR_jpg.rf.3e1c521895ae0351b839d38c16c2e44d.txt'), PosixPath('dataset/labels/_annotations_filtered.coco/cl6opc9oz006zao552eyx63jq_1_TRUE_COLOR_jpg.rf.f994921b8a56d2c9d4e28248efa38b8e.txt'), PosixPath('dataset/labels/_annotations_filtered.coco/cl6lt6ipg00288w55ee7scu7b_6_SWIR_jpg.rf.217d62e8998857f4cc5ca3a6ad7e5412.txt'), PosixPath('dataset/labels/_annotations_filtered.coco/cl6e1zx08001pgk554gv1bhpt_1_TRUE_COLOR_jpg.rf.f16c3ec722ec9dc85bfd576853d2975b.txt'), PosixPath('dataset/labels/_annotations_filtered.coco/cl6ocohki0003ao55bnyg99kc_6_SWIR_jpg.rf.0f996164f7e10b4482fd531c9c211f94.txt'), PosixPath('dataset/labels/_annotations_filtered.coco/cl6ki7l6900048w55hs8c6nwt_4_FALSE_COLOR__URBAN_jpg.rf.56f10fce2a6ae3e42e2828903872ccf2.txt'), PosixPath('dataset/labels/_annotations_filtered.coco/cl6op0cny006bao55hefn0jyf_2_FALSE_COLOR_jpg.rf.de2937d7380d94b2a24472a7744afe9b.txt'), PosixPath('dataset/labels/_annotations_filtered.coco/cl6lt2g2y00228w55cf1a1yxr_2_FALSE_COLOR_jpg.rf.36efe84e8bb672989f589aad86e98108.txt'), PosixPath('dataset/labels/_annotations_filtered.coco/cl6opzsq7008aao556djk9g0u_2_FALSE_COLOR_jpg.rf.b7e31808bd7352891dd041230b8ad0b9.txt'), PosixPath('dataset/labels/_annotations_filtered.coco/cl6ct23ww00gql45503oubjmo_4_FALSE_COLOR__URBAN_jpg.rf.819ff7531475c12fcbfad09b043c8378.txt'), PosixPath('dataset/labels/_annotations_filtered.coco/cl6ooxizh0068ao55h1l3hrim_1_TRUE_COLOR_jpg.rf.73178115b18484ae56027970999c67a5.txt'), PosixPath('dataset/labels/_annotations_filtered.coco/cl6lt50lf00278w555isdaowx_6_SWIR_jpg.rf.38c24d681604400240108adc91a08717.txt'), PosixPath('dataset/labels/_annotations_filtered.coco/cl6odx8ff002jao5531b01e4o_4_FALSE_COLOR__URBAN_jpg.rf.8c7ddf00bbfce8db3112595957495165.txt'), PosixPath('dataset/labels/_annotations_filtered.coco/cl6kgdzqp002kc455030p44eo_2_FALSE_COLOR_jpg.rf.157fbd858a1b7089c6f75fa68eb8638a.txt'), PosixPath('dataset/labels/_annotations_filtered.coco/cl6e1icq8001agk55c0pe3e5b_2_FALSE_COLOR_jpg.rf.bde105352e572fababd4882d57cd8ee3.txt'), PosixPath('dataset/labels/_annotations_filtered.coco/cl6kgnh9k0030c455dtnabosj_4_FALSE_COLOR__URBAN_jpg.rf.9bf22dbcfc66e6fb99e981e0bf995458.txt'), PosixPath('dataset/labels/_annotations_filtered.coco/cl6cti5zm00hrl4555pdk0ef9_2_FALSE_COLOR_jpg.rf.8a4207fdf127660cdc175b12a7fccef2.txt'), PosixPath('dataset/labels/_annotations_filtered.coco/cl6kfzb24001zc4555e770ib2_1_TRUE_COLOR_jpg.rf.3f2075aeb29d375dfccd06842e01369a.txt'), PosixPath('dataset/labels/_annotations_filtered.coco/cl6cteplg00hkl4551scr5fko_1_TRUE_COLOR_jpg.rf.8236949c672c9a0614f29946c7a3215c.txt'), PosixPath('dataset/labels/_annotations_filtered.coco/cl6cg6cf600agl455gtin273p_6_SWIR_jpg.rf.72f07b56c577386346fbe7021acc443c.txt'), PosixPath('dataset/labels/_annotations_filtered.coco/cl6b58mbx002sl4550bzf0gow_1_TRUE_COLOR_jpg.rf.ad7f4987c00f2b3f54269ded2871b104.txt'), PosixPath('dataset/labels/_annotations_filtered.coco/cl6odm3oj0023ao55641s046f_4_FALSE_COLOR__URBAN_jpg.rf.e06b1ddebe1889e272bf11bcd8220072.txt'), PosixPath('dataset/labels/_annotations_filtered.coco/cl6e2uo3r002kgk556io96bkr_6_SWIR_jpg.rf.e3b5866638f1f9fd28ddfdf0b7191a27.txt'), PosixPath('dataset/labels/_annotations_filtered.coco/cl6cho7a000cil455fiddgkjj_6_SWIR_jpg.rf.c1282e35ab10c5974e2cf5a9378bdb65.txt'), PosixPath('dataset/labels/_annotations_filtered.coco/cl6lt70fh00298w5541ighy5t_4_FALSE_COLOR__URBAN_jpg.rf.7ccc6d833327bb0baa7aa11bd6b9d7a1.txt'), PosixPath('dataset/labels/_annotations_filtered.coco/cl6kfbq11000yc45577e7e4bg_1_TRUE_COLOR_jpg.rf.c8c9d7c11989ad75fba7ee813467b034.txt'), PosixPath('dataset/labels/_annotations_filtered.coco/cl6kjek5g001a8w5561zp7ddp_1_TRUE_COLOR_jpg.rf.dfa6bbe4b6f1116be7d0a32ac6a9f067.txt'), PosixPath('dataset/labels/_annotations_filtered.coco/cl6b5u0en0054l4551vpacdoj_1_TRUE_COLOR_jpg.rf.fe51b30e3bbe4494c93fa97591e6cd0a.txt'), PosixPath('dataset/labels/_annotations_filtered.coco/cl6opeibd0071ao55f9t2g6nw_1_TRUE_COLOR_jpg.rf.6070362401c95d15c7c1bceb98e721bb.txt'), PosixPath('dataset/labels/_annotations_filtered.coco/cl6ojcant004qao555opq5lio_4_FALSE_COLOR__URBAN_jpg.rf.4b4cf2d52533e13225b68a0dee627cc4.txt'), PosixPath('dataset/labels/_annotations_filtered.coco/cl6kj8pto00128w55cj0y58qg_4_FALSE_COLOR__URBAN_jpg.rf.45e99c5d9ca71f7c5fcbef21aee2720b.txt'), PosixPath('dataset/labels/_annotations_filtered.coco/cl6b6vihd0086l4553gmk0011_2_FALSE_COLOR_jpg.rf.155496cce064167283541a8c4a3ddec7.txt'), PosixPath('dataset/labels/_annotations_filtered.coco/cl6cgwlv800bol4557nsq5jwk_4_FALSE_COLOR__URBAN_jpg.rf.b96336e560cb8e2b952def4e617218e4.txt'), PosixPath('dataset/labels/_annotations_filtered.coco/cl6kgmrej002zc455a27d973q_4_FALSE_COLOR__URBAN_jpg.rf.5885b70c7b3b3dafd9806852b4e76ec5.txt'), PosixPath('dataset/labels/_annotations_filtered.coco/cl6ojv5dx0056ao557rpa0ljr_2_FALSE_COLOR_jpg.rf.e62e4cd6da325f259c3e6b98c8f16dd1.txt'), PosixPath('dataset/labels/_annotations_filtered.coco/cl6b6xs0d008el455cvd92nt5_6_SWIR_jpg.rf.035c96be1fff7d392e5e43e386c271f1.txt'), PosixPath('dataset/labels/_annotations_filtered.coco/cl6b5f9f1003ml455abwkc72t_1_TRUE_COLOR_jpg.rf.a09c2099ea1a8b50394fb12bfbdb9ea8.txt'), PosixPath('dataset/labels/_annotations_filtered.coco/cl6ctquqv00i6l4554a2rdn94_2_FALSE_COLOR_jpg.rf.59bff3a387823906adf6f92b1d653058.txt'), PosixPath('dataset/labels/_annotations_filtered.coco/cl6cs5j5d00exl455afqp4ysw_4_FALSE_COLOR__URBAN_jpg.rf.f5968b5baec72c54ed2817be2aa1fb7e.txt'), PosixPath('dataset/labels/_annotations_filtered.coco/cl6oqat3j008rao556mbqfoan_2_FALSE_COLOR_jpg.rf.0ddc196fcc073c504d510ac71ba3f92b.txt'), PosixPath('dataset/labels/_annotations_filtered.coco/cl6odzdk0002nao55dz13d0s9_2_FALSE_COLOR_jpg.rf.3930a15cf860331433faff701569ec52.txt'), PosixPath('dataset/labels/_annotations_filtered.coco/cl6oqcc63008vao551jrk90jb_1_TRUE_COLOR_jpg.rf.c494c328e46443df2ef5374b08815af3.txt'), PosixPath('dataset/labels/_annotations_filtered.coco/cl6b542k6002bl455fmydcwlb_6_SWIR_jpg.rf.8759656fe7d9452fa7f7871f61545f0c.txt'), PosixPath('dataset/labels/_annotations_filtered.coco/cl6odgxwb001tao559phvfhb7_4_FALSE_COLOR__URBAN_jpg.rf.256adbc8831a5c00de27de62aaed7ff8.txt'), PosixPath('dataset/labels/_annotations_filtered.coco/cl6ojbg9t004oao552glqe340_2_FALSE_COLOR_jpg.rf.5430eb0caaae90ba41e84b623c3726db.txt'), PosixPath('dataset/labels/_annotations_filtered.coco/cl6b6h5fo007bl455669md4vp_4_FALSE_COLOR__URBAN_jpg.rf.422f3c9e4caef71972de10acb5065019.txt'), PosixPath('dataset/labels/_annotations_filtered.coco/cl6chvqmw00crl455dq182jri_4_FALSE_COLOR__URBAN_jpg.rf.deb3d54d5111a454387e6bfd2c15228b.txt'), PosixPath('dataset/labels/_annotations_filtered.coco/cl6odbryt001nao55htogdny9_6_SWIR_jpg.rf.b942f1a9027fe10d1f702fa0daae70f7.txt'), PosixPath('dataset/labels/_annotations_filtered.coco/cl6lsukwg001t8w556kieb72f_4_FALSE_COLOR__URBAN_jpg.rf.0500c165c71af53fe68b9b2c4daa441b.txt'), PosixPath('dataset/labels/_annotations_filtered.coco/cl6opi0lv0079ao554ptl5yd7_1_TRUE_COLOR_jpg.rf.3fc2124d6e898de65d162d26ff22fda1.txt'), PosixPath('dataset/labels/_annotations_filtered.coco/cl6b57brh002ll4555o3te631_6_SWIR_jpg.rf.c7fd68b8839fa2e7afcb6b41fa31d332.txt'), PosixPath('dataset/labels/_annotations_filtered.coco/cl6cg6cf600agl455gtin273p_2_FALSE_COLOR_jpg.rf.3c95193dd276836b31dc3df24f29e351.txt'), PosixPath('dataset/labels/_annotations_filtered.coco/cl6e1y3zz001ngk559rm6ec1q_4_FALSE_COLOR__URBAN_jpg.rf.6fc48295a4d6745f1fe3bdcfb67b2973.txt'), PosixPath('dataset/labels/_annotations_filtered.coco/cl6oplsq0007fao556ul723tq_2_FALSE_COLOR_jpg.rf.94a095f4ae3f57df0997e3450c2bea9d.txt'), PosixPath('dataset/labels/_annotations_filtered.coco/cl6kftq9a001nc455a3108dvr_6_SWIR_jpg.rf.401cc247b60165302ae17c497c648c58.txt'), PosixPath('dataset/labels/_annotations_filtered.coco/cl6e20f48001rgk5574xt82w3_2_FALSE_COLOR_jpg.rf.24395424307134ba19fc86b6ee59b2e7.txt'), PosixPath('dataset/labels/_annotations_filtered.coco/cl6kjc5r500168w55bry741c1_4_FALSE_COLOR__URBAN_jpg.rf.87277927432c3b5a8ad0114a48c02d80.txt'), PosixPath('dataset/labels/_annotations_filtered.coco/cl6b0cqup000ql4558m8y8a8t_4_FALSE_COLOR__URBAN_jpg.rf.1c5781c5e69bc219c997c5925946f18d.txt'), PosixPath('dataset/labels/_annotations_filtered.coco/cl6e3e9qm003rgk55efdu14ah_2_FALSE_COLOR_jpg.rf.8abfdde94619a88574680bdb5bafa4dc.txt'), PosixPath('dataset/labels/_annotations_filtered.coco/cl6oimia5003dao558osp4mxe_6_SWIR_jpg.rf.e44dbdb6627b06f130e9108440f82ddc.txt'), PosixPath('dataset/labels/_annotations_filtered.coco/cl6kgh8cf002sc4558jry9v2p_4_FALSE_COLOR__URBAN_jpg.rf.d460a1d78fabf96f7488c62264eec7c6.txt'), PosixPath('dataset/labels/_annotations_filtered.coco/cl6op4t8q006jao559muv9l5l_2_FALSE_COLOR_jpg.rf.d0eac7b7bc3a29b59a5da91316b541c0.txt'), PosixPath('dataset/labels/_annotations_filtered.coco/cl6cgah3400anl4554lg2hxzy_1_TRUE_COLOR_jpg.rf.14f3e09cac34f3f98d3191416add10d7.txt'), PosixPath('dataset/labels/_annotations_filtered.coco/cl6e2iu9v0027gk55e8cfax9f_2_FALSE_COLOR_jpg.rf.771e429f20da6dabceb7f68a5aa3152b.txt'), PosixPath('dataset/labels/_annotations_filtered.coco/cl6od7f7j001hao55016b86jo_4_FALSE_COLOR__URBAN_jpg.rf.a05c84543565abd0f8984addd65c3e3e.txt'), PosixPath('dataset/labels/_annotations_filtered.coco/cl6azgmfw0004f0557iqa1usw_6_SWIR_jpg.rf.0f5204c03b972113e76c964eada21109.txt'), PosixPath('dataset/labels/_annotations_filtered.coco/cl6ctjyc600hul455hxis4621_2_FALSE_COLOR_jpg.rf.e65f0d03101942da33a9ff69d4ba938e.txt'), PosixPath('dataset/labels/_annotations_filtered.coco/cl6opowct007kao55518p0qp4_4_FALSE_COLOR__URBAN_jpg.rf.5e0fb337cbca043bafc5bce7c24fa796.txt'), PosixPath('dataset/labels/_annotations_filtered.coco/cl6b5l3lm0041l45509eycth4_4_FALSE_COLOR__URBAN_jpg.rf.f358f8b131af9302990a094b0da54e87.txt'), PosixPath('dataset/labels/_annotations_filtered.coco/cl6b79f3e009vl455hmyk8e9e_1_TRUE_COLOR_jpg.rf.3011a8be79452c723e8e816eae6c3377.txt'), PosixPath('dataset/labels/_annotations_filtered.coco/cl6ojaxxv004mao552t7ah2ky_2_FALSE_COLOR_jpg.rf.f75de75121cb3540bbfc52636d8fe45c.txt'), PosixPath('dataset/labels/_annotations_filtered.coco/cl6ojbg9t004oao552glqe340_4_FALSE_COLOR__URBAN_jpg.rf.3ee58fb35f1174a1a8e091ccb6b20a36.txt'), PosixPath('dataset/labels/_annotations_filtered.coco/cl6ch5dh200bvl4559ujea96q_1_TRUE_COLOR_jpg.rf.84e18e58f1f34701ca68456bdaf3630b.txt'), PosixPath('dataset/labels/_annotations_filtered.coco/cl6cho7a000cil455fiddgkjj_1_TRUE_COLOR_jpg.rf.0dfc3b0e34820438b66e6ff0ba1dbe2f.txt'), PosixPath('dataset/labels/_annotations_filtered.coco/cl6b6iksa007dl4551508f1n4_2_FALSE_COLOR_jpg.rf.9e56d7d2d3a4a3b737f393920e5660b5.txt'), PosixPath('dataset/labels/_annotations_filtered.coco/cl6cswt5400gdl4554rn2gjz9_1_TRUE_COLOR_jpg.rf.e410a3d52182432dc9d14d9b24b69cb0.txt'), PosixPath('dataset/labels/_annotations_filtered.coco/cl6b5l3lm0041l45509eycth4_1_TRUE_COLOR_jpg.rf.4e549ebd46d2e65023b62a56b398ba04.txt'), PosixPath('dataset/labels/_annotations_filtered.coco/cl6dxzwc50001hg550uejeken_1_TRUE_COLOR_jpg.rf.80c547bf9c492882b239384b7d990f5d.txt'), PosixPath('dataset/labels/_annotations_filtered.coco/cl6kgfdjy002nc4551yk01nj6_1_TRUE_COLOR_jpg.rf.aece6769ff85659506ec8fb96b385955.txt'), PosixPath('dataset/labels/_annotations_filtered.coco/cl6kjm7cv001r8w55czzsenxh_2_FALSE_COLOR_jpg.rf.96f98bd41b3564674cee2f2aaa162515.txt'), PosixPath('dataset/labels/_annotations_filtered.coco/cl6b6y36r008gl4559z723z25_1_TRUE_COLOR_jpg.rf.5d6b1bf18a4e8ff534dc3c4ca3bb073a.txt'), PosixPath('dataset/labels/_annotations_filtered.coco/cl6m0pnw5002y8w552btfchke_1_TRUE_COLOR_jpg.rf.de631dd84dbeac65b6d07b19dbea5cc1.txt'), PosixPath('dataset/labels/_annotations_filtered.coco/cl6chnfxe00cgl455cg8v02rb_1_TRUE_COLOR_jpg.rf.67479f96195da145753e36c2236f7c3e.txt'), PosixPath('dataset/labels/_annotations_filtered.coco/cl6m1bogh003h8w553evr8lfd_4_FALSE_COLOR__URBAN_jpg.rf.5a61d0979104f21b6bb376259cd24240.txt'), PosixPath('dataset/labels/_annotations_filtered.coco/cl6b63ehe0062l455c9mib5xv_4_FALSE_COLOR__URBAN_jpg.rf.b8bc2c6fe6978ca6b05f3a82e157bdbb.txt'), PosixPath('dataset/labels/_annotations_filtered.coco/cl6dyeg510004hg554xxs8aux_1_TRUE_COLOR_jpg.rf.5f7f56d5c624ab8c85fdd5b5785d421c.txt'), PosixPath('dataset/labels/_annotations_filtered.coco/cl6b5yjxa005nl45516k465kb_1_TRUE_COLOR_jpg.rf.ce6cbfd628838b1c87ffdbb637919aa9.txt'), PosixPath('dataset/labels/_annotations_filtered.coco/cl6orpl93009tao552w0p7urd_6_SWIR_jpg.rf.63d6f8c2cc3f097cf78f195f59a80f68.txt'), PosixPath('dataset/labels/_annotations_filtered.coco/cl6b5zvva005tl455617x069k_1_TRUE_COLOR_jpg.rf.8fddaebfe3bf528542a6bb93a8a4ba56.txt'), PosixPath('dataset/labels/_annotations_filtered.coco/cl6ojcant004qao555opq5lio_6_SWIR_jpg.rf.786a706ff76fbd94a7250a97bdde08b3.txt'), PosixPath('dataset/labels/_annotations_filtered.coco/cl6chqhwl00cll4558hnj0glz_6_SWIR_jpg.rf.1056e04894280f6c5f84af1ce3f49ad9.txt'), PosixPath('dataset/labels/_annotations_filtered.coco/cl6b6h5fo007bl455669md4vp_1_TRUE_COLOR_jpg.rf.2a3317b1042bda5ae825c7683a9d65bb.txt'), PosixPath('dataset/labels/_annotations_filtered.coco/cl6ct487q00gul455bxvzaopi_2_FALSE_COLOR_jpg.rf.cf80bee753c23a01637a2082944d1bf1.txt'), PosixPath('dataset/labels/_annotations_filtered.coco/cl6b56nh5002jl4551m23gtf9_1_TRUE_COLOR_jpg.rf.7d001a91d6df1d09828ca7c97e89c58b.txt'), PosixPath('dataset/labels/_annotations_filtered.coco/cl6cgtahv00bkl455hcmk9cn1_1_TRUE_COLOR_jpg.rf.f149413852d4d47762f2eb31aec4d9b5.txt'), PosixPath('dataset/labels/_annotations_filtered.coco/cl6b64hpf0066l4555lt3czhh_4_FALSE_COLOR__URBAN_jpg.rf.9708ab4cc3223e0de7d63bbe1f526b8b.txt'), PosixPath('dataset/labels/_annotations_filtered.coco/cl6ou6f7u00a5ao55h96m1hvj_2_FALSE_COLOR_jpg.rf.604d5ba40c6721f36646151d9b8216d0.txt'), PosixPath('dataset/labels/_annotations_filtered.coco/cl6b7118q008ol4551ye8g44d_4_FALSE_COLOR__URBAN_jpg.rf.cfa2c6cd2a96d37094600721a31f7d63.txt'), PosixPath('dataset/labels/_annotations_filtered.coco/cl6e34bti0037gk55gzdv0akr_1_TRUE_COLOR_jpg.rf.d5bef0822d1f990994eab5089cde272c.txt'), PosixPath('dataset/labels/_annotations_filtered.coco/cl6dzs6a4000vhg55f52u2xze_2_FALSE_COLOR_jpg.rf.3d85b3175023ede04678d8a708055a7b.txt'), PosixPath('dataset/labels/_annotations_filtered.coco/cl6b73duk008vl45583qs4mo9_6_SWIR_jpg.rf.7b942815479894d2a3fda70742b9f826.txt'), PosixPath('dataset/labels/_annotations_filtered.coco/cl6odfk31001qao557bfi78e5_2_FALSE_COLOR_jpg.rf.7810f4f897047e39b0c9af3149cb43df.txt'), PosixPath('dataset/labels/_annotations_filtered.coco/cl6cskhdp00fml4550oip27vq_1_TRUE_COLOR_jpg.rf.5e3f16b79f9861ba20a017af486af661.txt'), PosixPath('dataset/labels/_annotations_filtered.coco/cl6csvg6n00gal45513b052pr_1_TRUE_COLOR_jpg.rf.73c176610e2978c450e96527ac568c46.txt'), PosixPath('dataset/labels/_annotations_filtered.coco/cl6dzjmr4000qhg55bnr2akq0_6_SWIR_jpg.rf.87a3115b9f6bca94d9878bdfcd8d15bc.txt'), PosixPath('dataset/labels/_annotations_filtered.coco/cl6ocohki0003ao55bnyg99kc_4_FALSE_COLOR__URBAN_jpg.rf.1268ae68f91a4c4a73941c9b9640fa9a.txt'), PosixPath('dataset/labels/_annotations_filtered.coco/cl6m12kpt00358w55c0oah42i_4_FALSE_COLOR__URBAN_jpg.rf.cfe3d51f6e5cf8bf05a95d0300e15d31.txt'), PosixPath('dataset/labels/_annotations_filtered.coco/cl6kf9nvv000tc455gs7pbv7h_1_TRUE_COLOR_jpg.rf.b4649084b8bac4a6b4df2988ce5ce1c7.txt'), PosixPath('dataset/labels/_annotations_filtered.coco/cl6cs4y6q00evl455d2lfbj1u_2_FALSE_COLOR_jpg.rf.54e7aa920ce92da629cdebe0c749850e.txt'), PosixPath('dataset/labels/_annotations_filtered.coco/cl6e0c4x3000ngk55c47nhbiz_6_SWIR_jpg.rf.805c839bbcaddceea16f45bf37533000.txt'), PosixPath('dataset/labels/_annotations_filtered.coco/cl6orry9200a0ao559gb82ms0_2_FALSE_COLOR_jpg.rf.121ab501943ce8bb65a5ac587ed62ff0.txt'), PosixPath('dataset/labels/_annotations_filtered.coco/cl6e2g24k0020gk55d7nlgq0h_1_TRUE_COLOR_jpg.rf.b9e53ba98178cbb61cf1f28a92d5480d.txt'), PosixPath('dataset/labels/_annotations_filtered.coco/cl6cgs3qs00bil4551v5n3v2h_2_FALSE_COLOR_jpg.rf.dfd038db2b2cc23577079525dec70528.txt'), PosixPath('dataset/labels/_annotations_filtered.coco/cl6oe1f0u002sao550ab86ndb_1_TRUE_COLOR_jpg.rf.1804fe724ab7abed6f3adaff1a5995ae.txt'), PosixPath('dataset/labels/_annotations_filtered.coco/cl6oq9ozh008nao5591t079g1_1_TRUE_COLOR_jpg.rf.1309c56d7ff1cdf3a3cdde1ed4ed5cf0.txt'), PosixPath('dataset/labels/_annotations_filtered.coco/cl6b6rmls007ul455clqha4p0_1_TRUE_COLOR_jpg.rf.c706e724b982cc61451904c2da58f1a9.txt'), PosixPath('dataset/labels/_annotations_filtered.coco/cl6ojbg9t004oao552glqe340_1_TRUE_COLOR_jpg.rf.537df0a4cd6f7c528f9293ccb4d08783.txt'), PosixPath('dataset/labels/_annotations_filtered.coco/cl6az56oy0003f05554mh92wy_2_FALSE_COLOR_jpg.rf.80849284d2ee075dcfd0d457f4c20b7a.txt'), PosixPath('dataset/labels/_annotations_filtered.coco/cl6ltphn6002o8w55a78j55fa_4_FALSE_COLOR__URBAN_jpg.rf.15f2419aa86f5f636fe86bca7708f212.txt'), PosixPath('dataset/labels/_annotations_filtered.coco/cl6ocun81000iao55010uhpce_4_FALSE_COLOR__URBAN_jpg.rf.5210f764454f840bc10bf80e5016cea9.txt'), PosixPath('dataset/labels/_annotations_filtered.coco/cl6kfowty0017c455b591d008_1_TRUE_COLOR_jpg.rf.ee3c5e5c682214ad0e0d91e6930b570b.txt'), PosixPath('dataset/labels/_annotations_filtered.coco/cl6oe2d76002tao55ckxpdijl_4_FALSE_COLOR__URBAN_jpg.rf.c3827f2fb99b077435dca2881a756481.txt'), PosixPath('dataset/labels/_annotations_filtered.coco/cl6op2fce006fao55753l8ulj_6_SWIR_jpg.rf.7e8764944bad6000aa34611ac74ca3ba.txt'), PosixPath('dataset/labels/_annotations_filtered.coco/cl6opbnv8006xao55hbpe2j2u_1_TRUE_COLOR_jpg.rf.a322c310c87b9b2b0dd656c0db4e6c91.txt'), PosixPath('dataset/labels/_annotations_filtered.coco/cl6odk9yf001wao558oys61c5_4_FALSE_COLOR__URBAN_jpg.rf.04d7346dab2b1b12261db04fbe84ec6e.txt'), PosixPath('dataset/labels/_annotations_filtered.coco/cl6b542k6002bl455fmydcwlb_2_FALSE_COLOR_jpg.rf.21a4cff766bca0e29ad540511acea32d.txt'), PosixPath('dataset/labels/_annotations_filtered.coco/cl6b6zaju008ll455bbu9506q_6_SWIR_jpg.rf.a067497ccc38cfcb2e510cab67d33595.txt'), PosixPath('dataset/labels/_annotations_filtered.coco/cl6chw5x300csl455fwv6g4li_2_FALSE_COLOR_jpg.rf.cdbbfd775d062a541882636c2437206b.txt'), PosixPath('dataset/labels/_annotations_filtered.coco/cl6ojycgj005bao557mc6afad_1_TRUE_COLOR_jpg.rf.2fff76c1eed44062f407660384acdddb.txt'), PosixPath('dataset/labels/_annotations_filtered.coco/cl6cglp1000b9l4555bzvbgqj_2_FALSE_COLOR_jpg.rf.c9d85326b2931904b8f61462a95e219c.txt'), PosixPath('dataset/labels/_annotations_filtered.coco/cl6b5o2zq004el455548z49am_1_TRUE_COLOR_jpg.rf.fa529dc8ceddf212f871c9a806bb0bcd.txt'), PosixPath('dataset/labels/_annotations_filtered.coco/cl6oduu28002dao550pgs32ff_2_FALSE_COLOR_jpg.rf.4f51398bc79c4202cd4b4d437dc1dd8a.txt'), PosixPath('dataset/labels/_annotations_filtered.coco/cl6ok1xz8005jao55et1x9ny0_1_TRUE_COLOR_jpg.rf.9558d9b5d898144aa267adad56074770.txt'), PosixPath('dataset/labels/_annotations_filtered.coco/cl6cswevu00gbl45556scbr9n_4_FALSE_COLOR__URBAN_jpg.rf.93c5131e8f99facea67303b038ab2f17.txt'), PosixPath('dataset/labels/_annotations_filtered.coco/cl6kfci270010c45580qyfo1k_6_SWIR_jpg.rf.5b61fbc3ac01de53cf5eebc76403c5af.txt'), PosixPath('dataset/labels/_annotations_filtered.coco/cl6oct90r000fao553xkha255_1_TRUE_COLOR_jpg.rf.3458190dccf4775d0b2e824a8e3d2e75.txt'), PosixPath('dataset/labels/_annotations_filtered.coco/cl6e0kgem0014gk55cl4692g7_6_SWIR_jpg.rf.75d367e9586bed46241148c1105975ec.txt'), PosixPath('dataset/labels/_annotations_filtered.coco/cl6b5q3z4004ll45585wq8rtu_2_FALSE_COLOR_jpg.rf.b93360b47e1a3b5619b858e01dbaf716.txt'), PosixPath('dataset/labels/_annotations_filtered.coco/cl6oqvksq009bao556412da6l_1_TRUE_COLOR_jpg.rf.265a9c01b3c08b3b6f3bca283a6109c3.txt'), PosixPath('dataset/labels/_annotations_filtered.coco/cl6oe04jy002pao551fir09my_6_SWIR_jpg.rf.96178538d47e273395c1d22ff9d52c1f.txt'), PosixPath('dataset/labels/_annotations_filtered.coco/cl6odgxwb001tao559phvfhb7_2_FALSE_COLOR_jpg.rf.a3541b77ef69ffcbbb68c2679bf140b5.txt'), PosixPath('dataset/labels/_annotations_filtered.coco/cl6ch6a2n00bxl4554kqu9to4_2_FALSE_COLOR_jpg.rf.7e23a796e2457d80892cfb34288d6040.txt'), PosixPath('dataset/labels/_annotations_filtered.coco/cl6e33qm00035gk553mplcyji_4_FALSE_COLOR__URBAN_jpg.rf.1e019662a48f468ec823b369a539a56c.txt'), PosixPath('dataset/labels/_annotations_filtered.coco/cl6opc9oz006zao552eyx63jq_6_SWIR_jpg.rf.76de8b1ec7f1aeb69a59748d8a8c9207.txt'), PosixPath('dataset/labels/_annotations_filtered.coco/cl6b5nqx3004dl4556qu6azh4_2_FALSE_COLOR_jpg.rf.735f17d91aa3a0102d1b8ef9dcfb2f00.txt'), PosixPath('dataset/labels/_annotations_filtered.coco/cl6csnj9g00ftl4554f0z30lc_4_FALSE_COLOR__URBAN_jpg.rf.49569ed8c28ec3869a9e55dfd7f90397.txt'), PosixPath('dataset/labels/_annotations_filtered.coco/cl6kgo2ff0031c455dv515gju_2_FALSE_COLOR_jpg.rf.1f42b289e2c8d87a320a2b3b49ba65a5.txt'), PosixPath('dataset/labels/_annotations_filtered.coco/cl6chu8h100cnl4552hz21fjt_1_TRUE_COLOR_jpg.rf.84f9dde4ff62bdcb2bd99b714e6dd363.txt'), PosixPath('dataset/labels/_annotations_filtered.coco/cl6lsxiqd001v8w55fgtjavib_2_FALSE_COLOR_jpg.rf.ed583532db782f8ccd0047e2abe0bee1.txt'), PosixPath('dataset/labels/_annotations_filtered.coco/cl6lsygs2001w8w551eungans_1_TRUE_COLOR_jpg.rf.54a6883266fd70f4a483a1d6ed11e2b9.txt'), PosixPath('dataset/labels/_annotations_filtered.coco/cl6cgw2be00bnl455cetv4inw_2_FALSE_COLOR_jpg.rf.e7eb23a8f2e3a9e050740e78e8457c2b.txt'), PosixPath('dataset/labels/_annotations_filtered.coco/cl6b5rb8x004rl455g3sp3iqz_2_FALSE_COLOR_jpg.rf.005c5bbb33416d06f899c0fb2192df4b.txt'), PosixPath('dataset/labels/_annotations_filtered.coco/cl6cgg5np00b0l455enz77l37_4_FALSE_COLOR__URBAN_jpg.rf.40cd702cc8b043289ca3fc393fabe3ef.txt'), PosixPath('dataset/labels/_annotations_filtered.coco/cl6cgg5np00b0l455enz77l37_2_FALSE_COLOR_jpg.rf.687887aaed332f84b7c0fd77e3a1d3ef.txt'), PosixPath('dataset/labels/_annotations_filtered.coco/cl6oqz7u8009eao55hd74fzt1_4_FALSE_COLOR__URBAN_jpg.rf.22df982e0e2a34ad1b2c566f6f1e80a5.txt'), PosixPath('dataset/labels/_annotations_filtered.coco/cl6ct9osf00h7l45538051wz5_1_TRUE_COLOR_jpg.rf.5cef36c17145f146256e2143c144efff.txt'), PosixPath('dataset/labels/_annotations_filtered.coco/cl6orq40w009vao552t868lax_2_FALSE_COLOR_jpg.rf.7f192c7591e8a3f6715b81a22cd4b701.txt'), PosixPath('dataset/labels/_annotations_filtered.coco/cl6od5fxe001dao55dwsx001s_6_SWIR_jpg.rf.c97b5dc8b3d322980c4e76e626e548c2.txt'), PosixPath('dataset/labels/_annotations_filtered.coco/cl6e06umy000bgk55gkbw1ajq_2_FALSE_COLOR_jpg.rf.96eb006861178f50b3a2a2453346d017.txt'), PosixPath('dataset/labels/_annotations_filtered.coco/cl6orlxem009lao5513o7hr6s_1_TRUE_COLOR_jpg.rf.e31d2ea1528b15c13434afbf3f41b125.txt'), PosixPath('dataset/labels/_annotations_filtered.coco/cl6lsyw82001x8w55h42v4y3p_4_FALSE_COLOR__URBAN_jpg.rf.0914e7ca9cc3121cdfcc5826401d6673.txt'), PosixPath('dataset/labels/_annotations_filtered.coco/cl6chu8h100cnl4552hz21fjt_6_SWIR_jpg.rf.238718d67a192951afa2f6c0a883ed2d.txt'), PosixPath('dataset/labels/_annotations_filtered.coco/cl6cskwng00fol4555eloc4nh_6_SWIR_jpg.rf.9e3d112de243afb1f67db776073d4d26.txt'), PosixPath('dataset/labels/_annotations_filtered.coco/cl6m0w1nh002z8w558do5f7ar_6_SWIR_jpg.rf.cfa8e993433f6beae82c5dda88678f80.txt'), PosixPath('dataset/labels/_annotations_filtered.coco/cl6oplars007eao55fno41dzm_2_FALSE_COLOR_jpg.rf.f92d62150fff9fe3b15615c3a667466b.txt'), PosixPath('dataset/labels/_annotations_filtered.coco/cl6oiqz18003lao55eb3ebson_2_FALSE_COLOR_jpg.rf.13242aaf067985cb04e4bc1268f53381.txt'), PosixPath('dataset/labels/_annotations_filtered.coco/cl6b6gdyh0079l4555ka0g84o_1_TRUE_COLOR_jpg.rf.1b70be6a6e92d72b441c4e5bff1f6b4d.txt'), PosixPath('dataset/labels/_annotations_filtered.coco/cl6m10x9x00348w55h67q3hes_2_FALSE_COLOR_jpg.rf.746f55b2cb2a94835ebbb485b3715504.txt'), PosixPath('dataset/labels/_annotations_filtered.coco/cl6odwuqk002iao555zzv0c59_2_FALSE_COLOR_jpg.rf.378e24cf0ecebacbb21c214b7f42190a.txt'), PosixPath('dataset/labels/_annotations_filtered.coco/cl6b5nqx3004dl4556qu6azh4_4_FALSE_COLOR__URBAN_jpg.rf.7a585ae57fe272905ce1baa8c7c69898.txt'), PosixPath('dataset/labels/_annotations_filtered.coco/cl6ctbgwv00hel455fxql5pdm_4_FALSE_COLOR__URBAN_jpg.rf.fe9130528f5da6efbe387865fd6649e9.txt'), PosixPath('dataset/labels/_annotations_filtered.coco/cl6e09hxf000hgk559x18fvg8_1_TRUE_COLOR_jpg.rf.4bad2d8b298e825dd87c4ebb94d5fab5.txt'), PosixPath('dataset/labels/_annotations_filtered.coco/cl6e31up4002zgk55aj7w7a0x_1_TRUE_COLOR_jpg.rf.78641c45856cf58ead1496b18d270d3a.txt'), PosixPath('dataset/labels/_annotations_filtered.coco/cl6b5j7l8003yl455e8lo7mre_1_TRUE_COLOR_jpg.rf.8f930a8cb776e1fc115101a746a03689.txt'), PosixPath('dataset/labels/_annotations_filtered.coco/cl6cgh0lk00b3l455a01o4mrg_2_FALSE_COLOR_jpg.rf.8b38adc9c8df2b75e1b3632cd6bc6912.txt'), PosixPath('dataset/labels/_annotations_filtered.coco/cl6od7f7j001hao55016b86jo_2_FALSE_COLOR_jpg.rf.8a798a7467bd6bd68d18724381092089.txt'), PosixPath('dataset/labels/_annotations_filtered.coco/cl6b7ep9100a4l455h3w9fstk_4_FALSE_COLOR__URBAN_jpg.rf.42f76795d8cc4c0a786da759dd334cb6.txt'), PosixPath('dataset/labels/_annotations_filtered.coco/cl6cstc5x00g7l455ec9d32eh_2_FALSE_COLOR_jpg.rf.5470b6259acf151a88a7f5c374fb865b.txt'), PosixPath('dataset/labels/_annotations_filtered.coco/cl6b7263q008rl455cbp6ejbc_2_FALSE_COLOR_jpg.rf.1568b2fbf7b7b0778bd5ef6a743c18f8.txt'), PosixPath('dataset/labels/_annotations_filtered.coco/cl6ojvzs90058ao55ddizcpuh_2_FALSE_COLOR_jpg.rf.e85b48782ef781d6a141843203abbaed.txt'), PosixPath('dataset/labels/_annotations_filtered.coco/cl6css50j00g3l4552tvg839m_2_FALSE_COLOR_jpg.rf.99a6a3dd268a81409a7dfb549dda33bf.txt'), PosixPath('dataset/labels/_annotations_filtered.coco/cl6csstjw00g5l455c618frnq_2_FALSE_COLOR_jpg.rf.ee2c6568a13b760341349677a58ea9dd.txt'), PosixPath('dataset/labels/_annotations_filtered.coco/cl6b6pieh007rl455fwvb73gr_1_TRUE_COLOR_jpg.rf.8f3f9c84272e40682f7f430cdc4ac4c0.txt'), PosixPath('dataset/labels/_annotations_filtered.coco/cl6odyfwh002lao55bnflcuaj_4_FALSE_COLOR__URBAN_jpg.rf.fa7524a106525288cadb53c1646a3301.txt'), PosixPath('dataset/labels/_annotations_filtered.coco/cl6chonxj00cjl455bqcs1fnt_2_FALSE_COLOR_jpg.rf.277d09c72f7ed781018abde75c573111.txt'), PosixPath('dataset/labels/_annotations_filtered.coco/cl6e30dz3002tgk559uhm11za_4_FALSE_COLOR__URBAN_jpg.rf.0fec58b1d08785f75835c88c38eb6fd2.txt'), PosixPath('dataset/labels/_annotations_filtered.coco/cl6kgm9qr002yc455g5qs87kz_2_FALSE_COLOR_jpg.rf.95debd80b7509cc0a6afe0a7c7ff6cfe.txt'), PosixPath('dataset/labels/_annotations_filtered.coco/cl6csr5tv00g0l45530ayb807_6_SWIR_jpg.rf.7ccfe8079e77c3018c4ac98c973f770e.txt'), PosixPath('dataset/labels/_annotations_filtered.coco/cl6e36kv1003fgk55gnb9050o_4_FALSE_COLOR__URBAN_jpg.rf.3f32f8e4284fdf7827f922caae82e9bf.txt'), PosixPath('dataset/labels/_annotations_filtered.coco/cl6kjizzk001l8w550s1uej5w_2_FALSE_COLOR_jpg.rf.ef3cf69daa6ee8e6e02e683e0aae8809.txt'), PosixPath('dataset/labels/_annotations_filtered.coco/cl6kgcddp002gc455ekvaehyc_2_FALSE_COLOR_jpg.rf.cc2eb5a05bb1c0c8555576917ac877fe.txt'), PosixPath('dataset/labels/_annotations_filtered.coco/cl6kig3wf00098w556e894kgn_4_FALSE_COLOR__URBAN_jpg.rf.ea516150c57a6b8431b3bf32bafab73a.txt'), PosixPath('dataset/labels/_annotations_filtered.coco/cl6odzs5e002oao55heuig0a6_1_TRUE_COLOR_jpg.rf.fc96fcc9ef8466ce18f286d422df48ea.txt'), PosixPath('dataset/labels/_annotations_filtered.coco/cl6csiins00fgl45562qya3h6_1_TRUE_COLOR_jpg.rf.4f0023de84a5dd3d39fe129b7ee997dd.txt'), PosixPath('dataset/labels/_annotations_filtered.coco/cl6cgm3hm00bal455ei1ken8s_1_TRUE_COLOR_jpg.rf.1a3ff69dd97b6f1dc1743cd4c0db584d.txt'), PosixPath('dataset/labels/_annotations_filtered.coco/cl6b6y193008fl455chyoaarb_4_FALSE_COLOR__URBAN_jpg.rf.18928a3e681add214cf26beb7dc5790c.txt'), PosixPath('dataset/labels/_annotations_filtered.coco/cl6op9m80006sao552sp0bgyl_2_FALSE_COLOR_jpg.rf.bee0f2e3b76eaaae3f5309ba40f22e89.txt'), PosixPath('dataset/labels/_annotations_filtered.coco/cl6e3gmqp0040gk55gklf0ka1_2_FALSE_COLOR_jpg.rf.e1d823b926ba664e4d2658c7c58b2915.txt'), PosixPath('dataset/labels/_annotations_filtered.coco/cl6b51y140022l4551rmyafv5_6_SWIR_jpg.rf.ee4fd9c2f750fde1eaab859f8dd0829d.txt'), PosixPath('dataset/labels/_annotations_filtered.coco/cl6e0kgem0014gk55cl4692g7_1_TRUE_COLOR_jpg.rf.d47055293ccf936f71eb03a282b643b4.txt'), PosixPath('dataset/labels/_annotations_filtered.coco/cl6b77933009jl4554y5l30h3_6_SWIR_jpg.rf.17d4112c4bc6739b034ced139cd8e5a5.txt'), PosixPath('dataset/labels/_annotations_filtered.coco/cl6odfk31001qao557bfi78e5_6_SWIR_jpg.rf.b860636f6f2b2e71d18a88fadeb8653c.txt'), PosixPath('dataset/labels/_annotations_filtered.coco/cl6b029x70000l4556t6r3w8m_4_FALSE_COLOR__URBAN_jpg.rf.5d53d7a53c7694fe5f90bc8ad1aec23c.txt'), PosixPath('dataset/labels/_annotations_filtered.coco/cl6b0aue4000ml455e4wo3e1j_4_FALSE_COLOR__URBAN_jpg.rf.afb389608cf3cd6af6de70e5b1072842.txt'), PosixPath('dataset/labels/_annotations_filtered.coco/cl6opv5oo007xao553de9g7wd_1_TRUE_COLOR_jpg.rf.2ca9986e18ecf042953ce24774c8c5d1.txt'), PosixPath('dataset/labels/_annotations_filtered.coco/cl6oq0cpr008bao553vg485hd_1_TRUE_COLOR_jpg.rf.172a1e9f92965be21ec3ed833c68530e.txt'), PosixPath('dataset/labels/_annotations_filtered.coco/cl6kfr3gw001gc4556plk3d6y_2_FALSE_COLOR_jpg.rf.83ca344c4481eff80a00b5b50123dde7.txt'), PosixPath('dataset/labels/_annotations_filtered.coco/cl6ojcant004qao555opq5lio_2_FALSE_COLOR_jpg.rf.a61680af4f28a2f86dfe3619e8c6cad2.txt'), PosixPath('dataset/labels/_annotations_filtered.coco/cl6cgr33o00bfl45526e3ajl1_6_SWIR_jpg.rf.3b37ac1a356371984aa7a4c9e26febfa.txt'), PosixPath('dataset/labels/_annotations_filtered.coco/cl6kghsrn002tc4551wu83z4e_2_FALSE_COLOR_jpg.rf.8bf183c2a3b66f7030e76c302e99d2b9.txt'), PosixPath('dataset/labels/_annotations_filtered.coco/cl6dyiwx60009hg55freo14hg_4_FALSE_COLOR__URBAN_jpg.rf.bb532a7dd155f6626c1a25d57f925813.txt'), PosixPath('dataset/labels/_annotations_filtered.coco/cl6cpff5c00dll455ew1ddl1f_1_TRUE_COLOR_jpg.rf.cbcb617570e3672bd266ec946e1ea139.txt'), PosixPath('dataset/labels/_annotations_filtered.coco/cl6e07sbz000dgk556f1cemmc_6_SWIR_jpg.rf.b19bab12800875f90f051f5574fcb69c.txt'), PosixPath('dataset/labels/_annotations_filtered.coco/cl6b5lfqn0043l455544gg2zx_6_SWIR_jpg.rf.b0ed6f4323584dc306018be2c6d3435f.txt'), PosixPath('dataset/labels/_annotations_filtered.coco/cl6b67dvg006dl455cgxl9kq8_6_SWIR_jpg.rf.128b5aecb2220f2fa5c185b9e54bd0fb.txt'), PosixPath('dataset/labels/_annotations_filtered.coco/cl6cgs3qs00bil4551v5n3v2h_6_SWIR_jpg.rf.31d70fcbaab32757a389c37c32a264f9.txt'), PosixPath('dataset/labels/_annotations_filtered.coco/cl6ct5pk300gxl4559vdtfjz2_1_TRUE_COLOR_jpg.rf.7ead147bfba31fe4459e043d401a2344.txt'), PosixPath('dataset/labels/_annotations_filtered.coco/cl6ct1fab00gnl455b6a585vi_6_SWIR_jpg.rf.14491e2fe3633bf885fcb9c9e4bf3c4d.txt'), PosixPath('dataset/labels/_annotations_filtered.coco/cl6kgnh9k0030c455dtnabosj_1_TRUE_COLOR_jpg.rf.719d4160fed64e1c0f7d077b93c408ad.txt'), PosixPath('dataset/labels/_annotations_filtered.coco/cl6m145w400368w55e1mscmpe_2_FALSE_COLOR_jpg.rf.c5096bdb36261ea91a23135f4d6af8d0.txt'), PosixPath('dataset/labels/_annotations_filtered.coco/cl6kgidey002uc455a3qe2ark_2_FALSE_COLOR_jpg.rf.7cc096454a709be2752b04fa230befae.txt'), PosixPath('dataset/labels/_annotations_filtered.coco/cl6oe0eoe002qao552t6i1m6g_4_FALSE_COLOR__URBAN_jpg.rf.c26b96a42fbf6ed14d96683ad1701b73.txt'), PosixPath('dataset/labels/_annotations_filtered.coco/cl6b5k38g003zl455bgtd1317_4_FALSE_COLOR__URBAN_jpg.rf.fcaa4827b85c1b38fdedffcd6a3b098f.txt'), PosixPath('dataset/labels/_annotations_filtered.coco/cl6kgaw2p002bc455hair6q7o_1_TRUE_COLOR_jpg.rf.c1a9a244f7f91d010279e2e7c971c54e.txt'), PosixPath('dataset/labels/_annotations_filtered.coco/cl6cse9tv00fbl4552j5aepjj_2_FALSE_COLOR_jpg.rf.858fc862940a80171ba1698d549acec2.txt'), PosixPath('dataset/labels/_annotations_filtered.coco/cl6e2edx3001ygk554c0h3ubb_2_FALSE_COLOR_jpg.rf.277a9902d759d421fcfae391c5b9c1a3.txt'), PosixPath('dataset/labels/_annotations_filtered.coco/cl6b5k38g003zl455bgtd1317_2_FALSE_COLOR_jpg.rf.1ec92bba97779ebd5ac1419db904e242.txt'), PosixPath('dataset/labels/_annotations_filtered.coco/cl6m1cry8003m8w559r91hmtl_6_SWIR_jpg.rf.55bdb1e75817e18fb2d33d73abbacc10.txt'), PosixPath('dataset/labels/_annotations_filtered.coco/cl6kfvrfp001qc45548kr4qf2_1_TRUE_COLOR_jpg.rf.1e323d4ad9dedbfeedc5e00b3aa691b5.txt'), PosixPath('dataset/labels/_annotations_filtered.coco/cl6cs8jie00f5l4555hn76aj1_2_FALSE_COLOR_jpg.rf.d83bff9a3317d11e6db58f9a45a26816.txt'), PosixPath('dataset/labels/_annotations_filtered.coco/cl6opn2ws007hao55es3fg6b2_2_FALSE_COLOR_jpg.rf.46b32a7905e04149be12d5c5098763fd.txt'), PosixPath('dataset/labels/_annotations_filtered.coco/cl6opqgtf007nao55d5fr4p16_1_TRUE_COLOR_jpg.rf.a43b59a7f6e036647f1399f76c98eb0f.txt'), PosixPath('dataset/labels/_annotations_filtered.coco/cl6m1dd0r003o8w5569ma5agl_1_TRUE_COLOR_jpg.rf.8351a94d2d7bc6ea84ad8121c560c869.txt'), PosixPath('dataset/labels/_annotations_filtered.coco/cl6b0okeb001fl455fgue1wrj_1_TRUE_COLOR_jpg.rf.3036ca102003e03d9b3f564e36d24d18.txt'), PosixPath('dataset/labels/_annotations_filtered.coco/cl6kgo2ff0031c455dv515gju_4_FALSE_COLOR__URBAN_jpg.rf.b2f2f53a17388b5f08885effd9a4e706.txt'), PosixPath('dataset/labels/_annotations_filtered.coco/cl6b5zpnm005rl4554xa7cvp7_2_FALSE_COLOR_jpg.rf.0826a21d562f6355cb7685d1b908b35c.txt'), PosixPath('dataset/labels/_annotations_filtered.coco/cl6oqq4r40096ao557h69gx2o_2_FALSE_COLOR_jpg.rf.fcdbaf87b09e10e425d48710af7d5c39.txt'), PosixPath('dataset/labels/_annotations_filtered.coco/cl6ou72e300a7ao55ham55bxa_1_TRUE_COLOR_jpg.rf.5fb071ea6eacd8d0b49cdf574f4cdaa6.txt'), PosixPath('dataset/labels/_annotations_filtered.coco/cl6b04t8r0007l455fk4y4zr0_4_FALSE_COLOR__URBAN_jpg.rf.b6843b74612a6fab1432b3c7d8f0780f.txt'), PosixPath('dataset/labels/_annotations_filtered.coco/cl6okcigf005zao55dc0wbjsx_2_FALSE_COLOR_jpg.rf.bfbe48732bb7dd2f5aa63f54d5fd65cc.txt'), PosixPath('dataset/labels/_annotations_filtered.coco/cl6kfwvz3001sc45549gxd3e2_4_FALSE_COLOR__URBAN_jpg.rf.c87a56de729075b5a63758c8411a78f0.txt'), PosixPath('dataset/labels/_annotations_filtered.coco/cl6ophgti0078ao557twhfw8d_4_FALSE_COLOR__URBAN_jpg.rf.7def477324832ea282c6fc4c29ca7ca8.txt'), PosixPath('dataset/labels/_annotations_filtered.coco/cl6opag1s006tao55h8pkceie_1_TRUE_COLOR_jpg.rf.0aa351f726f716cdff50ddae440c921f.txt'), PosixPath('dataset/labels/_annotations_filtered.coco/cl6b5n12o0049l455063q86e4_6_SWIR_jpg.rf.55371dc2e297883b469ea40717f67b43.txt'), PosixPath('dataset/labels/_annotations_filtered.coco/cl6kf256r0006c455hwcv6khh_2_FALSE_COLOR_jpg.rf.1497e932e1406e3360ac61f268d7a02a.txt'), PosixPath('dataset/labels/_annotations_filtered.coco/cl6oui3xy00aoao55d29e9vlz_4_FALSE_COLOR__URBAN_jpg.rf.75cb4ab2e4d84a20ae05d606f0cd9f7e.txt'), PosixPath('dataset/labels/_annotations_filtered.coco/cl6oputjf007wao55fnke0ppv_2_FALSE_COLOR_jpg.rf.1895fbee9d0e59032e22514133629026.txt'), PosixPath('dataset/labels/_annotations_filtered.coco/cl6cru4e800dyl455gekch8cy_1_TRUE_COLOR_jpg.rf.e99288a6d88e5afdbbcb05357aec507c.txt'), PosixPath('dataset/labels/_annotations_filtered.coco/cl6cttw6o00ial4555urs554w_2_FALSE_COLOR_jpg.rf.d92cb74564bf4e1556a74fc7b377e3f2.txt'), PosixPath('dataset/labels/_annotations_filtered.coco/cl6b5dekg003el4552wy46fsz_4_FALSE_COLOR__URBAN_jpg.rf.025e0455dad67b91979fecdc00bf453c.txt'), PosixPath('dataset/labels/_annotations_filtered.coco/cl6b6sfee007xl455b8bt5zum_1_TRUE_COLOR_jpg.rf.a921f3be3f70ab5d36b15ac7b3721085.txt'), PosixPath('dataset/labels/_annotations_filtered.coco/cl6ocpxm10006ao554w1tf9fa_2_FALSE_COLOR_jpg.rf.4a0eb26253daa0657560787be4b35949.txt'), PosixPath('dataset/labels/_annotations_filtered.coco/cl6b0ckyi000pl455hm7bhix2_2_FALSE_COLOR_jpg.rf.b9c47a459428b9c421dbf0fc37f72cf9.txt'), PosixPath('dataset/labels/_annotations_filtered.coco/cl6dyeg510004hg554xxs8aux_6_SWIR_jpg.rf.375714af6c9f8fa9fb5423c7dbcea6cc.txt'), PosixPath('dataset/labels/_annotations_filtered.coco/cl6e0l3x90015gk55eki43b8w_2_FALSE_COLOR_jpg.rf.71e58f947635dad1592ddd10fa52ba62.txt'), PosixPath('dataset/labels/_annotations_filtered.coco/cl6cs0euj00egl455918xdqll_1_TRUE_COLOR_jpg.rf.fec2fff5707fc21c8aa9d29c3e14f5db.txt'), PosixPath('dataset/labels/_annotations_filtered.coco/cl6e2iu9v0027gk55e8cfax9f_1_TRUE_COLOR_jpg.rf.50314616f0da1821e8666d792d294016.txt'), PosixPath('dataset/labels/_annotations_filtered.coco/cl6oizoxx0041ao55csrr4whh_4_FALSE_COLOR__URBAN_jpg.rf.de817a7270724a3d4e58887147bd175c.txt'), PosixPath('dataset/labels/_annotations_filtered.coco/cl6azvz950000t0552g8v22is_1_TRUE_COLOR_jpg.rf.9324abe7caa6850140e03d5454f3abb4.txt'), PosixPath('dataset/labels/_annotations_filtered.coco/cl6oiv12w003uao55arup9ca6_6_SWIR_jpg.rf.5eb7a8cdcd70e5753e2a286ed3e1b925.txt'), PosixPath('dataset/labels/_annotations_filtered.coco/cl6cs7poo00f2l4557i4i86z6_2_FALSE_COLOR_jpg.rf.ef0dfd73530748d094bdd6043bc03479.txt'), PosixPath('dataset/labels/_annotations_filtered.coco/cl6m15k1g00378w559sqfahyu_6_SWIR_jpg.rf.547e7435c94eb5cde08d1246196a8fc4.txt'), PosixPath('dataset/labels/_annotations_filtered.coco/cl6ch6y2d00byl4557ijbc6o4_4_FALSE_COLOR__URBAN_jpg.rf.00f8770027448a54180d8716b6b64f26.txt'), PosixPath('dataset/labels/_annotations_filtered.coco/cl6kfpnu6001ac4551zdx0uev_6_SWIR_jpg.rf.34908aba60aeee70d991318c99dc9351.txt'), PosixPath('dataset/labels/_annotations_filtered.coco/cl6oj0ggm0043ao55acihdj7s_2_FALSE_COLOR_jpg.rf.5ceafad2a989e00d5f32f3d465f72f35.txt'), PosixPath('dataset/labels/_annotations_filtered.coco/cl6ltrgqp002s8w55bwy9c5b4_4_FALSE_COLOR__URBAN_jpg.rf.76fca94ad3eb13cfdb34ef2efdb184ae.txt'), PosixPath('dataset/labels/_annotations_filtered.coco/cl6cgw2be00bnl455cetv4inw_6_SWIR_jpg.rf.9ff585b96d534d0824a3896096a0c74b.txt'), PosixPath('dataset/labels/_annotations_filtered.coco/cl6ctje2500hsl4550fuvht4f_6_SWIR_jpg.rf.e8d42e04ac021aa15617aa3ab4c4f626.txt'), PosixPath('dataset/labels/_annotations_filtered.coco/cl6b5f0o3003ll4553yz85s0u_2_FALSE_COLOR_jpg.rf.445d01ea4ecb4daf88fc55dbab1364a1.txt'), PosixPath('dataset/labels/_annotations_filtered.coco/cl6oilbwz003bao55ayyaeiti_6_SWIR_jpg.rf.55836ac19fe4201247dafafa8d8862ca.txt'), PosixPath('dataset/labels/_annotations_filtered.coco/cl6ocozkd0004ao55e5fq7tfw_4_FALSE_COLOR__URBAN_jpg.rf.555ed6d49211ce13162167f59dab1746.txt'), PosixPath('dataset/labels/_annotations_filtered.coco/cl6kg4sfr0026c4552hfe6gtj_4_FALSE_COLOR__URBAN_jpg.rf.2342a2438b262c0e389b20eaddf8c3c2.txt'), PosixPath('dataset/labels/_annotations_filtered.coco/cl6cstc5x00g7l455ec9d32eh_4_FALSE_COLOR__URBAN_jpg.rf.71316a722d62f20ac2358061da63172b.txt'), PosixPath('dataset/labels/_annotations_filtered.coco/cl6e0j0t90010gk557b525asz_6_SWIR_jpg.rf.7fa83e66906146392ab7de8d22289b2e.txt'), PosixPath('dataset/labels/_annotations_filtered.coco/cl6b03sa00004l4555k7m3d9h_2_FALSE_COLOR_jpg.rf.ff06f8d5665b3485544ff4b57022f5a4.txt'), PosixPath('dataset/labels/_annotations_filtered.coco/cl6kfzb24001zc4555e770ib2_4_FALSE_COLOR__URBAN_jpg.rf.13a4747cbfc22ec8cbfc4da014d74e19.txt'), PosixPath('dataset/labels/_annotations_filtered.coco/cl6b5xjjd005kl455hfjcd5ra_6_SWIR_jpg.rf.7488907fe46984de6c03556760843d6f.txt'), PosixPath('dataset/labels/_annotations_filtered.coco/cl6chkc4400cal4551mau76ln_2_FALSE_COLOR_jpg.rf.b399825fe01934611b6d013886c789f8.txt'), PosixPath('dataset/labels/_annotations_filtered.coco/cl6odoepa0028ao554gdxhnyo_1_TRUE_COLOR_jpg.rf.97b0cd83ab8fc9eff094564e62ac032e.txt'), PosixPath('dataset/labels/_annotations_filtered.coco/cl6okcs620060ao552j5fd463_1_TRUE_COLOR_jpg.rf.b00939415cb2ad0885a00096b525a2ff.txt'), PosixPath('dataset/labels/_annotations_filtered.coco/cl6csuejr00g9l45566f93g4a_2_FALSE_COLOR_jpg.rf.054d398289a53f9e9e8a801aeb0d7863.txt'), PosixPath('dataset/labels/_annotations_filtered.coco/cl6e35mru003cgk559os14r7y_6_SWIR_jpg.rf.336962415de265ba0bd7c7a9fa5a7948.txt'), PosixPath('dataset/labels/_annotations_filtered.coco/cl6e34bti0037gk55gzdv0akr_6_SWIR_jpg.rf.832dd04dfc59c9fe95a36dd61b1fc76c.txt'), PosixPath('dataset/labels/_annotations_filtered.coco/cl6kgdfbl002ic45506ui0jbm_2_FALSE_COLOR_jpg.rf.2a2977277d6ac5d86155b8562dcd9aa5.txt'), PosixPath('dataset/labels/_annotations_filtered.coco/cl6e2kygp002egk55asrs2brz_6_SWIR_jpg.rf.babaec9df98b79e585c6b0ed3e401b8f.txt'), PosixPath('dataset/labels/_annotations_filtered.coco/cl6od01zy000wao5564tqf2dq_6_SWIR_jpg.rf.6c0b81677e3f0db5276e1d8f05fa6db9.txt'), PosixPath('dataset/labels/_annotations_filtered.coco/cl6e2cbgk001tgk5560zhhqm7_4_FALSE_COLOR__URBAN_jpg.rf.25b62006fb08f8d995f34a3c229a08a6.txt'), PosixPath('dataset/labels/_annotations_filtered.coco/cl6ocu86l000hao5586i77xky_1_TRUE_COLOR_jpg.rf.850526f8bca7668a3023af7155d03747.txt'), PosixPath('dataset/labels/_annotations_filtered.coco/cl6m17r53003b8w55c0zsgjie_4_FALSE_COLOR__URBAN_jpg.rf.0e0e305fb9dd82c08f456f3a69fa1f51.txt'), PosixPath('dataset/labels/_annotations_filtered.coco/cl6kgeqar002lc455akv50au4_2_FALSE_COLOR_jpg.rf.cc30b23aec838a549eeb61aeb281a5f9.txt'), PosixPath('dataset/labels/_annotations_filtered.coco/cl6lt37ph00248w55dnhvff9s_2_FALSE_COLOR_jpg.rf.c96af4afa10719f140a7be3e62c6eaf6.txt'), PosixPath('dataset/labels/_annotations_filtered.coco/cl6cguk2800bml4556lfx35kx_2_FALSE_COLOR_jpg.rf.c00397ac5bd0e1323da8f3791e8400fe.txt'), PosixPath('dataset/labels/_annotations_filtered.coco/cl6m1ebtk003r8w557razf73c_1_TRUE_COLOR_jpg.rf.1d28f6f2c9fe353d562a971198c2b123.txt'), PosixPath('dataset/labels/_annotations_filtered.coco/cl6b75qhp0098l455giwk7bva_4_FALSE_COLOR__URBAN_jpg.rf.3d6853f78cfcd17e1029d19083bcbdb0.txt'), PosixPath('dataset/labels/_annotations_filtered.coco/cl6e20np5001sgk555chada9l_1_TRUE_COLOR_jpg.rf.c8e0c5725013c16308e93f9622c8c7d3.txt'), PosixPath('dataset/labels/_annotations_filtered.coco/cl6chj77t00c7l455c5c08ec6_1_TRUE_COLOR_jpg.rf.54765f5cf2a2e7c9fb3c27aed7fcfd85.txt'), PosixPath('dataset/labels/_annotations_filtered.coco/cl6b035dn0002l455hbmqcima_4_FALSE_COLOR__URBAN_jpg.rf.d884d31834bb767707a1616dfb807d00.txt'), PosixPath('dataset/labels/_annotations_filtered.coco/cl6odyfwh002lao55bnflcuaj_1_TRUE_COLOR_jpg.rf.98f786922f2c57d43d5d72e992fe955c.txt'), PosixPath('dataset/labels/_annotations_filtered.coco/cl6kfoffk0016c455cvxsalj2_4_FALSE_COLOR__URBAN_jpg.rf.0bef427a51301563a39437db508e1b72.txt'), PosixPath('dataset/labels/_annotations_filtered.coco/cl6cg820i00ahl45522fwa74p_4_FALSE_COLOR__URBAN_jpg.rf.a65054490c722cb439824fa2a1e395b7.txt'), PosixPath('dataset/labels/_annotations_filtered.coco/cl6ojrtzp004zao55hqhsfffg_2_FALSE_COLOR_jpg.rf.195a1e150a842d8e52a340b764d086c0.txt'), PosixPath('dataset/labels/_annotations_filtered.coco/cl6oe0y5h002rao55ghk1g0ha_4_FALSE_COLOR__URBAN_jpg.rf.91bd2f4b1f1e0980eb280e3e13fc8abd.txt'), PosixPath('dataset/labels/_annotations_filtered.coco/cl6kg12gd0022c4555fac0sms_2_FALSE_COLOR_jpg.rf.e506d912edb520ae8e29faac6125e931.txt'), PosixPath('dataset/labels/_annotations_filtered.coco/cl6b652mi0068l4552keu9loj_4_FALSE_COLOR__URBAN_jpg.rf.ac9e5490bef66d3ea06a9270bfbc269e.txt'), PosixPath('dataset/labels/_annotations_filtered.coco/cl6b66xpr006cl4556kzm7hl2_1_TRUE_COLOR_jpg.rf.a1964259e1dadaa86ebd64bd2acbbfa8.txt'), PosixPath('dataset/labels/_annotations_filtered.coco/cl6ct6g9a00gzl4555brigazi_4_FALSE_COLOR__URBAN_jpg.rf.5c007df412a0da258d50d03ae471057e.txt'), PosixPath('dataset/labels/_annotations_filtered.coco/cl6e2ww4w002lgk555k8x0pjx_2_FALSE_COLOR_jpg.rf.f9f14ac12d5da302ce5a757420a6eeeb.txt'), PosixPath('dataset/labels/_annotations_filtered.coco/cl6op6nll006lao553d190xdf_2_FALSE_COLOR_jpg.rf.676cdbce511f842ca009b87eecc61241.txt'), PosixPath('dataset/labels/_annotations_filtered.coco/cl6ocys2m000sao5550mof7nx_1_TRUE_COLOR_jpg.rf.8e3581559100c209cd75fd81f38e072b.txt'), PosixPath('dataset/labels/_annotations_filtered.coco/cl6b652mi0068l4552keu9loj_6_SWIR_jpg.rf.1139087fcfdd2c71aca1e08ba169c124.txt'), PosixPath('dataset/labels/_annotations_filtered.coco/cl6b6dmty0071l455668oabtj_4_FALSE_COLOR__URBAN_jpg.rf.3d82e7710651d610b3ed5c22ae907981.txt'), PosixPath('dataset/labels/_annotations_filtered.coco/cl6opeibd0071ao55f9t2g6nw_2_FALSE_COLOR_jpg.rf.ab3ee8ccb77b84173db4848b0e45985e.txt'), PosixPath('dataset/labels/_annotations_filtered.coco/cl6dysxe3000ihg5573nzfbsy_6_SWIR_jpg.rf.79e2da02bc62f4f66f2346c01ab4aed8.txt'), PosixPath('dataset/labels/_annotations_filtered.coco/cl6ki3fbe00018w55146m86ja_4_FALSE_COLOR__URBAN_jpg.rf.a905168377908ca76ba5a1560a355536.txt'), PosixPath('dataset/labels/_annotations_filtered.coco/cl6ltopha002n8w5531cg4sky_6_SWIR_jpg.rf.11acd1712844c811f1b078454f199f84.txt'), PosixPath('dataset/labels/_annotations_filtered.coco/cl6b5z6d1005ol45596rf4y2m_2_FALSE_COLOR_jpg.rf.aef45dea5da99c4d13f38dd920910b0b.txt'), PosixPath('dataset/labels/_annotations_filtered.coco/cl6okf9bk0067ao55bstpe75r_4_FALSE_COLOR__URBAN_jpg.rf.58875e9af78353f15417f1a2e993c734.txt'), PosixPath('dataset/labels/_annotations_filtered.coco/cl6od3yri001cao55gifvaizk_1_TRUE_COLOR_jpg.rf.881044d7a4287260c26fd64ba6426160.txt'), PosixPath('dataset/labels/_annotations_filtered.coco/cl6e32fcc0031gk55dtxeatwl_2_FALSE_COLOR_jpg.rf.cb3413b2d95b29ce1d414af0900789c6.txt'), PosixPath('dataset/labels/_annotations_filtered.coco/cl6b6xnlo008dl455ft678vcm_1_TRUE_COLOR_jpg.rf.7de7f22e4d7f43603fc77d24156c207c.txt'), PosixPath('dataset/labels/_annotations_filtered.coco/cl6b5m4w10045l4550bi9ea2d_2_FALSE_COLOR_jpg.rf.5a23fb88520b394760f70a877d4faa0e.txt'), PosixPath('dataset/labels/_annotations_filtered.coco/cl6dzuimb000xhg552nh5hdd9_4_FALSE_COLOR__URBAN_jpg.rf.39dc7784f317cb207365a5807d822bbd.txt'), PosixPath('dataset/labels/_annotations_filtered.coco/cl6kgidey002uc455a3qe2ark_1_TRUE_COLOR_jpg.rf.1db5657ebb196420d977a593d4cbbc11.txt'), PosixPath('dataset/labels/_annotations_filtered.coco/cl6b08qce000hl455fod5abjo_1_TRUE_COLOR_jpg.rf.3ac00fb7f706d7cf6cb843ea384fbd26.txt'), PosixPath('dataset/labels/_annotations_filtered.coco/cl6oips2c003kao559sp4fuwd_1_TRUE_COLOR_jpg.rf.bc07d79827f17f756dd7bfad1411bda5.txt'), PosixPath('dataset/labels/_annotations_filtered.coco/cl6chv5i400cpl455b8o71jcm_6_SWIR_jpg.rf.dac7d24e59b96ef59d3d17fca9caa99e.txt'), PosixPath('dataset/labels/_annotations_filtered.coco/cl6ct2hu900grl455hdde142n_4_FALSE_COLOR__URBAN_jpg.rf.f5086b4ced8fcaa27ce46922d0004363.txt'), PosixPath('dataset/labels/_annotations_filtered.coco/cl6cs8jie00f5l4555hn76aj1_6_SWIR_jpg.rf.7cdd3f4c7d935ad234885da22160d3b7.txt'), PosixPath('dataset/labels/_annotations_filtered.coco/cl6e0dbw9000pgk55cv1sgp5x_1_TRUE_COLOR_jpg.rf.049fb46a294a4647ce0018cafe44851a.txt'), PosixPath('dataset/labels/_annotations_filtered.coco/cl6dywrm9000mhg55c48n2wtt_6_SWIR_jpg.rf.b1a38587851b623506ac63c99efc6942.txt'), PosixPath('dataset/labels/_annotations_filtered.coco/cl6b0czhh000rl4555uf846qc_4_FALSE_COLOR__URBAN_jpg.rf.4d22f494704ece92b8a36f855f77bffe.txt'), PosixPath('dataset/labels/_annotations_filtered.coco/cl6e2n2tv002hgk553va60g50_1_TRUE_COLOR_jpg.rf.75734485005ac950cbb10aae5402cb76.txt'), PosixPath('dataset/labels/_annotations_filtered.coco/cl6b53k570029l45574z79k7e_2_FALSE_COLOR_jpg.rf.fe513cd92aab85819db299ec9fb7939d.txt'), PosixPath('dataset/labels/_annotations_filtered.coco/cl6ltphn6002o8w55a78j55fa_2_FALSE_COLOR_jpg.rf.19dd931922851ac71a43e37d7e71cac5.txt'), PosixPath('dataset/labels/_annotations_filtered.coco/cl6kg9h8h0028c455at8u1fb4_2_FALSE_COLOR_jpg.rf.c826b52465db077585167b3e4680ee6c.txt'), PosixPath('dataset/labels/_annotations_filtered.coco/cl6b65ksg0069l455f4od44cb_1_TRUE_COLOR_jpg.rf.3e54d168c45f2d0c7a3f5a70b8e92e20.txt'), PosixPath('dataset/labels/_annotations_filtered.coco/cl6b7bt0y009zl455397c4vju_6_SWIR_jpg.rf.bf9ea04cbc437c4c8c4b1a2874e4b65c.txt'), PosixPath('dataset/labels/_annotations_filtered.coco/cl6okdwy00063ao5588jlcglr_4_FALSE_COLOR__URBAN_jpg.rf.352f082c75435cb06dd2e46d12479419.txt'), PosixPath('dataset/labels/_annotations_filtered.coco/cl6chl1rg00cbl455e1p5cw7x_6_SWIR_jpg.rf.d825544520c1f57485e1ae1678fdd8c2.txt'), PosixPath('dataset/labels/_annotations_filtered.coco/cl6b6op7a007ol455fvvv6g4a_6_SWIR_jpg.rf.4926076997caf8669df1f851efeae7e6.txt'), PosixPath('dataset/labels/_annotations_filtered.coco/cl6b76fnk009dl4556z3y9qgs_4_FALSE_COLOR__URBAN_jpg.rf.4d7112c2a197e6ce3d8764ad0af5d287.txt'), PosixPath('dataset/labels/_annotations_filtered.coco/cl6kga3590029c455dfqjh4v7_2_FALSE_COLOR_jpg.rf.ef13360dbca3f541099b00a7f79d6a87.txt'), PosixPath('dataset/labels/_annotations_filtered.coco/cl6kgj08y002wc455bqfpd8bd_6_SWIR_jpg.rf.c68ac9e33aa309a3e14ba984d09ef846.txt'), PosixPath('dataset/labels/_annotations_filtered.coco/cl6cgbyeo00aql455eui3fiu4_1_TRUE_COLOR_jpg.rf.0b8e1982479c781a18740d7fd0160c36.txt'), PosixPath('dataset/labels/_annotations_filtered.coco/cl6odwuqk002iao555zzv0c59_1_TRUE_COLOR_jpg.rf.7515a109b70f8d66aad0623c9eeddef7.txt'), PosixPath('dataset/labels/_annotations_filtered.coco/cl6oinvqs003fao55chcqcxbr_2_FALSE_COLOR_jpg.rf.f3dcb8e13a1f4123914d5987a9ba4ee2.txt'), PosixPath('dataset/labels/_annotations_filtered.coco/cl6kgh8cf002sc4558jry9v2p_1_TRUE_COLOR_jpg.rf.03abcb671e6d0110cb96176d0f89b7dd.txt'), PosixPath('dataset/labels/_annotations_filtered.coco/cl6oqbr98008uao55hhpyg2l0_6_SWIR_jpg.rf.b1f0111172cad2728c3d6d53fe595b48.txt'), PosixPath('dataset/labels/_annotations_filtered.coco/cl6b5osai004hl455cp1mh6ki_4_FALSE_COLOR__URBAN_jpg.rf.951443c6d4d4ac4c73f0375f00a491a1.txt'), PosixPath('dataset/labels/_annotations_filtered.coco/cl6od3kun001bao55bcq677k3_2_FALSE_COLOR_jpg.rf.3fad73bdcffb62a261e27d5f101cc7e1.txt'), PosixPath('dataset/labels/_annotations_filtered.coco/cl6kf821l000nc4555y4p2rm4_1_TRUE_COLOR_jpg.rf.dee11d790a8452475277a2bd007a6cbe.txt'), PosixPath('dataset/labels/_annotations_filtered.coco/cl6m0whp000308w555xk5cwij_2_FALSE_COLOR_jpg.rf.4c7f2876d41823704290c7ba17c9b1ae.txt'), PosixPath('dataset/labels/_annotations_filtered.coco/cl6kfnwqd0015c455cssv4ha4_1_TRUE_COLOR_jpg.rf.dd4a1a9cc9e885b3011de03732c8f204.txt'), PosixPath('dataset/labels/_annotations_filtered.coco/cl6kgj08y002wc455bqfpd8bd_4_FALSE_COLOR__URBAN_jpg.rf.ba5e373a643f637c02f0a7f548617b90.txt'), PosixPath('dataset/labels/_annotations_filtered.coco/cl6ou8fz600abao5561sobj5z_1_TRUE_COLOR_jpg.rf.1ff7bea9ba4b1da2adb2975211554bc8.txt'), PosixPath('dataset/labels/_annotations_filtered.coco/cl6e1pf9j001ggk55feroguvj_2_FALSE_COLOR_jpg.rf.e5ddab20106f684b690b93f0baa84175.txt'), PosixPath('dataset/labels/_annotations_filtered.coco/cl6oct90r000fao553xkha255_2_FALSE_COLOR_jpg.rf.d6d86d9870d1a9f114f0b02ad0f9aedd.txt'), PosixPath('dataset/labels/_annotations_filtered.coco/cl6e0c4x3000ngk55c47nhbiz_2_FALSE_COLOR_jpg.rf.f5b8f6b5940529cca841638d51939237.txt'), PosixPath('dataset/labels/_annotations_filtered.coco/cl6kfy9v8001vc4559ubi2rde_4_FALSE_COLOR__URBAN_jpg.rf.60420da5ccf8e1e4e24ff6193348be17.txt'), PosixPath('dataset/labels/_annotations_filtered.coco/cl6b752w00095l45532llequj_1_TRUE_COLOR_jpg.rf.327a752c2e51b28cc6c0156d0484ccde.txt'), PosixPath('dataset/labels/_annotations_filtered.coco/cl6b6aeiv006rl455ho4ugrkp_4_FALSE_COLOR__URBAN_jpg.rf.7207ace6eadcc7d714db4072c3be13d7.txt'), PosixPath('dataset/labels/_annotations_filtered.coco/cl6ch417300btl4554l143qop_4_FALSE_COLOR__URBAN_jpg.rf.43e72d2d74427093db9424b5a3eae89a.txt'), PosixPath('dataset/labels/_annotations_filtered.coco/cl6b0ckyi000pl455hm7bhix2_1_TRUE_COLOR_jpg.rf.4284e0076b9a0bb27b35d7c6a22d4742.txt'), PosixPath('dataset/labels/_annotations_filtered.coco/cl6chumom00col4556jyfb7a5_4_FALSE_COLOR__URBAN_jpg.rf.445eef4a54a2beab2c3398d8f64fbcfb.txt'), PosixPath('dataset/labels/_annotations_filtered.coco/cl6ltqjke002q8w55ct7j5tel_6_SWIR_jpg.rf.f8910e03196999a430ba14366da7475c.txt'), PosixPath('dataset/labels/_annotations_filtered.coco/cl6ojevvt004uao55432mcnea_1_TRUE_COLOR_jpg.rf.032b02132beec27d5037247b45908220.txt'), PosixPath('dataset/labels/_annotations_filtered.coco/cl6b0cqup000ql4558m8y8a8t_6_SWIR_jpg.rf.31bee1d2a88d85f292323400c332f798.txt'), PosixPath('dataset/labels/_annotations_filtered.coco/cl6cgkn5000b6l455cg451vw6_2_FALSE_COLOR_jpg.rf.349b983f5f80cd6cd24ea6105b958483.txt'), PosixPath('dataset/labels/_annotations_filtered.coco/cl6m10ni200338w553m5pf9l5_1_TRUE_COLOR_jpg.rf.aba7991f3bcf60f90b24b03a9c2e429d.txt'), PosixPath('dataset/labels/_annotations_filtered.coco/cl6oix6p8003xao558gep7jfa_6_SWIR_jpg.rf.9736bdd1879c0e0861072b086ca94dde.txt'), PosixPath('dataset/labels/_annotations_filtered.coco/cl6b5dfkd003fl455d1yufkce_2_FALSE_COLOR_jpg.rf.d4fff2ca1272f4fb2f0c9cb2ef9a4e41.txt'), PosixPath('dataset/labels/_annotations_filtered.coco/cl6kjhhl5001h8w55fo1v1vqs_1_TRUE_COLOR_jpg.rf.188c382d5e6f2f64671fb1473f391d17.txt'), PosixPath('dataset/labels/_annotations_filtered.coco/cl6e30dz3002tgk559uhm11za_1_TRUE_COLOR_jpg.rf.fe685dda58ed1dd4b55f5a9f898e2629.txt'), PosixPath('dataset/labels/_annotations_filtered.coco/cl6azt6by0000go55h4io4tab_6_SWIR_jpg.rf.f8a793559d8103b9c237ca96944514b5.txt'), PosixPath('dataset/labels/_annotations_filtered.coco/cl6b5sn8f004xl455a0z7eski_1_TRUE_COLOR_jpg.rf.353a0bbf38298986fe6b54d786db5530.txt'), PosixPath('dataset/labels/_annotations_filtered.coco/cl6odm3oj0023ao55641s046f_2_FALSE_COLOR_jpg.rf.42e989097fe2f68f01f38c1175b8c8cc.txt'), PosixPath('dataset/labels/_annotations_filtered.coco/cl6ouiflj00apao55ef14ha2q_6_SWIR_jpg.rf.847b99640495bcb4aa215b63c1c3cde6.txt'), PosixPath('dataset/labels/_annotations_filtered.coco/cl6b0q209001jl4553gmg5wxk_2_FALSE_COLOR_jpg.rf.eef8be7fee7165de64be4973c2c58f3e.txt'), PosixPath('dataset/labels/_annotations_filtered.coco/cl6b7gtl200aal4552nve0ap1_2_FALSE_COLOR_jpg.rf.c871b0359698a70abce45a40f6bb117e.txt'), PosixPath('dataset/labels/_annotations_filtered.coco/cl6oujpxm00atao554qpycnsr_2_FALSE_COLOR_jpg.rf.80ca6bf8c90969f299e1fa5127fc8523.txt'), PosixPath('dataset/labels/_annotations_filtered.coco/cl6cs5j5d00exl455afqp4ysw_6_SWIR_jpg.rf.27c23cbdffecb44114f96e8b7514f120.txt'), PosixPath('dataset/labels/_annotations_filtered.coco/cl6b09m65000kl455dbrteofg_1_TRUE_COLOR_jpg.rf.ee57729ea078971520bf21366b934b08.txt'), PosixPath('dataset/labels/_annotations_filtered.coco/cl6b4zqf6001xl455gp6h5ca8_1_TRUE_COLOR_jpg.rf.b98add8863e6743972e03c69a46b54fd.txt'), PosixPath('dataset/labels/_annotations_filtered.coco/cl6oqlhh6008zao55gago04ul_2_FALSE_COLOR_jpg.rf.b5fb95dcd6fdd2086ada9d253bd1dc04.txt'), PosixPath('dataset/labels/_annotations_filtered.coco/cl6ocs2h6000cao559bx42yho_6_SWIR_jpg.rf.33c06060130da4dc8e43414cda713795.txt'), PosixPath('dataset/labels/_annotations_filtered.coco/cl6ojevvt004uao55432mcnea_6_SWIR_jpg.rf.ac9d8ec6cc1476f98470e302c9f8945f.txt'), PosixPath('dataset/labels/_annotations_filtered.coco/cl6oq4w4y008jao553s62btk7_6_SWIR_jpg.rf.56eb2cf4a5f3af9b2c2b5b08c0a21105.txt'), PosixPath('dataset/labels/_annotations_filtered.coco/cl6b5ojmc004gl4551hf906us_1_TRUE_COLOR_jpg.rf.4b67d4ab26364dde4077a63bace21dee.txt'), PosixPath('dataset/labels/_annotations_filtered.coco/cl6m0w1nh002z8w558do5f7ar_4_FALSE_COLOR__URBAN_jpg.rf.de9d2286469563a38f2e99900c5a052d.txt'), PosixPath('dataset/labels/_annotations_filtered.coco/cl6b7ep9100a4l455h3w9fstk_2_FALSE_COLOR_jpg.rf.4f2747c68fd470403fcec0900ad7559d.txt'), PosixPath('dataset/labels/_annotations_filtered.coco/cl6kfci270010c45580qyfo1k_1_TRUE_COLOR_jpg.rf.c5ae9d9a4ce6ce6eb40688beb6ba338b.txt'), PosixPath('dataset/labels/_annotations_filtered.coco/cl6kgag2y002ac455g3l427ic_4_FALSE_COLOR__URBAN_jpg.rf.dcfb648b0d4277fcb2e240705a5b422f.txt'), PosixPath('dataset/labels/_annotations_filtered.coco/cl6b6p96a007ql455cvrh6peg_6_SWIR_jpg.rf.c9f11f0281ee9e5699b728418acd524d.txt'), PosixPath('dataset/labels/_annotations_filtered.coco/cl6b5qhgi004ml4554fwj59ku_2_FALSE_COLOR_jpg.rf.f2becfdadd89f46560f6e995b220149f.txt'), PosixPath('dataset/labels/_annotations_filtered.coco/cl6chmuyr00cfl455hd0u03x9_2_FALSE_COLOR_jpg.rf.94e376a122ea5e60615032bf8564067f.txt'), PosixPath('dataset/labels/_annotations_filtered.coco/cl6cs3rd100esl455en8mcp5g_1_TRUE_COLOR_jpg.rf.3b866376fde360e27def0dd04d60d978.txt'), PosixPath('dataset/labels/_annotations_filtered.coco/cl6cs6mgj00f0l455egwshib7_1_TRUE_COLOR_jpg.rf.d1ab74c84059de9049a6e2af79eddc96.txt'), PosixPath('dataset/labels/_annotations_filtered.coco/cl6kgpdp90034c4556foheik0_6_SWIR_jpg.rf.c22f311b1888c6f7c59a73444e2e52c1.txt'), PosixPath('dataset/labels/_annotations_filtered.coco/cl6kez8j70002c455axv68ulf_1_TRUE_COLOR_jpg.rf.5ab626fcd9f1f8d03141fbce7c4d2fda.txt'), PosixPath('dataset/labels/_annotations_filtered.coco/cl6kj4n7o000o8w55eq83czxi_1_TRUE_COLOR_jpg.rf.ed5093deefd129171df94fb32cf9488d.txt'), PosixPath('dataset/labels/_annotations_filtered.coco/cl6oj8w06004hao558ky44xei_6_SWIR_jpg.rf.a5899ccda47be15f003449d3d880a9da.txt'), PosixPath('dataset/labels/_annotations_filtered.coco/cl6op6nll006lao553d190xdf_1_TRUE_COLOR_jpg.rf.3692c2f973b3d841abdbd8cb8f5e64dc.txt'), PosixPath('dataset/labels/_annotations_filtered.coco/cl6cg8u0w00ajl455a3ho7vov_4_FALSE_COLOR__URBAN_jpg.rf.727d492c1d7851360cea6ef50154ae46.txt'), PosixPath('dataset/labels/_annotations_filtered.coco/cl6odxshy002kao554h0tez0a_6_SWIR_jpg.rf.59fcbf7ef586daeb6c08d5f5b27d5ae6.txt'), PosixPath('dataset/labels/_annotations_filtered.coco/cl6opn2ws007hao55es3fg6b2_1_TRUE_COLOR_jpg.rf.9c0199b14bb01d75e444033c204a1893.txt'), PosixPath('dataset/labels/_annotations_filtered.coco/cl6oq9ozh008nao5591t079g1_4_FALSE_COLOR__URBAN_jpg.rf.6c26670ade9335a2ad7af64dbf3806ed.txt'), PosixPath('dataset/labels/_annotations_filtered.coco/cl6b6l171007kl4552zfu0hh5_1_TRUE_COLOR_jpg.rf.742cc3d06e92c2bf297ec516c01f0937.txt'), PosixPath('dataset/labels/_annotations_filtered.coco/cl6b58d1y002rl4558379g2db_6_SWIR_jpg.rf.d2c130e5f22d952b133056e4c484fdd9.txt'), PosixPath('dataset/labels/_annotations_filtered.coco/cl6b5dtwl003gl455a4x29a1d_1_TRUE_COLOR_jpg.rf.1c86bc5f19ec6e59b465b2bbac9161b1.txt'), PosixPath('dataset/labels/_annotations_filtered.coco/cl6crtivm00dwl45544k043su_6_SWIR_jpg.rf.dccd495d75c8765ac88d2cf78f453260.txt'), PosixPath('dataset/labels/_annotations_filtered.coco/cl6e1nvfl001egk556fa6giz7_2_FALSE_COLOR_jpg.rf.4e679887820ef44a029e11ae93afd1ba.txt'), PosixPath('dataset/labels/_annotations_filtered.coco/cl6oul0ve00axao5549vy6mom_4_FALSE_COLOR__URBAN_jpg.rf.456734966fb731d2ec99eb9959327034.txt'), PosixPath('dataset/labels/_annotations_filtered.coco/cl6e3bzkq003kgk550ppl67ww_4_FALSE_COLOR__URBAN_jpg.rf.f8307953fb5b60d10c4919d45923571c.txt'), PosixPath('dataset/labels/_annotations_filtered.coco/cl6opv5oo007xao553de9g7wd_2_FALSE_COLOR_jpg.rf.ab5b0ecca400b24137812a9cfd97fb73.txt'), PosixPath('dataset/labels/_annotations_filtered.coco/cl6e0dypj000qgk55gndm8q3o_6_SWIR_jpg.rf.68ab662c1d9a2de15cc87c7e50dd33ea.txt'), PosixPath('dataset/labels/_annotations_filtered.coco/cl6e1n8j9001cgk55bhebb6fp_2_FALSE_COLOR_jpg.rf.b853e3a4429e42c59527bd073d2e3667.txt'), PosixPath('dataset/labels/_annotations_filtered.coco/cl6b79rs5009wl4550jbyddo9_1_TRUE_COLOR_jpg.rf.891016298b1ec3cfd5e9ecd20bddb54c.txt'), PosixPath('dataset/labels/_annotations_filtered.coco/cl6oqrvzj009aao552o4w9gcv_1_TRUE_COLOR_jpg.rf.d85543f381e826e0dffa6a79d22ec38f.txt'), PosixPath('dataset/labels/_annotations_filtered.coco/cl6kfyj4a001wc4558emoaaeq_4_FALSE_COLOR__URBAN_jpg.rf.f4bb8a00db7566082ef5532e62ffc462.txt'), PosixPath('dataset/labels/_annotations_filtered.coco/cl6b5uskz0058l455gbd534lm_4_FALSE_COLOR__URBAN_jpg.rf.704db007a472c6e7396d277383c0dfe2.txt'), PosixPath('dataset/labels/_annotations_filtered.coco/cl6oq26pe008eao55afu47fi0_4_FALSE_COLOR__URBAN_jpg.rf.6097588c8396a37b074e3444cf333119.txt'), PosixPath('dataset/labels/_annotations_filtered.coco/cl6dyvvvc000lhg5533xc480w_4_FALSE_COLOR__URBAN_jpg.rf.7b4e887efe30535ef057f0a9ca071bfd.txt'), PosixPath('dataset/labels/_annotations_filtered.coco/cl6csapmj00f7l4558gne2y5r_4_FALSE_COLOR__URBAN_jpg.rf.15aab82f47702fe22931ed6ac41975c5.txt'), PosixPath('dataset/labels/_annotations_filtered.coco/cl6kiers800088w554w61grpw_6_SWIR_jpg.rf.eef3f85711d2f635550538c54c874845.txt'), PosixPath('dataset/labels/_annotations_filtered.coco/cl6kj4ybe000p8w554ytea5li_6_SWIR_jpg.rf.db9bdb5770985cc1c7452e50339d4ad4.txt'), PosixPath('dataset/labels/_annotations_filtered.coco/cl6e0mv1s0017gk5595j92i2d_4_FALSE_COLOR__URBAN_jpg.rf.d1e221b1a9a28c9ba9318854955beb67.txt'), PosixPath('dataset/labels/_annotations_filtered.coco/cl6odfk31001qao557bfi78e5_4_FALSE_COLOR__URBAN_jpg.rf.ee2a96a284dcadbe409e5bad1816a25a.txt'), PosixPath('dataset/labels/_annotations_filtered.coco/cl6oif58n002yao5578ob9fzh_4_FALSE_COLOR__URBAN_jpg.rf.67691ceccbbb460202535f17029f706e.txt'), PosixPath('dataset/labels/_annotations_filtered.coco/cl6b78q1y009sl455ekwc1jfp_1_TRUE_COLOR_jpg.rf.92ebe9452b2cdcf4ae4701102a55bd98.txt'), PosixPath('dataset/labels/_annotations_filtered.coco/cl6op20j8006eao55cw0ucbhh_2_FALSE_COLOR_jpg.rf.a05562a9bcb1ea1a88b6072f2dfcd022.txt'), PosixPath('dataset/labels/_annotations_filtered.coco/cl6odcx12001oao55f8bma9y4_6_SWIR_jpg.rf.abc6a29a97d9e3758deb79ec1becd8f9.txt'), PosixPath('dataset/labels/_annotations_filtered.coco/cl6b5phba004il45531lb6655_1_TRUE_COLOR_jpg.rf.86182cb796ffdd1d52c0540e0e05b4cc.txt'), PosixPath('dataset/labels/_annotations_filtered.coco/cl6ok74u9005oao557sb5dqub_4_FALSE_COLOR__URBAN_jpg.rf.3b9414b029ab4b9cfa4f5aa927740e03.txt'), PosixPath('dataset/labels/_annotations_filtered.coco/cl6odkye9001yao55bl6y87ra_2_FALSE_COLOR_jpg.rf.481fe0f62e06cf8fbe8d81c50e907b20.txt'), PosixPath('dataset/labels/_annotations_filtered.coco/cl6b5pr1b004kl455bt93cfs2_1_TRUE_COLOR_jpg.rf.70c4211a1b73f64b186de9f165e1c2f6.txt'), PosixPath('dataset/labels/_annotations_filtered.coco/cl6b7fkmx00a7l455d75h2co1_4_FALSE_COLOR__URBAN_jpg.rf.7a2606b45ea45ee07e66256ce803809e.txt'), PosixPath('dataset/labels/_annotations_filtered.coco/cl6opu1eb007uao5563tf72vm_2_FALSE_COLOR_jpg.rf.9a87b9a588f285f9fd649d8b4be71abf.txt'), PosixPath('dataset/labels/_annotations_filtered.coco/cl6kjc5r500168w55bry741c1_1_TRUE_COLOR_jpg.rf.0e78281e5d58015651a5a52f16ea2f38.txt'), PosixPath('dataset/labels/_annotations_filtered.coco/cl6csdbcu00f9l455hnwh8a4z_2_FALSE_COLOR_jpg.rf.09b3cb4addbc8c8306ad6e8f2806666d.txt'), PosixPath('dataset/labels/_annotations_filtered.coco/cl6b75qhp0098l455giwk7bva_1_TRUE_COLOR_jpg.rf.a94ba5968034dec9b73c7dbe480dc089.txt'), PosixPath('dataset/labels/_annotations_filtered.coco/cl6b03yzy0005l455dq6x4eyc_6_SWIR_jpg.rf.74830a185e1fe1400cba89794ee1ef0d.txt'), PosixPath('dataset/labels/_annotations_filtered.coco/cl6b0gln2000wl4559wpzdukf_1_TRUE_COLOR_jpg.rf.7f67b50ed7d78ce81f6aac2ca352d755.txt'), PosixPath('dataset/labels/_annotations_filtered.coco/cl6oijbft0037ao558i012jhh_2_FALSE_COLOR_jpg.rf.1a767327bd584e7865838b362acdbf85.txt'), PosixPath('dataset/labels/_annotations_filtered.coco/cl6kiers800088w554w61grpw_4_FALSE_COLOR__URBAN_jpg.rf.1f98202ca79ada1496853a9d130d845e.txt'), PosixPath('dataset/labels/_annotations_filtered.coco/cl6cgk7k600b5l455ceot4yy5_2_FALSE_COLOR_jpg.rf.ca2cce9e38f2a3902ebc19da1dfa4021.txt'), PosixPath('dataset/labels/_annotations_filtered.coco/cl6azt6by0000go55h4io4tab_2_FALSE_COLOR_jpg.rf.7bd6bf61c42f8477a59d290789795964.txt'), PosixPath('dataset/labels/_annotations_filtered.coco/cl6ct4zi700gvl455hd187an6_1_TRUE_COLOR_jpg.rf.c32aa601f010ec224bcb120239a61104.txt'), PosixPath('dataset/labels/_annotations_filtered.coco/cl6e3j5rh0046gk5519l319wr_2_FALSE_COLOR_jpg.rf.aec61d0bb5423cbf29d0a057a728d946.txt'), PosixPath('dataset/labels/_annotations_filtered.coco/cl6cgl1e600b7l455b4k067pe_1_TRUE_COLOR_jpg.rf.368b310764443e76767793eb11b0cc82.txt'), PosixPath('dataset/labels/_annotations_filtered.coco/cl6e30lnj002ugk558z8yabbd_1_TRUE_COLOR_jpg.rf.2e25a7ef06380c2e897608e1ff2caa38.txt'), PosixPath('dataset/labels/_annotations_filtered.coco/cl6odge0x001sao551k414izu_4_FALSE_COLOR__URBAN_jpg.rf.68da4cd1ea095ce761dc5ab6fe097edf.txt'), PosixPath('dataset/labels/_annotations_filtered.coco/cl6b05bia0009l4551ymod0pi_2_FALSE_COLOR_jpg.rf.92c20d730f7ec80ca1b4a3956f62f251.txt'), PosixPath('dataset/labels/_annotations_filtered.coco/cl6cs4oof00eul455fdkybwbf_6_SWIR_jpg.rf.964c04ade7796d8262a34460abc501f1.txt'), PosixPath('dataset/labels/_annotations_filtered.coco/cl6b6yfhr008il4555h86hokv_2_FALSE_COLOR_jpg.rf.fd50b29fbde8a1c76c3e2d01beb69fa5.txt'), PosixPath('dataset/labels/_annotations_filtered.coco/cl6okbxd2005yao551huyeqkl_4_FALSE_COLOR__URBAN_jpg.rf.50a8d3eb02e27c5dce9673c8762102f6.txt'), PosixPath('dataset/labels/_annotations_filtered.coco/cl6kfsx2l001kc455ezxdhkvx_2_FALSE_COLOR_jpg.rf.88480b2346e5a8de319a5234e9eb5d03.txt'), PosixPath('dataset/labels/_annotations_filtered.coco/cl6kjfsd8001d8w55e6ne0oyo_1_TRUE_COLOR_jpg.rf.841ddd167686a09b6dcee75bf59ce195.txt'), PosixPath('dataset/labels/_annotations_filtered.coco/cl6oj3q5x004aao55ala51kbg_4_FALSE_COLOR__URBAN_jpg.rf.7234b0197e9bd566e5a618690ef769ab.txt'), PosixPath('dataset/labels/_annotations_filtered.coco/cl6ct5pk300gxl4559vdtfjz2_6_SWIR_jpg.rf.673db7e2eae6ca92100e850d8d4a595a.txt'), PosixPath('dataset/labels/_annotations_filtered.coco/cl6e2edx3001ygk554c0h3ubb_4_FALSE_COLOR__URBAN_jpg.rf.3d61f7c8ad5106ce9c2aa3860b2f20db.txt'), PosixPath('dataset/labels/_annotations_filtered.coco/cl6b4ykst001sl4550amagaw5_4_FALSE_COLOR__URBAN_jpg.rf.5afbd5165c965cc2f70bd0d10d3c004f.txt'), PosixPath('dataset/labels/_annotations_filtered.coco/cl6oimia5003dao558osp4mxe_1_TRUE_COLOR_jpg.rf.f20e51ab0ee966bbec0be1bceb83e2f4.txt'), PosixPath('dataset/labels/_annotations_filtered.coco/cl6e1icq8001agk55c0pe3e5b_4_FALSE_COLOR__URBAN_jpg.rf.a7200e9f167ade98b5f50ee1bbebe711.txt'), PosixPath('dataset/labels/_annotations_filtered.coco/cl6kfrfmx001hc455cbojhgeb_1_TRUE_COLOR_jpg.rf.06641a0ddbcb7d3b264dfcba6ca41372.txt'), PosixPath('dataset/labels/_annotations_filtered.coco/cl6kgm9qr002yc455g5qs87kz_4_FALSE_COLOR__URBAN_jpg.rf.0554aa78bc92fb2e6fbd671e4952c21f.txt'), PosixPath('dataset/labels/_annotations_filtered.coco/cl6b5s1n0004ul455es9i793w_1_TRUE_COLOR_jpg.rf.b4047203715e6e814acf94b0932d8906.txt'), PosixPath('dataset/labels/_annotations_filtered.coco/cl6kg5b5c0027c455abg328ld_6_SWIR_jpg.rf.ef8c91393a06715257feb3b41d06ffa4.txt'), PosixPath('dataset/labels/_annotations_filtered.coco/cl6oczf4b000uao559egx35g7_6_SWIR_jpg.rf.83d3cb3aab9feae8598a99742f1c0dd1.txt')]\n"
     ]
    },
    {
     "data": {
      "text/plain": [
       "([PosixPath('data_filtered/cl6cttw6o00ial4555urs554w_2_FALSE_COLOR_jpg.rf.d92cb74564bf4e1556a74fc7b377e3f2.jpg'),\n",
       "  PosixPath('data_filtered/cl6m10x9x00348w55h67q3hes_2_FALSE_COLOR_jpg.rf.746f55b2cb2a94835ebbb485b3715504.jpg'),\n",
       "  PosixPath('data_filtered/cl6kj4n7o000o8w55eq83czxi_1_TRUE_COLOR_jpg.rf.ed5093deefd129171df94fb32cf9488d.jpg'),\n",
       "  PosixPath('data_filtered/cl6b79f3e009vl455hmyk8e9e_1_TRUE_COLOR_jpg.rf.3011a8be79452c723e8e816eae6c3377.jpg'),\n",
       "  PosixPath('data_filtered/cl6e0kgem0014gk55cl4692g7_1_TRUE_COLOR_jpg.rf.d47055293ccf936f71eb03a282b643b4.jpg'),\n",
       "  PosixPath('data_filtered/cl6kfnwqd0015c455cssv4ha4_1_TRUE_COLOR_jpg.rf.dd4a1a9cc9e885b3011de03732c8f204.jpg'),\n",
       "  PosixPath('data_filtered/cl6cg8u0w00ajl455a3ho7vov_4_FALSE_COLOR__URBAN_jpg.rf.727d492c1d7851360cea6ef50154ae46.jpg'),\n",
       "  PosixPath('data_filtered/cl6kfbq11000yc45577e7e4bg_1_TRUE_COLOR_jpg.rf.c8c9d7c11989ad75fba7ee813467b034.jpg'),\n",
       "  PosixPath('data_filtered/cl6orry9200a0ao559gb82ms0_1_TRUE_COLOR_jpg.rf.cc9619d3a597ceaf2853dd8c2ee86be7.jpg'),\n",
       "  PosixPath('data_filtered/cl6odfk31001qao557bfi78e5_4_FALSE_COLOR__URBAN_jpg.rf.ee2a96a284dcadbe409e5bad1816a25a.jpg'),\n",
       "  PosixPath('data_filtered/cl6azt6by0000go55h4io4tab_2_FALSE_COLOR_jpg.rf.7bd6bf61c42f8477a59d290789795964.jpg'),\n",
       "  PosixPath('data_filtered/cl6b5uskz0058l455gbd534lm_4_FALSE_COLOR__URBAN_jpg.rf.704db007a472c6e7396d277383c0dfe2.jpg'),\n",
       "  PosixPath('data_filtered/cl6b5phba004il45531lb6655_1_TRUE_COLOR_jpg.rf.86182cb796ffdd1d52c0540e0e05b4cc.jpg'),\n",
       "  PosixPath('data_filtered/cl6kjc5r500168w55bry741c1_1_TRUE_COLOR_jpg.rf.0e78281e5d58015651a5a52f16ea2f38.jpg'),\n",
       "  PosixPath('data_filtered/cl6b5osai004hl455cp1mh6ki_4_FALSE_COLOR__URBAN_jpg.rf.951443c6d4d4ac4c73f0375f00a491a1.jpg'),\n",
       "  PosixPath('data_filtered/cl6ojv5dx0056ao557rpa0ljr_2_FALSE_COLOR_jpg.rf.e62e4cd6da325f259c3e6b98c8f16dd1.jpg'),\n",
       "  PosixPath('data_filtered/cl6kjfsd8001d8w55e6ne0oyo_1_TRUE_COLOR_jpg.rf.841ddd167686a09b6dcee75bf59ce195.jpg'),\n",
       "  PosixPath('data_filtered/cl6b5zvva005tl455617x069k_1_TRUE_COLOR_jpg.rf.8fddaebfe3bf528542a6bb93a8a4ba56.jpg'),\n",
       "  PosixPath('data_filtered/cl6b78q1y009sl455ekwc1jfp_1_TRUE_COLOR_jpg.rf.92ebe9452b2cdcf4ae4701102a55bd98.jpg'),\n",
       "  PosixPath('data_filtered/cl6ct5pk300gxl4559vdtfjz2_1_TRUE_COLOR_jpg.rf.7ead147bfba31fe4459e043d401a2344.jpg'),\n",
       "  PosixPath('data_filtered/cl6b0gln2000wl4559wpzdukf_1_TRUE_COLOR_jpg.rf.7f67b50ed7d78ce81f6aac2ca352d755.jpg'),\n",
       "  PosixPath('data_filtered/cl6e0mv1s0017gk5595j92i2d_4_FALSE_COLOR__URBAN_jpg.rf.d1e221b1a9a28c9ba9318854955beb67.jpg'),\n",
       "  PosixPath('data_filtered/cl6e34bti0037gk55gzdv0akr_6_SWIR_jpg.rf.832dd04dfc59c9fe95a36dd61b1fc76c.jpg'),\n",
       "  PosixPath('data_filtered/cl6kgag2y002ac455g3l427ic_4_FALSE_COLOR__URBAN_jpg.rf.dcfb648b0d4277fcb2e240705a5b422f.jpg'),\n",
       "  PosixPath('data_filtered/cl6m0whp000308w555xk5cwij_2_FALSE_COLOR_jpg.rf.4c7f2876d41823704290c7ba17c9b1ae.jpg'),\n",
       "  PosixPath('data_filtered/cl6kfy9v8001vc4559ubi2rde_4_FALSE_COLOR__URBAN_jpg.rf.60420da5ccf8e1e4e24ff6193348be17.jpg'),\n",
       "  PosixPath('data_filtered/cl6kfci270010c45580qyfo1k_6_SWIR_jpg.rf.5b61fbc3ac01de53cf5eebc76403c5af.jpg'),\n",
       "  PosixPath('data_filtered/cl6ltqjke002q8w55ct7j5tel_6_SWIR_jpg.rf.f8910e03196999a430ba14366da7475c.jpg'),\n",
       "  PosixPath('data_filtered/cl6chv5i400cpl455b8o71jcm_6_SWIR_jpg.rf.dac7d24e59b96ef59d3d17fca9caa99e.jpg'),\n",
       "  PosixPath('data_filtered/cl6opqgtf007nao55d5fr4p16_1_TRUE_COLOR_jpg.rf.a43b59a7f6e036647f1399f76c98eb0f.jpg'),\n",
       "  PosixPath('data_filtered/cl6lt2g2y00228w55cf1a1yxr_2_FALSE_COLOR_jpg.rf.36efe84e8bb672989f589aad86e98108.jpg'),\n",
       "  PosixPath('data_filtered/cl6ocs2h6000cao559bx42yho_6_SWIR_jpg.rf.33c06060130da4dc8e43414cda713795.jpg'),\n",
       "  PosixPath('data_filtered/cl6e0l3x90015gk55eki43b8w_2_FALSE_COLOR_jpg.rf.71e58f947635dad1592ddd10fa52ba62.jpg'),\n",
       "  PosixPath('data_filtered/cl6cs0euj00egl455918xdqll_1_TRUE_COLOR_jpg.rf.fec2fff5707fc21c8aa9d29c3e14f5db.jpg'),\n",
       "  PosixPath('data_filtered/cl6oujpxm00atao554qpycnsr_2_FALSE_COLOR_jpg.rf.80ca6bf8c90969f299e1fa5127fc8523.jpg'),\n",
       "  PosixPath('data_filtered/cl6od3yri001cao55gifvaizk_1_TRUE_COLOR_jpg.rf.881044d7a4287260c26fd64ba6426160.jpg'),\n",
       "  PosixPath('data_filtered/cl6e2edx3001ygk554c0h3ubb_4_FALSE_COLOR__URBAN_jpg.rf.3d61f7c8ad5106ce9c2aa3860b2f20db.jpg'),\n",
       "  PosixPath('data_filtered/cl6dyvvvc000lhg5533xc480w_4_FALSE_COLOR__URBAN_jpg.rf.7b4e887efe30535ef057f0a9ca071bfd.jpg'),\n",
       "  PosixPath('data_filtered/cl6ct487q00gul455bxvzaopi_2_FALSE_COLOR_jpg.rf.cf80bee753c23a01637a2082944d1bf1.jpg'),\n",
       "  PosixPath('data_filtered/cl6csapmj00f7l4558gne2y5r_2_FALSE_COLOR_jpg.rf.7d74755e63ae57fc0bae665bbed9f786.jpg'),\n",
       "  PosixPath('data_filtered/cl6kg5b5c0027c455abg328ld_6_SWIR_jpg.rf.ef8c91393a06715257feb3b41d06ffa4.jpg'),\n",
       "  PosixPath('data_filtered/cl6cs3rd100esl455en8mcp5g_1_TRUE_COLOR_jpg.rf.3b866376fde360e27def0dd04d60d978.jpg'),\n",
       "  PosixPath('data_filtered/cl6cgbyeo00aql455eui3fiu4_1_TRUE_COLOR_jpg.rf.0b8e1982479c781a18740d7fd0160c36.jpg'),\n",
       "  PosixPath('data_filtered/cl6op6nll006lao553d190xdf_2_FALSE_COLOR_jpg.rf.676cdbce511f842ca009b87eecc61241.jpg'),\n",
       "  PosixPath('data_filtered/cl6kgnh9k0030c455dtnabosj_1_TRUE_COLOR_jpg.rf.719d4160fed64e1c0f7d077b93c408ad.jpg'),\n",
       "  PosixPath('data_filtered/cl6op9m80006sao552sp0bgyl_2_FALSE_COLOR_jpg.rf.bee0f2e3b76eaaae3f5309ba40f22e89.jpg'),\n",
       "  PosixPath('data_filtered/cl6kiers800088w554w61grpw_4_FALSE_COLOR__URBAN_jpg.rf.1f98202ca79ada1496853a9d130d845e.jpg'),\n",
       "  PosixPath('data_filtered/cl6kgh8cf002sc4558jry9v2p_4_FALSE_COLOR__URBAN_jpg.rf.d460a1d78fabf96f7488c62264eec7c6.jpg'),\n",
       "  PosixPath('data_filtered/cl6e32fcc0031gk55dtxeatwl_2_FALSE_COLOR_jpg.rf.cb3413b2d95b29ce1d414af0900789c6.jpg'),\n",
       "  PosixPath('data_filtered/cl6kg12gd0022c4555fac0sms_2_FALSE_COLOR_jpg.rf.e506d912edb520ae8e29faac6125e931.jpg'),\n",
       "  PosixPath('data_filtered/cl6cs5j5d00exl455afqp4ysw_6_SWIR_jpg.rf.27c23cbdffecb44114f96e8b7514f120.jpg'),\n",
       "  PosixPath('data_filtered/cl6oq26pe008eao55afu47fi0_4_FALSE_COLOR__URBAN_jpg.rf.6097588c8396a37b074e3444cf333119.jpg'),\n",
       "  PosixPath('data_filtered/cl6kiers800088w554w61grpw_6_SWIR_jpg.rf.eef3f85711d2f635550538c54c874845.jpg'),\n",
       "  PosixPath('data_filtered/cl6chu8h100cnl4552hz21fjt_1_TRUE_COLOR_jpg.rf.84f9dde4ff62bdcb2bd99b714e6dd363.jpg'),\n",
       "  PosixPath('data_filtered/cl6orlxem009lao5513o7hr6s_1_TRUE_COLOR_jpg.rf.e31d2ea1528b15c13434afbf3f41b125.jpg'),\n",
       "  PosixPath('data_filtered/cl6kjek5g001a8w5561zp7ddp_1_TRUE_COLOR_jpg.rf.dfa6bbe4b6f1116be7d0a32ac6a9f067.jpg'),\n",
       "  PosixPath('data_filtered/cl6b64hpf0066l4555lt3czhh_4_FALSE_COLOR__URBAN_jpg.rf.9708ab4cc3223e0de7d63bbe1f526b8b.jpg'),\n",
       "  PosixPath('data_filtered/cl6kgaw2p002bc455hair6q7o_1_TRUE_COLOR_jpg.rf.c1a9a244f7f91d010279e2e7c971c54e.jpg'),\n",
       "  PosixPath('data_filtered/cl6ocozkd0004ao55e5fq7tfw_4_FALSE_COLOR__URBAN_jpg.rf.555ed6d49211ce13162167f59dab1746.jpg'),\n",
       "  PosixPath('data_filtered/cl6op20j8006eao55cw0ucbhh_2_FALSE_COLOR_jpg.rf.a05562a9bcb1ea1a88b6072f2dfcd022.jpg'),\n",
       "  PosixPath('data_filtered/cl6oiv12w003uao55arup9ca6_6_SWIR_jpg.rf.5eb7a8cdcd70e5753e2a286ed3e1b925.jpg'),\n",
       "  PosixPath('data_filtered/cl6kjhhl5001h8w55fo1v1vqs_1_TRUE_COLOR_jpg.rf.188c382d5e6f2f64671fb1473f391d17.jpg'),\n",
       "  PosixPath('data_filtered/cl6b5k38g003zl455bgtd1317_2_FALSE_COLOR_jpg.rf.1ec92bba97779ebd5ac1419db904e242.jpg'),\n",
       "  PosixPath('data_filtered/cl6e1icq8001agk55c0pe3e5b_2_FALSE_COLOR_jpg.rf.bde105352e572fababd4882d57cd8ee3.jpg'),\n",
       "  PosixPath('data_filtered/cl6oizoxx0041ao55csrr4whh_4_FALSE_COLOR__URBAN_jpg.rf.de817a7270724a3d4e58887147bd175c.jpg'),\n",
       "  PosixPath('data_filtered/cl6odyfwh002lao55bnflcuaj_4_FALSE_COLOR__URBAN_jpg.rf.fa7524a106525288cadb53c1646a3301.jpg'),\n",
       "  PosixPath('data_filtered/cl6b5z6d1005ol45596rf4y2m_2_FALSE_COLOR_jpg.rf.aef45dea5da99c4d13f38dd920910b0b.jpg'),\n",
       "  PosixPath('data_filtered/cl6csdbcu00f9l455hnwh8a4z_2_FALSE_COLOR_jpg.rf.09b3cb4addbc8c8306ad6e8f2806666d.jpg'),\n",
       "  PosixPath('data_filtered/cl6cguk2800bml4556lfx35kx_2_FALSE_COLOR_jpg.rf.c00397ac5bd0e1323da8f3791e8400fe.jpg'),\n",
       "  PosixPath('data_filtered/cl6b5xjjd005kl455hfjcd5ra_6_SWIR_jpg.rf.7488907fe46984de6c03556760843d6f.jpg'),\n",
       "  PosixPath('data_filtered/cl6odk9yf001wao558oys61c5_4_FALSE_COLOR__URBAN_jpg.rf.04d7346dab2b1b12261db04fbe84ec6e.jpg'),\n",
       "  PosixPath('data_filtered/cl6kgo2ff0031c455dv515gju_2_FALSE_COLOR_jpg.rf.1f42b289e2c8d87a320a2b3b49ba65a5.jpg'),\n",
       "  PosixPath('data_filtered/cl6opv5oo007xao553de9g7wd_1_TRUE_COLOR_jpg.rf.2ca9986e18ecf042953ce24774c8c5d1.jpg'),\n",
       "  PosixPath('data_filtered/cl6cstc5x00g7l455ec9d32eh_2_FALSE_COLOR_jpg.rf.5470b6259acf151a88a7f5c374fb865b.jpg'),\n",
       "  PosixPath('data_filtered/cl6ou72e300a7ao55ham55bxa_1_TRUE_COLOR_jpg.rf.5fb071ea6eacd8d0b49cdf574f4cdaa6.jpg'),\n",
       "  PosixPath('data_filtered/cl6kga3590029c455dfqjh4v7_2_FALSE_COLOR_jpg.rf.ef13360dbca3f541099b00a7f79d6a87.jpg'),\n",
       "  PosixPath('data_filtered/cl6e36kv1003fgk55gnb9050o_4_FALSE_COLOR__URBAN_jpg.rf.3f32f8e4284fdf7827f922caae82e9bf.jpg'),\n",
       "  PosixPath('data_filtered/cl6op6nll006lao553d190xdf_1_TRUE_COLOR_jpg.rf.3692c2f973b3d841abdbd8cb8f5e64dc.jpg'),\n",
       "  PosixPath('data_filtered/cl6lsxiqd001v8w55fgtjavib_2_FALSE_COLOR_jpg.rf.ed583532db782f8ccd0047e2abe0bee1.jpg'),\n",
       "  PosixPath('data_filtered/cl6e0j0t90010gk557b525asz_6_SWIR_jpg.rf.7fa83e66906146392ab7de8d22289b2e.jpg'),\n",
       "  PosixPath('data_filtered/cl6ch6a2n00bxl4554kqu9to4_2_FALSE_COLOR_jpg.rf.7e23a796e2457d80892cfb34288d6040.jpg'),\n",
       "  PosixPath('data_filtered/cl6odfk31001qao557bfi78e5_6_SWIR_jpg.rf.b860636f6f2b2e71d18a88fadeb8653c.jpg'),\n",
       "  PosixPath('data_filtered/cl6e1nvfl001egk556fa6giz7_2_FALSE_COLOR_jpg.rf.4e679887820ef44a029e11ae93afd1ba.jpg'),\n",
       "  PosixPath('data_filtered/cl6cg6cf600agl455gtin273p_2_FALSE_COLOR_jpg.rf.3c95193dd276836b31dc3df24f29e351.jpg'),\n",
       "  PosixPath('data_filtered/cl6chnfxe00cgl455cg8v02rb_1_TRUE_COLOR_jpg.rf.67479f96195da145753e36c2236f7c3e.jpg'),\n",
       "  PosixPath('data_filtered/cl6oix6p8003xao558gep7jfa_6_SWIR_jpg.rf.9736bdd1879c0e0861072b086ca94dde.jpg'),\n",
       "  PosixPath('data_filtered/cl6oplsq0007fao556ul723tq_2_FALSE_COLOR_jpg.rf.94a095f4ae3f57df0997e3450c2bea9d.jpg'),\n",
       "  PosixPath('data_filtered/cl6ltphn6002o8w55a78j55fa_2_FALSE_COLOR_jpg.rf.19dd931922851ac71a43e37d7e71cac5.jpg'),\n",
       "  PosixPath('data_filtered/cl6ojycgj005bao557mc6afad_1_TRUE_COLOR_jpg.rf.2fff76c1eed44062f407660384acdddb.jpg'),\n",
       "  PosixPath('data_filtered/cl6e30dz3002tgk559uhm11za_4_FALSE_COLOR__URBAN_jpg.rf.0fec58b1d08785f75835c88c38eb6fd2.jpg'),\n",
       "  PosixPath('data_filtered/cl6odwuqk002iao555zzv0c59_1_TRUE_COLOR_jpg.rf.7515a109b70f8d66aad0623c9eeddef7.jpg'),\n",
       "  PosixPath('data_filtered/cl6e0c4x3000ngk55c47nhbiz_6_SWIR_jpg.rf.805c839bbcaddceea16f45bf37533000.jpg'),\n",
       "  PosixPath('data_filtered/cl6opv5oo007xao553de9g7wd_2_FALSE_COLOR_jpg.rf.ab5b0ecca400b24137812a9cfd97fb73.jpg'),\n",
       "  PosixPath('data_filtered/cl6ct9osf00h7l45538051wz5_1_TRUE_COLOR_jpg.rf.5cef36c17145f146256e2143c144efff.jpg'),\n",
       "  PosixPath('data_filtered/cl6kgm9qr002yc455g5qs87kz_2_FALSE_COLOR_jpg.rf.95debd80b7509cc0a6afe0a7c7ff6cfe.jpg'),\n",
       "  PosixPath('data_filtered/cl6odyfwh002lao55bnflcuaj_1_TRUE_COLOR_jpg.rf.98f786922f2c57d43d5d72e992fe955c.jpg'),\n",
       "  PosixPath('data_filtered/cl6oplars007eao55fno41dzm_2_FALSE_COLOR_jpg.rf.f92d62150fff9fe3b15615c3a667466b.jpg'),\n",
       "  PosixPath('data_filtered/cl6b6p96a007ql455cvrh6peg_6_SWIR_jpg.rf.c9f11f0281ee9e5699b728418acd524d.jpg'),\n",
       "  PosixPath('data_filtered/cl6e1n8j9001cgk55bhebb6fp_2_FALSE_COLOR_jpg.rf.b853e3a4429e42c59527bd073d2e3667.jpg'),\n",
       "  PosixPath('data_filtered/cl6okbxd2005yao551huyeqkl_4_FALSE_COLOR__URBAN_jpg.rf.50a8d3eb02e27c5dce9673c8762102f6.jpg'),\n",
       "  PosixPath('data_filtered/cl6odm3oj0023ao55641s046f_2_FALSE_COLOR_jpg.rf.42e989097fe2f68f01f38c1175b8c8cc.jpg'),\n",
       "  PosixPath('data_filtered/cl6m0pnw5002y8w552btfchke_1_TRUE_COLOR_jpg.rf.de631dd84dbeac65b6d07b19dbea5cc1.jpg'),\n",
       "  PosixPath('data_filtered/cl6cskhdp00fml4550oip27vq_1_TRUE_COLOR_jpg.rf.5e3f16b79f9861ba20a017af486af661.jpg'),\n",
       "  PosixPath('data_filtered/cl6opn2ws007hao55es3fg6b2_2_FALSE_COLOR_jpg.rf.46b32a7905e04149be12d5c5098763fd.jpg'),\n",
       "  PosixPath('data_filtered/cl6op4t8q006jao559muv9l5l_2_FALSE_COLOR_jpg.rf.d0eac7b7bc3a29b59a5da91316b541c0.jpg'),\n",
       "  PosixPath('data_filtered/cl6oilbwz003bao55ayyaeiti_6_SWIR_jpg.rf.55836ac19fe4201247dafafa8d8862ca.jpg'),\n",
       "  PosixPath('data_filtered/cl6oq9ozh008nao5591t079g1_4_FALSE_COLOR__URBAN_jpg.rf.6c26670ade9335a2ad7af64dbf3806ed.jpg'),\n",
       "  PosixPath('data_filtered/cl6ki7l6900048w55hs8c6nwt_4_FALSE_COLOR__URBAN_jpg.rf.56f10fce2a6ae3e42e2828903872ccf2.jpg'),\n",
       "  PosixPath('data_filtered/cl6kg4sfr0026c4552hfe6gtj_4_FALSE_COLOR__URBAN_jpg.rf.2342a2438b262c0e389b20eaddf8c3c2.jpg'),\n",
       "  PosixPath('data_filtered/cl6odfk31001qao557bfi78e5_2_FALSE_COLOR_jpg.rf.7810f4f897047e39b0c9af3149cb43df.jpg'),\n",
       "  PosixPath('data_filtered/cl6kfowty0017c455b591d008_1_TRUE_COLOR_jpg.rf.ee3c5e5c682214ad0e0d91e6930b570b.jpg'),\n",
       "  PosixPath('data_filtered/cl6oduu28002dao550pgs32ff_2_FALSE_COLOR_jpg.rf.4f51398bc79c4202cd4b4d437dc1dd8a.jpg'),\n",
       "  PosixPath('data_filtered/cl6ophgti0078ao557twhfw8d_4_FALSE_COLOR__URBAN_jpg.rf.7def477324832ea282c6fc4c29ca7ca8.jpg'),\n",
       "  PosixPath('data_filtered/cl6kgidey002uc455a3qe2ark_1_TRUE_COLOR_jpg.rf.1db5657ebb196420d977a593d4cbbc11.jpg'),\n",
       "  PosixPath('data_filtered/cl6m1bogh003h8w553evr8lfd_4_FALSE_COLOR__URBAN_jpg.rf.5a61d0979104f21b6bb376259cd24240.jpg'),\n",
       "  PosixPath('data_filtered/cl6e20f48001rgk5574xt82w3_2_FALSE_COLOR_jpg.rf.24395424307134ba19fc86b6ee59b2e7.jpg'),\n",
       "  PosixPath('data_filtered/cl6b6aeiv006rl455ho4ugrkp_4_FALSE_COLOR__URBAN_jpg.rf.7207ace6eadcc7d714db4072c3be13d7.jpg'),\n",
       "  PosixPath('data_filtered/cl6oe04jy002pao551fir09my_6_SWIR_jpg.rf.96178538d47e273395c1d22ff9d52c1f.jpg'),\n",
       "  PosixPath('data_filtered/cl6odm3oj0023ao55641s046f_4_FALSE_COLOR__URBAN_jpg.rf.e06b1ddebe1889e272bf11bcd8220072.jpg'),\n",
       "  PosixPath('data_filtered/cl6okf9bk0067ao55bstpe75r_4_FALSE_COLOR__URBAN_jpg.rf.58875e9af78353f15417f1a2e993c734.jpg'),\n",
       "  PosixPath('data_filtered/cl6b0okeb001fl455fgue1wrj_1_TRUE_COLOR_jpg.rf.3036ca102003e03d9b3f564e36d24d18.jpg'),\n",
       "  PosixPath('data_filtered/cl6ch6y2d00byl4557ijbc6o4_4_FALSE_COLOR__URBAN_jpg.rf.00f8770027448a54180d8716b6b64f26.jpg'),\n",
       "  PosixPath('data_filtered/cl6ocpxm10006ao554w1tf9fa_2_FALSE_COLOR_jpg.rf.4a0eb26253daa0657560787be4b35949.jpg'),\n",
       "  PosixPath('data_filtered/cl6oj8w06004hao558ky44xei_6_SWIR_jpg.rf.a5899ccda47be15f003449d3d880a9da.jpg'),\n",
       "  PosixPath('data_filtered/cl6kgidey002uc455a3qe2ark_2_FALSE_COLOR_jpg.rf.7cc096454a709be2752b04fa230befae.jpg'),\n",
       "  PosixPath('data_filtered/cl6b6sfee007xl455b8bt5zum_1_TRUE_COLOR_jpg.rf.a921f3be3f70ab5d36b15ac7b3721085.jpg'),\n",
       "  PosixPath('data_filtered/cl6b6xs0d008el455cvd92nt5_6_SWIR_jpg.rf.035c96be1fff7d392e5e43e386c271f1.jpg'),\n",
       "  PosixPath('data_filtered/cl6okdwy00063ao5588jlcglr_4_FALSE_COLOR__URBAN_jpg.rf.352f082c75435cb06dd2e46d12479419.jpg'),\n",
       "  PosixPath('data_filtered/cl6m0whp000308w555xk5cwij_1_TRUE_COLOR_jpg.rf.c39d217c7dfdf6208338433504804ff1.jpg'),\n",
       "  PosixPath('data_filtered/cl6od5fxe001dao55dwsx001s_6_SWIR_jpg.rf.c97b5dc8b3d322980c4e76e626e548c2.jpg'),\n",
       "  PosixPath('data_filtered/cl6e3bzkq003kgk550ppl67ww_4_FALSE_COLOR__URBAN_jpg.rf.f8307953fb5b60d10c4919d45923571c.jpg'),\n",
       "  PosixPath('data_filtered/cl6b542k6002bl455fmydcwlb_2_FALSE_COLOR_jpg.rf.21a4cff766bca0e29ad540511acea32d.jpg'),\n",
       "  PosixPath('data_filtered/cl6b56nh5002jl4551m23gtf9_1_TRUE_COLOR_jpg.rf.7d001a91d6df1d09828ca7c97e89c58b.jpg'),\n",
       "  PosixPath('data_filtered/cl6ch417300btl4554l143qop_4_FALSE_COLOR__URBAN_jpg.rf.43e72d2d74427093db9424b5a3eae89a.jpg'),\n",
       "  PosixPath('data_filtered/cl6e2xkh0002mgk55aif2aqvo_2_FALSE_COLOR_jpg.rf.0b7ee80fe8e0318db34d8f46d4d9e818.jpg'),\n",
       "  PosixPath('data_filtered/cl6ojcant004qao555opq5lio_2_FALSE_COLOR_jpg.rf.a61680af4f28a2f86dfe3619e8c6cad2.jpg'),\n",
       "  PosixPath('data_filtered/cl6m1ebtk003r8w557razf73c_1_TRUE_COLOR_jpg.rf.1d28f6f2c9fe353d562a971198c2b123.jpg'),\n",
       "  PosixPath('data_filtered/cl6b5sn8f004xl455a0z7eski_1_TRUE_COLOR_jpg.rf.353a0bbf38298986fe6b54d786db5530.jpg'),\n",
       "  PosixPath('data_filtered/cl6b5dtwl003gl455a4x29a1d_1_TRUE_COLOR_jpg.rf.1c86bc5f19ec6e59b465b2bbac9161b1.jpg'),\n",
       "  PosixPath('data_filtered/cl6chumom00col4556jyfb7a5_4_FALSE_COLOR__URBAN_jpg.rf.445eef4a54a2beab2c3398d8f64fbcfb.jpg'),\n",
       "  PosixPath('data_filtered/cl6odx8ff002jao5531b01e4o_4_FALSE_COLOR__URBAN_jpg.rf.8c7ddf00bbfce8db3112595957495165.jpg'),\n",
       "  PosixPath('data_filtered/cl6ocun81000iao55010uhpce_4_FALSE_COLOR__URBAN_jpg.rf.5210f764454f840bc10bf80e5016cea9.jpg'),\n",
       "  PosixPath('data_filtered/cl6m15k1g00378w559sqfahyu_6_SWIR_jpg.rf.547e7435c94eb5cde08d1246196a8fc4.jpg'),\n",
       "  PosixPath('data_filtered/cl6e0c4x3000ngk55c47nhbiz_2_FALSE_COLOR_jpg.rf.f5b8f6b5940529cca841638d51939237.jpg'),\n",
       "  PosixPath('data_filtered/cl6kig3wf00098w556e894kgn_4_FALSE_COLOR__URBAN_jpg.rf.ea516150c57a6b8431b3bf32bafab73a.jpg'),\n",
       "  PosixPath('data_filtered/cl6oiqz18003lao55eb3ebson_2_FALSE_COLOR_jpg.rf.13242aaf067985cb04e4bc1268f53381.jpg'),\n",
       "  PosixPath('data_filtered/cl6e20np5001sgk555chada9l_1_TRUE_COLOR_jpg.rf.c8e0c5725013c16308e93f9622c8c7d3.jpg'),\n",
       "  PosixPath('data_filtered/cl6ou6f7u00a5ao55h96m1hvj_2_FALSE_COLOR_jpg.rf.604d5ba40c6721f36646151d9b8216d0.jpg'),\n",
       "  PosixPath('data_filtered/cl6e1zx08001pgk554gv1bhpt_1_TRUE_COLOR_jpg.rf.f16c3ec722ec9dc85bfd576853d2975b.jpg'),\n",
       "  PosixPath('data_filtered/cl6lsygs2001w8w551eungans_1_TRUE_COLOR_jpg.rf.54a6883266fd70f4a483a1d6ed11e2b9.jpg'),\n",
       "  PosixPath('data_filtered/cl6cgsj2300bjl4556rjk0yap_1_TRUE_COLOR_jpg.rf.5a5429214847a7ced132367d07c16c0c.jpg'),\n",
       "  PosixPath('data_filtered/cl6ch5dh200bvl4559ujea96q_1_TRUE_COLOR_jpg.rf.84e18e58f1f34701ca68456bdaf3630b.jpg'),\n",
       "  PosixPath('data_filtered/cl6cp9ucc00d8l455fzq49p99_2_FALSE_COLOR_jpg.rf.431478070ff89a379d3ab9f1a5bc110e.jpg'),\n",
       "  PosixPath('data_filtered/cl6b0cqup000ql4558m8y8a8t_6_SWIR_jpg.rf.31bee1d2a88d85f292323400c332f798.jpg'),\n",
       "  PosixPath('data_filtered/cl6b7bt0y009zl455397c4vju_6_SWIR_jpg.rf.bf9ea04cbc437c4c8c4b1a2874e4b65c.jpg'),\n",
       "  PosixPath('data_filtered/cl6okcigf005zao55dc0wbjsx_2_FALSE_COLOR_jpg.rf.bfbe48732bb7dd2f5aa63f54d5fd65cc.jpg'),\n",
       "  PosixPath('data_filtered/cl6oips2c003kao559sp4fuwd_1_TRUE_COLOR_jpg.rf.bc07d79827f17f756dd7bfad1411bda5.jpg'),\n",
       "  PosixPath('data_filtered/cl6e2ww4w002lgk555k8x0pjx_2_FALSE_COLOR_jpg.rf.f9f14ac12d5da302ce5a757420a6eeeb.jpg'),\n",
       "  PosixPath('data_filtered/cl6oct90r000fao553xkha255_2_FALSE_COLOR_jpg.rf.d6d86d9870d1a9f114f0b02ad0f9aedd.jpg'),\n",
       "  PosixPath('data_filtered/cl6b7263q008rl455cbp6ejbc_2_FALSE_COLOR_jpg.rf.1568b2fbf7b7b0778bd5ef6a743c18f8.jpg'),\n",
       "  PosixPath('data_filtered/cl6opi0lv0079ao554ptl5yd7_1_TRUE_COLOR_jpg.rf.3fc2124d6e898de65d162d26ff22fda1.jpg'),\n",
       "  PosixPath('data_filtered/cl6kgj08y002wc455bqfpd8bd_4_FALSE_COLOR__URBAN_jpg.rf.ba5e373a643f637c02f0a7f548617b90.jpg'),\n",
       "  PosixPath('data_filtered/cl6ltopha002n8w5531cg4sky_6_SWIR_jpg.rf.11acd1712844c811f1b078454f199f84.jpg'),\n",
       "  PosixPath('data_filtered/cl6op2fce006fao55753l8ulj_6_SWIR_jpg.rf.7e8764944bad6000aa34611ac74ca3ba.jpg'),\n",
       "  PosixPath('data_filtered/cl6od7f7j001hao55016b86jo_4_FALSE_COLOR__URBAN_jpg.rf.a05c84543565abd0f8984addd65c3e3e.jpg'),\n",
       "  PosixPath('data_filtered/cl6oq9ozh008nao5591t079g1_1_TRUE_COLOR_jpg.rf.1309c56d7ff1cdf3a3cdde1ed4ed5cf0.jpg'),\n",
       "  PosixPath('data_filtered/cl6b4ykst001sl4550amagaw5_4_FALSE_COLOR__URBAN_jpg.rf.5afbd5165c965cc2f70bd0d10d3c004f.jpg'),\n",
       "  PosixPath('data_filtered/cl6csr5tv00g0l45530ayb807_6_SWIR_jpg.rf.7ccfe8079e77c3018c4ac98c973f770e.jpg'),\n",
       "  PosixPath('data_filtered/cl6b67dvg006dl455cgxl9kq8_6_SWIR_jpg.rf.128b5aecb2220f2fa5c185b9e54bd0fb.jpg'),\n",
       "  PosixPath('data_filtered/cl6b7fkmx00a7l455d75h2co1_4_FALSE_COLOR__URBAN_jpg.rf.7a2606b45ea45ee07e66256ce803809e.jpg'),\n",
       "  PosixPath('data_filtered/cl6crtivm00dwl45544k043su_6_SWIR_jpg.rf.dccd495d75c8765ac88d2cf78f453260.jpg'),\n",
       "  PosixPath('data_filtered/cl6kfsx2l001kc455ezxdhkvx_2_FALSE_COLOR_jpg.rf.88480b2346e5a8de319a5234e9eb5d03.jpg'),\n",
       "  PosixPath('data_filtered/cl6kf256r0006c455hwcv6khh_2_FALSE_COLOR_jpg.rf.1497e932e1406e3360ac61f268d7a02a.jpg'),\n",
       "  PosixPath('data_filtered/cl6b76fnk009dl4556z3y9qgs_4_FALSE_COLOR__URBAN_jpg.rf.4d7112c2a197e6ce3d8764ad0af5d287.jpg'),\n",
       "  PosixPath('data_filtered/cl6ltphn6002o8w55a78j55fa_4_FALSE_COLOR__URBAN_jpg.rf.15f2419aa86f5f636fe86bca7708f212.jpg'),\n",
       "  PosixPath('data_filtered/cl6oj0ggm0043ao55acihdj7s_2_FALSE_COLOR_jpg.rf.5ceafad2a989e00d5f32f3d465f72f35.jpg'),\n",
       "  PosixPath('data_filtered/cl6b5m4w10045l4550bi9ea2d_2_FALSE_COLOR_jpg.rf.5a23fb88520b394760f70a877d4faa0e.jpg'),\n",
       "  PosixPath('data_filtered/cl6b5f9f1003ml455abwkc72t_1_TRUE_COLOR_jpg.rf.a09c2099ea1a8b50394fb12bfbdb9ea8.jpg'),\n",
       "  PosixPath('data_filtered/cl6kfvrfp001qc45548kr4qf2_1_TRUE_COLOR_jpg.rf.1e323d4ad9dedbfeedc5e00b3aa691b5.jpg'),\n",
       "  PosixPath('data_filtered/cl6dyeg510004hg554xxs8aux_6_SWIR_jpg.rf.375714af6c9f8fa9fb5423c7dbcea6cc.jpg'),\n",
       "  PosixPath('data_filtered/cl6cswevu00gbl45556scbr9n_1_TRUE_COLOR_jpg.rf.1d5a5a2e50cf241e7b24ebde117d8cc3.jpg'),\n",
       "  PosixPath('data_filtered/cl6ou8fz600abao5561sobj5z_1_TRUE_COLOR_jpg.rf.1ff7bea9ba4b1da2adb2975211554bc8.jpg'),\n",
       "  PosixPath('data_filtered/cl6ct5pk300gxl4559vdtfjz2_6_SWIR_jpg.rf.673db7e2eae6ca92100e850d8d4a595a.jpg'),\n",
       "  PosixPath('data_filtered/cl6b6yfhr008il4555h86hokv_2_FALSE_COLOR_jpg.rf.fd50b29fbde8a1c76c3e2d01beb69fa5.jpg'),\n",
       "  PosixPath('data_filtered/cl6azvz950000t0552g8v22is_1_TRUE_COLOR_jpg.rf.9324abe7caa6850140e03d5454f3abb4.jpg'),\n",
       "  PosixPath('data_filtered/cl6csnj9g00ftl4554f0z30lc_4_FALSE_COLOR__URBAN_jpg.rf.49569ed8c28ec3869a9e55dfd7f90397.jpg'),\n",
       "  PosixPath('data_filtered/cl6odkye9001yao55bl6y87ra_2_FALSE_COLOR_jpg.rf.481fe0f62e06cf8fbe8d81c50e907b20.jpg'),\n",
       "  PosixPath('data_filtered/cl6dywrm9000mhg55c48n2wtt_6_SWIR_jpg.rf.b1a38587851b623506ac63c99efc6942.jpg'),\n",
       "  PosixPath('data_filtered/cl6b0ckyi000pl455hm7bhix2_2_FALSE_COLOR_jpg.rf.b9c47a459428b9c421dbf0fc37f72cf9.jpg'),\n",
       "  PosixPath('data_filtered/cl6ojbg9t004oao552glqe340_4_FALSE_COLOR__URBAN_jpg.rf.3ee58fb35f1174a1a8e091ccb6b20a36.jpg'),\n",
       "  PosixPath('data_filtered/cl6e31up4002zgk55aj7w7a0x_1_TRUE_COLOR_jpg.rf.78641c45856cf58ead1496b18d270d3a.jpg'),\n",
       "  PosixPath('data_filtered/cl6cswevu00gbl45556scbr9n_4_FALSE_COLOR__URBAN_jpg.rf.93c5131e8f99facea67303b038ab2f17.jpg'),\n",
       "  PosixPath('data_filtered/cl6b5l3lm0041l45509eycth4_1_TRUE_COLOR_jpg.rf.4e549ebd46d2e65023b62a56b398ba04.jpg'),\n",
       "  PosixPath('data_filtered/cl6cglp1000b9l4555bzvbgqj_2_FALSE_COLOR_jpg.rf.c9d85326b2931904b8f61462a95e219c.jpg'),\n",
       "  PosixPath('data_filtered/cl6oddf8p001pao558ykw6wkp_6_SWIR_jpg.rf.6c89676ddc0de9ebb1b57dd4f7eddbec.jpg'),\n",
       "  PosixPath('data_filtered/cl6cs4oof00eul455fdkybwbf_6_SWIR_jpg.rf.964c04ade7796d8262a34460abc501f1.jpg'),\n",
       "  PosixPath('data_filtered/cl6kgo2ff0031c455dv515gju_4_FALSE_COLOR__URBAN_jpg.rf.b2f2f53a17388b5f08885effd9a4e706.jpg'),\n",
       "  PosixPath('data_filtered/cl6oputjf007wao55fnke0ppv_2_FALSE_COLOR_jpg.rf.1895fbee9d0e59032e22514133629026.jpg'),\n",
       "  PosixPath('data_filtered/cl6b08qce000hl455fod5abjo_1_TRUE_COLOR_jpg.rf.3ac00fb7f706d7cf6cb843ea384fbd26.jpg'),\n",
       "  PosixPath('data_filtered/cl6ooxizh0068ao55h1l3hrim_1_TRUE_COLOR_jpg.rf.73178115b18484ae56027970999c67a5.jpg'),\n",
       "  PosixPath('data_filtered/cl6cskwng00fol4555eloc4nh_6_SWIR_jpg.rf.9e3d112de243afb1f67db776073d4d26.jpg'),\n",
       "  PosixPath('data_filtered/cl6cgm3hm00bal455ei1ken8s_1_TRUE_COLOR_jpg.rf.1a3ff69dd97b6f1dc1743cd4c0db584d.jpg'),\n",
       "  PosixPath('data_filtered/cl6cta0z600h9l455cygudh3w_4_FALSE_COLOR__URBAN_jpg.rf.5a899bce198e041112d96b0302d74292.jpg'),\n",
       "  PosixPath('data_filtered/cl6ctopvo00i4l455cgtw30dd_2_FALSE_COLOR_jpg.rf.3befac1dba28baf207b23aacd3b4e9ac.jpg'),\n",
       "  PosixPath('data_filtered/cl6oqq4r40096ao557h69gx2o_2_FALSE_COLOR_jpg.rf.fcdbaf87b09e10e425d48710af7d5c39.jpg'),\n",
       "  PosixPath('data_filtered/cl6cs5j5d00exl455afqp4ysw_4_FALSE_COLOR__URBAN_jpg.rf.f5968b5baec72c54ed2817be2aa1fb7e.jpg'),\n",
       "  PosixPath('data_filtered/cl6e09hxf000hgk559x18fvg8_1_TRUE_COLOR_jpg.rf.4bad2d8b298e825dd87c4ebb94d5fab5.jpg'),\n",
       "  PosixPath('data_filtered/cl6dyiwx60009hg55freo14hg_4_FALSE_COLOR__URBAN_jpg.rf.bb532a7dd155f6626c1a25d57f925813.jpg'),\n",
       "  PosixPath('data_filtered/cl6chvqmw00crl455dq182jri_4_FALSE_COLOR__URBAN_jpg.rf.deb3d54d5111a454387e6bfd2c15228b.jpg'),\n",
       "  PosixPath('data_filtered/cl6kfci270010c45580qyfo1k_1_TRUE_COLOR_jpg.rf.c5ae9d9a4ce6ce6eb40688beb6ba338b.jpg'),\n",
       "  PosixPath('data_filtered/cl6b6h5fo007bl455669md4vp_1_TRUE_COLOR_jpg.rf.2a3317b1042bda5ae825c7683a9d65bb.jpg'),\n",
       "  PosixPath('data_filtered/cl6cho7a000cil455fiddgkjj_6_SWIR_jpg.rf.c1282e35ab10c5974e2cf5a9378bdb65.jpg'),\n",
       "  PosixPath('data_filtered/cl6chmuyr00cfl455hd0u03x9_1_TRUE_COLOR_jpg.rf.a4aad918213a396e717e044bfac537b9.jpg'),\n",
       "  PosixPath('data_filtered/cl6cgg5np00b0l455enz77l37_2_FALSE_COLOR_jpg.rf.687887aaed332f84b7c0fd77e3a1d3ef.jpg'),\n",
       "  PosixPath('data_filtered/cl6dzs6a4000vhg55f52u2xze_2_FALSE_COLOR_jpg.rf.3d85b3175023ede04678d8a708055a7b.jpg'),\n",
       "  PosixPath('data_filtered/cl6b09m65000kl455dbrteofg_1_TRUE_COLOR_jpg.rf.ee57729ea078971520bf21366b934b08.jpg'),\n",
       "  PosixPath('data_filtered/cl6b58d1y002rl4558379g2db_6_SWIR_jpg.rf.d2c130e5f22d952b133056e4c484fdd9.jpg'),\n",
       "  PosixPath('data_filtered/cl6ojevvt004uao55432mcnea_6_SWIR_jpg.rf.ac9d8ec6cc1476f98470e302c9f8945f.jpg'),\n",
       "  PosixPath('data_filtered/cl6odbryt001nao55htogdny9_6_SWIR_jpg.rf.b942f1a9027fe10d1f702fa0daae70f7.jpg'),\n",
       "  PosixPath('data_filtered/cl6oj3q5x004aao55ala51kbg_4_FALSE_COLOR__URBAN_jpg.rf.7234b0197e9bd566e5a618690ef769ab.jpg'),\n",
       "  PosixPath('data_filtered/cl6oinvqs003fao55chcqcxbr_2_FALSE_COLOR_jpg.rf.f3dcb8e13a1f4123914d5987a9ba4ee2.jpg'),\n",
       "  PosixPath('data_filtered/cl6oqat3j008rao556mbqfoan_2_FALSE_COLOR_jpg.rf.0ddc196fcc073c504d510ac71ba3f92b.jpg'),\n",
       "  PosixPath('data_filtered/cl6opc9oz006zao552eyx63jq_6_SWIR_jpg.rf.76de8b1ec7f1aeb69a59748d8a8c9207.jpg'),\n",
       "  PosixPath('data_filtered/cl6kgfdjy002nc4551yk01nj6_1_TRUE_COLOR_jpg.rf.aece6769ff85659506ec8fb96b385955.jpg'),\n",
       "  PosixPath('data_filtered/cl6lt6ipg00288w55ee7scu7b_6_SWIR_jpg.rf.217d62e8998857f4cc5ca3a6ad7e5412.jpg'),\n",
       "  PosixPath('data_filtered/cl6b6pieh007rl455fwvb73gr_1_TRUE_COLOR_jpg.rf.8f3f9c84272e40682f7f430cdc4ac4c0.jpg'),\n",
       "  PosixPath('data_filtered/cl6b5rb8x004rl455g3sp3iqz_2_FALSE_COLOR_jpg.rf.005c5bbb33416d06f899c0fb2192df4b.jpg'),\n",
       "  PosixPath('data_filtered/cl6dzzjvo0010hg552jj7ae4b_2_FALSE_COLOR_jpg.rf.53e03154702ae8f918f349befcf7e312.jpg'),\n",
       "  PosixPath('data_filtered/cl6oijbft0037ao558i012jhh_2_FALSE_COLOR_jpg.rf.1a767327bd584e7865838b362acdbf85.jpg'),\n",
       "  PosixPath('data_filtered/cl6kfyj4a001wc4558emoaaeq_4_FALSE_COLOR__URBAN_jpg.rf.f4bb8a00db7566082ef5532e62ffc462.jpg'),\n",
       "  PosixPath('data_filtered/cl6odge0x001sao551k414izu_4_FALSE_COLOR__URBAN_jpg.rf.68da4cd1ea095ce761dc5ab6fe097edf.jpg'),\n",
       "  PosixPath('data_filtered/cl6e3j5rh0046gk5519l319wr_2_FALSE_COLOR_jpg.rf.aec61d0bb5423cbf29d0a057a728d946.jpg'),\n",
       "  PosixPath('data_filtered/cl6orpl93009tao552w0p7urd_6_SWIR_jpg.rf.63d6f8c2cc3f097cf78f195f59a80f68.jpg'),\n",
       "  PosixPath('data_filtered/cl6cru4e800dyl455gekch8cy_1_TRUE_COLOR_jpg.rf.e99288a6d88e5afdbbcb05357aec507c.jpg'),\n",
       "  PosixPath('data_filtered/cl6b542k6002bl455fmydcwlb_6_SWIR_jpg.rf.8759656fe7d9452fa7f7871f61545f0c.jpg'),\n",
       "  PosixPath('data_filtered/cl6b75qhp0098l455giwk7bva_1_TRUE_COLOR_jpg.rf.a94ba5968034dec9b73c7dbe480dc089.jpg'),\n",
       "  PosixPath('data_filtered/cl6ctbgwv00hel455fxql5pdm_4_FALSE_COLOR__URBAN_jpg.rf.fe9130528f5da6efbe387865fd6649e9.jpg'),\n",
       "  PosixPath('data_filtered/cl6ocu86l000hao5586i77xky_1_TRUE_COLOR_jpg.rf.850526f8bca7668a3023af7155d03747.jpg'),\n",
       "  PosixPath('data_filtered/cl6e2iu9v0027gk55e8cfax9f_2_FALSE_COLOR_jpg.rf.771e429f20da6dabceb7f68a5aa3152b.jpg'),\n",
       "  PosixPath('data_filtered/cl6ok74u9005oao557sb5dqub_4_FALSE_COLOR__URBAN_jpg.rf.3b9414b029ab4b9cfa4f5aa927740e03.jpg'),\n",
       "  PosixPath('data_filtered/cl6b66xpr006cl4556kzm7hl2_1_TRUE_COLOR_jpg.rf.a1964259e1dadaa86ebd64bd2acbbfa8.jpg'),\n",
       "  PosixPath('data_filtered/cl6opeibd0071ao55f9t2g6nw_2_FALSE_COLOR_jpg.rf.ab3ee8ccb77b84173db4848b0e45985e.jpg'),\n",
       "  PosixPath('data_filtered/cl6kgeqar002lc455akv50au4_2_FALSE_COLOR_jpg.rf.cc30b23aec838a549eeb61aeb281a5f9.jpg'),\n",
       "  PosixPath('data_filtered/cl6b5nqx3004dl4556qu6azh4_4_FALSE_COLOR__URBAN_jpg.rf.7a585ae57fe272905ce1baa8c7c69898.jpg'),\n",
       "  PosixPath('data_filtered/cl6oul0ve00axao5549vy6mom_4_FALSE_COLOR__URBAN_jpg.rf.456734966fb731d2ec99eb9959327034.jpg'),\n",
       "  PosixPath('data_filtered/cl6kftq9a001nc455a3108dvr_6_SWIR_jpg.rf.401cc247b60165302ae17c497c648c58.jpg'),\n",
       "  PosixPath('data_filtered/cl6cs4y6q00evl455d2lfbj1u_2_FALSE_COLOR_jpg.rf.54e7aa920ce92da629cdebe0c749850e.jpg'),\n",
       "  PosixPath('data_filtered/cl6cstc5x00g7l455ec9d32eh_4_FALSE_COLOR__URBAN_jpg.rf.71316a722d62f20ac2358061da63172b.jpg'),\n",
       "  PosixPath('data_filtered/cl6kf256r0006c455hwcv6khh_6_SWIR_jpg.rf.6d50139fb07e7775fe4682d0fd297daf.jpg'),\n",
       "  PosixPath('data_filtered/cl6b5k38g003zl455bgtd1317_4_FALSE_COLOR__URBAN_jpg.rf.fcaa4827b85c1b38fdedffcd6a3b098f.jpg'),\n",
       "  PosixPath('data_filtered/cl6b5l3lm0041l45509eycth4_4_FALSE_COLOR__URBAN_jpg.rf.f358f8b131af9302990a094b0da54e87.jpg'),\n",
       "  PosixPath('data_filtered/cl6odzdk0002nao55dz13d0s9_2_FALSE_COLOR_jpg.rf.3930a15cf860331433faff701569ec52.jpg'),\n",
       "  PosixPath('data_filtered/cl6b6y36r008gl4559z723z25_1_TRUE_COLOR_jpg.rf.5d6b1bf18a4e8ff534dc3c4ca3bb073a.jpg'),\n",
       "  PosixPath('data_filtered/cl6e0dypj000qgk55gndm8q3o_6_SWIR_jpg.rf.68ab662c1d9a2de15cc87c7e50dd33ea.jpg'),\n",
       "  PosixPath('data_filtered/cl6kj8pto00128w55cj0y58qg_4_FALSE_COLOR__URBAN_jpg.rf.45e99c5d9ca71f7c5fcbef21aee2720b.jpg'),\n",
       "  PosixPath('data_filtered/cl6oczf4b000uao559egx35g7_6_SWIR_jpg.rf.83d3cb3aab9feae8598a99742f1c0dd1.jpg'),\n",
       "  PosixPath('data_filtered/cl6odzs5e002oao55heuig0a6_1_TRUE_COLOR_jpg.rf.fc96fcc9ef8466ce18f286d422df48ea.jpg'),\n",
       "  PosixPath('data_filtered/cl6e2m95l002ggk55a3eefylp_6_SWIR_jpg.rf.a0cdb03cbca75c9224048e879c6fe734.jpg'),\n",
       "  PosixPath('data_filtered/cl6csuejr00g9l45566f93g4a_2_FALSE_COLOR_jpg.rf.054d398289a53f9e9e8a801aeb0d7863.jpg'),\n",
       "  PosixPath('data_filtered/cl6oqlhh6008zao55gago04ul_2_FALSE_COLOR_jpg.rf.b5fb95dcd6fdd2086ada9d253bd1dc04.jpg'),\n",
       "  PosixPath('data_filtered/cl6b6xnlo008dl455ft678vcm_1_TRUE_COLOR_jpg.rf.7de7f22e4d7f43603fc77d24156c207c.jpg'),\n",
       "  PosixPath('data_filtered/cl6dyeg510004hg554xxs8aux_1_TRUE_COLOR_jpg.rf.5f7f56d5c624ab8c85fdd5b5785d421c.jpg'),\n",
       "  PosixPath('data_filtered/cl6e07sbz000dgk556f1cemmc_6_SWIR_jpg.rf.b19bab12800875f90f051f5574fcb69c.jpg'),\n",
       "  PosixPath('data_filtered/cl6m0w1nh002z8w558do5f7ar_4_FALSE_COLOR__URBAN_jpg.rf.de9d2286469563a38f2e99900c5a052d.jpg'),\n",
       "  PosixPath('data_filtered/cl6e30dz3002tgk559uhm11za_1_TRUE_COLOR_jpg.rf.fe685dda58ed1dd4b55f5a9f898e2629.jpg'),\n",
       "  PosixPath('data_filtered/cl6oq0cpr008bao553vg485hd_1_TRUE_COLOR_jpg.rf.172a1e9f92965be21ec3ed833c68530e.jpg'),\n",
       "  PosixPath('data_filtered/cl6od3kun001bao55bcq677k3_2_FALSE_COLOR_jpg.rf.3fad73bdcffb62a261e27d5f101cc7e1.jpg'),\n",
       "  PosixPath('data_filtered/cl6opbnv8006xao55hbpe2j2u_1_TRUE_COLOR_jpg.rf.a322c310c87b9b2b0dd656c0db4e6c91.jpg'),\n",
       "  PosixPath('data_filtered/cl6b6gdyh0079l4555ka0g84o_1_TRUE_COLOR_jpg.rf.1b70be6a6e92d72b441c4e5bff1f6b4d.jpg'),\n",
       "  PosixPath('data_filtered/cl6b5zpnm005rl4554xa7cvp7_2_FALSE_COLOR_jpg.rf.0826a21d562f6355cb7685d1b908b35c.jpg'),\n",
       "  PosixPath('data_filtered/cl6dzjmr4000qhg55bnr2akq0_6_SWIR_jpg.rf.87a3115b9f6bca94d9878bdfcd8d15bc.jpg'),\n",
       "  PosixPath('data_filtered/cl6cgwlv800bol4557nsq5jwk_4_FALSE_COLOR__URBAN_jpg.rf.b96336e560cb8e2b952def4e617218e4.jpg'),\n",
       "  PosixPath('data_filtered/cl6az56oy0003f05554mh92wy_2_FALSE_COLOR_jpg.rf.80849284d2ee075dcfd0d457f4c20b7a.jpg'),\n",
       "  PosixPath('data_filtered/cl6b6zaju008ll455bbu9506q_6_SWIR_jpg.rf.a067497ccc38cfcb2e510cab67d33595.jpg'),\n",
       "  PosixPath('data_filtered/cl6opn2ws007hao55es3fg6b2_1_TRUE_COLOR_jpg.rf.9c0199b14bb01d75e444033c204a1893.jpg'),\n",
       "  PosixPath('data_filtered/cl6ct2hu900grl455hdde142n_4_FALSE_COLOR__URBAN_jpg.rf.f5086b4ced8fcaa27ce46922d0004363.jpg'),\n",
       "  PosixPath('data_filtered/cl6kfwvz3001sc45549gxd3e2_4_FALSE_COLOR__URBAN_jpg.rf.c87a56de729075b5a63758c8411a78f0.jpg'),\n",
       "  PosixPath('data_filtered/cl6b03yzy0005l455dq6x4eyc_6_SWIR_jpg.rf.74830a185e1fe1400cba89794ee1ef0d.jpg'),\n",
       "  PosixPath('data_filtered/cl6kjizzk001l8w550s1uej5w_2_FALSE_COLOR_jpg.rf.ef3cf69daa6ee8e6e02e683e0aae8809.jpg'),\n",
       "  PosixPath('data_filtered/cl6csstjw00g5l455c618frnq_2_FALSE_COLOR_jpg.rf.ee2c6568a13b760341349677a58ea9dd.jpg'),\n",
       "  PosixPath('data_filtered/cl6odgxwb001tao559phvfhb7_2_FALSE_COLOR_jpg.rf.a3541b77ef69ffcbbb68c2679bf140b5.jpg'),\n",
       "  PosixPath('data_filtered/cl6e2edx3001ygk554c0h3ubb_2_FALSE_COLOR_jpg.rf.277a9902d759d421fcfae391c5b9c1a3.jpg'),\n",
       "  PosixPath('data_filtered/cl6ojcant004qao555opq5lio_4_FALSE_COLOR__URBAN_jpg.rf.4b4cf2d52533e13225b68a0dee627cc4.jpg'),\n",
       "  PosixPath('data_filtered/cl6odxshy002kao554h0tez0a_6_SWIR_jpg.rf.59fcbf7ef586daeb6c08d5f5b27d5ae6.jpg'),\n",
       "  PosixPath('data_filtered/cl6oq4w4y008jao553s62btk7_6_SWIR_jpg.rf.56eb2cf4a5f3af9b2c2b5b08c0a21105.jpg'),\n",
       "  PosixPath('data_filtered/cl6ocohki0003ao55bnyg99kc_4_FALSE_COLOR__URBAN_jpg.rf.1268ae68f91a4c4a73941c9b9640fa9a.jpg'),\n",
       "  PosixPath('data_filtered/cl6b7ep9100a4l455h3w9fstk_4_FALSE_COLOR__URBAN_jpg.rf.42f76795d8cc4c0a786da759dd334cb6.jpg'),\n",
       "  PosixPath('data_filtered/cl6b5pr1b004kl455bt93cfs2_1_TRUE_COLOR_jpg.rf.70c4211a1b73f64b186de9f165e1c2f6.jpg'),\n",
       "  PosixPath('data_filtered/cl6b5o2zq004el455548z49am_1_TRUE_COLOR_jpg.rf.fa529dc8ceddf212f871c9a806bb0bcd.jpg'),\n",
       "  PosixPath('data_filtered/cl6ocohki0003ao55bnyg99kc_6_SWIR_jpg.rf.0f996164f7e10b4482fd531c9c211f94.jpg'),\n",
       "  PosixPath('data_filtered/cl6cgh0lk00b3l455a01o4mrg_2_FALSE_COLOR_jpg.rf.8b38adc9c8df2b75e1b3632cd6bc6912.jpg'),\n",
       "  PosixPath('data_filtered/cl6b0ckyi000pl455hm7bhix2_1_TRUE_COLOR_jpg.rf.4284e0076b9a0bb27b35d7c6a22d4742.jpg'),\n",
       "  PosixPath('data_filtered/cl6oe0eoe002qao552t6i1m6g_4_FALSE_COLOR__URBAN_jpg.rf.c26b96a42fbf6ed14d96683ad1701b73.jpg'),\n",
       "  PosixPath('data_filtered/cl6e2uo3r002kgk556io96bkr_6_SWIR_jpg.rf.e3b5866638f1f9fd28ddfdf0b7191a27.jpg'),\n",
       "  PosixPath('data_filtered/cl6chu8h100cnl4552hz21fjt_6_SWIR_jpg.rf.238718d67a192951afa2f6c0a883ed2d.jpg'),\n",
       "  PosixPath('data_filtered/cl6b6h5fo007bl455669md4vp_4_FALSE_COLOR__URBAN_jpg.rf.422f3c9e4caef71972de10acb5065019.jpg'),\n",
       "  PosixPath('data_filtered/cl6dypwru000chg559pvqei5w_1_TRUE_COLOR_jpg.rf.4b5d1b454cee4e4f04b8f6b281127935.jpg'),\n",
       "  PosixPath('data_filtered/cl6m0w1nh002z8w558do5f7ar_6_SWIR_jpg.rf.cfa8e993433f6beae82c5dda88678f80.jpg'),\n",
       "  PosixPath('data_filtered/cl6kghsrn002tc4551wu83z4e_2_FALSE_COLOR_jpg.rf.8bf183c2a3b66f7030e76c302e99d2b9.jpg'),\n",
       "  PosixPath('data_filtered/cl6b57brh002ll4555o3te631_6_SWIR_jpg.rf.c7fd68b8839fa2e7afcb6b41fa31d332.jpg'),\n",
       "  PosixPath('data_filtered/cl6odcx12001oao55f8bma9y4_6_SWIR_jpg.rf.abc6a29a97d9e3758deb79ec1becd8f9.jpg'),\n",
       "  PosixPath('data_filtered/cl6b029x70000l4556t6r3w8m_4_FALSE_COLOR__URBAN_jpg.rf.5d53d7a53c7694fe5f90bc8ad1aec23c.jpg'),\n",
       "  PosixPath('data_filtered/cl6ojaxxv004mao552t7ah2ky_2_FALSE_COLOR_jpg.rf.f75de75121cb3540bbfc52636d8fe45c.jpg'),\n",
       "  PosixPath('data_filtered/cl6b5dfkd003fl455d1yufkce_2_FALSE_COLOR_jpg.rf.d4fff2ca1272f4fb2f0c9cb2ef9a4e41.jpg'),\n",
       "  PosixPath('data_filtered/cl6kgnh9k0030c455dtnabosj_4_FALSE_COLOR__URBAN_jpg.rf.9bf22dbcfc66e6fb99e981e0bf995458.jpg'),\n",
       "  PosixPath('data_filtered/cl6b5q3z4004ll45585wq8rtu_2_FALSE_COLOR_jpg.rf.b93360b47e1a3b5619b858e01dbaf716.jpg'),\n",
       "  PosixPath('data_filtered/cl6chmuyr00cfl455hd0u03x9_2_FALSE_COLOR_jpg.rf.94e376a122ea5e60615032bf8564067f.jpg'),\n",
       "  PosixPath('data_filtered/cl6b6iksa007dl4551508f1n4_2_FALSE_COLOR_jpg.rf.9e56d7d2d3a4a3b737f393920e5660b5.jpg'),\n",
       "  PosixPath('data_filtered/cl6b6l171007kl4552zfu0hh5_1_TRUE_COLOR_jpg.rf.742cc3d06e92c2bf297ec516c01f0937.jpg'),\n",
       "  PosixPath('data_filtered/cl6kfoffk0016c455cvxsalj2_4_FALSE_COLOR__URBAN_jpg.rf.0bef427a51301563a39437db508e1b72.jpg'),\n",
       "  PosixPath('data_filtered/cl6csvg6n00gal45513b052pr_1_TRUE_COLOR_jpg.rf.73c176610e2978c450e96527ac568c46.jpg'),\n",
       "  PosixPath('data_filtered/cl6okcs620060ao552j5fd463_1_TRUE_COLOR_jpg.rf.b00939415cb2ad0885a00096b525a2ff.jpg'),\n",
       "  PosixPath('data_filtered/cl6cti5zm00hrl4555pdk0ef9_2_FALSE_COLOR_jpg.rf.8a4207fdf127660cdc175b12a7fccef2.jpg'),\n",
       "  PosixPath('data_filtered/cl6b6op7a007ol455fvvv6g4a_6_SWIR_jpg.rf.4926076997caf8669df1f851efeae7e6.jpg'),\n",
       "  PosixPath('data_filtered/cl6opc9oz006zao552eyx63jq_1_TRUE_COLOR_jpg.rf.f994921b8a56d2c9d4e28248efa38b8e.jpg'),\n",
       "  PosixPath('data_filtered/cl6e1y3zz001ngk559rm6ec1q_4_FALSE_COLOR__URBAN_jpg.rf.6fc48295a4d6745f1fe3bdcfb67b2973.jpg'),\n",
       "  PosixPath('data_filtered/cl6e34bti0037gk55gzdv0akr_1_TRUE_COLOR_jpg.rf.d5bef0822d1f990994eab5089cde272c.jpg'),\n",
       "  PosixPath('data_filtered/cl6csapmj00f7l4558gne2y5r_4_FALSE_COLOR__URBAN_jpg.rf.15aab82f47702fe22931ed6ac41975c5.jpg'),\n",
       "  PosixPath('data_filtered/cl6cg6cf600agl455gtin273p_6_SWIR_jpg.rf.72f07b56c577386346fbe7021acc443c.jpg'),\n",
       "  PosixPath('data_filtered/cl6ojevvt004uao55432mcnea_1_TRUE_COLOR_jpg.rf.032b02132beec27d5037247b45908220.jpg'),\n",
       "  PosixPath('data_filtered/cl6lt70fh00298w5541ighy5t_4_FALSE_COLOR__URBAN_jpg.rf.7ccc6d833327bb0baa7aa11bd6b9d7a1.jpg'),\n",
       "  PosixPath('data_filtered/cl6ct23ww00gql45503oubjmo_4_FALSE_COLOR__URBAN_jpg.rf.819ff7531475c12fcbfad09b043c8378.jpg'),\n",
       "  PosixPath('data_filtered/cl6opthke007tao557hsthpgq_6_SWIR_jpg.rf.604fa331ba70d0a1306d2e9281204764.jpg'),\n",
       "  PosixPath('data_filtered/cl6oui3xy00aoao55d29e9vlz_4_FALSE_COLOR__URBAN_jpg.rf.75cb4ab2e4d84a20ae05d606f0cd9f7e.jpg'),\n",
       "  PosixPath('data_filtered/cl6chw5x300csl455fwv6g4li_2_FALSE_COLOR_jpg.rf.cdbbfd775d062a541882636c2437206b.jpg'),\n",
       "  PosixPath('data_filtered/cl6dxzwc50001hg550uejeken_1_TRUE_COLOR_jpg.rf.80c547bf9c492882b239384b7d990f5d.jpg'),\n",
       "  PosixPath('data_filtered/cl6kfpnu6001ac4551zdx0uev_6_SWIR_jpg.rf.34908aba60aeee70d991318c99dc9351.jpg'),\n",
       "  PosixPath('data_filtered/cl6lsyw82001x8w55h42v4y3p_4_FALSE_COLOR__URBAN_jpg.rf.0914e7ca9cc3121cdfcc5826401d6673.jpg'),\n",
       "  PosixPath('data_filtered/cl6oqrvzj009aao552o4w9gcv_1_TRUE_COLOR_jpg.rf.d85543f381e826e0dffa6a79d22ec38f.jpg'),\n",
       "  PosixPath('data_filtered/cl6ctje2500hsl4550fuvht4f_6_SWIR_jpg.rf.e8d42e04ac021aa15617aa3ab4c4f626.jpg'),\n",
       "  PosixPath('data_filtered/cl6css50j00g3l4552tvg839m_2_FALSE_COLOR_jpg.rf.99a6a3dd268a81409a7dfb549dda33bf.jpg'),\n",
       "  PosixPath('data_filtered/cl6b6y193008fl455chyoaarb_4_FALSE_COLOR__URBAN_jpg.rf.18928a3e681add214cf26beb7dc5790c.jpg'),\n",
       "  PosixPath('data_filtered/cl6cteplg00hkl4551scr5fko_1_TRUE_COLOR_jpg.rf.8236949c672c9a0614f29946c7a3215c.jpg'),\n",
       "  PosixPath('data_filtered/cl6oif58n002yao5578ob9fzh_4_FALSE_COLOR__URBAN_jpg.rf.67691ceccbbb460202535f17029f706e.jpg'),\n",
       "  PosixPath('data_filtered/cl6oimia5003dao558osp4mxe_1_TRUE_COLOR_jpg.rf.f20e51ab0ee966bbec0be1bceb83e2f4.jpg'),\n",
       "  PosixPath('data_filtered/cl6b035dn0002l455hbmqcima_4_FALSE_COLOR__URBAN_jpg.rf.d884d31834bb767707a1616dfb807d00.jpg'),\n",
       "  PosixPath('data_filtered/cl6b5ojmc004gl4551hf906us_1_TRUE_COLOR_jpg.rf.4b67d4ab26364dde4077a63bace21dee.jpg'),\n",
       "  PosixPath('data_filtered/cl6b5i94f003ul455dplv6fmu_6_SWIR_jpg.rf.f9f02363db3c3db2c396aa67378922e7.jpg'),\n",
       "  PosixPath('data_filtered/cl6keyw310001c4551ugx15q5_4_FALSE_COLOR__URBAN_jpg.rf.d3371c057d7fef8486fe692a5e9141f8.jpg'),\n",
       "  PosixPath('data_filtered/cl6b0czhh000rl4555uf846qc_4_FALSE_COLOR__URBAN_jpg.rf.4d22f494704ece92b8a36f855f77bffe.jpg'),\n",
       "  PosixPath('data_filtered/cl6dzuimb000xhg552nh5hdd9_4_FALSE_COLOR__URBAN_jpg.rf.39dc7784f317cb207365a5807d822bbd.jpg'),\n",
       "  PosixPath('data_filtered/cl6cse9tv00fbl4552j5aepjj_2_FALSE_COLOR_jpg.rf.858fc862940a80171ba1698d549acec2.jpg'),\n",
       "  PosixPath('data_filtered/cl6m10ni200338w553m5pf9l5_1_TRUE_COLOR_jpg.rf.aba7991f3bcf60f90b24b03a9c2e429d.jpg'),\n",
       "  PosixPath('data_filtered/cl6cgs3qs00bil4551v5n3v2h_6_SWIR_jpg.rf.31d70fcbaab32757a389c37c32a264f9.jpg'),\n",
       "  PosixPath('data_filtered/cl6b5j7l8003yl455e8lo7mre_1_TRUE_COLOR_jpg.rf.8f930a8cb776e1fc115101a746a03689.jpg')],\n",
       " [PosixPath('data_filtered/cl6dysxe3000ihg5573nzfbsy_6_SWIR_jpg.rf.79e2da02bc62f4f66f2346c01ab4aed8.jpg'),\n",
       "  PosixPath('data_filtered/cl6kg9h8h0028c455at8u1fb4_2_FALSE_COLOR_jpg.rf.c826b52465db077585167b3e4680ee6c.jpg'),\n",
       "  PosixPath('data_filtered/cl6b05bia0009l4551ymod0pi_2_FALSE_COLOR_jpg.rf.92c20d730f7ec80ca1b4a3956f62f251.jpg'),\n",
       "  PosixPath('data_filtered/cl6ct4zi700gvl455hd187an6_1_TRUE_COLOR_jpg.rf.c32aa601f010ec224bcb120239a61104.jpg'),\n",
       "  PosixPath('data_filtered/cl6b5wl3u005gl455fljch2g9_6_SWIR_jpg.rf.3e1c521895ae0351b839d38c16c2e44d.jpg'),\n",
       "  PosixPath('data_filtered/cl6oct90r000fao553xkha255_1_TRUE_COLOR_jpg.rf.3458190dccf4775d0b2e824a8e3d2e75.jpg'),\n",
       "  PosixPath('data_filtered/cl6csiins00fgl45562qya3h6_1_TRUE_COLOR_jpg.rf.4f0023de84a5dd3d39fe129b7ee997dd.jpg'),\n",
       "  PosixPath('data_filtered/cl6b04t8r0007l455fk4y4zr0_4_FALSE_COLOR__URBAN_jpg.rf.b6843b74612a6fab1432b3c7d8f0780f.jpg'),\n",
       "  PosixPath('data_filtered/cl6cgtahv00bkl455hcmk9cn1_1_TRUE_COLOR_jpg.rf.f149413852d4d47762f2eb31aec4d9b5.jpg'),\n",
       "  PosixPath('data_filtered/cl6oe0y5h002rao55ghk1g0ha_4_FALSE_COLOR__URBAN_jpg.rf.91bd2f4b1f1e0980eb280e3e13fc8abd.jpg'),\n",
       "  PosixPath('data_filtered/cl6b51y140022l4551rmyafv5_6_SWIR_jpg.rf.ee4fd9c2f750fde1eaab859f8dd0829d.jpg'),\n",
       "  PosixPath('data_filtered/cl6b0aue4000ml455e4wo3e1j_4_FALSE_COLOR__URBAN_jpg.rf.afb389608cf3cd6af6de70e5b1072842.jpg'),\n",
       "  PosixPath('data_filtered/cl6b58mbx002sl4550bzf0gow_1_TRUE_COLOR_jpg.rf.ad7f4987c00f2b3f54269ded2871b104.jpg'),\n",
       "  PosixPath('data_filtered/cl6cgkn5000b6l455cg451vw6_2_FALSE_COLOR_jpg.rf.349b983f5f80cd6cd24ea6105b958483.jpg'),\n",
       "  PosixPath('data_filtered/cl6kjc5r500168w55bry741c1_4_FALSE_COLOR__URBAN_jpg.rf.87277927432c3b5a8ad0114a48c02d80.jpg'),\n",
       "  PosixPath('data_filtered/cl6e30lnj002ugk558z8yabbd_1_TRUE_COLOR_jpg.rf.2e25a7ef06380c2e897608e1ff2caa38.jpg'),\n",
       "  PosixPath('data_filtered/cl6b5u0en0054l4551vpacdoj_1_TRUE_COLOR_jpg.rf.fe51b30e3bbe4494c93fa97591e6cd0a.jpg'),\n",
       "  PosixPath('data_filtered/cl6b652mi0068l4552keu9loj_4_FALSE_COLOR__URBAN_jpg.rf.ac9e5490bef66d3ea06a9270bfbc269e.jpg'),\n",
       "  PosixPath('data_filtered/cl6opag1s006tao55h8pkceie_1_TRUE_COLOR_jpg.rf.0aa351f726f716cdff50ddae440c921f.jpg'),\n",
       "  PosixPath('data_filtered/cl6cgl1e600b7l455b4k067pe_1_TRUE_COLOR_jpg.rf.368b310764443e76767793eb11b0cc82.jpg'),\n",
       "  PosixPath('data_filtered/cl6e2n2tv002hgk553va60g50_1_TRUE_COLOR_jpg.rf.75734485005ac950cbb10aae5402cb76.jpg'),\n",
       "  PosixPath('data_filtered/cl6e1pf9j001ggk55feroguvj_2_FALSE_COLOR_jpg.rf.e5ddab20106f684b690b93f0baa84175.jpg'),\n",
       "  PosixPath('data_filtered/cl6ctquqv00i6l4554a2rdn94_2_FALSE_COLOR_jpg.rf.59bff3a387823906adf6f92b1d653058.jpg'),\n",
       "  PosixPath('data_filtered/cl6cg820i00ahl45522fwa74p_4_FALSE_COLOR__URBAN_jpg.rf.a65054490c722cb439824fa2a1e395b7.jpg'),\n",
       "  PosixPath('data_filtered/cl6lsukwg001t8w556kieb72f_4_FALSE_COLOR__URBAN_jpg.rf.0500c165c71af53fe68b9b2c4daa441b.jpg'),\n",
       "  PosixPath('data_filtered/cl6orq40w009vao552t868lax_2_FALSE_COLOR_jpg.rf.7f192c7591e8a3f6715b81a22cd4b701.jpg'),\n",
       "  PosixPath('data_filtered/cl6kez8j70002c455axv68ulf_1_TRUE_COLOR_jpg.rf.5ab626fcd9f1f8d03141fbce7c4d2fda.jpg'),\n",
       "  PosixPath('data_filtered/cl6ltrgqp002s8w55bwy9c5b4_4_FALSE_COLOR__URBAN_jpg.rf.76fca94ad3eb13cfdb34ef2efdb184ae.jpg'),\n",
       "  PosixPath('data_filtered/cl6e3e9qm003rgk55efdu14ah_2_FALSE_COLOR_jpg.rf.8abfdde94619a88574680bdb5bafa4dc.jpg'),\n",
       "  PosixPath('data_filtered/cl6b79rs5009wl4550jbyddo9_1_TRUE_COLOR_jpg.rf.891016298b1ec3cfd5e9ecd20bddb54c.jpg'),\n",
       "  PosixPath('data_filtered/cl6oe1f0u002sao550ab86ndb_1_TRUE_COLOR_jpg.rf.1804fe724ab7abed6f3adaff1a5995ae.jpg'),\n",
       "  PosixPath('data_filtered/cl6b77933009jl4554y5l30h3_6_SWIR_jpg.rf.17d4112c4bc6739b034ced139cd8e5a5.jpg'),\n",
       "  PosixPath('data_filtered/cl6chqhwl00cll4558hnj0glz_6_SWIR_jpg.rf.1056e04894280f6c5f84af1ce3f49ad9.jpg'),\n",
       "  PosixPath('data_filtered/cl6ojbg9t004oao552glqe340_1_TRUE_COLOR_jpg.rf.537df0a4cd6f7c528f9293ccb4d08783.jpg'),\n",
       "  PosixPath('data_filtered/cl6kgcddp002gc455ekvaehyc_2_FALSE_COLOR_jpg.rf.cc2eb5a05bb1c0c8555576917ac877fe.jpg'),\n",
       "  PosixPath('data_filtered/cl6kfzb24001zc4555e770ib2_4_FALSE_COLOR__URBAN_jpg.rf.13a4747cbfc22ec8cbfc4da014d74e19.jpg'),\n",
       "  PosixPath('data_filtered/cl6e1zkvy001ogk5561l0f1q7_1_TRUE_COLOR_jpg.rf.c934a3c4eef92e6a2fb63ba0f5b569e8.jpg'),\n",
       "  PosixPath('data_filtered/cl6ctjyc600hul455hxis4621_2_FALSE_COLOR_jpg.rf.e65f0d03101942da33a9ff69d4ba938e.jpg'),\n",
       "  PosixPath('data_filtered/cl6kgdfbl002ic45506ui0jbm_2_FALSE_COLOR_jpg.rf.2a2977277d6ac5d86155b8562dcd9aa5.jpg'),\n",
       "  PosixPath('data_filtered/cl6op0cny006bao55hefn0jyf_2_FALSE_COLOR_jpg.rf.de2937d7380d94b2a24472a7744afe9b.jpg'),\n",
       "  PosixPath('data_filtered/cl6e0dbw9000pgk55cv1sgp5x_1_TRUE_COLOR_jpg.rf.049fb46a294a4647ce0018cafe44851a.jpg'),\n",
       "  PosixPath('data_filtered/cl6cs7poo00f2l4557i4i86z6_2_FALSE_COLOR_jpg.rf.ef0dfd73530748d094bdd6043bc03479.jpg'),\n",
       "  PosixPath('data_filtered/cl6kgdzqp002kc455030p44eo_2_FALSE_COLOR_jpg.rf.157fbd858a1b7089c6f75fa68eb8638a.jpg'),\n",
       "  PosixPath('data_filtered/cl6opzsq7008aao556djk9g0u_2_FALSE_COLOR_jpg.rf.b7e31808bd7352891dd041230b8ad0b9.jpg'),\n",
       "  PosixPath('data_filtered/cl6kf110z0004c455dymnacxa_1_TRUE_COLOR_jpg.rf.84a69e729c116c44303cdbf3fc321a71.jpg'),\n",
       "  PosixPath('data_filtered/cl6b6dmty0071l455668oabtj_4_FALSE_COLOR__URBAN_jpg.rf.3d82e7710651d610b3ed5c22ae907981.jpg'),\n",
       "  PosixPath('data_filtered/cl6m17r53003b8w55c0zsgjie_4_FALSE_COLOR__URBAN_jpg.rf.0e0e305fb9dd82c08f456f3a69fa1f51.jpg'),\n",
       "  PosixPath('data_filtered/cl6cgg5np00b0l455enz77l37_4_FALSE_COLOR__URBAN_jpg.rf.40cd702cc8b043289ca3fc393fabe3ef.jpg'),\n",
       "  PosixPath('data_filtered/cl6ocys2m000sao5550mof7nx_1_TRUE_COLOR_jpg.rf.8e3581559100c209cd75fd81f38e072b.jpg'),\n",
       "  PosixPath('data_filtered/cl6kf821l000nc4555y4p2rm4_1_TRUE_COLOR_jpg.rf.dee11d790a8452475277a2bd007a6cbe.jpg'),\n",
       "  PosixPath('data_filtered/cl6oqcc63008vao551jrk90jb_1_TRUE_COLOR_jpg.rf.c494c328e46443df2ef5374b08815af3.jpg'),\n",
       "  PosixPath('data_filtered/cl6e1icq8001agk55c0pe3e5b_4_FALSE_COLOR__URBAN_jpg.rf.a7200e9f167ade98b5f50ee1bbebe711.jpg'),\n",
       "  PosixPath('data_filtered/cl6b5dekg003el4552wy46fsz_4_FALSE_COLOR__URBAN_jpg.rf.025e0455dad67b91979fecdc00bf453c.jpg'),\n",
       "  PosixPath('data_filtered/cl6m145w400368w55e1mscmpe_2_FALSE_COLOR_jpg.rf.c5096bdb36261ea91a23135f4d6af8d0.jpg'),\n",
       "  PosixPath('data_filtered/cl6opeibd0071ao55f9t2g6nw_1_TRUE_COLOR_jpg.rf.6070362401c95d15c7c1bceb98e721bb.jpg'),\n",
       "  PosixPath('data_filtered/cl6lt37ph00248w55dnhvff9s_2_FALSE_COLOR_jpg.rf.c96af4afa10719f140a7be3e62c6eaf6.jpg'),\n",
       "  PosixPath('data_filtered/cl6kfzb24001zc4555e770ib2_1_TRUE_COLOR_jpg.rf.3f2075aeb29d375dfccd06842e01369a.jpg'),\n",
       "  PosixPath('data_filtered/cl6b6o1av007nl455829ah78j_6_SWIR_jpg.rf.a3be7e5b92fba0b57b6ad10afa4a7b03.jpg'),\n",
       "  PosixPath('data_filtered/cl6cgr33o00bfl45526e3ajl1_6_SWIR_jpg.rf.3b37ac1a356371984aa7a4c9e26febfa.jpg'),\n",
       "  PosixPath('data_filtered/cl6oq2n1i008fao551fa07saw_1_TRUE_COLOR_jpg.rf.c24eb4b17e82d3b56366b170b0b1f25d.jpg'),\n",
       "  PosixPath('data_filtered/cl6m12kpt00358w55c0oah42i_4_FALSE_COLOR__URBAN_jpg.rf.cfe3d51f6e5cf8bf05a95d0300e15d31.jpg'),\n",
       "  PosixPath('data_filtered/cl6opx5vv0082ao55dx8j73xn_1_TRUE_COLOR_jpg.rf.ff74a7f91077661ec3a5e3e463cda851.jpg'),\n",
       "  PosixPath('data_filtered/cl6ojvzs90058ao55ddizcpuh_2_FALSE_COLOR_jpg.rf.e85b48782ef781d6a141843203abbaed.jpg'),\n",
       "  PosixPath('data_filtered/cl6b5lfqn0043l455544gg2zx_6_SWIR_jpg.rf.b0ed6f4323584dc306018be2c6d3435f.jpg'),\n",
       "  PosixPath('data_filtered/cl6ki3fbe00018w55146m86ja_4_FALSE_COLOR__URBAN_jpg.rf.a905168377908ca76ba5a1560a355536.jpg'),\n",
       "  PosixPath('data_filtered/cl6b7ep9100a4l455h3w9fstk_2_FALSE_COLOR_jpg.rf.4f2747c68fd470403fcec0900ad7559d.jpg'),\n",
       "  PosixPath('data_filtered/cl6b5n12o0049l455063q86e4_6_SWIR_jpg.rf.55371dc2e297883b469ea40717f67b43.jpg'),\n",
       "  PosixPath('data_filtered/cl6odoepa0028ao554gdxhnyo_1_TRUE_COLOR_jpg.rf.97b0cd83ab8fc9eff094564e62ac032e.jpg'),\n",
       "  PosixPath('data_filtered/cl6b652mi0068l4552keu9loj_6_SWIR_jpg.rf.1139087fcfdd2c71aca1e08ba169c124.jpg'),\n",
       "  PosixPath('data_filtered/cl6kj4ybe000p8w554ytea5li_6_SWIR_jpg.rf.db9bdb5770985cc1c7452e50339d4ad4.jpg'),\n",
       "  PosixPath('data_filtered/cl6ct1fab00gnl455b6a585vi_6_SWIR_jpg.rf.14491e2fe3633bf885fcb9c9e4bf3c4d.jpg'),\n",
       "  PosixPath('data_filtered/cl6m1dd0r003o8w5569ma5agl_1_TRUE_COLOR_jpg.rf.8351a94d2d7bc6ea84ad8121c560c869.jpg'),\n",
       "  PosixPath('data_filtered/cl6ok1xz8005jao55et1x9ny0_1_TRUE_COLOR_jpg.rf.9558d9b5d898144aa267adad56074770.jpg'),\n",
       "  PosixPath('data_filtered/cl6cho7a000cil455fiddgkjj_1_TRUE_COLOR_jpg.rf.0dfc3b0e34820438b66e6ff0ba1dbe2f.jpg'),\n",
       "  PosixPath('data_filtered/cl6ctgypm00hol455a8epfwn4_6_SWIR_jpg.rf.a7e2f6744b582e10fae84620bcaef311.jpg'),\n",
       "  PosixPath('data_filtered/cl6cs8jie00f5l4555hn76aj1_6_SWIR_jpg.rf.7cdd3f4c7d935ad234885da22160d3b7.jpg'),\n",
       "  PosixPath('data_filtered/cl6oqvksq009bao556412da6l_1_TRUE_COLOR_jpg.rf.265a9c01b3c08b3b6f3bca283a6109c3.jpg'),\n",
       "  PosixPath('data_filtered/cl6b73duk008vl45583qs4mo9_6_SWIR_jpg.rf.7b942815479894d2a3fda70742b9f826.jpg'),\n",
       "  PosixPath('data_filtered/cl6b5yjxa005nl45516k465kb_1_TRUE_COLOR_jpg.rf.ce6cbfd628838b1c87ffdbb637919aa9.jpg'),\n",
       "  PosixPath('data_filtered/cl6kgmrej002zc455a27d973q_4_FALSE_COLOR__URBAN_jpg.rf.5885b70c7b3b3dafd9806852b4e76ec5.jpg'),\n",
       "  PosixPath('data_filtered/cl6ouiflj00apao55ef14ha2q_6_SWIR_jpg.rf.847b99640495bcb4aa215b63c1c3cde6.jpg'),\n",
       "  PosixPath('data_filtered/cl6b4zqf6001xl455gp6h5ca8_1_TRUE_COLOR_jpg.rf.b98add8863e6743972e03c69a46b54fd.jpg'),\n",
       "  PosixPath('data_filtered/cl6oimia5003dao558osp4mxe_6_SWIR_jpg.rf.e44dbdb6627b06f130e9108440f82ddc.jpg'),\n",
       "  PosixPath('data_filtered/cl6odgxwb001tao559phvfhb7_4_FALSE_COLOR__URBAN_jpg.rf.256adbc8831a5c00de27de62aaed7ff8.jpg'),\n",
       "  PosixPath('data_filtered/cl6b5s1n0004ul455es9i793w_1_TRUE_COLOR_jpg.rf.b4047203715e6e814acf94b0932d8906.jpg'),\n",
       "  PosixPath('data_filtered/cl6oe2d76002tao55ckxpdijl_4_FALSE_COLOR__URBAN_jpg.rf.c3827f2fb99b077435dca2881a756481.jpg'),\n",
       "  PosixPath('data_filtered/cl6b0cqup000ql4558m8y8a8t_4_FALSE_COLOR__URBAN_jpg.rf.1c5781c5e69bc219c997c5925946f18d.jpg'),\n",
       "  PosixPath('data_filtered/cl6kf9nvv000tc455gs7pbv7h_1_TRUE_COLOR_jpg.rf.b4649084b8bac4a6b4df2988ce5ce1c7.jpg'),\n",
       "  PosixPath('data_filtered/cl6b53k570029l45574z79k7e_2_FALSE_COLOR_jpg.rf.fe513cd92aab85819db299ec9fb7939d.jpg'),\n",
       "  PosixPath('data_filtered/cl6chl1rg00cbl455e1p5cw7x_6_SWIR_jpg.rf.d825544520c1f57485e1ae1678fdd8c2.jpg'),\n",
       "  PosixPath('data_filtered/cl6b752w00095l45532llequj_1_TRUE_COLOR_jpg.rf.327a752c2e51b28cc6c0156d0484ccde.jpg'),\n",
       "  PosixPath('data_filtered/cl6kfr3gw001gc4556plk3d6y_2_FALSE_COLOR_jpg.rf.83ca344c4481eff80a00b5b50123dde7.jpg'),\n",
       "  PosixPath('data_filtered/cl6chkc4400cal4551mau76ln_2_FALSE_COLOR_jpg.rf.b399825fe01934611b6d013886c789f8.jpg'),\n",
       "  PosixPath('data_filtered/cl6e35mru003cgk559os14r7y_6_SWIR_jpg.rf.336962415de265ba0bd7c7a9fa5a7948.jpg'),\n",
       "  PosixPath('data_filtered/cl6b63ehe0062l455c9mib5xv_4_FALSE_COLOR__URBAN_jpg.rf.b8bc2c6fe6978ca6b05f3a82e157bdbb.jpg'),\n",
       "  PosixPath('data_filtered/cl6kgm9qr002yc455g5qs87kz_4_FALSE_COLOR__URBAN_jpg.rf.0554aa78bc92fb2e6fbd671e4952c21f.jpg'),\n",
       "  PosixPath('data_filtered/cl6cgk7k600b5l455ceot4yy5_2_FALSE_COLOR_jpg.rf.ca2cce9e38f2a3902ebc19da1dfa4021.jpg'),\n",
       "  PosixPath('data_filtered/cl6e3gmqp0040gk55gklf0ka1_2_FALSE_COLOR_jpg.rf.e1d823b926ba664e4d2658c7c58b2915.jpg'),\n",
       "  PosixPath('data_filtered/cl6orry9200a0ao559gb82ms0_2_FALSE_COLOR_jpg.rf.121ab501943ce8bb65a5ac587ed62ff0.jpg'),\n",
       "  PosixPath('data_filtered/cl6cs8jie00f5l4555hn76aj1_2_FALSE_COLOR_jpg.rf.d83bff9a3317d11e6db58f9a45a26816.jpg'),\n",
       "  PosixPath('data_filtered/cl6lt50lf00278w555isdaowx_6_SWIR_jpg.rf.38c24d681604400240108adc91a08717.jpg'),\n",
       "  PosixPath('data_filtered/cl6b6rmls007ul455clqha4p0_1_TRUE_COLOR_jpg.rf.c706e724b982cc61451904c2da58f1a9.jpg'),\n",
       "  PosixPath('data_filtered/cl6m1cry8003m8w559r91hmtl_6_SWIR_jpg.rf.55bdb1e75817e18fb2d33d73abbacc10.jpg'),\n",
       "  PosixPath('data_filtered/cl6opowct007kao55518p0qp4_4_FALSE_COLOR__URBAN_jpg.rf.5e0fb337cbca043bafc5bce7c24fa796.jpg'),\n",
       "  PosixPath('data_filtered/cl6od7f7j001hao55016b86jo_2_FALSE_COLOR_jpg.rf.8a798a7467bd6bd68d18724381092089.jpg'),\n",
       "  PosixPath('data_filtered/cl6chj77t00c7l455c5c08ec6_1_TRUE_COLOR_jpg.rf.54765f5cf2a2e7c9fb3c27aed7fcfd85.jpg'),\n",
       "  PosixPath('data_filtered/cl6b7118q008ol4551ye8g44d_4_FALSE_COLOR__URBAN_jpg.rf.cfa2c6cd2a96d37094600721a31f7d63.jpg'),\n",
       "  PosixPath('data_filtered/cl6kgpdp90034c4556foheik0_6_SWIR_jpg.rf.c22f311b1888c6f7c59a73444e2e52c1.jpg'),\n",
       "  PosixPath('data_filtered/cl6cgah3400anl4554lg2hxzy_1_TRUE_COLOR_jpg.rf.14f3e09cac34f3f98d3191416add10d7.jpg'),\n",
       "  PosixPath('data_filtered/cl6b03sa00004l4555k7m3d9h_2_FALSE_COLOR_jpg.rf.ff06f8d5665b3485544ff4b57022f5a4.jpg'),\n",
       "  PosixPath('data_filtered/cl6kgh8cf002sc4558jry9v2p_1_TRUE_COLOR_jpg.rf.03abcb671e6d0110cb96176d0f89b7dd.jpg'),\n",
       "  PosixPath('data_filtered/cl6b5f0o3003ll4553yz85s0u_2_FALSE_COLOR_jpg.rf.445d01ea4ecb4daf88fc55dbab1364a1.jpg'),\n",
       "  PosixPath('data_filtered/cl6od01zy000wao5564tqf2dq_6_SWIR_jpg.rf.6c0b81677e3f0db5276e1d8f05fa6db9.jpg'),\n",
       "  PosixPath('data_filtered/cl6e33qm00035gk553mplcyji_4_FALSE_COLOR__URBAN_jpg.rf.1e019662a48f468ec823b369a539a56c.jpg'),\n",
       "  PosixPath('data_filtered/cl6cs6mgj00f0l455egwshib7_1_TRUE_COLOR_jpg.rf.d1ab74c84059de9049a6e2af79eddc96.jpg'),\n",
       "  PosixPath('data_filtered/cl6ojbg9t004oao552glqe340_2_FALSE_COLOR_jpg.rf.5430eb0caaae90ba41e84b623c3726db.jpg'),\n",
       "  PosixPath('data_filtered/cl6opu1eb007uao5563tf72vm_2_FALSE_COLOR_jpg.rf.9a87b9a588f285f9fd649d8b4be71abf.jpg'),\n",
       "  PosixPath('data_filtered/cl6cpff5c00dll455ew1ddl1f_1_TRUE_COLOR_jpg.rf.cbcb617570e3672bd266ec946e1ea139.jpg'),\n",
       "  PosixPath('data_filtered/cl6ojcant004qao555opq5lio_6_SWIR_jpg.rf.786a706ff76fbd94a7250a97bdde08b3.jpg'),\n",
       "  PosixPath('data_filtered/cl6b6vihd0086l4553gmk0011_2_FALSE_COLOR_jpg.rf.155496cce064167283541a8c4a3ddec7.jpg'),\n",
       "  PosixPath('data_filtered/cl6kfrfmx001hc455cbojhgeb_1_TRUE_COLOR_jpg.rf.06641a0ddbcb7d3b264dfcba6ca41372.jpg'),\n",
       "  PosixPath('data_filtered/cl6oqz7u8009eao55hd74fzt1_4_FALSE_COLOR__URBAN_jpg.rf.22df982e0e2a34ad1b2c566f6f1e80a5.jpg'),\n",
       "  PosixPath('data_filtered/cl6b65ksg0069l455f4od44cb_1_TRUE_COLOR_jpg.rf.3e54d168c45f2d0c7a3f5a70b8e92e20.jpg'),\n",
       "  PosixPath('data_filtered/cl6b0q209001jl4553gmg5wxk_2_FALSE_COLOR_jpg.rf.eef8be7fee7165de64be4973c2c58f3e.jpg'),\n",
       "  PosixPath('data_filtered/cl6kjm7cv001r8w55czzsenxh_2_FALSE_COLOR_jpg.rf.96f98bd41b3564674cee2f2aaa162515.jpg'),\n",
       "  PosixPath('data_filtered/cl6e2g24k0020gk55d7nlgq0h_1_TRUE_COLOR_jpg.rf.b9e53ba98178cbb61cf1f28a92d5480d.jpg'),\n",
       "  PosixPath('data_filtered/cl6b75qhp0098l455giwk7bva_4_FALSE_COLOR__URBAN_jpg.rf.3d6853f78cfcd17e1029d19083bcbdb0.jpg'),\n",
       "  PosixPath('data_filtered/cl6cgw2be00bnl455cetv4inw_2_FALSE_COLOR_jpg.rf.e7eb23a8f2e3a9e050740e78e8457c2b.jpg'),\n",
       "  PosixPath('data_filtered/cl6cgw2be00bnl455cetv4inw_6_SWIR_jpg.rf.9ff585b96d534d0824a3896096a0c74b.jpg'),\n",
       "  PosixPath('data_filtered/cl6ct6g9a00gzl4555brigazi_4_FALSE_COLOR__URBAN_jpg.rf.5c007df412a0da258d50d03ae471057e.jpg'),\n",
       "  PosixPath('data_filtered/cl6azgmfw0004f0557iqa1usw_6_SWIR_jpg.rf.0f5204c03b972113e76c964eada21109.jpg'),\n",
       "  PosixPath('data_filtered/cl6azt6by0000go55h4io4tab_6_SWIR_jpg.rf.f8a793559d8103b9c237ca96944514b5.jpg'),\n",
       "  PosixPath('data_filtered/cl6e2iu9v0027gk55e8cfax9f_1_TRUE_COLOR_jpg.rf.50314616f0da1821e8666d792d294016.jpg'),\n",
       "  PosixPath('data_filtered/cl6e2kygp002egk55asrs2brz_6_SWIR_jpg.rf.babaec9df98b79e585c6b0ed3e401b8f.jpg'),\n",
       "  PosixPath('data_filtered/cl6b5nqx3004dl4556qu6azh4_2_FALSE_COLOR_jpg.rf.735f17d91aa3a0102d1b8ef9dcfb2f00.jpg'),\n",
       "  PosixPath('data_filtered/cl6b7gtl200aal4552nve0ap1_2_FALSE_COLOR_jpg.rf.c871b0359698a70abce45a40f6bb117e.jpg'),\n",
       "  PosixPath('data_filtered/cl6m1fco6003v8w558h0s1dhz_4_FALSE_COLOR__URBAN_jpg.rf.39e3021237a9a84b196a3ce0eeede01d.jpg'),\n",
       "  PosixPath('data_filtered/cl6e06umy000bgk55gkbw1ajq_2_FALSE_COLOR_jpg.rf.96eb006861178f50b3a2a2453346d017.jpg'),\n",
       "  PosixPath('data_filtered/cl6odwuqk002iao555zzv0c59_2_FALSE_COLOR_jpg.rf.378e24cf0ecebacbb21c214b7f42190a.jpg'),\n",
       "  PosixPath('data_filtered/cl6e0kgem0014gk55cl4692g7_6_SWIR_jpg.rf.75d367e9586bed46241148c1105975ec.jpg'),\n",
       "  PosixPath('data_filtered/cl6kgj08y002wc455bqfpd8bd_6_SWIR_jpg.rf.c68ac9e33aa309a3e14ba984d09ef846.jpg'),\n",
       "  PosixPath('data_filtered/cl6e2cbgk001tgk5560zhhqm7_4_FALSE_COLOR__URBAN_jpg.rf.25b62006fb08f8d995f34a3c229a08a6.jpg'),\n",
       "  PosixPath('data_filtered/cl6chonxj00cjl455bqcs1fnt_2_FALSE_COLOR_jpg.rf.277d09c72f7ed781018abde75c573111.jpg'),\n",
       "  PosixPath('data_filtered/cl6cswt5400gdl4554rn2gjz9_1_TRUE_COLOR_jpg.rf.e410a3d52182432dc9d14d9b24b69cb0.jpg'),\n",
       "  PosixPath('data_filtered/cl6b5qhgi004ml4554fwj59ku_2_FALSE_COLOR_jpg.rf.f2becfdadd89f46560f6e995b220149f.jpg'),\n",
       "  PosixPath('data_filtered/cl6ojrtzp004zao55hqhsfffg_2_FALSE_COLOR_jpg.rf.195a1e150a842d8e52a340b764d086c0.jpg'),\n",
       "  PosixPath('data_filtered/cl6cgs3qs00bil4551v5n3v2h_2_FALSE_COLOR_jpg.rf.dfd038db2b2cc23577079525dec70528.jpg'),\n",
       "  PosixPath('data_filtered/cl6oqbr98008uao55hhpyg2l0_6_SWIR_jpg.rf.b1f0111172cad2728c3d6d53fe595b48.jpg')],\n",
       " [PosixPath('dataset/labels/_annotations_filtered.coco/cl6b58mbx002sl4550bzf0gow_1_TRUE_COLOR_jpg.rf.ad7f4987c00f2b3f54269ded2871b104.txt'),\n",
       "  PosixPath('dataset/labels/_annotations_filtered.coco/cl6dzzjvo0010hg552jj7ae4b_2_FALSE_COLOR_jpg.rf.53e03154702ae8f918f349befcf7e312.txt'),\n",
       "  PosixPath('dataset/labels/_annotations_filtered.coco/cl6odcx12001oao55f8bma9y4_6_SWIR_jpg.rf.abc6a29a97d9e3758deb79ec1becd8f9.txt'),\n",
       "  PosixPath('dataset/labels/_annotations_filtered.coco/cl6cs8jie00f5l4555hn76aj1_6_SWIR_jpg.rf.7cdd3f4c7d935ad234885da22160d3b7.txt'),\n",
       "  PosixPath('dataset/labels/_annotations_filtered.coco/cl6e2xkh0002mgk55aif2aqvo_2_FALSE_COLOR_jpg.rf.0b7ee80fe8e0318db34d8f46d4d9e818.txt'),\n",
       "  PosixPath('dataset/labels/_annotations_filtered.coco/cl6kgm9qr002yc455g5qs87kz_2_FALSE_COLOR_jpg.rf.95debd80b7509cc0a6afe0a7c7ff6cfe.txt'),\n",
       "  PosixPath('dataset/labels/_annotations_filtered.coco/cl6b5z6d1005ol45596rf4y2m_2_FALSE_COLOR_jpg.rf.aef45dea5da99c4d13f38dd920910b0b.txt'),\n",
       "  PosixPath('dataset/labels/_annotations_filtered.coco/cl6b6xs0d008el455cvd92nt5_6_SWIR_jpg.rf.035c96be1fff7d392e5e43e386c271f1.txt'),\n",
       "  PosixPath('dataset/labels/_annotations_filtered.coco/cl6dyeg510004hg554xxs8aux_1_TRUE_COLOR_jpg.rf.5f7f56d5c624ab8c85fdd5b5785d421c.txt'),\n",
       "  PosixPath('dataset/labels/_annotations_filtered.coco/cl6b58d1y002rl4558379g2db_6_SWIR_jpg.rf.d2c130e5f22d952b133056e4c484fdd9.txt'),\n",
       "  PosixPath('dataset/labels/_annotations_filtered.coco/cl6cgbyeo00aql455eui3fiu4_1_TRUE_COLOR_jpg.rf.0b8e1982479c781a18740d7fd0160c36.txt'),\n",
       "  PosixPath('dataset/labels/_annotations_filtered.coco/cl6ocohki0003ao55bnyg99kc_6_SWIR_jpg.rf.0f996164f7e10b4482fd531c9c211f94.txt'),\n",
       "  PosixPath('dataset/labels/_annotations_filtered.coco/cl6e2n2tv002hgk553va60g50_1_TRUE_COLOR_jpg.rf.75734485005ac950cbb10aae5402cb76.txt'),\n",
       "  PosixPath('dataset/labels/_annotations_filtered.coco/cl6lsyw82001x8w55h42v4y3p_4_FALSE_COLOR__URBAN_jpg.rf.0914e7ca9cc3121cdfcc5826401d6673.txt'),\n",
       "  PosixPath('dataset/labels/_annotations_filtered.coco/cl6opc9oz006zao552eyx63jq_1_TRUE_COLOR_jpg.rf.f994921b8a56d2c9d4e28248efa38b8e.txt'),\n",
       "  PosixPath('dataset/labels/_annotations_filtered.coco/cl6dypwru000chg559pvqei5w_1_TRUE_COLOR_jpg.rf.4b5d1b454cee4e4f04b8f6b281127935.txt'),\n",
       "  PosixPath('dataset/labels/_annotations_filtered.coco/cl6dyvvvc000lhg5533xc480w_4_FALSE_COLOR__URBAN_jpg.rf.7b4e887efe30535ef057f0a9ca071bfd.txt'),\n",
       "  PosixPath('dataset/labels/_annotations_filtered.coco/cl6m1bogh003h8w553evr8lfd_4_FALSE_COLOR__URBAN_jpg.rf.5a61d0979104f21b6bb376259cd24240.txt'),\n",
       "  PosixPath('dataset/labels/_annotations_filtered.coco/cl6odx8ff002jao5531b01e4o_4_FALSE_COLOR__URBAN_jpg.rf.8c7ddf00bbfce8db3112595957495165.txt'),\n",
       "  PosixPath('dataset/labels/_annotations_filtered.coco/cl6ok1xz8005jao55et1x9ny0_1_TRUE_COLOR_jpg.rf.9558d9b5d898144aa267adad56074770.txt'),\n",
       "  PosixPath('dataset/labels/_annotations_filtered.coco/cl6opu1eb007uao5563tf72vm_2_FALSE_COLOR_jpg.rf.9a87b9a588f285f9fd649d8b4be71abf.txt'),\n",
       "  PosixPath('dataset/labels/_annotations_filtered.coco/cl6b56nh5002jl4551m23gtf9_1_TRUE_COLOR_jpg.rf.7d001a91d6df1d09828ca7c97e89c58b.txt'),\n",
       "  PosixPath('dataset/labels/_annotations_filtered.coco/cl6ojcant004qao555opq5lio_6_SWIR_jpg.rf.786a706ff76fbd94a7250a97bdde08b3.txt'),\n",
       "  PosixPath('dataset/labels/_annotations_filtered.coco/cl6orq40w009vao552t868lax_2_FALSE_COLOR_jpg.rf.7f192c7591e8a3f6715b81a22cd4b701.txt'),\n",
       "  PosixPath('dataset/labels/_annotations_filtered.coco/cl6b5rb8x004rl455g3sp3iqz_2_FALSE_COLOR_jpg.rf.005c5bbb33416d06f899c0fb2192df4b.txt'),\n",
       "  PosixPath('dataset/labels/_annotations_filtered.coco/cl6ocun81000iao55010uhpce_4_FALSE_COLOR__URBAN_jpg.rf.5210f764454f840bc10bf80e5016cea9.txt'),\n",
       "  PosixPath('dataset/labels/_annotations_filtered.coco/cl6b6op7a007ol455fvvv6g4a_6_SWIR_jpg.rf.4926076997caf8669df1f851efeae7e6.txt'),\n",
       "  PosixPath('dataset/labels/_annotations_filtered.coco/cl6od3kun001bao55bcq677k3_2_FALSE_COLOR_jpg.rf.3fad73bdcffb62a261e27d5f101cc7e1.txt'),\n",
       "  PosixPath('dataset/labels/_annotations_filtered.coco/cl6ojevvt004uao55432mcnea_6_SWIR_jpg.rf.ac9d8ec6cc1476f98470e302c9f8945f.txt'),\n",
       "  PosixPath('dataset/labels/_annotations_filtered.coco/cl6chonxj00cjl455bqcs1fnt_2_FALSE_COLOR_jpg.rf.277d09c72f7ed781018abde75c573111.txt'),\n",
       "  PosixPath('dataset/labels/_annotations_filtered.coco/cl6e30dz3002tgk559uhm11za_4_FALSE_COLOR__URBAN_jpg.rf.0fec58b1d08785f75835c88c38eb6fd2.txt'),\n",
       "  PosixPath('dataset/labels/_annotations_filtered.coco/cl6opv5oo007xao553de9g7wd_2_FALSE_COLOR_jpg.rf.ab5b0ecca400b24137812a9cfd97fb73.txt'),\n",
       "  PosixPath('dataset/labels/_annotations_filtered.coco/cl6ojbg9t004oao552glqe340_1_TRUE_COLOR_jpg.rf.537df0a4cd6f7c528f9293ccb4d08783.txt'),\n",
       "  PosixPath('dataset/labels/_annotations_filtered.coco/cl6b65ksg0069l455f4od44cb_1_TRUE_COLOR_jpg.rf.3e54d168c45f2d0c7a3f5a70b8e92e20.txt'),\n",
       "  PosixPath('dataset/labels/_annotations_filtered.coco/cl6b542k6002bl455fmydcwlb_6_SWIR_jpg.rf.8759656fe7d9452fa7f7871f61545f0c.txt'),\n",
       "  PosixPath('dataset/labels/_annotations_filtered.coco/cl6b7263q008rl455cbp6ejbc_2_FALSE_COLOR_jpg.rf.1568b2fbf7b7b0778bd5ef6a743c18f8.txt'),\n",
       "  PosixPath('dataset/labels/_annotations_filtered.coco/cl6opc9oz006zao552eyx63jq_6_SWIR_jpg.rf.76de8b1ec7f1aeb69a59748d8a8c9207.txt'),\n",
       "  PosixPath('dataset/labels/_annotations_filtered.coco/cl6oinvqs003fao55chcqcxbr_2_FALSE_COLOR_jpg.rf.f3dcb8e13a1f4123914d5987a9ba4ee2.txt'),\n",
       "  PosixPath('dataset/labels/_annotations_filtered.coco/cl6cs3rd100esl455en8mcp5g_1_TRUE_COLOR_jpg.rf.3b866376fde360e27def0dd04d60d978.txt'),\n",
       "  PosixPath('dataset/labels/_annotations_filtered.coco/cl6ou72e300a7ao55ham55bxa_1_TRUE_COLOR_jpg.rf.5fb071ea6eacd8d0b49cdf574f4cdaa6.txt'),\n",
       "  PosixPath('dataset/labels/_annotations_filtered.coco/cl6b63ehe0062l455c9mib5xv_4_FALSE_COLOR__URBAN_jpg.rf.b8bc2c6fe6978ca6b05f3a82e157bdbb.txt'),\n",
       "  PosixPath('dataset/labels/_annotations_filtered.coco/cl6oq9ozh008nao5591t079g1_4_FALSE_COLOR__URBAN_jpg.rf.6c26670ade9335a2ad7af64dbf3806ed.txt'),\n",
       "  PosixPath('dataset/labels/_annotations_filtered.coco/cl6kfowty0017c455b591d008_1_TRUE_COLOR_jpg.rf.ee3c5e5c682214ad0e0d91e6930b570b.txt'),\n",
       "  PosixPath('dataset/labels/_annotations_filtered.coco/cl6opowct007kao55518p0qp4_4_FALSE_COLOR__URBAN_jpg.rf.5e0fb337cbca043bafc5bce7c24fa796.txt'),\n",
       "  PosixPath('dataset/labels/_annotations_filtered.coco/cl6chw5x300csl455fwv6g4li_2_FALSE_COLOR_jpg.rf.cdbbfd775d062a541882636c2437206b.txt'),\n",
       "  PosixPath('dataset/labels/_annotations_filtered.coco/cl6b5dfkd003fl455d1yufkce_2_FALSE_COLOR_jpg.rf.d4fff2ca1272f4fb2f0c9cb2ef9a4e41.txt'),\n",
       "  PosixPath('dataset/labels/_annotations_filtered.coco/cl6dyeg510004hg554xxs8aux_6_SWIR_jpg.rf.375714af6c9f8fa9fb5423c7dbcea6cc.txt'),\n",
       "  PosixPath('dataset/labels/_annotations_filtered.coco/cl6e3e9qm003rgk55efdu14ah_2_FALSE_COLOR_jpg.rf.8abfdde94619a88574680bdb5bafa4dc.txt'),\n",
       "  PosixPath('dataset/labels/_annotations_filtered.coco/cl6b5lfqn0043l455544gg2zx_6_SWIR_jpg.rf.b0ed6f4323584dc306018be2c6d3435f.txt'),\n",
       "  PosixPath('dataset/labels/_annotations_filtered.coco/cl6odgxwb001tao559phvfhb7_2_FALSE_COLOR_jpg.rf.a3541b77ef69ffcbbb68c2679bf140b5.txt'),\n",
       "  PosixPath('dataset/labels/_annotations_filtered.coco/cl6kfvrfp001qc45548kr4qf2_1_TRUE_COLOR_jpg.rf.1e323d4ad9dedbfeedc5e00b3aa691b5.txt'),\n",
       "  PosixPath('dataset/labels/_annotations_filtered.coco/cl6opv5oo007xao553de9g7wd_1_TRUE_COLOR_jpg.rf.2ca9986e18ecf042953ce24774c8c5d1.txt'),\n",
       "  PosixPath('dataset/labels/_annotations_filtered.coco/cl6opi0lv0079ao554ptl5yd7_1_TRUE_COLOR_jpg.rf.3fc2124d6e898de65d162d26ff22fda1.txt'),\n",
       "  PosixPath('dataset/labels/_annotations_filtered.coco/cl6csuejr00g9l45566f93g4a_2_FALSE_COLOR_jpg.rf.054d398289a53f9e9e8a801aeb0d7863.txt'),\n",
       "  PosixPath('dataset/labels/_annotations_filtered.coco/cl6m0whp000308w555xk5cwij_2_FALSE_COLOR_jpg.rf.4c7f2876d41823704290c7ba17c9b1ae.txt'),\n",
       "  PosixPath('dataset/labels/_annotations_filtered.coco/cl6b75qhp0098l455giwk7bva_1_TRUE_COLOR_jpg.rf.a94ba5968034dec9b73c7dbe480dc089.txt'),\n",
       "  PosixPath('dataset/labels/_annotations_filtered.coco/cl6cgtahv00bkl455hcmk9cn1_1_TRUE_COLOR_jpg.rf.f149413852d4d47762f2eb31aec4d9b5.txt'),\n",
       "  PosixPath('dataset/labels/_annotations_filtered.coco/cl6b7ep9100a4l455h3w9fstk_2_FALSE_COLOR_jpg.rf.4f2747c68fd470403fcec0900ad7559d.txt'),\n",
       "  PosixPath('dataset/labels/_annotations_filtered.coco/cl6kg4sfr0026c4552hfe6gtj_4_FALSE_COLOR__URBAN_jpg.rf.2342a2438b262c0e389b20eaddf8c3c2.txt'),\n",
       "  PosixPath('dataset/labels/_annotations_filtered.coco/cl6kgaw2p002bc455hair6q7o_1_TRUE_COLOR_jpg.rf.c1a9a244f7f91d010279e2e7c971c54e.txt'),\n",
       "  PosixPath('dataset/labels/_annotations_filtered.coco/cl6oips2c003kao559sp4fuwd_1_TRUE_COLOR_jpg.rf.bc07d79827f17f756dd7bfad1411bda5.txt'),\n",
       "  PosixPath('dataset/labels/_annotations_filtered.coco/cl6oix6p8003xao558gep7jfa_6_SWIR_jpg.rf.9736bdd1879c0e0861072b086ca94dde.txt'),\n",
       "  PosixPath('dataset/labels/_annotations_filtered.coco/cl6csiins00fgl45562qya3h6_1_TRUE_COLOR_jpg.rf.4f0023de84a5dd3d39fe129b7ee997dd.txt'),\n",
       "  PosixPath('dataset/labels/_annotations_filtered.coco/cl6cse9tv00fbl4552j5aepjj_2_FALSE_COLOR_jpg.rf.858fc862940a80171ba1698d549acec2.txt'),\n",
       "  PosixPath('dataset/labels/_annotations_filtered.coco/cl6b029x70000l4556t6r3w8m_4_FALSE_COLOR__URBAN_jpg.rf.5d53d7a53c7694fe5f90bc8ad1aec23c.txt'),\n",
       "  PosixPath('dataset/labels/_annotations_filtered.coco/cl6kfnwqd0015c455cssv4ha4_1_TRUE_COLOR_jpg.rf.dd4a1a9cc9e885b3011de03732c8f204.txt'),\n",
       "  PosixPath('dataset/labels/_annotations_filtered.coco/cl6oputjf007wao55fnke0ppv_2_FALSE_COLOR_jpg.rf.1895fbee9d0e59032e22514133629026.txt'),\n",
       "  PosixPath('dataset/labels/_annotations_filtered.coco/cl6lt50lf00278w555isdaowx_6_SWIR_jpg.rf.38c24d681604400240108adc91a08717.txt'),\n",
       "  PosixPath('dataset/labels/_annotations_filtered.coco/cl6e09hxf000hgk559x18fvg8_1_TRUE_COLOR_jpg.rf.4bad2d8b298e825dd87c4ebb94d5fab5.txt'),\n",
       "  PosixPath('dataset/labels/_annotations_filtered.coco/cl6oq9ozh008nao5591t079g1_1_TRUE_COLOR_jpg.rf.1309c56d7ff1cdf3a3cdde1ed4ed5cf0.txt'),\n",
       "  PosixPath('dataset/labels/_annotations_filtered.coco/cl6b6p96a007ql455cvrh6peg_6_SWIR_jpg.rf.c9f11f0281ee9e5699b728418acd524d.txt'),\n",
       "  PosixPath('dataset/labels/_annotations_filtered.coco/cl6e07sbz000dgk556f1cemmc_6_SWIR_jpg.rf.b19bab12800875f90f051f5574fcb69c.txt'),\n",
       "  PosixPath('dataset/labels/_annotations_filtered.coco/cl6e34bti0037gk55gzdv0akr_6_SWIR_jpg.rf.832dd04dfc59c9fe95a36dd61b1fc76c.txt'),\n",
       "  PosixPath('dataset/labels/_annotations_filtered.coco/cl6cguk2800bml4556lfx35kx_2_FALSE_COLOR_jpg.rf.c00397ac5bd0e1323da8f3791e8400fe.txt'),\n",
       "  PosixPath('dataset/labels/_annotations_filtered.coco/cl6ojv5dx0056ao557rpa0ljr_2_FALSE_COLOR_jpg.rf.e62e4cd6da325f259c3e6b98c8f16dd1.txt'),\n",
       "  PosixPath('dataset/labels/_annotations_filtered.coco/cl6b5yjxa005nl45516k465kb_1_TRUE_COLOR_jpg.rf.ce6cbfd628838b1c87ffdbb637919aa9.txt'),\n",
       "  PosixPath('dataset/labels/_annotations_filtered.coco/cl6opn2ws007hao55es3fg6b2_2_FALSE_COLOR_jpg.rf.46b32a7905e04149be12d5c5098763fd.txt'),\n",
       "  PosixPath('dataset/labels/_annotations_filtered.coco/cl6oqq4r40096ao557h69gx2o_2_FALSE_COLOR_jpg.rf.fcdbaf87b09e10e425d48710af7d5c39.txt'),\n",
       "  PosixPath('dataset/labels/_annotations_filtered.coco/cl6orry9200a0ao559gb82ms0_1_TRUE_COLOR_jpg.rf.cc9619d3a597ceaf2853dd8c2ee86be7.txt'),\n",
       "  PosixPath('dataset/labels/_annotations_filtered.coco/cl6b0czhh000rl4555uf846qc_4_FALSE_COLOR__URBAN_jpg.rf.4d22f494704ece92b8a36f855f77bffe.txt'),\n",
       "  PosixPath('dataset/labels/_annotations_filtered.coco/cl6okf9bk0067ao55bstpe75r_4_FALSE_COLOR__URBAN_jpg.rf.58875e9af78353f15417f1a2e993c734.txt'),\n",
       "  PosixPath('dataset/labels/_annotations_filtered.coco/cl6b652mi0068l4552keu9loj_6_SWIR_jpg.rf.1139087fcfdd2c71aca1e08ba169c124.txt'),\n",
       "  PosixPath('dataset/labels/_annotations_filtered.coco/cl6cswevu00gbl45556scbr9n_4_FALSE_COLOR__URBAN_jpg.rf.93c5131e8f99facea67303b038ab2f17.txt'),\n",
       "  PosixPath('dataset/labels/_annotations_filtered.coco/cl6b542k6002bl455fmydcwlb_2_FALSE_COLOR_jpg.rf.21a4cff766bca0e29ad540511acea32d.txt'),\n",
       "  PosixPath('dataset/labels/_annotations_filtered.coco/cl6cgg5np00b0l455enz77l37_4_FALSE_COLOR__URBAN_jpg.rf.40cd702cc8b043289ca3fc393fabe3ef.txt'),\n",
       "  PosixPath('dataset/labels/_annotations_filtered.coco/cl6chumom00col4556jyfb7a5_4_FALSE_COLOR__URBAN_jpg.rf.445eef4a54a2beab2c3398d8f64fbcfb.txt'),\n",
       "  PosixPath('dataset/labels/_annotations_filtered.coco/cl6orlxem009lao5513o7hr6s_1_TRUE_COLOR_jpg.rf.e31d2ea1528b15c13434afbf3f41b125.txt'),\n",
       "  PosixPath('dataset/labels/_annotations_filtered.coco/cl6cs0euj00egl455918xdqll_1_TRUE_COLOR_jpg.rf.fec2fff5707fc21c8aa9d29c3e14f5db.txt'),\n",
       "  PosixPath('dataset/labels/_annotations_filtered.coco/cl6chmuyr00cfl455hd0u03x9_1_TRUE_COLOR_jpg.rf.a4aad918213a396e717e044bfac537b9.txt'),\n",
       "  PosixPath('dataset/labels/_annotations_filtered.coco/cl6kf821l000nc4555y4p2rm4_1_TRUE_COLOR_jpg.rf.dee11d790a8452475277a2bd007a6cbe.txt'),\n",
       "  PosixPath('dataset/labels/_annotations_filtered.coco/cl6kgfdjy002nc4551yk01nj6_1_TRUE_COLOR_jpg.rf.aece6769ff85659506ec8fb96b385955.txt'),\n",
       "  PosixPath('dataset/labels/_annotations_filtered.coco/cl6kjc5r500168w55bry741c1_4_FALSE_COLOR__URBAN_jpg.rf.87277927432c3b5a8ad0114a48c02d80.txt'),\n",
       "  PosixPath('dataset/labels/_annotations_filtered.coco/cl6kgdzqp002kc455030p44eo_2_FALSE_COLOR_jpg.rf.157fbd858a1b7089c6f75fa68eb8638a.txt'),\n",
       "  PosixPath('dataset/labels/_annotations_filtered.coco/cl6e2cbgk001tgk5560zhhqm7_4_FALSE_COLOR__URBAN_jpg.rf.25b62006fb08f8d995f34a3c229a08a6.txt'),\n",
       "  PosixPath('dataset/labels/_annotations_filtered.coco/cl6e33qm00035gk553mplcyji_4_FALSE_COLOR__URBAN_jpg.rf.1e019662a48f468ec823b369a539a56c.txt'),\n",
       "  PosixPath('dataset/labels/_annotations_filtered.coco/cl6kjc5r500168w55bry741c1_1_TRUE_COLOR_jpg.rf.0e78281e5d58015651a5a52f16ea2f38.txt'),\n",
       "  PosixPath('dataset/labels/_annotations_filtered.coco/cl6oijbft0037ao558i012jhh_2_FALSE_COLOR_jpg.rf.1a767327bd584e7865838b362acdbf85.txt'),\n",
       "  PosixPath('dataset/labels/_annotations_filtered.coco/cl6ltrgqp002s8w55bwy9c5b4_4_FALSE_COLOR__URBAN_jpg.rf.76fca94ad3eb13cfdb34ef2efdb184ae.txt'),\n",
       "  PosixPath('dataset/labels/_annotations_filtered.coco/cl6b5j7l8003yl455e8lo7mre_1_TRUE_COLOR_jpg.rf.8f930a8cb776e1fc115101a746a03689.txt'),\n",
       "  PosixPath('dataset/labels/_annotations_filtered.coco/cl6oilbwz003bao55ayyaeiti_6_SWIR_jpg.rf.55836ac19fe4201247dafafa8d8862ca.txt'),\n",
       "  PosixPath('dataset/labels/_annotations_filtered.coco/cl6b5s1n0004ul455es9i793w_1_TRUE_COLOR_jpg.rf.b4047203715e6e814acf94b0932d8906.txt'),\n",
       "  PosixPath('dataset/labels/_annotations_filtered.coco/cl6okbxd2005yao551huyeqkl_4_FALSE_COLOR__URBAN_jpg.rf.50a8d3eb02e27c5dce9673c8762102f6.txt'),\n",
       "  PosixPath('dataset/labels/_annotations_filtered.coco/cl6b5nqx3004dl4556qu6azh4_4_FALSE_COLOR__URBAN_jpg.rf.7a585ae57fe272905ce1baa8c7c69898.txt'),\n",
       "  PosixPath('dataset/labels/_annotations_filtered.coco/cl6od7f7j001hao55016b86jo_4_FALSE_COLOR__URBAN_jpg.rf.a05c84543565abd0f8984addd65c3e3e.txt'),\n",
       "  PosixPath('dataset/labels/_annotations_filtered.coco/cl6oe2d76002tao55ckxpdijl_4_FALSE_COLOR__URBAN_jpg.rf.c3827f2fb99b077435dca2881a756481.txt'),\n",
       "  PosixPath('dataset/labels/_annotations_filtered.coco/cl6oqvksq009bao556412da6l_1_TRUE_COLOR_jpg.rf.265a9c01b3c08b3b6f3bca283a6109c3.txt'),\n",
       "  PosixPath('dataset/labels/_annotations_filtered.coco/cl6azt6by0000go55h4io4tab_2_FALSE_COLOR_jpg.rf.7bd6bf61c42f8477a59d290789795964.txt'),\n",
       "  PosixPath('dataset/labels/_annotations_filtered.coco/cl6kgag2y002ac455g3l427ic_4_FALSE_COLOR__URBAN_jpg.rf.dcfb648b0d4277fcb2e240705a5b422f.txt'),\n",
       "  PosixPath('dataset/labels/_annotations_filtered.coco/cl6op2fce006fao55753l8ulj_6_SWIR_jpg.rf.7e8764944bad6000aa34611ac74ca3ba.txt'),\n",
       "  PosixPath('dataset/labels/_annotations_filtered.coco/cl6oiv12w003uao55arup9ca6_6_SWIR_jpg.rf.5eb7a8cdcd70e5753e2a286ed3e1b925.txt'),\n",
       "  PosixPath('dataset/labels/_annotations_filtered.coco/cl6e34bti0037gk55gzdv0akr_1_TRUE_COLOR_jpg.rf.d5bef0822d1f990994eab5089cde272c.txt'),\n",
       "  PosixPath('dataset/labels/_annotations_filtered.coco/cl6csapmj00f7l4558gne2y5r_4_FALSE_COLOR__URBAN_jpg.rf.15aab82f47702fe22931ed6ac41975c5.txt'),\n",
       "  PosixPath('dataset/labels/_annotations_filtered.coco/cl6ojbg9t004oao552glqe340_4_FALSE_COLOR__URBAN_jpg.rf.3ee58fb35f1174a1a8e091ccb6b20a36.txt'),\n",
       "  PosixPath('dataset/labels/_annotations_filtered.coco/cl6ltphn6002o8w55a78j55fa_4_FALSE_COLOR__URBAN_jpg.rf.15f2419aa86f5f636fe86bca7708f212.txt'),\n",
       "  PosixPath('dataset/labels/_annotations_filtered.coco/cl6b67dvg006dl455cgxl9kq8_6_SWIR_jpg.rf.128b5aecb2220f2fa5c185b9e54bd0fb.txt'),\n",
       "  PosixPath('dataset/labels/_annotations_filtered.coco/cl6odm3oj0023ao55641s046f_2_FALSE_COLOR_jpg.rf.42e989097fe2f68f01f38c1175b8c8cc.txt'),\n",
       "  PosixPath('dataset/labels/_annotations_filtered.coco/cl6ch5dh200bvl4559ujea96q_1_TRUE_COLOR_jpg.rf.84e18e58f1f34701ca68456bdaf3630b.txt'),\n",
       "  PosixPath('dataset/labels/_annotations_filtered.coco/cl6odxshy002kao554h0tez0a_6_SWIR_jpg.rf.59fcbf7ef586daeb6c08d5f5b27d5ae6.txt'),\n",
       "  PosixPath('dataset/labels/_annotations_filtered.coco/cl6b7118q008ol4551ye8g44d_4_FALSE_COLOR__URBAN_jpg.rf.cfa2c6cd2a96d37094600721a31f7d63.txt'),\n",
       "  PosixPath('dataset/labels/_annotations_filtered.coco/cl6e06umy000bgk55gkbw1ajq_2_FALSE_COLOR_jpg.rf.96eb006861178f50b3a2a2453346d017.txt'),\n",
       "  PosixPath('dataset/labels/_annotations_filtered.coco/cl6cstc5x00g7l455ec9d32eh_2_FALSE_COLOR_jpg.rf.5470b6259acf151a88a7f5c374fb865b.txt'),\n",
       "  PosixPath('dataset/labels/_annotations_filtered.coco/cl6oe0eoe002qao552t6i1m6g_4_FALSE_COLOR__URBAN_jpg.rf.c26b96a42fbf6ed14d96683ad1701b73.txt'),\n",
       "  PosixPath('dataset/labels/_annotations_filtered.coco/cl6chkc4400cal4551mau76ln_2_FALSE_COLOR_jpg.rf.b399825fe01934611b6d013886c789f8.txt'),\n",
       "  PosixPath('dataset/labels/_annotations_filtered.coco/cl6kjhhl5001h8w55fo1v1vqs_1_TRUE_COLOR_jpg.rf.188c382d5e6f2f64671fb1473f391d17.txt'),\n",
       "  PosixPath('dataset/labels/_annotations_filtered.coco/cl6dzuimb000xhg552nh5hdd9_4_FALSE_COLOR__URBAN_jpg.rf.39dc7784f317cb207365a5807d822bbd.txt'),\n",
       "  PosixPath('dataset/labels/_annotations_filtered.coco/cl6cstc5x00g7l455ec9d32eh_4_FALSE_COLOR__URBAN_jpg.rf.71316a722d62f20ac2358061da63172b.txt'),\n",
       "  PosixPath('dataset/labels/_annotations_filtered.coco/cl6ojevvt004uao55432mcnea_1_TRUE_COLOR_jpg.rf.032b02132beec27d5037247b45908220.txt'),\n",
       "  PosixPath('dataset/labels/_annotations_filtered.coco/cl6e2iu9v0027gk55e8cfax9f_1_TRUE_COLOR_jpg.rf.50314616f0da1821e8666d792d294016.txt'),\n",
       "  PosixPath('dataset/labels/_annotations_filtered.coco/cl6b73duk008vl45583qs4mo9_6_SWIR_jpg.rf.7b942815479894d2a3fda70742b9f826.txt'),\n",
       "  PosixPath('dataset/labels/_annotations_filtered.coco/cl6b03sa00004l4555k7m3d9h_2_FALSE_COLOR_jpg.rf.ff06f8d5665b3485544ff4b57022f5a4.txt'),\n",
       "  PosixPath('dataset/labels/_annotations_filtered.coco/cl6b51y140022l4551rmyafv5_6_SWIR_jpg.rf.ee4fd9c2f750fde1eaab859f8dd0829d.txt'),\n",
       "  PosixPath('dataset/labels/_annotations_filtered.coco/cl6kiers800088w554w61grpw_4_FALSE_COLOR__URBAN_jpg.rf.1f98202ca79ada1496853a9d130d845e.txt'),\n",
       "  PosixPath('dataset/labels/_annotations_filtered.coco/cl6cgm3hm00bal455ei1ken8s_1_TRUE_COLOR_jpg.rf.1a3ff69dd97b6f1dc1743cd4c0db584d.txt'),\n",
       "  PosixPath('dataset/labels/_annotations_filtered.coco/cl6dzjmr4000qhg55bnr2akq0_6_SWIR_jpg.rf.87a3115b9f6bca94d9878bdfcd8d15bc.txt'),\n",
       "  PosixPath('dataset/labels/_annotations_filtered.coco/cl6kfci270010c45580qyfo1k_1_TRUE_COLOR_jpg.rf.c5ae9d9a4ce6ce6eb40688beb6ba338b.txt'),\n",
       "  PosixPath('dataset/labels/_annotations_filtered.coco/cl6m15k1g00378w559sqfahyu_6_SWIR_jpg.rf.547e7435c94eb5cde08d1246196a8fc4.txt'),\n",
       "  PosixPath('dataset/labels/_annotations_filtered.coco/cl6ojrtzp004zao55hqhsfffg_2_FALSE_COLOR_jpg.rf.195a1e150a842d8e52a340b764d086c0.txt'),\n",
       "  PosixPath('dataset/labels/_annotations_filtered.coco/cl6kgh8cf002sc4558jry9v2p_1_TRUE_COLOR_jpg.rf.03abcb671e6d0110cb96176d0f89b7dd.txt'),\n",
       "  PosixPath('dataset/labels/_annotations_filtered.coco/cl6odwuqk002iao555zzv0c59_1_TRUE_COLOR_jpg.rf.7515a109b70f8d66aad0623c9eeddef7.txt'),\n",
       "  PosixPath('dataset/labels/_annotations_filtered.coco/cl6b0q209001jl4553gmg5wxk_2_FALSE_COLOR_jpg.rf.eef8be7fee7165de64be4973c2c58f3e.txt'),\n",
       "  PosixPath('dataset/labels/_annotations_filtered.coco/cl6cgw2be00bnl455cetv4inw_6_SWIR_jpg.rf.9ff585b96d534d0824a3896096a0c74b.txt'),\n",
       "  PosixPath('dataset/labels/_annotations_filtered.coco/cl6b7bt0y009zl455397c4vju_6_SWIR_jpg.rf.bf9ea04cbc437c4c8c4b1a2874e4b65c.txt'),\n",
       "  PosixPath('dataset/labels/_annotations_filtered.coco/cl6opeibd0071ao55f9t2g6nw_2_FALSE_COLOR_jpg.rf.ab3ee8ccb77b84173db4848b0e45985e.txt'),\n",
       "  PosixPath('dataset/labels/_annotations_filtered.coco/cl6orpl93009tao552w0p7urd_6_SWIR_jpg.rf.63d6f8c2cc3f097cf78f195f59a80f68.txt'),\n",
       "  PosixPath('dataset/labels/_annotations_filtered.coco/cl6oqz7u8009eao55hd74fzt1_4_FALSE_COLOR__URBAN_jpg.rf.22df982e0e2a34ad1b2c566f6f1e80a5.txt'),\n",
       "  PosixPath('dataset/labels/_annotations_filtered.coco/cl6okcs620060ao552j5fd463_1_TRUE_COLOR_jpg.rf.b00939415cb2ad0885a00096b525a2ff.txt'),\n",
       "  PosixPath('dataset/labels/_annotations_filtered.coco/cl6b6dmty0071l455668oabtj_4_FALSE_COLOR__URBAN_jpg.rf.3d82e7710651d610b3ed5c22ae907981.txt'),\n",
       "  PosixPath('dataset/labels/_annotations_filtered.coco/cl6kgj08y002wc455bqfpd8bd_4_FALSE_COLOR__URBAN_jpg.rf.ba5e373a643f637c02f0a7f548617b90.txt'),\n",
       "  PosixPath('dataset/labels/_annotations_filtered.coco/cl6e30lnj002ugk558z8yabbd_1_TRUE_COLOR_jpg.rf.2e25a7ef06380c2e897608e1ff2caa38.txt'),\n",
       "  PosixPath('dataset/labels/_annotations_filtered.coco/cl6dywrm9000mhg55c48n2wtt_6_SWIR_jpg.rf.b1a38587851b623506ac63c99efc6942.txt'),\n",
       "  PosixPath('dataset/labels/_annotations_filtered.coco/cl6cgr33o00bfl45526e3ajl1_6_SWIR_jpg.rf.3b37ac1a356371984aa7a4c9e26febfa.txt'),\n",
       "  PosixPath('dataset/labels/_annotations_filtered.coco/cl6ct4zi700gvl455hd187an6_1_TRUE_COLOR_jpg.rf.c32aa601f010ec224bcb120239a61104.txt'),\n",
       "  PosixPath('dataset/labels/_annotations_filtered.coco/cl6oe04jy002pao551fir09my_6_SWIR_jpg.rf.96178538d47e273395c1d22ff9d52c1f.txt'),\n",
       "  PosixPath('dataset/labels/_annotations_filtered.coco/cl6e2g24k0020gk55d7nlgq0h_1_TRUE_COLOR_jpg.rf.b9e53ba98178cbb61cf1f28a92d5480d.txt'),\n",
       "  PosixPath('dataset/labels/_annotations_filtered.coco/cl6e31up4002zgk55aj7w7a0x_1_TRUE_COLOR_jpg.rf.78641c45856cf58ead1496b18d270d3a.txt'),\n",
       "  PosixPath('dataset/labels/_annotations_filtered.coco/cl6b0okeb001fl455fgue1wrj_1_TRUE_COLOR_jpg.rf.3036ca102003e03d9b3f564e36d24d18.txt'),\n",
       "  PosixPath('dataset/labels/_annotations_filtered.coco/cl6ojcant004qao555opq5lio_2_FALSE_COLOR_jpg.rf.a61680af4f28a2f86dfe3619e8c6cad2.txt'),\n",
       "  PosixPath('dataset/labels/_annotations_filtered.coco/cl6chqhwl00cll4558hnj0glz_6_SWIR_jpg.rf.1056e04894280f6c5f84af1ce3f49ad9.txt'),\n",
       "  PosixPath('dataset/labels/_annotations_filtered.coco/cl6b64hpf0066l4555lt3czhh_4_FALSE_COLOR__URBAN_jpg.rf.9708ab4cc3223e0de7d63bbe1f526b8b.txt'),\n",
       "  PosixPath('dataset/labels/_annotations_filtered.coco/cl6op6nll006lao553d190xdf_1_TRUE_COLOR_jpg.rf.3692c2f973b3d841abdbd8cb8f5e64dc.txt'),\n",
       "  PosixPath('dataset/labels/_annotations_filtered.coco/cl6e0kgem0014gk55cl4692g7_1_TRUE_COLOR_jpg.rf.d47055293ccf936f71eb03a282b643b4.txt'),\n",
       "  PosixPath('dataset/labels/_annotations_filtered.coco/cl6e30dz3002tgk559uhm11za_1_TRUE_COLOR_jpg.rf.fe685dda58ed1dd4b55f5a9f898e2629.txt'),\n",
       "  PosixPath('dataset/labels/_annotations_filtered.coco/cl6ocys2m000sao5550mof7nx_1_TRUE_COLOR_jpg.rf.8e3581559100c209cd75fd81f38e072b.txt'),\n",
       "  PosixPath('dataset/labels/_annotations_filtered.coco/cl6cskhdp00fml4550oip27vq_1_TRUE_COLOR_jpg.rf.5e3f16b79f9861ba20a017af486af661.txt'),\n",
       "  PosixPath('dataset/labels/_annotations_filtered.coco/cl6cs7poo00f2l4557i4i86z6_2_FALSE_COLOR_jpg.rf.ef0dfd73530748d094bdd6043bc03479.txt'),\n",
       "  PosixPath('dataset/labels/_annotations_filtered.coco/cl6b09m65000kl455dbrteofg_1_TRUE_COLOR_jpg.rf.ee57729ea078971520bf21366b934b08.txt'),\n",
       "  PosixPath('dataset/labels/_annotations_filtered.coco/cl6chnfxe00cgl455cg8v02rb_1_TRUE_COLOR_jpg.rf.67479f96195da145753e36c2236f7c3e.txt'),\n",
       "  PosixPath('dataset/labels/_annotations_filtered.coco/cl6b76fnk009dl4556z3y9qgs_4_FALSE_COLOR__URBAN_jpg.rf.4d7112c2a197e6ce3d8764ad0af5d287.txt'),\n",
       "  PosixPath('dataset/labels/_annotations_filtered.coco/cl6odyfwh002lao55bnflcuaj_1_TRUE_COLOR_jpg.rf.98f786922f2c57d43d5d72e992fe955c.txt'),\n",
       "  PosixPath('dataset/labels/_annotations_filtered.coco/cl6cs4y6q00evl455d2lfbj1u_2_FALSE_COLOR_jpg.rf.54e7aa920ce92da629cdebe0c749850e.txt'),\n",
       "  PosixPath('dataset/labels/_annotations_filtered.coco/cl6ltphn6002o8w55a78j55fa_2_FALSE_COLOR_jpg.rf.19dd931922851ac71a43e37d7e71cac5.txt'),\n",
       "  PosixPath('dataset/labels/_annotations_filtered.coco/cl6cg6cf600agl455gtin273p_6_SWIR_jpg.rf.72f07b56c577386346fbe7021acc443c.txt'),\n",
       "  PosixPath('dataset/labels/_annotations_filtered.coco/cl6b78q1y009sl455ekwc1jfp_1_TRUE_COLOR_jpg.rf.92ebe9452b2cdcf4ae4701102a55bd98.txt'),\n",
       "  PosixPath('dataset/labels/_annotations_filtered.coco/cl6odzdk0002nao55dz13d0s9_2_FALSE_COLOR_jpg.rf.3930a15cf860331433faff701569ec52.txt'),\n",
       "  PosixPath('dataset/labels/_annotations_filtered.coco/cl6azvz950000t0552g8v22is_1_TRUE_COLOR_jpg.rf.9324abe7caa6850140e03d5454f3abb4.txt'),\n",
       "  PosixPath('dataset/labels/_annotations_filtered.coco/cl6kgh8cf002sc4558jry9v2p_4_FALSE_COLOR__URBAN_jpg.rf.d460a1d78fabf96f7488c62264eec7c6.txt'),\n",
       "  PosixPath('dataset/labels/_annotations_filtered.coco/cl6ct1fab00gnl455b6a585vi_6_SWIR_jpg.rf.14491e2fe3633bf885fcb9c9e4bf3c4d.txt'),\n",
       "  PosixPath('dataset/labels/_annotations_filtered.coco/cl6chu8h100cnl4552hz21fjt_6_SWIR_jpg.rf.238718d67a192951afa2f6c0a883ed2d.txt'),\n",
       "  PosixPath('dataset/labels/_annotations_filtered.coco/cl6kfci270010c45580qyfo1k_6_SWIR_jpg.rf.5b61fbc3ac01de53cf5eebc76403c5af.txt'),\n",
       "  PosixPath('dataset/labels/_annotations_filtered.coco/cl6e1zkvy001ogk5561l0f1q7_1_TRUE_COLOR_jpg.rf.c934a3c4eef92e6a2fb63ba0f5b569e8.txt'),\n",
       "  PosixPath('dataset/labels/_annotations_filtered.coco/cl6ooxizh0068ao55h1l3hrim_1_TRUE_COLOR_jpg.rf.73178115b18484ae56027970999c67a5.txt'),\n",
       "  PosixPath('dataset/labels/_annotations_filtered.coco/cl6e1zx08001pgk554gv1bhpt_1_TRUE_COLOR_jpg.rf.f16c3ec722ec9dc85bfd576853d2975b.txt'),\n",
       "  PosixPath('dataset/labels/_annotations_filtered.coco/cl6csnj9g00ftl4554f0z30lc_4_FALSE_COLOR__URBAN_jpg.rf.49569ed8c28ec3869a9e55dfd7f90397.txt'),\n",
       "  PosixPath('dataset/labels/_annotations_filtered.coco/cl6az56oy0003f05554mh92wy_2_FALSE_COLOR_jpg.rf.80849284d2ee075dcfd0d457f4c20b7a.txt'),\n",
       "  PosixPath('dataset/labels/_annotations_filtered.coco/cl6m10ni200338w553m5pf9l5_1_TRUE_COLOR_jpg.rf.aba7991f3bcf60f90b24b03a9c2e429d.txt'),\n",
       "  PosixPath('dataset/labels/_annotations_filtered.coco/cl6ki3fbe00018w55146m86ja_4_FALSE_COLOR__URBAN_jpg.rf.a905168377908ca76ba5a1560a355536.txt'),\n",
       "  PosixPath('dataset/labels/_annotations_filtered.coco/cl6op9m80006sao552sp0bgyl_2_FALSE_COLOR_jpg.rf.bee0f2e3b76eaaae3f5309ba40f22e89.txt'),\n",
       "  PosixPath('dataset/labels/_annotations_filtered.coco/cl6ojaxxv004mao552t7ah2ky_2_FALSE_COLOR_jpg.rf.f75de75121cb3540bbfc52636d8fe45c.txt'),\n",
       "  PosixPath('dataset/labels/_annotations_filtered.coco/cl6kjek5g001a8w5561zp7ddp_1_TRUE_COLOR_jpg.rf.dfa6bbe4b6f1116be7d0a32ac6a9f067.txt'),\n",
       "  PosixPath('dataset/labels/_annotations_filtered.coco/cl6cgs3qs00bil4551v5n3v2h_6_SWIR_jpg.rf.31d70fcbaab32757a389c37c32a264f9.txt'),\n",
       "  PosixPath('dataset/labels/_annotations_filtered.coco/cl6kgj08y002wc455bqfpd8bd_6_SWIR_jpg.rf.c68ac9e33aa309a3e14ba984d09ef846.txt'),\n",
       "  PosixPath('dataset/labels/_annotations_filtered.coco/cl6b5osai004hl455cp1mh6ki_4_FALSE_COLOR__URBAN_jpg.rf.951443c6d4d4ac4c73f0375f00a491a1.txt'),\n",
       "  PosixPath('dataset/labels/_annotations_filtered.coco/cl6cgg5np00b0l455enz77l37_2_FALSE_COLOR_jpg.rf.687887aaed332f84b7c0fd77e3a1d3ef.txt'),\n",
       "  PosixPath('dataset/labels/_annotations_filtered.coco/cl6cti5zm00hrl4555pdk0ef9_2_FALSE_COLOR_jpg.rf.8a4207fdf127660cdc175b12a7fccef2.txt'),\n",
       "  PosixPath('dataset/labels/_annotations_filtered.coco/cl6e0c4x3000ngk55c47nhbiz_2_FALSE_COLOR_jpg.rf.f5b8f6b5940529cca841638d51939237.txt'),\n",
       "  PosixPath('dataset/labels/_annotations_filtered.coco/cl6csstjw00g5l455c618frnq_2_FALSE_COLOR_jpg.rf.ee2c6568a13b760341349677a58ea9dd.txt'),\n",
       "  PosixPath('dataset/labels/_annotations_filtered.coco/cl6oizoxx0041ao55csrr4whh_4_FALSE_COLOR__URBAN_jpg.rf.de817a7270724a3d4e58887147bd175c.txt'),\n",
       "  PosixPath('dataset/labels/_annotations_filtered.coco/cl6cs8jie00f5l4555hn76aj1_2_FALSE_COLOR_jpg.rf.d83bff9a3317d11e6db58f9a45a26816.txt'),\n",
       "  PosixPath('dataset/labels/_annotations_filtered.coco/cl6b4zqf6001xl455gp6h5ca8_1_TRUE_COLOR_jpg.rf.b98add8863e6743972e03c69a46b54fd.txt'),\n",
       "  PosixPath('dataset/labels/_annotations_filtered.coco/cl6e2m95l002ggk55a3eefylp_6_SWIR_jpg.rf.a0cdb03cbca75c9224048e879c6fe734.txt'),\n",
       "  PosixPath('dataset/labels/_annotations_filtered.coco/cl6opqgtf007nao55d5fr4p16_1_TRUE_COLOR_jpg.rf.a43b59a7f6e036647f1399f76c98eb0f.txt'),\n",
       "  PosixPath('dataset/labels/_annotations_filtered.coco/cl6b79rs5009wl4550jbyddo9_1_TRUE_COLOR_jpg.rf.891016298b1ec3cfd5e9ecd20bddb54c.txt'),\n",
       "  PosixPath('dataset/labels/_annotations_filtered.coco/cl6cswt5400gdl4554rn2gjz9_1_TRUE_COLOR_jpg.rf.e410a3d52182432dc9d14d9b24b69cb0.txt'),\n",
       "  PosixPath('dataset/labels/_annotations_filtered.coco/cl6odfk31001qao557bfi78e5_6_SWIR_jpg.rf.b860636f6f2b2e71d18a88fadeb8653c.txt'),\n",
       "  PosixPath('dataset/labels/_annotations_filtered.coco/cl6cs6mgj00f0l455egwshib7_1_TRUE_COLOR_jpg.rf.d1ab74c84059de9049a6e2af79eddc96.txt'),\n",
       "  PosixPath('dataset/labels/_annotations_filtered.coco/cl6e36kv1003fgk55gnb9050o_4_FALSE_COLOR__URBAN_jpg.rf.3f32f8e4284fdf7827f922caae82e9bf.txt'),\n",
       "  PosixPath('dataset/labels/_annotations_filtered.coco/cl6kgo2ff0031c455dv515gju_2_FALSE_COLOR_jpg.rf.1f42b289e2c8d87a320a2b3b49ba65a5.txt'),\n",
       "  PosixPath('dataset/labels/_annotations_filtered.coco/cl6cho7a000cil455fiddgkjj_1_TRUE_COLOR_jpg.rf.0dfc3b0e34820438b66e6ff0ba1dbe2f.txt'),\n",
       "  PosixPath('dataset/labels/_annotations_filtered.coco/cl6ctje2500hsl4550fuvht4f_6_SWIR_jpg.rf.e8d42e04ac021aa15617aa3ab4c4f626.txt'),\n",
       "  PosixPath('dataset/labels/_annotations_filtered.coco/cl6kgcddp002gc455ekvaehyc_2_FALSE_COLOR_jpg.rf.cc2eb5a05bb1c0c8555576917ac877fe.txt'),\n",
       "  PosixPath('dataset/labels/_annotations_filtered.coco/cl6b5f9f1003ml455abwkc72t_1_TRUE_COLOR_jpg.rf.a09c2099ea1a8b50394fb12bfbdb9ea8.txt'),\n",
       "  PosixPath('dataset/labels/_annotations_filtered.coco/cl6e2uo3r002kgk556io96bkr_6_SWIR_jpg.rf.e3b5866638f1f9fd28ddfdf0b7191a27.txt'),\n",
       "  PosixPath('dataset/labels/_annotations_filtered.coco/cl6lt2g2y00228w55cf1a1yxr_2_FALSE_COLOR_jpg.rf.36efe84e8bb672989f589aad86e98108.txt'),\n",
       "  PosixPath('dataset/labels/_annotations_filtered.coco/cl6opag1s006tao55h8pkceie_1_TRUE_COLOR_jpg.rf.0aa351f726f716cdff50ddae440c921f.txt'),\n",
       "  PosixPath('dataset/labels/_annotations_filtered.coco/cl6kg12gd0022c4555fac0sms_2_FALSE_COLOR_jpg.rf.e506d912edb520ae8e29faac6125e931.txt'),\n",
       "  PosixPath('dataset/labels/_annotations_filtered.coco/cl6od7f7j001hao55016b86jo_2_FALSE_COLOR_jpg.rf.8a798a7467bd6bd68d18724381092089.txt'),\n",
       "  PosixPath('dataset/labels/_annotations_filtered.coco/cl6e0dypj000qgk55gndm8q3o_6_SWIR_jpg.rf.68ab662c1d9a2de15cc87c7e50dd33ea.txt'),\n",
       "  PosixPath('dataset/labels/_annotations_filtered.coco/cl6lt6ipg00288w55ee7scu7b_6_SWIR_jpg.rf.217d62e8998857f4cc5ca3a6ad7e5412.txt'),\n",
       "  PosixPath('dataset/labels/_annotations_filtered.coco/cl6b752w00095l45532llequj_1_TRUE_COLOR_jpg.rf.327a752c2e51b28cc6c0156d0484ccde.txt'),\n",
       "  PosixPath('dataset/labels/_annotations_filtered.coco/cl6oq0cpr008bao553vg485hd_1_TRUE_COLOR_jpg.rf.172a1e9f92965be21ec3ed833c68530e.txt'),\n",
       "  PosixPath('dataset/labels/_annotations_filtered.coco/cl6b5zpnm005rl4554xa7cvp7_2_FALSE_COLOR_jpg.rf.0826a21d562f6355cb7685d1b908b35c.txt'),\n",
       "  PosixPath('dataset/labels/_annotations_filtered.coco/cl6kfpnu6001ac4551zdx0uev_6_SWIR_jpg.rf.34908aba60aeee70d991318c99dc9351.txt'),\n",
       "  PosixPath('dataset/labels/_annotations_filtered.coco/cl6b5q3z4004ll45585wq8rtu_2_FALSE_COLOR_jpg.rf.b93360b47e1a3b5619b858e01dbaf716.txt'),\n",
       "  PosixPath('dataset/labels/_annotations_filtered.coco/cl6chmuyr00cfl455hd0u03x9_2_FALSE_COLOR_jpg.rf.94e376a122ea5e60615032bf8564067f.txt'),\n",
       "  PosixPath('dataset/labels/_annotations_filtered.coco/cl6oe1f0u002sao550ab86ndb_1_TRUE_COLOR_jpg.rf.1804fe724ab7abed6f3adaff1a5995ae.txt'),\n",
       "  PosixPath('dataset/labels/_annotations_filtered.coco/cl6ctquqv00i6l4554a2rdn94_2_FALSE_COLOR_jpg.rf.59bff3a387823906adf6f92b1d653058.txt'),\n",
       "  PosixPath('dataset/labels/_annotations_filtered.coco/cl6orry9200a0ao559gb82ms0_2_FALSE_COLOR_jpg.rf.121ab501943ce8bb65a5ac587ed62ff0.txt'),\n",
       "  PosixPath('dataset/labels/_annotations_filtered.coco/cl6csvg6n00gal45513b052pr_1_TRUE_COLOR_jpg.rf.73c176610e2978c450e96527ac568c46.txt'),\n",
       "  PosixPath('dataset/labels/_annotations_filtered.coco/cl6cgk7k600b5l455ceot4yy5_2_FALSE_COLOR_jpg.rf.ca2cce9e38f2a3902ebc19da1dfa4021.txt'),\n",
       "  PosixPath('dataset/labels/_annotations_filtered.coco/cl6b6o1av007nl455829ah78j_6_SWIR_jpg.rf.a3be7e5b92fba0b57b6ad10afa4a7b03.txt'),\n",
       "  PosixPath('dataset/labels/_annotations_filtered.coco/cl6oe0y5h002rao55ghk1g0ha_4_FALSE_COLOR__URBAN_jpg.rf.91bd2f4b1f1e0980eb280e3e13fc8abd.txt'),\n",
       "  PosixPath('dataset/labels/_annotations_filtered.coco/cl6b5phba004il45531lb6655_1_TRUE_COLOR_jpg.rf.86182cb796ffdd1d52c0540e0e05b4cc.txt'),\n",
       "  PosixPath('dataset/labels/_annotations_filtered.coco/cl6oqat3j008rao556mbqfoan_2_FALSE_COLOR_jpg.rf.0ddc196fcc073c504d510ac71ba3f92b.txt'),\n",
       "  PosixPath('dataset/labels/_annotations_filtered.coco/cl6kfzb24001zc4555e770ib2_4_FALSE_COLOR__URBAN_jpg.rf.13a4747cbfc22ec8cbfc4da014d74e19.txt'),\n",
       "  PosixPath('dataset/labels/_annotations_filtered.coco/cl6cta0z600h9l455cygudh3w_4_FALSE_COLOR__URBAN_jpg.rf.5a899bce198e041112d96b0302d74292.txt'),\n",
       "  PosixPath('dataset/labels/_annotations_filtered.coco/cl6oduu28002dao550pgs32ff_2_FALSE_COLOR_jpg.rf.4f51398bc79c4202cd4b4d437dc1dd8a.txt'),\n",
       "  PosixPath('dataset/labels/_annotations_filtered.coco/cl6kgnh9k0030c455dtnabosj_4_FALSE_COLOR__URBAN_jpg.rf.9bf22dbcfc66e6fb99e981e0bf995458.txt'),\n",
       "  PosixPath('dataset/labels/_annotations_filtered.coco/cl6ou8fz600abao5561sobj5z_1_TRUE_COLOR_jpg.rf.1ff7bea9ba4b1da2adb2975211554bc8.txt'),\n",
       "  PosixPath('dataset/labels/_annotations_filtered.coco/cl6oif58n002yao5578ob9fzh_4_FALSE_COLOR__URBAN_jpg.rf.67691ceccbbb460202535f17029f706e.txt'),\n",
       "  PosixPath('dataset/labels/_annotations_filtered.coco/cl6azt6by0000go55h4io4tab_6_SWIR_jpg.rf.f8a793559d8103b9c237ca96944514b5.txt'),\n",
       "  PosixPath('dataset/labels/_annotations_filtered.coco/cl6kig3wf00098w556e894kgn_4_FALSE_COLOR__URBAN_jpg.rf.ea516150c57a6b8431b3bf32bafab73a.txt'),\n",
       "  PosixPath('dataset/labels/_annotations_filtered.coco/cl6e0l3x90015gk55eki43b8w_2_FALSE_COLOR_jpg.rf.71e58f947635dad1592ddd10fa52ba62.txt'),\n",
       "  PosixPath('dataset/labels/_annotations_filtered.coco/cl6cg8u0w00ajl455a3ho7vov_4_FALSE_COLOR__URBAN_jpg.rf.727d492c1d7851360cea6ef50154ae46.txt'),\n",
       "  PosixPath('dataset/labels/_annotations_filtered.coco/cl6kez8j70002c455axv68ulf_1_TRUE_COLOR_jpg.rf.5ab626fcd9f1f8d03141fbce7c4d2fda.txt'),\n",
       "  PosixPath('dataset/labels/_annotations_filtered.coco/cl6dysxe3000ihg5573nzfbsy_6_SWIR_jpg.rf.79e2da02bc62f4f66f2346c01ab4aed8.txt'),\n",
       "  PosixPath('dataset/labels/_annotations_filtered.coco/cl6cpff5c00dll455ew1ddl1f_1_TRUE_COLOR_jpg.rf.cbcb617570e3672bd266ec946e1ea139.txt'),\n",
       "  PosixPath('dataset/labels/_annotations_filtered.coco/cl6b6pieh007rl455fwvb73gr_1_TRUE_COLOR_jpg.rf.8f3f9c84272e40682f7f430cdc4ac4c0.txt'),\n",
       "  PosixPath('dataset/labels/_annotations_filtered.coco/cl6csr5tv00g0l45530ayb807_6_SWIR_jpg.rf.7ccfe8079e77c3018c4ac98c973f770e.txt'),\n",
       "  PosixPath('dataset/labels/_annotations_filtered.coco/cl6ocozkd0004ao55e5fq7tfw_4_FALSE_COLOR__URBAN_jpg.rf.555ed6d49211ce13162167f59dab1746.txt'),\n",
       "  PosixPath('dataset/labels/_annotations_filtered.coco/cl6e0mv1s0017gk5595j92i2d_4_FALSE_COLOR__URBAN_jpg.rf.d1e221b1a9a28c9ba9318854955beb67.txt'),\n",
       "  PosixPath('dataset/labels/_annotations_filtered.coco/cl6b5k38g003zl455bgtd1317_2_FALSE_COLOR_jpg.rf.1ec92bba97779ebd5ac1419db904e242.txt'),\n",
       "  PosixPath('dataset/labels/_annotations_filtered.coco/cl6kjfsd8001d8w55e6ne0oyo_1_TRUE_COLOR_jpg.rf.841ddd167686a09b6dcee75bf59ce195.txt'),\n",
       "  PosixPath('dataset/labels/_annotations_filtered.coco/cl6odfk31001qao557bfi78e5_4_FALSE_COLOR__URBAN_jpg.rf.ee2a96a284dcadbe409e5bad1816a25a.txt'),\n",
       "  PosixPath('dataset/labels/_annotations_filtered.coco/cl6odoepa0028ao554gdxhnyo_1_TRUE_COLOR_jpg.rf.97b0cd83ab8fc9eff094564e62ac032e.txt'),\n",
       "  PosixPath('dataset/labels/_annotations_filtered.coco/cl6chv5i400cpl455b8o71jcm_6_SWIR_jpg.rf.dac7d24e59b96ef59d3d17fca9caa99e.txt'),\n",
       "  PosixPath('dataset/labels/_annotations_filtered.coco/cl6kf256r0006c455hwcv6khh_2_FALSE_COLOR_jpg.rf.1497e932e1406e3360ac61f268d7a02a.txt'),\n",
       "  PosixPath('dataset/labels/_annotations_filtered.coco/cl6b7ep9100a4l455h3w9fstk_4_FALSE_COLOR__URBAN_jpg.rf.42f76795d8cc4c0a786da759dd334cb6.txt'),\n",
       "  PosixPath('dataset/labels/_annotations_filtered.coco/cl6e0kgem0014gk55cl4692g7_6_SWIR_jpg.rf.75d367e9586bed46241148c1105975ec.txt'),\n",
       "  PosixPath('dataset/labels/_annotations_filtered.coco/cl6cteplg00hkl4551scr5fko_1_TRUE_COLOR_jpg.rf.8236949c672c9a0614f29946c7a3215c.txt'),\n",
       "  PosixPath('dataset/labels/_annotations_filtered.coco/cl6odzs5e002oao55heuig0a6_1_TRUE_COLOR_jpg.rf.fc96fcc9ef8466ce18f286d422df48ea.txt'),\n",
       "  PosixPath('dataset/labels/_annotations_filtered.coco/cl6ouiflj00apao55ef14ha2q_6_SWIR_jpg.rf.847b99640495bcb4aa215b63c1c3cde6.txt'),\n",
       "  PosixPath('dataset/labels/_annotations_filtered.coco/cl6oiqz18003lao55eb3ebson_2_FALSE_COLOR_jpg.rf.13242aaf067985cb04e4bc1268f53381.txt'),\n",
       "  PosixPath('dataset/labels/_annotations_filtered.coco/cl6e2kygp002egk55asrs2brz_6_SWIR_jpg.rf.babaec9df98b79e585c6b0ed3e401b8f.txt'),\n",
       "  PosixPath('dataset/labels/_annotations_filtered.coco/cl6kgo2ff0031c455dv515gju_4_FALSE_COLOR__URBAN_jpg.rf.b2f2f53a17388b5f08885effd9a4e706.txt'),\n",
       "  PosixPath('dataset/labels/_annotations_filtered.coco/cl6b6y36r008gl4559z723z25_1_TRUE_COLOR_jpg.rf.5d6b1bf18a4e8ff534dc3c4ca3bb073a.txt'),\n",
       "  PosixPath('dataset/labels/_annotations_filtered.coco/cl6opeibd0071ao55f9t2g6nw_1_TRUE_COLOR_jpg.rf.6070362401c95d15c7c1bceb98e721bb.txt'),\n",
       "  PosixPath('dataset/labels/_annotations_filtered.coco/cl6ltqjke002q8w55ct7j5tel_6_SWIR_jpg.rf.f8910e03196999a430ba14366da7475c.txt'),\n",
       "  PosixPath('dataset/labels/_annotations_filtered.coco/cl6cswevu00gbl45556scbr9n_1_TRUE_COLOR_jpg.rf.1d5a5a2e50cf241e7b24ebde117d8cc3.txt'),\n",
       "  PosixPath('dataset/labels/_annotations_filtered.coco/cl6crtivm00dwl45544k043su_6_SWIR_jpg.rf.dccd495d75c8765ac88d2cf78f453260.txt'),\n",
       "  PosixPath('dataset/labels/_annotations_filtered.coco/cl6odge0x001sao551k414izu_4_FALSE_COLOR__URBAN_jpg.rf.68da4cd1ea095ce761dc5ab6fe097edf.txt'),\n",
       "  PosixPath('dataset/labels/_annotations_filtered.coco/cl6lt70fh00298w5541ighy5t_4_FALSE_COLOR__URBAN_jpg.rf.7ccc6d833327bb0baa7aa11bd6b9d7a1.txt'),\n",
       "  PosixPath('dataset/labels/_annotations_filtered.coco/cl6e20f48001rgk5574xt82w3_2_FALSE_COLOR_jpg.rf.24395424307134ba19fc86b6ee59b2e7.txt'),\n",
       "  PosixPath('dataset/labels/_annotations_filtered.coco/cl6css50j00g3l4552tvg839m_2_FALSE_COLOR_jpg.rf.99a6a3dd268a81409a7dfb549dda33bf.txt'),\n",
       "  PosixPath('dataset/labels/_annotations_filtered.coco/cl6ct23ww00gql45503oubjmo_4_FALSE_COLOR__URBAN_jpg.rf.819ff7531475c12fcbfad09b043c8378.txt'),\n",
       "  PosixPath('dataset/labels/_annotations_filtered.coco/cl6b04t8r0007l455fk4y4zr0_4_FALSE_COLOR__URBAN_jpg.rf.b6843b74612a6fab1432b3c7d8f0780f.txt'),\n",
       "  PosixPath('dataset/labels/_annotations_filtered.coco/cl6kga3590029c455dfqjh4v7_2_FALSE_COLOR_jpg.rf.ef13360dbca3f541099b00a7f79d6a87.txt'),\n",
       "  PosixPath('dataset/labels/_annotations_filtered.coco/cl6ctjyc600hul455hxis4621_2_FALSE_COLOR_jpg.rf.e65f0d03101942da33a9ff69d4ba938e.txt'),\n",
       "  PosixPath('dataset/labels/_annotations_filtered.coco/cl6ltopha002n8w5531cg4sky_6_SWIR_jpg.rf.11acd1712844c811f1b078454f199f84.txt'),\n",
       "  PosixPath('dataset/labels/_annotations_filtered.coco/cl6oj3q5x004aao55ala51kbg_4_FALSE_COLOR__URBAN_jpg.rf.7234b0197e9bd566e5a618690ef769ab.txt'),\n",
       "  PosixPath('dataset/labels/_annotations_filtered.coco/cl6b5u0en0054l4551vpacdoj_1_TRUE_COLOR_jpg.rf.fe51b30e3bbe4494c93fa97591e6cd0a.txt'),\n",
       "  PosixPath('dataset/labels/_annotations_filtered.coco/cl6b5m4w10045l4550bi9ea2d_2_FALSE_COLOR_jpg.rf.5a23fb88520b394760f70a877d4faa0e.txt'),\n",
       "  PosixPath('dataset/labels/_annotations_filtered.coco/cl6okcigf005zao55dc0wbjsx_2_FALSE_COLOR_jpg.rf.bfbe48732bb7dd2f5aa63f54d5fd65cc.txt'),\n",
       "  PosixPath('dataset/labels/_annotations_filtered.coco/cl6ct5pk300gxl4559vdtfjz2_1_TRUE_COLOR_jpg.rf.7ead147bfba31fe4459e043d401a2344.txt'),\n",
       "  PosixPath('dataset/labels/_annotations_filtered.coco/cl6ctgypm00hol455a8epfwn4_6_SWIR_jpg.rf.a7e2f6744b582e10fae84620bcaef311.txt'),\n",
       "  PosixPath('dataset/labels/_annotations_filtered.coco/cl6lt37ph00248w55dnhvff9s_2_FALSE_COLOR_jpg.rf.c96af4afa10719f140a7be3e62c6eaf6.txt'),\n",
       "  PosixPath('dataset/labels/_annotations_filtered.coco/cl6e2iu9v0027gk55e8cfax9f_2_FALSE_COLOR_jpg.rf.771e429f20da6dabceb7f68a5aa3152b.txt'),\n",
       "  PosixPath('dataset/labels/_annotations_filtered.coco/cl6b0ckyi000pl455hm7bhix2_1_TRUE_COLOR_jpg.rf.4284e0076b9a0bb27b35d7c6a22d4742.txt'),\n",
       "  PosixPath('dataset/labels/_annotations_filtered.coco/cl6cttw6o00ial4555urs554w_2_FALSE_COLOR_jpg.rf.d92cb74564bf4e1556a74fc7b377e3f2.txt'),\n",
       "  PosixPath('dataset/labels/_annotations_filtered.coco/cl6ch6a2n00bxl4554kqu9to4_2_FALSE_COLOR_jpg.rf.7e23a796e2457d80892cfb34288d6040.txt'),\n",
       "  PosixPath('dataset/labels/_annotations_filtered.coco/cl6b652mi0068l4552keu9loj_4_FALSE_COLOR__URBAN_jpg.rf.ac9e5490bef66d3ea06a9270bfbc269e.txt'),\n",
       "  PosixPath('dataset/labels/_annotations_filtered.coco/cl6b4ykst001sl4550amagaw5_4_FALSE_COLOR__URBAN_jpg.rf.5afbd5165c965cc2f70bd0d10d3c004f.txt'),\n",
       "  PosixPath('dataset/labels/_annotations_filtered.coco/cl6e0c4x3000ngk55c47nhbiz_6_SWIR_jpg.rf.805c839bbcaddceea16f45bf37533000.txt'),\n",
       "  PosixPath('dataset/labels/_annotations_filtered.coco/cl6e35mru003cgk559os14r7y_6_SWIR_jpg.rf.336962415de265ba0bd7c7a9fa5a7948.txt'),\n",
       "  PosixPath('dataset/labels/_annotations_filtered.coco/cl6cgl1e600b7l455b4k067pe_1_TRUE_COLOR_jpg.rf.368b310764443e76767793eb11b0cc82.txt'),\n",
       "  PosixPath('dataset/labels/_annotations_filtered.coco/cl6e20np5001sgk555chada9l_1_TRUE_COLOR_jpg.rf.c8e0c5725013c16308e93f9622c8c7d3.txt'),\n",
       "  PosixPath('dataset/labels/_annotations_filtered.coco/cl6kgnh9k0030c455dtnabosj_1_TRUE_COLOR_jpg.rf.719d4160fed64e1c0f7d077b93c408ad.txt'),\n",
       "  PosixPath('dataset/labels/_annotations_filtered.coco/cl6ojcant004qao555opq5lio_4_FALSE_COLOR__URBAN_jpg.rf.4b4cf2d52533e13225b68a0dee627cc4.txt'),\n",
       "  PosixPath('dataset/labels/_annotations_filtered.coco/cl6chl1rg00cbl455e1p5cw7x_6_SWIR_jpg.rf.d825544520c1f57485e1ae1678fdd8c2.txt'),\n",
       "  PosixPath('dataset/labels/_annotations_filtered.coco/cl6kfbq11000yc45577e7e4bg_1_TRUE_COLOR_jpg.rf.c8c9d7c11989ad75fba7ee813467b034.txt'),\n",
       "  PosixPath('dataset/labels/_annotations_filtered.coco/cl6kj4ybe000p8w554ytea5li_6_SWIR_jpg.rf.db9bdb5770985cc1c7452e50339d4ad4.txt'),\n",
       "  PosixPath('dataset/labels/_annotations_filtered.coco/cl6lsygs2001w8w551eungans_1_TRUE_COLOR_jpg.rf.54a6883266fd70f4a483a1d6ed11e2b9.txt'),\n",
       "  PosixPath('dataset/labels/_annotations_filtered.coco/cl6oq26pe008eao55afu47fi0_4_FALSE_COLOR__URBAN_jpg.rf.6097588c8396a37b074e3444cf333119.txt'),\n",
       "  PosixPath('dataset/labels/_annotations_filtered.coco/cl6oplars007eao55fno41dzm_2_FALSE_COLOR_jpg.rf.f92d62150fff9fe3b15615c3a667466b.txt'),\n",
       "  PosixPath('dataset/labels/_annotations_filtered.coco/cl6kgm9qr002yc455g5qs87kz_4_FALSE_COLOR__URBAN_jpg.rf.0554aa78bc92fb2e6fbd671e4952c21f.txt'),\n",
       "  PosixPath('dataset/labels/_annotations_filtered.coco/cl6cskwng00fol4555eloc4nh_6_SWIR_jpg.rf.9e3d112de243afb1f67db776073d4d26.txt'),\n",
       "  PosixPath('dataset/labels/_annotations_filtered.coco/cl6b5nqx3004dl4556qu6azh4_2_FALSE_COLOR_jpg.rf.735f17d91aa3a0102d1b8ef9dcfb2f00.txt'),\n",
       "  PosixPath('dataset/labels/_annotations_filtered.coco/cl6kgmrej002zc455a27d973q_4_FALSE_COLOR__URBAN_jpg.rf.5885b70c7b3b3dafd9806852b4e76ec5.txt'),\n",
       "  PosixPath('dataset/labels/_annotations_filtered.coco/cl6cho7a000cil455fiddgkjj_6_SWIR_jpg.rf.c1282e35ab10c5974e2cf5a9378bdb65.txt'),\n",
       "  PosixPath('dataset/labels/_annotations_filtered.coco/cl6b6xnlo008dl455ft678vcm_1_TRUE_COLOR_jpg.rf.7de7f22e4d7f43603fc77d24156c207c.txt'),\n",
       "  PosixPath('dataset/labels/_annotations_filtered.coco/cl6dyiwx60009hg55freo14hg_4_FALSE_COLOR__URBAN_jpg.rf.bb532a7dd155f6626c1a25d57f925813.txt'),\n",
       "  PosixPath('dataset/labels/_annotations_filtered.coco/cl6m1cry8003m8w559r91hmtl_6_SWIR_jpg.rf.55bdb1e75817e18fb2d33d73abbacc10.txt'),\n",
       "  PosixPath('dataset/labels/_annotations_filtered.coco/cl6kf110z0004c455dymnacxa_1_TRUE_COLOR_jpg.rf.84a69e729c116c44303cdbf3fc321a71.txt'),\n",
       "  PosixPath('dataset/labels/_annotations_filtered.coco/cl6m17r53003b8w55c0zsgjie_4_FALSE_COLOR__URBAN_jpg.rf.0e0e305fb9dd82c08f456f3a69fa1f51.txt'),\n",
       "  PosixPath('dataset/labels/_annotations_filtered.coco/cl6b5pr1b004kl455bt93cfs2_1_TRUE_COLOR_jpg.rf.70c4211a1b73f64b186de9f165e1c2f6.txt'),\n",
       "  PosixPath('dataset/labels/_annotations_filtered.coco/cl6oct90r000fao553xkha255_1_TRUE_COLOR_jpg.rf.3458190dccf4775d0b2e824a8e3d2e75.txt'),\n",
       "  PosixPath('dataset/labels/_annotations_filtered.coco/cl6ocpxm10006ao554w1tf9fa_2_FALSE_COLOR_jpg.rf.4a0eb26253daa0657560787be4b35949.txt'),\n",
       "  PosixPath('dataset/labels/_annotations_filtered.coco/cl6kfyj4a001wc4558emoaaeq_4_FALSE_COLOR__URBAN_jpg.rf.f4bb8a00db7566082ef5532e62ffc462.txt'),\n",
       "  PosixPath('dataset/labels/_annotations_filtered.coco/cl6b6gdyh0079l4555ka0g84o_1_TRUE_COLOR_jpg.rf.1b70be6a6e92d72b441c4e5bff1f6b4d.txt'),\n",
       "  PosixPath('dataset/labels/_annotations_filtered.coco/cl6b6aeiv006rl455ho4ugrkp_4_FALSE_COLOR__URBAN_jpg.rf.7207ace6eadcc7d714db4072c3be13d7.txt'),\n",
       "  PosixPath('dataset/labels/_annotations_filtered.coco/cl6b5f0o3003ll4553yz85s0u_2_FALSE_COLOR_jpg.rf.445d01ea4ecb4daf88fc55dbab1364a1.txt'),\n",
       "  PosixPath('dataset/labels/_annotations_filtered.coco/cl6m0w1nh002z8w558do5f7ar_4_FALSE_COLOR__URBAN_jpg.rf.de9d2286469563a38f2e99900c5a052d.txt'),\n",
       "  PosixPath('dataset/labels/_annotations_filtered.coco/cl6e32fcc0031gk55dtxeatwl_2_FALSE_COLOR_jpg.rf.cb3413b2d95b29ce1d414af0900789c6.txt'),\n",
       "  PosixPath('dataset/labels/_annotations_filtered.coco/cl6m1dd0r003o8w5569ma5agl_1_TRUE_COLOR_jpg.rf.8351a94d2d7bc6ea84ad8121c560c869.txt'),\n",
       "  PosixPath('dataset/labels/_annotations_filtered.coco/cl6kgdfbl002ic45506ui0jbm_2_FALSE_COLOR_jpg.rf.2a2977277d6ac5d86155b8562dcd9aa5.txt'),\n",
       "  PosixPath('dataset/labels/_annotations_filtered.coco/cl6odk9yf001wao558oys61c5_4_FALSE_COLOR__URBAN_jpg.rf.04d7346dab2b1b12261db04fbe84ec6e.txt'),\n",
       "  PosixPath('dataset/labels/_annotations_filtered.coco/cl6ocohki0003ao55bnyg99kc_4_FALSE_COLOR__URBAN_jpg.rf.1268ae68f91a4c4a73941c9b9640fa9a.txt'),\n",
       "  PosixPath('dataset/labels/_annotations_filtered.coco/cl6b6zaju008ll455bbu9506q_6_SWIR_jpg.rf.a067497ccc38cfcb2e510cab67d33595.txt'),\n",
       "  PosixPath('dataset/labels/_annotations_filtered.coco/cl6kg9h8h0028c455at8u1fb4_2_FALSE_COLOR_jpg.rf.c826b52465db077585167b3e4680ee6c.txt'),\n",
       "  PosixPath('dataset/labels/_annotations_filtered.coco/cl6b6iksa007dl4551508f1n4_2_FALSE_COLOR_jpg.rf.9e56d7d2d3a4a3b737f393920e5660b5.txt'),\n",
       "  PosixPath('dataset/labels/_annotations_filtered.coco/cl6oqbr98008uao55hhpyg2l0_6_SWIR_jpg.rf.b1f0111172cad2728c3d6d53fe595b48.txt'),\n",
       "  PosixPath('dataset/labels/_annotations_filtered.coco/cl6cgah3400anl4554lg2hxzy_1_TRUE_COLOR_jpg.rf.14f3e09cac34f3f98d3191416add10d7.txt'),\n",
       "  PosixPath('dataset/labels/_annotations_filtered.coco/cl6odkye9001yao55bl6y87ra_2_FALSE_COLOR_jpg.rf.481fe0f62e06cf8fbe8d81c50e907b20.txt'),\n",
       "  PosixPath('dataset/labels/_annotations_filtered.coco/cl6ct6g9a00gzl4555brigazi_4_FALSE_COLOR__URBAN_jpg.rf.5c007df412a0da258d50d03ae471057e.txt'),\n",
       "  PosixPath('dataset/labels/_annotations_filtered.coco/cl6kjizzk001l8w550s1uej5w_2_FALSE_COLOR_jpg.rf.ef3cf69daa6ee8e6e02e683e0aae8809.txt'),\n",
       "  PosixPath('dataset/labels/_annotations_filtered.coco/cl6b0gln2000wl4559wpzdukf_1_TRUE_COLOR_jpg.rf.7f67b50ed7d78ce81f6aac2ca352d755.txt'),\n",
       "  PosixPath('dataset/labels/_annotations_filtered.coco/cl6ou6f7u00a5ao55h96m1hvj_2_FALSE_COLOR_jpg.rf.604d5ba40c6721f36646151d9b8216d0.txt'),\n",
       "  PosixPath('dataset/labels/_annotations_filtered.coco/cl6oczf4b000uao559egx35g7_6_SWIR_jpg.rf.83d3cb3aab9feae8598a99742f1c0dd1.txt'),\n",
       "  PosixPath('dataset/labels/_annotations_filtered.coco/cl6b5i94f003ul455dplv6fmu_6_SWIR_jpg.rf.f9f02363db3c3db2c396aa67378922e7.txt'),\n",
       "  PosixPath('dataset/labels/_annotations_filtered.coco/cl6m0w1nh002z8w558do5f7ar_6_SWIR_jpg.rf.cfa8e993433f6beae82c5dda88678f80.txt'),\n",
       "  PosixPath('dataset/labels/_annotations_filtered.coco/cl6chvqmw00crl455dq182jri_4_FALSE_COLOR__URBAN_jpg.rf.deb3d54d5111a454387e6bfd2c15228b.txt'),\n",
       "  PosixPath('dataset/labels/_annotations_filtered.coco/cl6m0pnw5002y8w552btfchke_1_TRUE_COLOR_jpg.rf.de631dd84dbeac65b6d07b19dbea5cc1.txt'),\n",
       "  PosixPath('dataset/labels/_annotations_filtered.coco/cl6oui3xy00aoao55d29e9vlz_4_FALSE_COLOR__URBAN_jpg.rf.75cb4ab2e4d84a20ae05d606f0cd9f7e.txt'),\n",
       "  PosixPath('dataset/labels/_annotations_filtered.coco/cl6b08qce000hl455fod5abjo_1_TRUE_COLOR_jpg.rf.3ac00fb7f706d7cf6cb843ea384fbd26.txt'),\n",
       "  PosixPath('dataset/labels/_annotations_filtered.coco/cl6e1nvfl001egk556fa6giz7_2_FALSE_COLOR_jpg.rf.4e679887820ef44a029e11ae93afd1ba.txt'),\n",
       "  PosixPath('dataset/labels/_annotations_filtered.coco/cl6dxzwc50001hg550uejeken_1_TRUE_COLOR_jpg.rf.80c547bf9c492882b239384b7d990f5d.txt')],\n",
       " [PosixPath('dataset/labels/_annotations_filtered.coco/cl6op20j8006eao55cw0ucbhh_2_FALSE_COLOR_jpg.rf.a05562a9bcb1ea1a88b6072f2dfcd022.txt'),\n",
       "  PosixPath('dataset/labels/_annotations_filtered.coco/cl6lsukwg001t8w556kieb72f_4_FALSE_COLOR__URBAN_jpg.rf.0500c165c71af53fe68b9b2c4daa441b.txt'),\n",
       "  PosixPath('dataset/labels/_annotations_filtered.coco/cl6od01zy000wao5564tqf2dq_6_SWIR_jpg.rf.6c0b81677e3f0db5276e1d8f05fa6db9.txt'),\n",
       "  PosixPath('dataset/labels/_annotations_filtered.coco/cl6cgw2be00bnl455cetv4inw_2_FALSE_COLOR_jpg.rf.e7eb23a8f2e3a9e050740e78e8457c2b.txt'),\n",
       "  PosixPath('dataset/labels/_annotations_filtered.coco/cl6op6nll006lao553d190xdf_2_FALSE_COLOR_jpg.rf.676cdbce511f842ca009b87eecc61241.txt'),\n",
       "  PosixPath('dataset/labels/_annotations_filtered.coco/cl6ojvzs90058ao55ddizcpuh_2_FALSE_COLOR_jpg.rf.e85b48782ef781d6a141843203abbaed.txt'),\n",
       "  PosixPath('dataset/labels/_annotations_filtered.coco/cl6b5o2zq004el455548z49am_1_TRUE_COLOR_jpg.rf.fa529dc8ceddf212f871c9a806bb0bcd.txt'),\n",
       "  PosixPath('dataset/labels/_annotations_filtered.coco/cl6kj8pto00128w55cj0y58qg_4_FALSE_COLOR__URBAN_jpg.rf.45e99c5d9ca71f7c5fcbef21aee2720b.txt'),\n",
       "  PosixPath('dataset/labels/_annotations_filtered.coco/cl6chj77t00c7l455c5c08ec6_1_TRUE_COLOR_jpg.rf.54765f5cf2a2e7c9fb3c27aed7fcfd85.txt'),\n",
       "  PosixPath('dataset/labels/_annotations_filtered.coco/cl6opx5vv0082ao55dx8j73xn_1_TRUE_COLOR_jpg.rf.ff74a7f91077661ec3a5e3e463cda851.txt'),\n",
       "  PosixPath('dataset/labels/_annotations_filtered.coco/cl6kjm7cv001r8w55czzsenxh_2_FALSE_COLOR_jpg.rf.96f98bd41b3564674cee2f2aaa162515.txt'),\n",
       "  PosixPath('dataset/labels/_annotations_filtered.coco/cl6cgh0lk00b3l455a01o4mrg_2_FALSE_COLOR_jpg.rf.8b38adc9c8df2b75e1b3632cd6bc6912.txt'),\n",
       "  PosixPath('dataset/labels/_annotations_filtered.coco/cl6e2edx3001ygk554c0h3ubb_2_FALSE_COLOR_jpg.rf.277a9902d759d421fcfae391c5b9c1a3.txt'),\n",
       "  PosixPath('dataset/labels/_annotations_filtered.coco/cl6m10x9x00348w55h67q3hes_2_FALSE_COLOR_jpg.rf.746f55b2cb2a94835ebbb485b3715504.txt'),\n",
       "  PosixPath('dataset/labels/_annotations_filtered.coco/cl6b5l3lm0041l45509eycth4_1_TRUE_COLOR_jpg.rf.4e549ebd46d2e65023b62a56b398ba04.txt'),\n",
       "  PosixPath('dataset/labels/_annotations_filtered.coco/cl6oj0ggm0043ao55acihdj7s_2_FALSE_COLOR_jpg.rf.5ceafad2a989e00d5f32f3d465f72f35.txt'),\n",
       "  PosixPath('dataset/labels/_annotations_filtered.coco/cl6kiers800088w554w61grpw_6_SWIR_jpg.rf.eef3f85711d2f635550538c54c874845.txt'),\n",
       "  PosixPath('dataset/labels/_annotations_filtered.coco/cl6ki7l6900048w55hs8c6nwt_4_FALSE_COLOR__URBAN_jpg.rf.56f10fce2a6ae3e42e2828903872ccf2.txt'),\n",
       "  PosixPath('dataset/labels/_annotations_filtered.coco/cl6cgs3qs00bil4551v5n3v2h_2_FALSE_COLOR_jpg.rf.dfd038db2b2cc23577079525dec70528.txt'),\n",
       "  PosixPath('dataset/labels/_annotations_filtered.coco/cl6ct5pk300gxl4559vdtfjz2_6_SWIR_jpg.rf.673db7e2eae6ca92100e850d8d4a595a.txt'),\n",
       "  PosixPath('dataset/labels/_annotations_filtered.coco/cl6opn2ws007hao55es3fg6b2_1_TRUE_COLOR_jpg.rf.9c0199b14bb01d75e444033c204a1893.txt'),\n",
       "  PosixPath('dataset/labels/_annotations_filtered.coco/cl6ch6y2d00byl4557ijbc6o4_4_FALSE_COLOR__URBAN_jpg.rf.00f8770027448a54180d8716b6b64f26.txt'),\n",
       "  PosixPath('dataset/labels/_annotations_filtered.coco/cl6e1icq8001agk55c0pe3e5b_4_FALSE_COLOR__URBAN_jpg.rf.a7200e9f167ade98b5f50ee1bbebe711.txt'),\n",
       "  PosixPath('dataset/labels/_annotations_filtered.coco/cl6odbryt001nao55htogdny9_6_SWIR_jpg.rf.b942f1a9027fe10d1f702fa0daae70f7.txt'),\n",
       "  PosixPath('dataset/labels/_annotations_filtered.coco/cl6cs5j5d00exl455afqp4ysw_4_FALSE_COLOR__URBAN_jpg.rf.f5968b5baec72c54ed2817be2aa1fb7e.txt'),\n",
       "  PosixPath('dataset/labels/_annotations_filtered.coco/cl6b5l3lm0041l45509eycth4_4_FALSE_COLOR__URBAN_jpg.rf.f358f8b131af9302990a094b0da54e87.txt'),\n",
       "  PosixPath('dataset/labels/_annotations_filtered.coco/cl6b0cqup000ql4558m8y8a8t_6_SWIR_jpg.rf.31bee1d2a88d85f292323400c332f798.txt'),\n",
       "  PosixPath('dataset/labels/_annotations_filtered.coco/cl6b05bia0009l4551ymod0pi_2_FALSE_COLOR_jpg.rf.92c20d730f7ec80ca1b4a3956f62f251.txt'),\n",
       "  PosixPath('dataset/labels/_annotations_filtered.coco/cl6e1y3zz001ngk559rm6ec1q_4_FALSE_COLOR__URBAN_jpg.rf.6fc48295a4d6745f1fe3bdcfb67b2973.txt'),\n",
       "  PosixPath('dataset/labels/_annotations_filtered.coco/cl6odgxwb001tao559phvfhb7_4_FALSE_COLOR__URBAN_jpg.rf.256adbc8831a5c00de27de62aaed7ff8.txt'),\n",
       "  PosixPath('dataset/labels/_annotations_filtered.coco/cl6oul0ve00axao5549vy6mom_4_FALSE_COLOR__URBAN_jpg.rf.456734966fb731d2ec99eb9959327034.txt'),\n",
       "  PosixPath('dataset/labels/_annotations_filtered.coco/cl6cg6cf600agl455gtin273p_2_FALSE_COLOR_jpg.rf.3c95193dd276836b31dc3df24f29e351.txt'),\n",
       "  PosixPath('dataset/labels/_annotations_filtered.coco/cl6b6rmls007ul455clqha4p0_1_TRUE_COLOR_jpg.rf.c706e724b982cc61451904c2da58f1a9.txt'),\n",
       "  PosixPath('dataset/labels/_annotations_filtered.coco/cl6ctopvo00i4l455cgtw30dd_2_FALSE_COLOR_jpg.rf.3befac1dba28baf207b23aacd3b4e9ac.txt'),\n",
       "  PosixPath('dataset/labels/_annotations_filtered.coco/cl6b66xpr006cl4556kzm7hl2_1_TRUE_COLOR_jpg.rf.a1964259e1dadaa86ebd64bd2acbbfa8.txt'),\n",
       "  PosixPath('dataset/labels/_annotations_filtered.coco/cl6kftq9a001nc455a3108dvr_6_SWIR_jpg.rf.401cc247b60165302ae17c497c648c58.txt'),\n",
       "  PosixPath('dataset/labels/_annotations_filtered.coco/cl6odyfwh002lao55bnflcuaj_4_FALSE_COLOR__URBAN_jpg.rf.fa7524a106525288cadb53c1646a3301.txt'),\n",
       "  PosixPath('dataset/labels/_annotations_filtered.coco/cl6od5fxe001dao55dwsx001s_6_SWIR_jpg.rf.c97b5dc8b3d322980c4e76e626e548c2.txt'),\n",
       "  PosixPath('dataset/labels/_annotations_filtered.coco/cl6b7fkmx00a7l455d75h2co1_4_FALSE_COLOR__URBAN_jpg.rf.7a2606b45ea45ee07e66256ce803809e.txt'),\n",
       "  PosixPath('dataset/labels/_annotations_filtered.coco/cl6ocu86l000hao5586i77xky_1_TRUE_COLOR_jpg.rf.850526f8bca7668a3023af7155d03747.txt'),\n",
       "  PosixPath('dataset/labels/_annotations_filtered.coco/cl6ctbgwv00hel455fxql5pdm_4_FALSE_COLOR__URBAN_jpg.rf.fe9130528f5da6efbe387865fd6649e9.txt'),\n",
       "  PosixPath('dataset/labels/_annotations_filtered.coco/cl6b5dtwl003gl455a4x29a1d_1_TRUE_COLOR_jpg.rf.1c86bc5f19ec6e59b465b2bbac9161b1.txt'),\n",
       "  PosixPath('dataset/labels/_annotations_filtered.coco/cl6opzsq7008aao556djk9g0u_2_FALSE_COLOR_jpg.rf.b7e31808bd7352891dd041230b8ad0b9.txt'),\n",
       "  PosixPath('dataset/labels/_annotations_filtered.coco/cl6kgeqar002lc455akv50au4_2_FALSE_COLOR_jpg.rf.cc30b23aec838a549eeb61aeb281a5f9.txt'),\n",
       "  PosixPath('dataset/labels/_annotations_filtered.coco/cl6cgsj2300bjl4556rjk0yap_1_TRUE_COLOR_jpg.rf.5a5429214847a7ced132367d07c16c0c.txt'),\n",
       "  PosixPath('dataset/labels/_annotations_filtered.coco/cl6opthke007tao557hsthpgq_6_SWIR_jpg.rf.604fa331ba70d0a1306d2e9281204764.txt'),\n",
       "  PosixPath('dataset/labels/_annotations_filtered.coco/cl6kfsx2l001kc455ezxdhkvx_2_FALSE_COLOR_jpg.rf.88480b2346e5a8de319a5234e9eb5d03.txt'),\n",
       "  PosixPath('dataset/labels/_annotations_filtered.coco/cl6lsxiqd001v8w55fgtjavib_2_FALSE_COLOR_jpg.rf.ed583532db782f8ccd0047e2abe0bee1.txt'),\n",
       "  PosixPath('dataset/labels/_annotations_filtered.coco/cl6oimia5003dao558osp4mxe_6_SWIR_jpg.rf.e44dbdb6627b06f130e9108440f82ddc.txt'),\n",
       "  PosixPath('dataset/labels/_annotations_filtered.coco/cl6b77933009jl4554y5l30h3_6_SWIR_jpg.rf.17d4112c4bc6739b034ced139cd8e5a5.txt'),\n",
       "  PosixPath('dataset/labels/_annotations_filtered.coco/cl6kgpdp90034c4556foheik0_6_SWIR_jpg.rf.c22f311b1888c6f7c59a73444e2e52c1.txt'),\n",
       "  PosixPath('dataset/labels/_annotations_filtered.coco/cl6cg820i00ahl45522fwa74p_4_FALSE_COLOR__URBAN_jpg.rf.a65054490c722cb439824fa2a1e395b7.txt'),\n",
       "  PosixPath('dataset/labels/_annotations_filtered.coco/cl6ch417300btl4554l143qop_4_FALSE_COLOR__URBAN_jpg.rf.43e72d2d74427093db9424b5a3eae89a.txt'),\n",
       "  PosixPath('dataset/labels/_annotations_filtered.coco/cl6ct487q00gul455bxvzaopi_2_FALSE_COLOR_jpg.rf.cf80bee753c23a01637a2082944d1bf1.txt'),\n",
       "  PosixPath('dataset/labels/_annotations_filtered.coco/cl6csapmj00f7l4558gne2y5r_2_FALSE_COLOR_jpg.rf.7d74755e63ae57fc0bae665bbed9f786.txt'),\n",
       "  PosixPath('dataset/labels/_annotations_filtered.coco/cl6b5sn8f004xl455a0z7eski_1_TRUE_COLOR_jpg.rf.353a0bbf38298986fe6b54d786db5530.txt'),\n",
       "  PosixPath('dataset/labels/_annotations_filtered.coco/cl6oq4w4y008jao553s62btk7_6_SWIR_jpg.rf.56eb2cf4a5f3af9b2c2b5b08c0a21105.txt'),\n",
       "  PosixPath('dataset/labels/_annotations_filtered.coco/cl6kfrfmx001hc455cbojhgeb_1_TRUE_COLOR_jpg.rf.06641a0ddbcb7d3b264dfcba6ca41372.txt'),\n",
       "  PosixPath('dataset/labels/_annotations_filtered.coco/cl6m145w400368w55e1mscmpe_2_FALSE_COLOR_jpg.rf.c5096bdb36261ea91a23135f4d6af8d0.txt'),\n",
       "  PosixPath('dataset/labels/_annotations_filtered.coco/cl6cru4e800dyl455gekch8cy_1_TRUE_COLOR_jpg.rf.e99288a6d88e5afdbbcb05357aec507c.txt'),\n",
       "  PosixPath('dataset/labels/_annotations_filtered.coco/cl6kfy9v8001vc4559ubi2rde_4_FALSE_COLOR__URBAN_jpg.rf.60420da5ccf8e1e4e24ff6193348be17.txt'),\n",
       "  PosixPath('dataset/labels/_annotations_filtered.coco/cl6e1icq8001agk55c0pe3e5b_2_FALSE_COLOR_jpg.rf.bde105352e572fababd4882d57cd8ee3.txt'),\n",
       "  PosixPath('dataset/labels/_annotations_filtered.coco/cl6b5uskz0058l455gbd534lm_4_FALSE_COLOR__URBAN_jpg.rf.704db007a472c6e7396d277383c0dfe2.txt'),\n",
       "  PosixPath('dataset/labels/_annotations_filtered.coco/cl6b5n12o0049l455063q86e4_6_SWIR_jpg.rf.55371dc2e297883b469ea40717f67b43.txt'),\n",
       "  PosixPath('dataset/labels/_annotations_filtered.coco/cl6csdbcu00f9l455hnwh8a4z_2_FALSE_COLOR_jpg.rf.09b3cb4addbc8c8306ad6e8f2806666d.txt'),\n",
       "  PosixPath('dataset/labels/_annotations_filtered.coco/cl6ojycgj005bao557mc6afad_1_TRUE_COLOR_jpg.rf.2fff76c1eed44062f407660384acdddb.txt'),\n",
       "  PosixPath('dataset/labels/_annotations_filtered.coco/cl6kgidey002uc455a3qe2ark_1_TRUE_COLOR_jpg.rf.1db5657ebb196420d977a593d4cbbc11.txt'),\n",
       "  PosixPath('dataset/labels/_annotations_filtered.coco/cl6b6h5fo007bl455669md4vp_4_FALSE_COLOR__URBAN_jpg.rf.422f3c9e4caef71972de10acb5065019.txt'),\n",
       "  PosixPath('dataset/labels/_annotations_filtered.coco/cl6b5dekg003el4552wy46fsz_4_FALSE_COLOR__URBAN_jpg.rf.025e0455dad67b91979fecdc00bf453c.txt'),\n",
       "  PosixPath('dataset/labels/_annotations_filtered.coco/cl6b5k38g003zl455bgtd1317_4_FALSE_COLOR__URBAN_jpg.rf.fcaa4827b85c1b38fdedffcd6a3b098f.txt'),\n",
       "  PosixPath('dataset/labels/_annotations_filtered.coco/cl6e2edx3001ygk554c0h3ubb_4_FALSE_COLOR__URBAN_jpg.rf.3d61f7c8ad5106ce9c2aa3860b2f20db.txt'),\n",
       "  PosixPath('dataset/labels/_annotations_filtered.coco/cl6kf9nvv000tc455gs7pbv7h_1_TRUE_COLOR_jpg.rf.b4649084b8bac4a6b4df2988ce5ce1c7.txt'),\n",
       "  PosixPath('dataset/labels/_annotations_filtered.coco/cl6azgmfw0004f0557iqa1usw_6_SWIR_jpg.rf.0f5204c03b972113e76c964eada21109.txt'),\n",
       "  PosixPath('dataset/labels/_annotations_filtered.coco/cl6ojbg9t004oao552glqe340_2_FALSE_COLOR_jpg.rf.5430eb0caaae90ba41e84b623c3726db.txt'),\n",
       "  PosixPath('dataset/labels/_annotations_filtered.coco/cl6oimia5003dao558osp4mxe_1_TRUE_COLOR_jpg.rf.f20e51ab0ee966bbec0be1bceb83e2f4.txt'),\n",
       "  PosixPath('dataset/labels/_annotations_filtered.coco/cl6kgidey002uc455a3qe2ark_2_FALSE_COLOR_jpg.rf.7cc096454a709be2752b04fa230befae.txt'),\n",
       "  PosixPath('dataset/labels/_annotations_filtered.coco/cl6kfr3gw001gc4556plk3d6y_2_FALSE_COLOR_jpg.rf.83ca344c4481eff80a00b5b50123dde7.txt'),\n",
       "  PosixPath('dataset/labels/_annotations_filtered.coco/cl6oplsq0007fao556ul723tq_2_FALSE_COLOR_jpg.rf.94a095f4ae3f57df0997e3450c2bea9d.txt'),\n",
       "  PosixPath('dataset/labels/_annotations_filtered.coco/cl6b0cqup000ql4558m8y8a8t_4_FALSE_COLOR__URBAN_jpg.rf.1c5781c5e69bc219c997c5925946f18d.txt'),\n",
       "  PosixPath('dataset/labels/_annotations_filtered.coco/cl6kghsrn002tc4551wu83z4e_2_FALSE_COLOR_jpg.rf.8bf183c2a3b66f7030e76c302e99d2b9.txt'),\n",
       "  PosixPath('dataset/labels/_annotations_filtered.coco/cl6b75qhp0098l455giwk7bva_4_FALSE_COLOR__URBAN_jpg.rf.3d6853f78cfcd17e1029d19083bcbdb0.txt'),\n",
       "  PosixPath('dataset/labels/_annotations_filtered.coco/cl6b6yfhr008il4555h86hokv_2_FALSE_COLOR_jpg.rf.fd50b29fbde8a1c76c3e2d01beb69fa5.txt'),\n",
       "  PosixPath('dataset/labels/_annotations_filtered.coco/cl6m12kpt00358w55c0oah42i_4_FALSE_COLOR__URBAN_jpg.rf.cfe3d51f6e5cf8bf05a95d0300e15d31.txt'),\n",
       "  PosixPath('dataset/labels/_annotations_filtered.coco/cl6e1n8j9001cgk55bhebb6fp_2_FALSE_COLOR_jpg.rf.b853e3a4429e42c59527bd073d2e3667.txt'),\n",
       "  PosixPath('dataset/labels/_annotations_filtered.coco/cl6oct90r000fao553xkha255_2_FALSE_COLOR_jpg.rf.d6d86d9870d1a9f114f0b02ad0f9aedd.txt'),\n",
       "  PosixPath('dataset/labels/_annotations_filtered.coco/cl6dzs6a4000vhg55f52u2xze_2_FALSE_COLOR_jpg.rf.3d85b3175023ede04678d8a708055a7b.txt'),\n",
       "  PosixPath('dataset/labels/_annotations_filtered.coco/cl6oj8w06004hao558ky44xei_6_SWIR_jpg.rf.a5899ccda47be15f003449d3d880a9da.txt'),\n",
       "  PosixPath('dataset/labels/_annotations_filtered.coco/cl6kj4n7o000o8w55eq83czxi_1_TRUE_COLOR_jpg.rf.ed5093deefd129171df94fb32cf9488d.txt'),\n",
       "  PosixPath('dataset/labels/_annotations_filtered.coco/cl6odfk31001qao557bfi78e5_2_FALSE_COLOR_jpg.rf.7810f4f897047e39b0c9af3149cb43df.txt'),\n",
       "  PosixPath('dataset/labels/_annotations_filtered.coco/cl6ophgti0078ao557twhfw8d_4_FALSE_COLOR__URBAN_jpg.rf.7def477324832ea282c6fc4c29ca7ca8.txt'),\n",
       "  PosixPath('dataset/labels/_annotations_filtered.coco/cl6od3yri001cao55gifvaizk_1_TRUE_COLOR_jpg.rf.881044d7a4287260c26fd64ba6426160.txt'),\n",
       "  PosixPath('dataset/labels/_annotations_filtered.coco/cl6op4t8q006jao559muv9l5l_2_FALSE_COLOR_jpg.rf.d0eac7b7bc3a29b59a5da91316b541c0.txt'),\n",
       "  PosixPath('dataset/labels/_annotations_filtered.coco/cl6b57brh002ll4555o3te631_6_SWIR_jpg.rf.c7fd68b8839fa2e7afcb6b41fa31d332.txt'),\n",
       "  PosixPath('dataset/labels/_annotations_filtered.coco/cl6b6l171007kl4552zfu0hh5_1_TRUE_COLOR_jpg.rf.742cc3d06e92c2bf297ec516c01f0937.txt'),\n",
       "  PosixPath('dataset/labels/_annotations_filtered.coco/cl6oq2n1i008fao551fa07saw_1_TRUE_COLOR_jpg.rf.c24eb4b17e82d3b56366b170b0b1f25d.txt'),\n",
       "  PosixPath('dataset/labels/_annotations_filtered.coco/cl6b7gtl200aal4552nve0ap1_2_FALSE_COLOR_jpg.rf.c871b0359698a70abce45a40f6bb117e.txt'),\n",
       "  PosixPath('dataset/labels/_annotations_filtered.coco/cl6e1pf9j001ggk55feroguvj_2_FALSE_COLOR_jpg.rf.e5ddab20106f684b690b93f0baa84175.txt'),\n",
       "  PosixPath('dataset/labels/_annotations_filtered.coco/cl6m1fco6003v8w558h0s1dhz_4_FALSE_COLOR__URBAN_jpg.rf.39e3021237a9a84b196a3ce0eeede01d.txt'),\n",
       "  PosixPath('dataset/labels/_annotations_filtered.coco/cl6oqrvzj009aao552o4w9gcv_1_TRUE_COLOR_jpg.rf.d85543f381e826e0dffa6a79d22ec38f.txt'),\n",
       "  PosixPath('dataset/labels/_annotations_filtered.coco/cl6e3bzkq003kgk550ppl67ww_4_FALSE_COLOR__URBAN_jpg.rf.f8307953fb5b60d10c4919d45923571c.txt'),\n",
       "  PosixPath('dataset/labels/_annotations_filtered.coco/cl6b6vihd0086l4553gmk0011_2_FALSE_COLOR_jpg.rf.155496cce064167283541a8c4a3ddec7.txt'),\n",
       "  PosixPath('dataset/labels/_annotations_filtered.coco/cl6ct2hu900grl455hdde142n_4_FALSE_COLOR__URBAN_jpg.rf.f5086b4ced8fcaa27ce46922d0004363.txt'),\n",
       "  PosixPath('dataset/labels/_annotations_filtered.coco/cl6e3gmqp0040gk55gklf0ka1_2_FALSE_COLOR_jpg.rf.e1d823b926ba664e4d2658c7c58b2915.txt'),\n",
       "  PosixPath('dataset/labels/_annotations_filtered.coco/cl6okdwy00063ao5588jlcglr_4_FALSE_COLOR__URBAN_jpg.rf.352f082c75435cb06dd2e46d12479419.txt'),\n",
       "  PosixPath('dataset/labels/_annotations_filtered.coco/cl6ok74u9005oao557sb5dqub_4_FALSE_COLOR__URBAN_jpg.rf.3b9414b029ab4b9cfa4f5aa927740e03.txt'),\n",
       "  PosixPath('dataset/labels/_annotations_filtered.coco/cl6m1ebtk003r8w557razf73c_1_TRUE_COLOR_jpg.rf.1d28f6f2c9fe353d562a971198c2b123.txt'),\n",
       "  PosixPath('dataset/labels/_annotations_filtered.coco/cl6b5qhgi004ml4554fwj59ku_2_FALSE_COLOR_jpg.rf.f2becfdadd89f46560f6e995b220149f.txt'),\n",
       "  PosixPath('dataset/labels/_annotations_filtered.coco/cl6cs4oof00eul455fdkybwbf_6_SWIR_jpg.rf.964c04ade7796d8262a34460abc501f1.txt'),\n",
       "  PosixPath('dataset/labels/_annotations_filtered.coco/cl6b5wl3u005gl455fljch2g9_6_SWIR_jpg.rf.3e1c521895ae0351b839d38c16c2e44d.txt'),\n",
       "  PosixPath('dataset/labels/_annotations_filtered.coco/cl6b0aue4000ml455e4wo3e1j_4_FALSE_COLOR__URBAN_jpg.rf.afb389608cf3cd6af6de70e5b1072842.txt'),\n",
       "  PosixPath('dataset/labels/_annotations_filtered.coco/cl6ct9osf00h7l45538051wz5_1_TRUE_COLOR_jpg.rf.5cef36c17145f146256e2143c144efff.txt'),\n",
       "  PosixPath('dataset/labels/_annotations_filtered.coco/cl6cgkn5000b6l455cg451vw6_2_FALSE_COLOR_jpg.rf.349b983f5f80cd6cd24ea6105b958483.txt'),\n",
       "  PosixPath('dataset/labels/_annotations_filtered.coco/cl6cglp1000b9l4555bzvbgqj_2_FALSE_COLOR_jpg.rf.c9d85326b2931904b8f61462a95e219c.txt'),\n",
       "  PosixPath('dataset/labels/_annotations_filtered.coco/cl6kfzb24001zc4555e770ib2_1_TRUE_COLOR_jpg.rf.3f2075aeb29d375dfccd06842e01369a.txt'),\n",
       "  PosixPath('dataset/labels/_annotations_filtered.coco/cl6e0dbw9000pgk55cv1sgp5x_1_TRUE_COLOR_jpg.rf.049fb46a294a4647ce0018cafe44851a.txt'),\n",
       "  PosixPath('dataset/labels/_annotations_filtered.coco/cl6kg5b5c0027c455abg328ld_6_SWIR_jpg.rf.ef8c91393a06715257feb3b41d06ffa4.txt'),\n",
       "  PosixPath('dataset/labels/_annotations_filtered.coco/cl6b6sfee007xl455b8bt5zum_1_TRUE_COLOR_jpg.rf.a921f3be3f70ab5d36b15ac7b3721085.txt'),\n",
       "  PosixPath('dataset/labels/_annotations_filtered.coco/cl6e3j5rh0046gk5519l319wr_2_FALSE_COLOR_jpg.rf.aec61d0bb5423cbf29d0a057a728d946.txt'),\n",
       "  PosixPath('dataset/labels/_annotations_filtered.coco/cl6b0ckyi000pl455hm7bhix2_2_FALSE_COLOR_jpg.rf.b9c47a459428b9c421dbf0fc37f72cf9.txt'),\n",
       "  PosixPath('dataset/labels/_annotations_filtered.coco/cl6b6y193008fl455chyoaarb_4_FALSE_COLOR__URBAN_jpg.rf.18928a3e681add214cf26beb7dc5790c.txt'),\n",
       "  PosixPath('dataset/labels/_annotations_filtered.coco/cl6b5ojmc004gl4551hf906us_1_TRUE_COLOR_jpg.rf.4b67d4ab26364dde4077a63bace21dee.txt'),\n",
       "  PosixPath('dataset/labels/_annotations_filtered.coco/cl6cs5j5d00exl455afqp4ysw_6_SWIR_jpg.rf.27c23cbdffecb44114f96e8b7514f120.txt'),\n",
       "  PosixPath('dataset/labels/_annotations_filtered.coco/cl6b035dn0002l455hbmqcima_4_FALSE_COLOR__URBAN_jpg.rf.d884d31834bb767707a1616dfb807d00.txt'),\n",
       "  PosixPath('dataset/labels/_annotations_filtered.coco/cl6kf256r0006c455hwcv6khh_6_SWIR_jpg.rf.6d50139fb07e7775fe4682d0fd297daf.txt'),\n",
       "  PosixPath('dataset/labels/_annotations_filtered.coco/cl6kfoffk0016c455cvxsalj2_4_FALSE_COLOR__URBAN_jpg.rf.0bef427a51301563a39437db508e1b72.txt'),\n",
       "  PosixPath('dataset/labels/_annotations_filtered.coco/cl6odm3oj0023ao55641s046f_4_FALSE_COLOR__URBAN_jpg.rf.e06b1ddebe1889e272bf11bcd8220072.txt'),\n",
       "  PosixPath('dataset/labels/_annotations_filtered.coco/cl6op0cny006bao55hefn0jyf_2_FALSE_COLOR_jpg.rf.de2937d7380d94b2a24472a7744afe9b.txt'),\n",
       "  PosixPath('dataset/labels/_annotations_filtered.coco/cl6b5zvva005tl455617x069k_1_TRUE_COLOR_jpg.rf.8fddaebfe3bf528542a6bb93a8a4ba56.txt'),\n",
       "  PosixPath('dataset/labels/_annotations_filtered.coco/cl6e2ww4w002lgk555k8x0pjx_2_FALSE_COLOR_jpg.rf.f9f14ac12d5da302ce5a757420a6eeeb.txt'),\n",
       "  PosixPath('dataset/labels/_annotations_filtered.coco/cl6e0j0t90010gk557b525asz_6_SWIR_jpg.rf.7fa83e66906146392ab7de8d22289b2e.txt'),\n",
       "  PosixPath('dataset/labels/_annotations_filtered.coco/cl6b5xjjd005kl455hfjcd5ra_6_SWIR_jpg.rf.7488907fe46984de6c03556760843d6f.txt'),\n",
       "  PosixPath('dataset/labels/_annotations_filtered.coco/cl6cgwlv800bol4557nsq5jwk_4_FALSE_COLOR__URBAN_jpg.rf.b96336e560cb8e2b952def4e617218e4.txt'),\n",
       "  PosixPath('dataset/labels/_annotations_filtered.coco/cl6kfwvz3001sc45549gxd3e2_4_FALSE_COLOR__URBAN_jpg.rf.c87a56de729075b5a63758c8411a78f0.txt'),\n",
       "  PosixPath('dataset/labels/_annotations_filtered.coco/cl6m0whp000308w555xk5cwij_1_TRUE_COLOR_jpg.rf.c39d217c7dfdf6208338433504804ff1.txt'),\n",
       "  PosixPath('dataset/labels/_annotations_filtered.coco/cl6keyw310001c4551ugx15q5_4_FALSE_COLOR__URBAN_jpg.rf.d3371c057d7fef8486fe692a5e9141f8.txt'),\n",
       "  PosixPath('dataset/labels/_annotations_filtered.coco/cl6chu8h100cnl4552hz21fjt_1_TRUE_COLOR_jpg.rf.84f9dde4ff62bdcb2bd99b714e6dd363.txt'),\n",
       "  PosixPath('dataset/labels/_annotations_filtered.coco/cl6oqcc63008vao551jrk90jb_1_TRUE_COLOR_jpg.rf.c494c328e46443df2ef5374b08815af3.txt'),\n",
       "  PosixPath('dataset/labels/_annotations_filtered.coco/cl6oujpxm00atao554qpycnsr_2_FALSE_COLOR_jpg.rf.80ca6bf8c90969f299e1fa5127fc8523.txt'),\n",
       "  PosixPath('dataset/labels/_annotations_filtered.coco/cl6ocs2h6000cao559bx42yho_6_SWIR_jpg.rf.33c06060130da4dc8e43414cda713795.txt'),\n",
       "  PosixPath('dataset/labels/_annotations_filtered.coco/cl6b79f3e009vl455hmyk8e9e_1_TRUE_COLOR_jpg.rf.3011a8be79452c723e8e816eae6c3377.txt'),\n",
       "  PosixPath('dataset/labels/_annotations_filtered.coco/cl6opbnv8006xao55hbpe2j2u_1_TRUE_COLOR_jpg.rf.a322c310c87b9b2b0dd656c0db4e6c91.txt'),\n",
       "  PosixPath('dataset/labels/_annotations_filtered.coco/cl6b03yzy0005l455dq6x4eyc_6_SWIR_jpg.rf.74830a185e1fe1400cba89794ee1ef0d.txt'),\n",
       "  PosixPath('dataset/labels/_annotations_filtered.coco/cl6cp9ucc00d8l455fzq49p99_2_FALSE_COLOR_jpg.rf.431478070ff89a379d3ab9f1a5bc110e.txt'),\n",
       "  PosixPath('dataset/labels/_annotations_filtered.coco/cl6b53k570029l45574z79k7e_2_FALSE_COLOR_jpg.rf.fe513cd92aab85819db299ec9fb7939d.txt'),\n",
       "  PosixPath('dataset/labels/_annotations_filtered.coco/cl6oqlhh6008zao55gago04ul_2_FALSE_COLOR_jpg.rf.b5fb95dcd6fdd2086ada9d253bd1dc04.txt'),\n",
       "  PosixPath('dataset/labels/_annotations_filtered.coco/cl6odwuqk002iao555zzv0c59_2_FALSE_COLOR_jpg.rf.378e24cf0ecebacbb21c214b7f42190a.txt'),\n",
       "  PosixPath('dataset/labels/_annotations_filtered.coco/cl6oddf8p001pao558ykw6wkp_6_SWIR_jpg.rf.6c89676ddc0de9ebb1b57dd4f7eddbec.txt'),\n",
       "  PosixPath('dataset/labels/_annotations_filtered.coco/cl6b6h5fo007bl455669md4vp_1_TRUE_COLOR_jpg.rf.2a3317b1042bda5ae825c7683a9d65bb.txt')])"
      ]
     },
     "execution_count": 89,
     "metadata": {},
     "output_type": "execute_result"
    }
   ],
   "source": [
    "from ultralytics.data.converter import convert_coco\n",
    "from prepare_data.data_loader import load_dataframes, load_json\n",
    "from sklearn.model_selection import train_test_split\n",
    "from pathlib import Path\n",
    "\n",
    "path = Path('.')\n",
    "target_dir = \"dataset\"\n",
    "subdir = [\"test\", \"train\", \"val\"]\n",
    "\n",
    "def create_targets():\n",
    "\n",
    "    convert_coco(\n",
    "        labels_dir = \"data_filtered\",\n",
    "        save_dir= target_dir,\n",
    "        use_segments = False,\n",
    "        use_keypoints = False,\n",
    "        cls91to80 = True,\n",
    "        lvis = False,\n",
    "    )\n",
    "\n",
    "    for x in subdir:\n",
    "        Path(\"dataset/\"+x+\"/images\").mkdir(parents=True)\n",
    "        Path(\"dataset/\"+x+\"/labels\").mkdir(parents=True)\n",
    "\n",
    "create_targets()"
   ]
  },
  {
   "cell_type": "code",
   "execution_count": null,
   "id": "d4aadf76",
   "metadata": {},
   "outputs": [],
   "source": [
    "from ultralytics.data.converter import convert_coco\n",
    "from prepare_data.data_loader import load_dataframes, load_json\n",
    "from sklearn.model_selection import train_test_split\n",
    "from pathlib import Path\n",
    "import shutil\n",
    "\n",
    "path = Path('.')\n",
    "target_dir = \"dataset\"\n",
    "origin_dir = \"data_filtered\"\n",
    "subdir = [\"test\", \"train\", \"val\"]\n",
    "\n",
    "def test_split(origin, target):\n",
    "\n",
    "    imgs = list(path.glob(origin+'/*.jpg'))\n",
    "    txts = list(path.glob(target+'/**/*.txt'))\n",
    "\n",
    "    img_train, img_test, txt_train, txt_test = train_test_split(imgs, txts, test_size=0.3, random_state=42)\n",
    "    img_val, img_test, txt_val, txt_test = train_test_split(img_test, txt_test, test_size=0.3, random_state=42)\n",
    "    \n",
    "    for x in img_train:\n",
    "        shutil.copy(x, target_dir+\"/train/images\")\n",
    "    for x in img_test:\n",
    "        shutil.copy(x, target_dir+\"/test/images\")\n",
    "    for x in txt_train:\n",
    "        shutil.copy(x, target_dir+\"/train/labels\")\n",
    "    for x in txt_test:\n",
    "        shutil.copy(x, target_dir+\"/test/labels\")\n",
    "    for x in img_val:\n",
    "        shutil.copy(x, target_dir+\"/val/images\")\n",
    "    for x in txt_val:\n",
    "        shutil.copy(x, target_dir+\"/val/labels\")\n",
    "\n",
    "test_split(origin_dir, target_dir)"
   ]
  }
 ],
 "metadata": {
  "kernelspec": {
   "display_name": "wildfire-detection",
   "language": "python",
   "name": "python3"
  },
  "language_info": {
   "codemirror_mode": {
    "name": "ipython",
    "version": 3
   },
   "file_extension": ".py",
   "mimetype": "text/x-python",
   "name": "python",
   "nbconvert_exporter": "python",
   "pygments_lexer": "ipython3",
   "version": "3.12.3"
  }
 },
 "nbformat": 4,
 "nbformat_minor": 5
}
